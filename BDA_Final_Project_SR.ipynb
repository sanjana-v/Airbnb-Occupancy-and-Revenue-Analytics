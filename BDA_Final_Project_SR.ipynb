{
  "cells": [
    {
      "cell_type": "markdown",
      "source": [
        "<h1>Project - Airbnb Occupancy and Revenue Prediction</h1>"
      ],
      "metadata": {
        "id": "z9eVpwz2EKMp"
      }
    },
    {
      "cell_type": "markdown",
      "source": [
        "<h2>Project Overview</h2>\n",
        "<p><b><h3>Title: Airbnb Occupancy and Revenue Analytics Using Spark - Los Angeles County</b>\n",
        "\n",
        "This project analyzes Airbnb data alongside external datasets, such as crime statistics and public transportation availability, to uncover key factors influencing occupancy rates and rental prices. By leveraging Spark for efficient large-scale data processing, the goal is to generate actionable insights to help optimize profits for Airbnb hosts in Los Angeles County.\n",
        "\n",
        "The analysis considers internal factors, such as property features and pricing strategies, alongside external elements like neighborhood safety and accessibility to transportation. The findings are intended to:\n",
        "<ul>\n",
        "(a) Refine pricing strategies to improve competitiveness</ul>\n",
        "<ul>(b) Enhance the appeal of listings by identifying targeted improvements</ul>\n",
        "<ul>(c) Guide decision-making for new property installations or renovations.</ul>\n",
        "\n",
        "\n",
        "The ultimate objective is to empower hosts to maximize occupancy rates and revenue potential through data-driven recommendations.</p>"
      ],
      "metadata": {
        "id": "KaYiUC7VER-K"
      }
    },
    {
      "cell_type": "markdown",
      "source": [
        "# Combined Dataset Metadata\n",
        "\n",
        "| Field                             | Type       | Calculated | Description                                                                 |\n",
        "|-----------------------------------|------------|------------|-----------------------------------------------------------------------------|\n",
        "| **listings_minimum_nights**       | Integer    | No         | The minimum number of nights required to book a listing.                    |\n",
        "| **listings_maximum_nights**       | Integer    | No         | The maximum number of nights allowed for booking a listing.                 |\n",
        "| **listings_minimum_minimum_nights** | Integer | Yes        | Smallest minimum nights value from the calendar (next 365 days).            |\n",
        "| **listings_maximum_minimum_nights** | Integer | Yes        | Largest minimum nights value from the calendar (next 365 days).             |\n",
        "| **listings_minimum_maximum_nights** | Integer | Yes        | Smallest maximum nights value from the calendar (next 365 days).            |\n",
        "| **listings_maximum_maximum_nights** | Integer | Yes        | Largest maximum nights value from the calendar (next 365 days).             |\n",
        "| **listings_minimum_nights_avg_ntm** | Numeric | Yes        | Average minimum nights from the calendar (next 365 days).                   |\n",
        "| **listings_maximum_nights_avg_ntm** | Numeric | Yes        | Average maximum nights from the calendar (next 365 days).                   |\n",
        "| **listings_calendar_updated**     | Date       | No         | Last updated date of the listing's calendar.                                |\n",
        "| **listings_has_availability**     | Boolean    | No         | Indicates whether the listing has future availability.                      |\n",
        "| **listings_availability_30**      | Integer    | Yes        | Number of days available for booking in the next 30 days.                   |\n",
        "| **listings_availability_60**      | Integer    | Yes        | Number of days available for booking in the next 60 days.                   |\n",
        "| **listings_availability_90**      | Integer    | Yes        | Number of days available for booking in the next 90 days.                   |\n",
        "| **listings_availability_365**     | Integer    | Yes        | Number of days available for booking in the next 365 days.                  |\n",
        "| **listings_calendar_last_scraped** | Date      | Yes        | Last date when the listing data was scraped.                                |\n",
        "| **listings_number_of_reviews**    | Integer    | No         | Total number of reviews for the listing.                                    |\n",
        "| **listings_number_of_reviews_ltm** | Integer   | Yes        | Number of reviews in the last 12 months.                                    |\n",
        "| **listings_number_of_reviews_l30d** | Integer  | Yes        | Number of reviews in the last 30 days.                                      |\n",
        "| **listings_first_review**         | Date       | Yes        | Date of the first review.                                                   |\n",
        "| **listings_last_review**          | Date       | Yes        | Date of the most recent review.                                             |\n",
        "| **listings_review_scores_rating** | Numeric    | No         | Average rating score for the listing based on guest reviews.                |\n",
        "| **listings_review_scores_accuracy** | Numeric | No         | Rating for the accuracy of the listing description.                         |\n",
        "| **listings_review_scores_cleanliness** | Numeric | No      | Rating for the cleanliness of the listing.                                  |\n",
        "| **listings_review_scores_checkin** | Numeric  | No         | Rating for the check-in process.                                            |\n",
        "| **listings_review_scores_communication** | Numeric | No    | Rating for the communication with the host.                                 |\n",
        "| **listings_review_scores_location** | Numeric | No        | Rating for the location of the listing.                                     |\n",
        "| **listings_review_scores_value**  | Numeric    | No         | Rating for the value offered by the listing.                                |\n",
        "| **listings_license**              | Text       | No         | Licensing or registration number for the listing.                           |\n",
        "| **listings_instant_bookable**     | Boolean    | No         | Indicates if a listing is bookable instantly without host approval.         |\n",
        "| **listings_calculated_host_listings_count** | Integer | Yes | Total listings by the host in the current region.                           |\n",
        "| **listings_calculated_host_listings_count_entire_homes** | Integer | Yes | Entire home/apt listings by the host.                                      |\n",
        "| **listings_calculated_host_listings_count_private_rooms** | Integer | Yes | Private room listings by the host.                                         |\n",
        "| **listings_calculated_host_listings_count_shared_rooms** | Integer | Yes | Shared room listings by the host.                                          |\n",
        "| **listings_reviews_per_month**    | Numeric    | Yes        | Average reviews per month over the lifetime of the listing.                 |\n",
        "| **listings_index_right**          | Integer    | Yes        | Internal index for geospatial joins.                                        |\n",
        "| **listings_ZIPCODE**              | Text       | No         | ZIP code for the Airbnb listing.                                            |\n",
        "| **bus_ZIPCODE**                   | Text       | No         | ZIP code area for bus stop counts.                                          |\n",
        "| **bus_bus_stops_count**           | Integer    | Yes        | Number of bus stops in the respective ZIP code area.                        |\n",
        "| **metro_ZIPCODE**                 | Text       | No         | ZIP code area for metro station counts.                                     |\n",
        "| **metro_train_stations_count**    | Integer    | Yes        | Number of metro stations in the respective ZIP code area.                   |\n",
        "| **crime_ZIPCODE**                 | Text       | No         | ZIP code area for crime data.                                               |\n",
        "| **crime_Assault and Battery**     | Integer    | Yes        | Count of assault and battery crimes in the area.                            |\n",
        "| **crime_Child-Related Crimes**    | Integer    | Yes        | Count of crimes involving children in the area.                             |\n",
        "| **crime_Cyber Crimes**            | Integer    | Yes        | Count of cybercrimes in the area.                                           |\n",
        "| **crime_Driving Offenses**        | Integer    | Yes        | Count of driving-related crimes in the area.                                |\n",
        "| **crime_Drug-Related Crimes**     | Integer    | Yes        | Count of drug-related crimes in the area.                                   |\n",
        "| **crime_Fraud and Forgery**       | Integer    | Yes        | Count of fraud and forgery incidents in the area.                           |\n",
        "| **crime_Human Trafficking**       | Integer    | Yes        | Count of human trafficking crimes in the area.                              |\n",
        "| **crime_Kidnapping and Abduction** | Integer  | Yes        | Count of kidnapping and abduction cases in the area.                        |\n",
        "| **crime_Miscellaneous Crimes**    | Integer    | Yes        | Count of miscellaneous crimes in the area.                                  |\n",
        "| **crime_Other Crimes**            | Integer    | Yes        | Count of other unspecified crimes in the area.                              |\n",
        "| **crime_Robbery and Extortion**   | Integer    | Yes        | Count of robbery and extortion cases in the area.                           |\n",
        "| **crime_Serious Crime - Homicide** | Integer   | Yes        | Count of homicide cases in the area.                                        |\n",
        "| **crime_Sexual Crimes**           | Integer    | Yes        | Count of sexual crimes in the area.                                         |\n",
        "| **crime_Theft and Burglary**      | Integer    | Yes        | Count of theft and burglary cases in the area.                              |\n",
        "| **crime_Traffic Offenses**        | Integer    | Yes        | Count of traffic offenses in the area.                                      |\n",
        "| **crime_Vandalism**               | Integer    | Yes        | Count of vandalism incidents in the area.                                   |\n",
        "| **crime_Weapons Offenses**        | Integer    | Yes        | Count of crimes involving weapons in the area.                              |\n"
      ],
      "metadata": {
        "id": "k0iB88DuFVRm"
      }
    },
    {
      "cell_type": "markdown",
      "metadata": {
        "id": "uVsKT35coIv9"
      },
      "source": [
        "<h1>1. Installing all the libraries</h1>"
      ]
    },
    {
      "cell_type": "code",
      "execution_count": 1,
      "metadata": {
        "id": "1YJcinpOnn5V",
        "colab": {
          "base_uri": "https://localhost:8080/"
        },
        "outputId": "36dd51c9-4982-4836-a97b-ecb6da465bbd"
      },
      "outputs": [
        {
          "output_type": "stream",
          "name": "stdout",
          "text": [
            "Collecting pyspark==3.3.0\n",
            "  Downloading pyspark-3.3.0.tar.gz (281.3 MB)\n",
            "\u001b[2K     \u001b[90m━━━━━━━━━━━━━━━━━━━━━━━━━━━━━━━━━━━━━━━━\u001b[0m \u001b[32m281.3/281.3 MB\u001b[0m \u001b[31m3.4 MB/s\u001b[0m eta \u001b[36m0:00:00\u001b[0m\n",
            "\u001b[?25h  Preparing metadata (setup.py) ... \u001b[?25l\u001b[?25hdone\n",
            "Collecting py4j==0.10.9.5 (from pyspark==3.3.0)\n",
            "  Downloading py4j-0.10.9.5-py2.py3-none-any.whl.metadata (1.5 kB)\n",
            "Downloading py4j-0.10.9.5-py2.py3-none-any.whl (199 kB)\n",
            "\u001b[2K   \u001b[90m━━━━━━━━━━━━━━━━━━━━━━━━━━━━━━━━━━━━━━━━\u001b[0m \u001b[32m199.7/199.7 kB\u001b[0m \u001b[31m14.2 MB/s\u001b[0m eta \u001b[36m0:00:00\u001b[0m\n",
            "\u001b[?25hBuilding wheels for collected packages: pyspark\n",
            "  Building wheel for pyspark (setup.py) ... \u001b[?25l\u001b[?25hdone\n",
            "  Created wheel for pyspark: filename=pyspark-3.3.0-py2.py3-none-any.whl size=281764003 sha256=c56dbb9100a35b162f77348d0464b8fd4640cda291a04e3f4ae2f8b96a761e32\n",
            "  Stored in directory: /root/.cache/pip/wheels/81/9c/6c/d5200fcf351ffa39cbe09911e99703283624cd037df58070d9\n",
            "Successfully built pyspark\n",
            "Installing collected packages: py4j, pyspark\n",
            "  Attempting uninstall: py4j\n",
            "    Found existing installation: py4j 0.10.9.7\n",
            "    Uninstalling py4j-0.10.9.7:\n",
            "      Successfully uninstalled py4j-0.10.9.7\n",
            "  Attempting uninstall: pyspark\n",
            "    Found existing installation: pyspark 3.5.3\n",
            "    Uninstalling pyspark-3.5.3:\n",
            "      Successfully uninstalled pyspark-3.5.3\n",
            "Successfully installed py4j-0.10.9.5 pyspark-3.3.0\n"
          ]
        }
      ],
      "source": [
        "!pip install pyspark==3.3.0"
      ]
    },
    {
      "cell_type": "code",
      "execution_count": 2,
      "metadata": {
        "id": "MRV9QlIJTjDi",
        "colab": {
          "base_uri": "https://localhost:8080/"
        },
        "outputId": "54da18a2-4edd-4033-a459-b177b25024b6"
      },
      "outputs": [
        {
          "output_type": "stream",
          "name": "stdout",
          "text": [
            "Mounted at /content/drive\n"
          ]
        }
      ],
      "source": [
        "# Importing libraries for adding zipcodes\n",
        "import geopandas as gpd\n",
        "import pandas as pd\n",
        "from shapely.geometry import Point\n",
        "from google.colab import drive\n",
        "drive.mount('/content/drive')"
      ]
    },
    {
      "cell_type": "markdown",
      "source": [
        "<h2>We are using pyspark for this project, so we are initializing the spark session here below.</h2>"
      ],
      "metadata": {
        "id": "4aqtY0FXGVie"
      }
    },
    {
      "cell_type": "code",
      "execution_count": 3,
      "metadata": {
        "id": "exRzvlVrn2X0"
      },
      "outputs": [],
      "source": [
        "# Initializing the pyspark\n",
        "from pyspark.sql import SparkSession\n",
        "from pyspark import SparkContext\n",
        "sc = SparkContext.getOrCreate()\n",
        "spark = SparkSession\\\n",
        "    .builder\\\n",
        "    .appName('Final Project')\\\n",
        "    .getOrCreate()"
      ]
    },
    {
      "cell_type": "code",
      "execution_count": 4,
      "metadata": {
        "id": "1q3x7wS9n5jl"
      },
      "outputs": [],
      "source": [
        "# Importing all required libraries\n",
        "from pyspark.sql import functions as F\n",
        "from pyspark.sql.types import *\n",
        "from pyspark.ml.feature import *"
      ]
    },
    {
      "cell_type": "code",
      "execution_count": 5,
      "metadata": {
        "id": "08mG5uTKovUN"
      },
      "outputs": [],
      "source": [
        "# Initializing all the paths\n",
        "data_path = '/content/drive/MyDrive/Big Data/'\n",
        "result_path = '/content/drive/MyDrive/Big Data/'\n",
        "file_path = '/content/drive/MyDrive/Big Data/'"
      ]
    },
    {
      "cell_type": "markdown",
      "metadata": {
        "id": "wBVqOUdKoXz8"
      },
      "source": [
        "<h1>2. Adding zipcodes to all the data files</h1>"
      ]
    },
    {
      "cell_type": "markdown",
      "metadata": {
        "id": "jHE9D_ylQhmO"
      },
      "source": [
        "<h2>A. Listings</h2>"
      ]
    },
    {
      "cell_type": "code",
      "execution_count": 6,
      "metadata": {
        "id": "YcXwkULfpOlM"
      },
      "outputs": [],
      "source": [
        "# Reading all the files\n",
        "geojson_gdf = gpd.read_file('/content/drive/MyDrive/Big Data/data/LA_County_ZIP_Codes.geojson')\n",
        "listings_pdf = pd.read_csv('/content/drive/MyDrive/Big Data/data/listings.csv.gz')\n",
        "bus_pdf = pd.read_csv('/content/drive/MyDrive/Big Data/data/Bus_Stop_Benches.csv')\n",
        "metro_pdf = pd.read_csv('/content/drive/MyDrive/Big Data/data/Metro_Stations.csv')\n",
        "crime_pdf = pd.read_csv('/content/drive/MyDrive/Big Data/data/CrimeData.csv')"
      ]
    },
    {
      "cell_type": "code",
      "execution_count": 7,
      "metadata": {
        "id": "6HH8oEOKWGYk"
      },
      "outputs": [],
      "source": [
        "# Convert lat/long in CSV to a geometry column\n",
        "listings_pdf['geometry'] = listings_pdf.apply(lambda row: Point(\n",
        "    row['longitude'], row['latitude']), axis=1)\n",
        "listings_gdf = gpd.GeoDataFrame(\n",
        "    listings_pdf, geometry='geometry', crs=geojson_gdf.crs)\n",
        "\n",
        "# Perform a spatial join to join the CSV points with GeoJSON geometries\n",
        "listings_zip_df = gpd.sjoin(\n",
        "    listings_gdf, geojson_gdf, how=\"inner\", predicate='intersects')"
      ]
    },
    {
      "cell_type": "code",
      "execution_count": 8,
      "metadata": {
        "id": "l5xmRgQJp9Gd",
        "colab": {
          "base_uri": "https://localhost:8080/"
        },
        "outputId": "1f3cfbf6-a94f-4162-b2e5-6b00e88828a1"
      },
      "outputs": [
        {
          "output_type": "execute_result",
          "data": {
            "text/plain": [
              "(45555, 77)"
            ]
          },
          "metadata": {},
          "execution_count": 8
        }
      ],
      "source": [
        "# Displaying shape of listings\n",
        "listings_zip_df = listings_zip_df.drop(columns=['OBJECTID', 'geometry',\n",
        "    'Shape_Length', 'Shape_Area'])\n",
        "listings_zip_df.shape"
      ]
    },
    {
      "cell_type": "code",
      "execution_count": 9,
      "metadata": {
        "id": "pWB_p463SWCP",
        "colab": {
          "base_uri": "https://localhost:8080/",
          "height": 637
        },
        "outputId": "983359ae-2174-4c9f-9731-fc9a0564ca50"
      },
      "outputs": [
        {
          "output_type": "execute_result",
          "data": {
            "text/plain": [
              "      id                         listing_url       scrape_id last_scraped  \\\n",
              "0    109    https://www.airbnb.com/rooms/109  20231203160142   2023-12-05   \n",
              "1   2708   https://www.airbnb.com/rooms/2708  20231203160142   2023-12-04   \n",
              "2   2732   https://www.airbnb.com/rooms/2732  20231203160142   2023-12-04   \n",
              "3   2864   https://www.airbnb.com/rooms/2864  20231203160142   2023-12-04   \n",
              "4  63416  https://www.airbnb.com/rooms/63416  20231203160142   2023-12-05   \n",
              "\n",
              "            source                                               name  \\\n",
              "0      city scrape  Condo in Culver City · 2 bedrooms · 2 beds · 2...   \n",
              "1      city scrape  Rental unit in Los Angeles · ★4.85 · 1 bedroom...   \n",
              "2      city scrape  Rental unit in Santa Monica · ★4.41 · 1 bedroo...   \n",
              "3  previous scrape  Rental unit in Bellflower · 1 bedroom · 1 bed ...   \n",
              "4      city scrape  Home in Hollywood · ★4.99 · 1 bedroom · 2 beds...   \n",
              "\n",
              "   description                              neighborhood_overview  \\\n",
              "0          NaN                                                NaN   \n",
              "1          NaN  Walk and run to Runyon Canyon, it is open!<br ...   \n",
              "2          NaN  This is the best part of Santa Monica. Quiet, ...   \n",
              "3          NaN  What makes the neighborhood unique is that the...   \n",
              "4          NaN                                                NaN   \n",
              "\n",
              "                                         picture_url  host_id  ...  \\\n",
              "0  https://a0.muscache.com/pictures/miso/Hosting-...      521  ...   \n",
              "1  https://a0.muscache.com/pictures/miso/Hosting-...     3008  ...   \n",
              "2  https://a0.muscache.com/pictures/1082974/0f74c...     3041  ...   \n",
              "3  https://a0.muscache.com/pictures/23817858/de20...     3207  ...   \n",
              "4  https://a0.muscache.com/pictures/54561562/d545...   309512  ...   \n",
              "\n",
              "  review_scores_value       license instant_bookable  \\\n",
              "0                4.00           NaN                f   \n",
              "1                4.88           NaN                t   \n",
              "2                4.22        228269                f   \n",
              "3                 NaN           NaN                f   \n",
              "4                4.90  HSR21-000113                f   \n",
              "\n",
              "  calculated_host_listings_count calculated_host_listings_count_entire_homes  \\\n",
              "0                              1                                           1   \n",
              "1                              2                                           0   \n",
              "2                              2                                           1   \n",
              "3                              1                                           1   \n",
              "4                              3                                           1   \n",
              "\n",
              "  calculated_host_listings_count_private_rooms  \\\n",
              "0                                            0   \n",
              "1                                            2   \n",
              "2                                            1   \n",
              "3                                            0   \n",
              "4                                            2   \n",
              "\n",
              "  calculated_host_listings_count_shared_rooms reviews_per_month index_right  \\\n",
              "0                                           0              0.01          72   \n",
              "1                                           0              0.35          42   \n",
              "2                                           0              0.16         110   \n",
              "3                                           0               NaN         134   \n",
              "4                                           0              1.02          57   \n",
              "\n",
              "  ZIPCODE  \n",
              "0   90230  \n",
              "1   90046  \n",
              "2   90405  \n",
              "3   90706  \n",
              "4   90068  \n",
              "\n",
              "[5 rows x 77 columns]"
            ],
            "text/html": [
              "\n",
              "  <div id=\"df-cefbe474-6b94-4760-90a5-718fe2093f43\" class=\"colab-df-container\">\n",
              "    <div>\n",
              "<style scoped>\n",
              "    .dataframe tbody tr th:only-of-type {\n",
              "        vertical-align: middle;\n",
              "    }\n",
              "\n",
              "    .dataframe tbody tr th {\n",
              "        vertical-align: top;\n",
              "    }\n",
              "\n",
              "    .dataframe thead th {\n",
              "        text-align: right;\n",
              "    }\n",
              "</style>\n",
              "<table border=\"1\" class=\"dataframe\">\n",
              "  <thead>\n",
              "    <tr style=\"text-align: right;\">\n",
              "      <th></th>\n",
              "      <th>id</th>\n",
              "      <th>listing_url</th>\n",
              "      <th>scrape_id</th>\n",
              "      <th>last_scraped</th>\n",
              "      <th>source</th>\n",
              "      <th>name</th>\n",
              "      <th>description</th>\n",
              "      <th>neighborhood_overview</th>\n",
              "      <th>picture_url</th>\n",
              "      <th>host_id</th>\n",
              "      <th>...</th>\n",
              "      <th>review_scores_value</th>\n",
              "      <th>license</th>\n",
              "      <th>instant_bookable</th>\n",
              "      <th>calculated_host_listings_count</th>\n",
              "      <th>calculated_host_listings_count_entire_homes</th>\n",
              "      <th>calculated_host_listings_count_private_rooms</th>\n",
              "      <th>calculated_host_listings_count_shared_rooms</th>\n",
              "      <th>reviews_per_month</th>\n",
              "      <th>index_right</th>\n",
              "      <th>ZIPCODE</th>\n",
              "    </tr>\n",
              "  </thead>\n",
              "  <tbody>\n",
              "    <tr>\n",
              "      <th>0</th>\n",
              "      <td>109</td>\n",
              "      <td>https://www.airbnb.com/rooms/109</td>\n",
              "      <td>20231203160142</td>\n",
              "      <td>2023-12-05</td>\n",
              "      <td>city scrape</td>\n",
              "      <td>Condo in Culver City · 2 bedrooms · 2 beds · 2...</td>\n",
              "      <td>NaN</td>\n",
              "      <td>NaN</td>\n",
              "      <td>https://a0.muscache.com/pictures/miso/Hosting-...</td>\n",
              "      <td>521</td>\n",
              "      <td>...</td>\n",
              "      <td>4.00</td>\n",
              "      <td>NaN</td>\n",
              "      <td>f</td>\n",
              "      <td>1</td>\n",
              "      <td>1</td>\n",
              "      <td>0</td>\n",
              "      <td>0</td>\n",
              "      <td>0.01</td>\n",
              "      <td>72</td>\n",
              "      <td>90230</td>\n",
              "    </tr>\n",
              "    <tr>\n",
              "      <th>1</th>\n",
              "      <td>2708</td>\n",
              "      <td>https://www.airbnb.com/rooms/2708</td>\n",
              "      <td>20231203160142</td>\n",
              "      <td>2023-12-04</td>\n",
              "      <td>city scrape</td>\n",
              "      <td>Rental unit in Los Angeles · ★4.85 · 1 bedroom...</td>\n",
              "      <td>NaN</td>\n",
              "      <td>Walk and run to Runyon Canyon, it is open!&lt;br ...</td>\n",
              "      <td>https://a0.muscache.com/pictures/miso/Hosting-...</td>\n",
              "      <td>3008</td>\n",
              "      <td>...</td>\n",
              "      <td>4.88</td>\n",
              "      <td>NaN</td>\n",
              "      <td>t</td>\n",
              "      <td>2</td>\n",
              "      <td>0</td>\n",
              "      <td>2</td>\n",
              "      <td>0</td>\n",
              "      <td>0.35</td>\n",
              "      <td>42</td>\n",
              "      <td>90046</td>\n",
              "    </tr>\n",
              "    <tr>\n",
              "      <th>2</th>\n",
              "      <td>2732</td>\n",
              "      <td>https://www.airbnb.com/rooms/2732</td>\n",
              "      <td>20231203160142</td>\n",
              "      <td>2023-12-04</td>\n",
              "      <td>city scrape</td>\n",
              "      <td>Rental unit in Santa Monica · ★4.41 · 1 bedroo...</td>\n",
              "      <td>NaN</td>\n",
              "      <td>This is the best part of Santa Monica. Quiet, ...</td>\n",
              "      <td>https://a0.muscache.com/pictures/1082974/0f74c...</td>\n",
              "      <td>3041</td>\n",
              "      <td>...</td>\n",
              "      <td>4.22</td>\n",
              "      <td>228269</td>\n",
              "      <td>f</td>\n",
              "      <td>2</td>\n",
              "      <td>1</td>\n",
              "      <td>1</td>\n",
              "      <td>0</td>\n",
              "      <td>0.16</td>\n",
              "      <td>110</td>\n",
              "      <td>90405</td>\n",
              "    </tr>\n",
              "    <tr>\n",
              "      <th>3</th>\n",
              "      <td>2864</td>\n",
              "      <td>https://www.airbnb.com/rooms/2864</td>\n",
              "      <td>20231203160142</td>\n",
              "      <td>2023-12-04</td>\n",
              "      <td>previous scrape</td>\n",
              "      <td>Rental unit in Bellflower · 1 bedroom · 1 bed ...</td>\n",
              "      <td>NaN</td>\n",
              "      <td>What makes the neighborhood unique is that the...</td>\n",
              "      <td>https://a0.muscache.com/pictures/23817858/de20...</td>\n",
              "      <td>3207</td>\n",
              "      <td>...</td>\n",
              "      <td>NaN</td>\n",
              "      <td>NaN</td>\n",
              "      <td>f</td>\n",
              "      <td>1</td>\n",
              "      <td>1</td>\n",
              "      <td>0</td>\n",
              "      <td>0</td>\n",
              "      <td>NaN</td>\n",
              "      <td>134</td>\n",
              "      <td>90706</td>\n",
              "    </tr>\n",
              "    <tr>\n",
              "      <th>4</th>\n",
              "      <td>63416</td>\n",
              "      <td>https://www.airbnb.com/rooms/63416</td>\n",
              "      <td>20231203160142</td>\n",
              "      <td>2023-12-05</td>\n",
              "      <td>city scrape</td>\n",
              "      <td>Home in Hollywood · ★4.99 · 1 bedroom · 2 beds...</td>\n",
              "      <td>NaN</td>\n",
              "      <td>NaN</td>\n",
              "      <td>https://a0.muscache.com/pictures/54561562/d545...</td>\n",
              "      <td>309512</td>\n",
              "      <td>...</td>\n",
              "      <td>4.90</td>\n",
              "      <td>HSR21-000113</td>\n",
              "      <td>f</td>\n",
              "      <td>3</td>\n",
              "      <td>1</td>\n",
              "      <td>2</td>\n",
              "      <td>0</td>\n",
              "      <td>1.02</td>\n",
              "      <td>57</td>\n",
              "      <td>90068</td>\n",
              "    </tr>\n",
              "  </tbody>\n",
              "</table>\n",
              "<p>5 rows × 77 columns</p>\n",
              "</div>\n",
              "    <div class=\"colab-df-buttons\">\n",
              "\n",
              "  <div class=\"colab-df-container\">\n",
              "    <button class=\"colab-df-convert\" onclick=\"convertToInteractive('df-cefbe474-6b94-4760-90a5-718fe2093f43')\"\n",
              "            title=\"Convert this dataframe to an interactive table.\"\n",
              "            style=\"display:none;\">\n",
              "\n",
              "  <svg xmlns=\"http://www.w3.org/2000/svg\" height=\"24px\" viewBox=\"0 -960 960 960\">\n",
              "    <path d=\"M120-120v-720h720v720H120Zm60-500h600v-160H180v160Zm220 220h160v-160H400v160Zm0 220h160v-160H400v160ZM180-400h160v-160H180v160Zm440 0h160v-160H620v160ZM180-180h160v-160H180v160Zm440 0h160v-160H620v160Z\"/>\n",
              "  </svg>\n",
              "    </button>\n",
              "\n",
              "  <style>\n",
              "    .colab-df-container {\n",
              "      display:flex;\n",
              "      gap: 12px;\n",
              "    }\n",
              "\n",
              "    .colab-df-convert {\n",
              "      background-color: #E8F0FE;\n",
              "      border: none;\n",
              "      border-radius: 50%;\n",
              "      cursor: pointer;\n",
              "      display: none;\n",
              "      fill: #1967D2;\n",
              "      height: 32px;\n",
              "      padding: 0 0 0 0;\n",
              "      width: 32px;\n",
              "    }\n",
              "\n",
              "    .colab-df-convert:hover {\n",
              "      background-color: #E2EBFA;\n",
              "      box-shadow: 0px 1px 2px rgba(60, 64, 67, 0.3), 0px 1px 3px 1px rgba(60, 64, 67, 0.15);\n",
              "      fill: #174EA6;\n",
              "    }\n",
              "\n",
              "    .colab-df-buttons div {\n",
              "      margin-bottom: 4px;\n",
              "    }\n",
              "\n",
              "    [theme=dark] .colab-df-convert {\n",
              "      background-color: #3B4455;\n",
              "      fill: #D2E3FC;\n",
              "    }\n",
              "\n",
              "    [theme=dark] .colab-df-convert:hover {\n",
              "      background-color: #434B5C;\n",
              "      box-shadow: 0px 1px 3px 1px rgba(0, 0, 0, 0.15);\n",
              "      filter: drop-shadow(0px 1px 2px rgba(0, 0, 0, 0.3));\n",
              "      fill: #FFFFFF;\n",
              "    }\n",
              "  </style>\n",
              "\n",
              "    <script>\n",
              "      const buttonEl =\n",
              "        document.querySelector('#df-cefbe474-6b94-4760-90a5-718fe2093f43 button.colab-df-convert');\n",
              "      buttonEl.style.display =\n",
              "        google.colab.kernel.accessAllowed ? 'block' : 'none';\n",
              "\n",
              "      async function convertToInteractive(key) {\n",
              "        const element = document.querySelector('#df-cefbe474-6b94-4760-90a5-718fe2093f43');\n",
              "        const dataTable =\n",
              "          await google.colab.kernel.invokeFunction('convertToInteractive',\n",
              "                                                    [key], {});\n",
              "        if (!dataTable) return;\n",
              "\n",
              "        const docLinkHtml = 'Like what you see? Visit the ' +\n",
              "          '<a target=\"_blank\" href=https://colab.research.google.com/notebooks/data_table.ipynb>data table notebook</a>'\n",
              "          + ' to learn more about interactive tables.';\n",
              "        element.innerHTML = '';\n",
              "        dataTable['output_type'] = 'display_data';\n",
              "        await google.colab.output.renderOutput(dataTable, element);\n",
              "        const docLink = document.createElement('div');\n",
              "        docLink.innerHTML = docLinkHtml;\n",
              "        element.appendChild(docLink);\n",
              "      }\n",
              "    </script>\n",
              "  </div>\n",
              "\n",
              "\n",
              "<div id=\"df-2912213f-8376-4a6b-be66-306edb490ae7\">\n",
              "  <button class=\"colab-df-quickchart\" onclick=\"quickchart('df-2912213f-8376-4a6b-be66-306edb490ae7')\"\n",
              "            title=\"Suggest charts\"\n",
              "            style=\"display:none;\">\n",
              "\n",
              "<svg xmlns=\"http://www.w3.org/2000/svg\" height=\"24px\"viewBox=\"0 0 24 24\"\n",
              "     width=\"24px\">\n",
              "    <g>\n",
              "        <path d=\"M19 3H5c-1.1 0-2 .9-2 2v14c0 1.1.9 2 2 2h14c1.1 0 2-.9 2-2V5c0-1.1-.9-2-2-2zM9 17H7v-7h2v7zm4 0h-2V7h2v10zm4 0h-2v-4h2v4z\"/>\n",
              "    </g>\n",
              "</svg>\n",
              "  </button>\n",
              "\n",
              "<style>\n",
              "  .colab-df-quickchart {\n",
              "      --bg-color: #E8F0FE;\n",
              "      --fill-color: #1967D2;\n",
              "      --hover-bg-color: #E2EBFA;\n",
              "      --hover-fill-color: #174EA6;\n",
              "      --disabled-fill-color: #AAA;\n",
              "      --disabled-bg-color: #DDD;\n",
              "  }\n",
              "\n",
              "  [theme=dark] .colab-df-quickchart {\n",
              "      --bg-color: #3B4455;\n",
              "      --fill-color: #D2E3FC;\n",
              "      --hover-bg-color: #434B5C;\n",
              "      --hover-fill-color: #FFFFFF;\n",
              "      --disabled-bg-color: #3B4455;\n",
              "      --disabled-fill-color: #666;\n",
              "  }\n",
              "\n",
              "  .colab-df-quickchart {\n",
              "    background-color: var(--bg-color);\n",
              "    border: none;\n",
              "    border-radius: 50%;\n",
              "    cursor: pointer;\n",
              "    display: none;\n",
              "    fill: var(--fill-color);\n",
              "    height: 32px;\n",
              "    padding: 0;\n",
              "    width: 32px;\n",
              "  }\n",
              "\n",
              "  .colab-df-quickchart:hover {\n",
              "    background-color: var(--hover-bg-color);\n",
              "    box-shadow: 0 1px 2px rgba(60, 64, 67, 0.3), 0 1px 3px 1px rgba(60, 64, 67, 0.15);\n",
              "    fill: var(--button-hover-fill-color);\n",
              "  }\n",
              "\n",
              "  .colab-df-quickchart-complete:disabled,\n",
              "  .colab-df-quickchart-complete:disabled:hover {\n",
              "    background-color: var(--disabled-bg-color);\n",
              "    fill: var(--disabled-fill-color);\n",
              "    box-shadow: none;\n",
              "  }\n",
              "\n",
              "  .colab-df-spinner {\n",
              "    border: 2px solid var(--fill-color);\n",
              "    border-color: transparent;\n",
              "    border-bottom-color: var(--fill-color);\n",
              "    animation:\n",
              "      spin 1s steps(1) infinite;\n",
              "  }\n",
              "\n",
              "  @keyframes spin {\n",
              "    0% {\n",
              "      border-color: transparent;\n",
              "      border-bottom-color: var(--fill-color);\n",
              "      border-left-color: var(--fill-color);\n",
              "    }\n",
              "    20% {\n",
              "      border-color: transparent;\n",
              "      border-left-color: var(--fill-color);\n",
              "      border-top-color: var(--fill-color);\n",
              "    }\n",
              "    30% {\n",
              "      border-color: transparent;\n",
              "      border-left-color: var(--fill-color);\n",
              "      border-top-color: var(--fill-color);\n",
              "      border-right-color: var(--fill-color);\n",
              "    }\n",
              "    40% {\n",
              "      border-color: transparent;\n",
              "      border-right-color: var(--fill-color);\n",
              "      border-top-color: var(--fill-color);\n",
              "    }\n",
              "    60% {\n",
              "      border-color: transparent;\n",
              "      border-right-color: var(--fill-color);\n",
              "    }\n",
              "    80% {\n",
              "      border-color: transparent;\n",
              "      border-right-color: var(--fill-color);\n",
              "      border-bottom-color: var(--fill-color);\n",
              "    }\n",
              "    90% {\n",
              "      border-color: transparent;\n",
              "      border-bottom-color: var(--fill-color);\n",
              "    }\n",
              "  }\n",
              "</style>\n",
              "\n",
              "  <script>\n",
              "    async function quickchart(key) {\n",
              "      const quickchartButtonEl =\n",
              "        document.querySelector('#' + key + ' button');\n",
              "      quickchartButtonEl.disabled = true;  // To prevent multiple clicks.\n",
              "      quickchartButtonEl.classList.add('colab-df-spinner');\n",
              "      try {\n",
              "        const charts = await google.colab.kernel.invokeFunction(\n",
              "            'suggestCharts', [key], {});\n",
              "      } catch (error) {\n",
              "        console.error('Error during call to suggestCharts:', error);\n",
              "      }\n",
              "      quickchartButtonEl.classList.remove('colab-df-spinner');\n",
              "      quickchartButtonEl.classList.add('colab-df-quickchart-complete');\n",
              "    }\n",
              "    (() => {\n",
              "      let quickchartButtonEl =\n",
              "        document.querySelector('#df-2912213f-8376-4a6b-be66-306edb490ae7 button');\n",
              "      quickchartButtonEl.style.display =\n",
              "        google.colab.kernel.accessAllowed ? 'block' : 'none';\n",
              "    })();\n",
              "  </script>\n",
              "</div>\n",
              "\n",
              "    </div>\n",
              "  </div>\n"
            ],
            "application/vnd.google.colaboratory.intrinsic+json": {
              "type": "dataframe",
              "variable_name": "listings_zip_df"
            }
          },
          "metadata": {},
          "execution_count": 9
        }
      ],
      "source": [
        "listings_zip_df.head()"
      ]
    },
    {
      "cell_type": "code",
      "execution_count": 10,
      "metadata": {
        "id": "8AU5NN3VWuzH"
      },
      "outputs": [],
      "source": [
        "listings_zip_df.to_parquet('listings_with_zipcodes.parquet', index=False)"
      ]
    },
    {
      "cell_type": "markdown",
      "metadata": {
        "id": "TMOWfRN-Qs31"
      },
      "source": [
        "<h2>B. Bus Stops</h2>"
      ]
    },
    {
      "cell_type": "code",
      "execution_count": 11,
      "metadata": {
        "id": "-CYWBg8JQED8"
      },
      "outputs": [],
      "source": [
        "# Convert lat/long in CSV to a geometry column\n",
        "bus_pdf['geometry'] = bus_pdf.apply(lambda row: Point(\n",
        "    row['LONGITUDE'], row['LATITUDE']), axis=1)\n",
        "bus_gdf = gpd.GeoDataFrame(bus_pdf, geometry='geometry',\n",
        "    crs=geojson_gdf.crs)\n",
        "\n",
        "# Perform a spatial join to join the CSV points with GeoJSON geometries\n",
        "bus_zip_df = gpd.sjoin(\n",
        "    bus_gdf, geojson_gdf, how=\"inner\", predicate='intersects')"
      ]
    },
    {
      "cell_type": "code",
      "execution_count": 12,
      "metadata": {
        "id": "H6nJVJT8FZ9i",
        "colab": {
          "base_uri": "https://localhost:8080/"
        },
        "outputId": "d1d43602-8fd2-4465-f7c5-91041c7587c5"
      },
      "outputs": [
        {
          "output_type": "execute_result",
          "data": {
            "text/plain": [
              "(5332, 8)"
            ]
          },
          "metadata": {},
          "execution_count": 12
        }
      ],
      "source": [
        "bus_column_list = ['OBJECTID_left', 'FID2', 'NUMBER', 'LATITUDE',\n",
        "                   'LONGITUDE', 'SITEATS', 'CITY_SITE', 'ZIPCODE']\n",
        "bus_zip_df = bus_zip_df[bus_column_list]\n",
        "bus_zip_df.shape"
      ]
    },
    {
      "cell_type": "code",
      "execution_count": 13,
      "metadata": {
        "id": "JR-PufI-Sqvf",
        "colab": {
          "base_uri": "https://localhost:8080/",
          "height": 206
        },
        "outputId": "1231c4e0-2f0b-4235-e322-caf1b469cfb4"
      },
      "outputs": [
        {
          "output_type": "execute_result",
          "data": {
            "text/plain": [
              "   OBJECTID_left  FID2   NUMBER  LATITUDE  LONGITUDE  \\\n",
              "0              1   663  LA-0664  34.19462 -118.58843   \n",
              "1              2   681  LA-0682  34.20065 -118.62340   \n",
              "2              3   682  LA-0683  34.20065 -118.62340   \n",
              "3              4   711  LA-0712  34.15238 -118.60487   \n",
              "4              5   771  LA-0772  34.21597 -118.53582   \n",
              "\n",
              "                              SITEATS         CITY_SITE ZIPCODE  \n",
              "0        NB  De Soto  FS  Vanowen -NE  L.A. Valley West   91303  \n",
              "1  SB  Fallbrook  FS  Sherman Way -SW  L.A. Valley West   91307  \n",
              "2  SB  Fallbrook  FS  Sherman Way -SW  L.A. Valley West   91307  \n",
              "3   EB  Mulholland D  NS  Topanga -SW  L.A. Valley West   91364  \n",
              "4   NB  Reseda Blvd FS  Strathern -NE  L.A. Valley West   91335  "
            ],
            "text/html": [
              "\n",
              "  <div id=\"df-deecfd2c-476b-4d6e-8e68-6d8c71cf6c99\" class=\"colab-df-container\">\n",
              "    <div>\n",
              "<style scoped>\n",
              "    .dataframe tbody tr th:only-of-type {\n",
              "        vertical-align: middle;\n",
              "    }\n",
              "\n",
              "    .dataframe tbody tr th {\n",
              "        vertical-align: top;\n",
              "    }\n",
              "\n",
              "    .dataframe thead th {\n",
              "        text-align: right;\n",
              "    }\n",
              "</style>\n",
              "<table border=\"1\" class=\"dataframe\">\n",
              "  <thead>\n",
              "    <tr style=\"text-align: right;\">\n",
              "      <th></th>\n",
              "      <th>OBJECTID_left</th>\n",
              "      <th>FID2</th>\n",
              "      <th>NUMBER</th>\n",
              "      <th>LATITUDE</th>\n",
              "      <th>LONGITUDE</th>\n",
              "      <th>SITEATS</th>\n",
              "      <th>CITY_SITE</th>\n",
              "      <th>ZIPCODE</th>\n",
              "    </tr>\n",
              "  </thead>\n",
              "  <tbody>\n",
              "    <tr>\n",
              "      <th>0</th>\n",
              "      <td>1</td>\n",
              "      <td>663</td>\n",
              "      <td>LA-0664</td>\n",
              "      <td>34.19462</td>\n",
              "      <td>-118.58843</td>\n",
              "      <td>NB  De Soto  FS  Vanowen -NE</td>\n",
              "      <td>L.A. Valley West</td>\n",
              "      <td>91303</td>\n",
              "    </tr>\n",
              "    <tr>\n",
              "      <th>1</th>\n",
              "      <td>2</td>\n",
              "      <td>681</td>\n",
              "      <td>LA-0682</td>\n",
              "      <td>34.20065</td>\n",
              "      <td>-118.62340</td>\n",
              "      <td>SB  Fallbrook  FS  Sherman Way -SW</td>\n",
              "      <td>L.A. Valley West</td>\n",
              "      <td>91307</td>\n",
              "    </tr>\n",
              "    <tr>\n",
              "      <th>2</th>\n",
              "      <td>3</td>\n",
              "      <td>682</td>\n",
              "      <td>LA-0683</td>\n",
              "      <td>34.20065</td>\n",
              "      <td>-118.62340</td>\n",
              "      <td>SB  Fallbrook  FS  Sherman Way -SW</td>\n",
              "      <td>L.A. Valley West</td>\n",
              "      <td>91307</td>\n",
              "    </tr>\n",
              "    <tr>\n",
              "      <th>3</th>\n",
              "      <td>4</td>\n",
              "      <td>711</td>\n",
              "      <td>LA-0712</td>\n",
              "      <td>34.15238</td>\n",
              "      <td>-118.60487</td>\n",
              "      <td>EB  Mulholland D  NS  Topanga -SW</td>\n",
              "      <td>L.A. Valley West</td>\n",
              "      <td>91364</td>\n",
              "    </tr>\n",
              "    <tr>\n",
              "      <th>4</th>\n",
              "      <td>5</td>\n",
              "      <td>771</td>\n",
              "      <td>LA-0772</td>\n",
              "      <td>34.21597</td>\n",
              "      <td>-118.53582</td>\n",
              "      <td>NB  Reseda Blvd FS  Strathern -NE</td>\n",
              "      <td>L.A. Valley West</td>\n",
              "      <td>91335</td>\n",
              "    </tr>\n",
              "  </tbody>\n",
              "</table>\n",
              "</div>\n",
              "    <div class=\"colab-df-buttons\">\n",
              "\n",
              "  <div class=\"colab-df-container\">\n",
              "    <button class=\"colab-df-convert\" onclick=\"convertToInteractive('df-deecfd2c-476b-4d6e-8e68-6d8c71cf6c99')\"\n",
              "            title=\"Convert this dataframe to an interactive table.\"\n",
              "            style=\"display:none;\">\n",
              "\n",
              "  <svg xmlns=\"http://www.w3.org/2000/svg\" height=\"24px\" viewBox=\"0 -960 960 960\">\n",
              "    <path d=\"M120-120v-720h720v720H120Zm60-500h600v-160H180v160Zm220 220h160v-160H400v160Zm0 220h160v-160H400v160ZM180-400h160v-160H180v160Zm440 0h160v-160H620v160ZM180-180h160v-160H180v160Zm440 0h160v-160H620v160Z\"/>\n",
              "  </svg>\n",
              "    </button>\n",
              "\n",
              "  <style>\n",
              "    .colab-df-container {\n",
              "      display:flex;\n",
              "      gap: 12px;\n",
              "    }\n",
              "\n",
              "    .colab-df-convert {\n",
              "      background-color: #E8F0FE;\n",
              "      border: none;\n",
              "      border-radius: 50%;\n",
              "      cursor: pointer;\n",
              "      display: none;\n",
              "      fill: #1967D2;\n",
              "      height: 32px;\n",
              "      padding: 0 0 0 0;\n",
              "      width: 32px;\n",
              "    }\n",
              "\n",
              "    .colab-df-convert:hover {\n",
              "      background-color: #E2EBFA;\n",
              "      box-shadow: 0px 1px 2px rgba(60, 64, 67, 0.3), 0px 1px 3px 1px rgba(60, 64, 67, 0.15);\n",
              "      fill: #174EA6;\n",
              "    }\n",
              "\n",
              "    .colab-df-buttons div {\n",
              "      margin-bottom: 4px;\n",
              "    }\n",
              "\n",
              "    [theme=dark] .colab-df-convert {\n",
              "      background-color: #3B4455;\n",
              "      fill: #D2E3FC;\n",
              "    }\n",
              "\n",
              "    [theme=dark] .colab-df-convert:hover {\n",
              "      background-color: #434B5C;\n",
              "      box-shadow: 0px 1px 3px 1px rgba(0, 0, 0, 0.15);\n",
              "      filter: drop-shadow(0px 1px 2px rgba(0, 0, 0, 0.3));\n",
              "      fill: #FFFFFF;\n",
              "    }\n",
              "  </style>\n",
              "\n",
              "    <script>\n",
              "      const buttonEl =\n",
              "        document.querySelector('#df-deecfd2c-476b-4d6e-8e68-6d8c71cf6c99 button.colab-df-convert');\n",
              "      buttonEl.style.display =\n",
              "        google.colab.kernel.accessAllowed ? 'block' : 'none';\n",
              "\n",
              "      async function convertToInteractive(key) {\n",
              "        const element = document.querySelector('#df-deecfd2c-476b-4d6e-8e68-6d8c71cf6c99');\n",
              "        const dataTable =\n",
              "          await google.colab.kernel.invokeFunction('convertToInteractive',\n",
              "                                                    [key], {});\n",
              "        if (!dataTable) return;\n",
              "\n",
              "        const docLinkHtml = 'Like what you see? Visit the ' +\n",
              "          '<a target=\"_blank\" href=https://colab.research.google.com/notebooks/data_table.ipynb>data table notebook</a>'\n",
              "          + ' to learn more about interactive tables.';\n",
              "        element.innerHTML = '';\n",
              "        dataTable['output_type'] = 'display_data';\n",
              "        await google.colab.output.renderOutput(dataTable, element);\n",
              "        const docLink = document.createElement('div');\n",
              "        docLink.innerHTML = docLinkHtml;\n",
              "        element.appendChild(docLink);\n",
              "      }\n",
              "    </script>\n",
              "  </div>\n",
              "\n",
              "\n",
              "<div id=\"df-6951e0d2-14ae-4f64-a2c1-0d76be8bdc7e\">\n",
              "  <button class=\"colab-df-quickchart\" onclick=\"quickchart('df-6951e0d2-14ae-4f64-a2c1-0d76be8bdc7e')\"\n",
              "            title=\"Suggest charts\"\n",
              "            style=\"display:none;\">\n",
              "\n",
              "<svg xmlns=\"http://www.w3.org/2000/svg\" height=\"24px\"viewBox=\"0 0 24 24\"\n",
              "     width=\"24px\">\n",
              "    <g>\n",
              "        <path d=\"M19 3H5c-1.1 0-2 .9-2 2v14c0 1.1.9 2 2 2h14c1.1 0 2-.9 2-2V5c0-1.1-.9-2-2-2zM9 17H7v-7h2v7zm4 0h-2V7h2v10zm4 0h-2v-4h2v4z\"/>\n",
              "    </g>\n",
              "</svg>\n",
              "  </button>\n",
              "\n",
              "<style>\n",
              "  .colab-df-quickchart {\n",
              "      --bg-color: #E8F0FE;\n",
              "      --fill-color: #1967D2;\n",
              "      --hover-bg-color: #E2EBFA;\n",
              "      --hover-fill-color: #174EA6;\n",
              "      --disabled-fill-color: #AAA;\n",
              "      --disabled-bg-color: #DDD;\n",
              "  }\n",
              "\n",
              "  [theme=dark] .colab-df-quickchart {\n",
              "      --bg-color: #3B4455;\n",
              "      --fill-color: #D2E3FC;\n",
              "      --hover-bg-color: #434B5C;\n",
              "      --hover-fill-color: #FFFFFF;\n",
              "      --disabled-bg-color: #3B4455;\n",
              "      --disabled-fill-color: #666;\n",
              "  }\n",
              "\n",
              "  .colab-df-quickchart {\n",
              "    background-color: var(--bg-color);\n",
              "    border: none;\n",
              "    border-radius: 50%;\n",
              "    cursor: pointer;\n",
              "    display: none;\n",
              "    fill: var(--fill-color);\n",
              "    height: 32px;\n",
              "    padding: 0;\n",
              "    width: 32px;\n",
              "  }\n",
              "\n",
              "  .colab-df-quickchart:hover {\n",
              "    background-color: var(--hover-bg-color);\n",
              "    box-shadow: 0 1px 2px rgba(60, 64, 67, 0.3), 0 1px 3px 1px rgba(60, 64, 67, 0.15);\n",
              "    fill: var(--button-hover-fill-color);\n",
              "  }\n",
              "\n",
              "  .colab-df-quickchart-complete:disabled,\n",
              "  .colab-df-quickchart-complete:disabled:hover {\n",
              "    background-color: var(--disabled-bg-color);\n",
              "    fill: var(--disabled-fill-color);\n",
              "    box-shadow: none;\n",
              "  }\n",
              "\n",
              "  .colab-df-spinner {\n",
              "    border: 2px solid var(--fill-color);\n",
              "    border-color: transparent;\n",
              "    border-bottom-color: var(--fill-color);\n",
              "    animation:\n",
              "      spin 1s steps(1) infinite;\n",
              "  }\n",
              "\n",
              "  @keyframes spin {\n",
              "    0% {\n",
              "      border-color: transparent;\n",
              "      border-bottom-color: var(--fill-color);\n",
              "      border-left-color: var(--fill-color);\n",
              "    }\n",
              "    20% {\n",
              "      border-color: transparent;\n",
              "      border-left-color: var(--fill-color);\n",
              "      border-top-color: var(--fill-color);\n",
              "    }\n",
              "    30% {\n",
              "      border-color: transparent;\n",
              "      border-left-color: var(--fill-color);\n",
              "      border-top-color: var(--fill-color);\n",
              "      border-right-color: var(--fill-color);\n",
              "    }\n",
              "    40% {\n",
              "      border-color: transparent;\n",
              "      border-right-color: var(--fill-color);\n",
              "      border-top-color: var(--fill-color);\n",
              "    }\n",
              "    60% {\n",
              "      border-color: transparent;\n",
              "      border-right-color: var(--fill-color);\n",
              "    }\n",
              "    80% {\n",
              "      border-color: transparent;\n",
              "      border-right-color: var(--fill-color);\n",
              "      border-bottom-color: var(--fill-color);\n",
              "    }\n",
              "    90% {\n",
              "      border-color: transparent;\n",
              "      border-bottom-color: var(--fill-color);\n",
              "    }\n",
              "  }\n",
              "</style>\n",
              "\n",
              "  <script>\n",
              "    async function quickchart(key) {\n",
              "      const quickchartButtonEl =\n",
              "        document.querySelector('#' + key + ' button');\n",
              "      quickchartButtonEl.disabled = true;  // To prevent multiple clicks.\n",
              "      quickchartButtonEl.classList.add('colab-df-spinner');\n",
              "      try {\n",
              "        const charts = await google.colab.kernel.invokeFunction(\n",
              "            'suggestCharts', [key], {});\n",
              "      } catch (error) {\n",
              "        console.error('Error during call to suggestCharts:', error);\n",
              "      }\n",
              "      quickchartButtonEl.classList.remove('colab-df-spinner');\n",
              "      quickchartButtonEl.classList.add('colab-df-quickchart-complete');\n",
              "    }\n",
              "    (() => {\n",
              "      let quickchartButtonEl =\n",
              "        document.querySelector('#df-6951e0d2-14ae-4f64-a2c1-0d76be8bdc7e button');\n",
              "      quickchartButtonEl.style.display =\n",
              "        google.colab.kernel.accessAllowed ? 'block' : 'none';\n",
              "    })();\n",
              "  </script>\n",
              "</div>\n",
              "\n",
              "    </div>\n",
              "  </div>\n"
            ],
            "application/vnd.google.colaboratory.intrinsic+json": {
              "type": "dataframe",
              "variable_name": "bus_zip_df",
              "summary": "{\n  \"name\": \"bus_zip_df\",\n  \"rows\": 5332,\n  \"fields\": [\n    {\n      \"column\": \"OBJECTID_left\",\n      \"properties\": {\n        \"dtype\": \"number\",\n        \"std\": 1539,\n        \"min\": 1,\n        \"max\": 5332,\n        \"num_unique_values\": 5332,\n        \"samples\": [\n          1182,\n          5002,\n          4587\n        ],\n        \"semantic_type\": \"\",\n        \"description\": \"\"\n      }\n    },\n    {\n      \"column\": \"FID2\",\n      \"properties\": {\n        \"dtype\": \"number\",\n        \"std\": 1539,\n        \"min\": 0,\n        \"max\": 5331,\n        \"num_unique_values\": 5332,\n        \"samples\": [\n          4247,\n          602,\n          341\n        ],\n        \"semantic_type\": \"\",\n        \"description\": \"\"\n      }\n    },\n    {\n      \"column\": \"NUMBER\",\n      \"properties\": {\n        \"dtype\": \"string\",\n        \"num_unique_values\": 5332,\n        \"samples\": [\n          \"LA-4248\",\n          \"LA-0603\",\n          \"LA-0342\"\n        ],\n        \"semantic_type\": \"\",\n        \"description\": \"\"\n      }\n    },\n    {\n      \"column\": \"LATITUDE\",\n      \"properties\": {\n        \"dtype\": \"number\",\n        \"std\": 0.11326689488460241,\n        \"min\": 33.70691,\n        \"max\": 34.32306,\n        \"num_unique_values\": 3665,\n        \"samples\": [\n          34.22151,\n          34.06897,\n          34.2062\n        ],\n        \"semantic_type\": \"\",\n        \"description\": \"\"\n      }\n    },\n    {\n      \"column\": \"LONGITUDE\",\n      \"properties\": {\n        \"dtype\": \"number\",\n        \"std\": 0.11200590704841154,\n        \"min\": -118.65685,\n        \"max\": -118.17803,\n        \"num_unique_values\": 3763,\n        \"samples\": [\n          -118.24014,\n          -118.31818,\n          -118.27458\n        ],\n        \"semantic_type\": \"\",\n        \"description\": \"\"\n      }\n    },\n    {\n      \"column\": \"SITEATS\",\n      \"properties\": {\n        \"dtype\": \"string\",\n        \"num_unique_values\": 3896,\n        \"samples\": [\n          \"EB  Wilshire  NS  Valencia -SW\",\n          \"SB  Figueroa  FS  La Loma -SW\",\n          \"EB  Wilshire  FS  Rossmore -SE\"\n        ],\n        \"semantic_type\": \"\",\n        \"description\": \"\"\n      }\n    },\n    {\n      \"column\": \"CITY_SITE\",\n      \"properties\": {\n        \"dtype\": \"category\",\n        \"num_unique_values\": 6,\n        \"samples\": [\n          \"L.A. Valley West\",\n          \"L.A. Valley East\",\n          \"L.A. South Bay\"\n        ],\n        \"semantic_type\": \"\",\n        \"description\": \"\"\n      }\n    },\n    {\n      \"column\": \"ZIPCODE\",\n      \"properties\": {\n        \"dtype\": \"category\",\n        \"num_unique_values\": 119,\n        \"samples\": [\n          \"90018\",\n          \"90230\",\n          \"91306\"\n        ],\n        \"semantic_type\": \"\",\n        \"description\": \"\"\n      }\n    }\n  ]\n}"
            }
          },
          "metadata": {},
          "execution_count": 13
        }
      ],
      "source": [
        "bus_zip_df.head(5)"
      ]
    },
    {
      "cell_type": "code",
      "execution_count": 14,
      "metadata": {
        "id": "UvHO0zBMSMG2"
      },
      "outputs": [],
      "source": [
        "bus_zip_df.to_parquet('bus_with_zipcodes.parquet', index=False)"
      ]
    },
    {
      "cell_type": "markdown",
      "metadata": {
        "id": "y4qKVVe-SuQC"
      },
      "source": [
        "<h2>C. Metro Stations"
      ]
    },
    {
      "cell_type": "code",
      "execution_count": 15,
      "metadata": {
        "id": "vrgz90z4VqD8"
      },
      "outputs": [],
      "source": [
        "# Convert lat/long in CSV to a geometry column\n",
        "metro_pdf['geometry'] = metro_pdf.apply(lambda row: Point(\n",
        "    row['longitude'], row['latitude']), axis=1)\n",
        "\n",
        "metro_gdf = gpd.GeoDataFrame(metro_pdf, geometry='geometry',\n",
        "    crs=geojson_gdf.crs)\n",
        "\n",
        "# Perform a spatial join to join the CSV points with GeoJSON geometries\n",
        "metro_zip_df = gpd.sjoin(metro_gdf, geojson_gdf,\n",
        "    how=\"inner\", predicate='intersects')"
      ]
    },
    {
      "cell_type": "code",
      "execution_count": 16,
      "metadata": {
        "id": "fXCZa3-3V88R"
      },
      "outputs": [],
      "source": [
        "train_column_list = ['OBJECTID_left', 'source', 'cat1', 'cat2', 'Name',\n",
        "    'description', 'latitude', 'longitude', 'ZIPCODE']"
      ]
    },
    {
      "cell_type": "code",
      "execution_count": 17,
      "metadata": {
        "id": "EFWp-W4EV_yg",
        "colab": {
          "base_uri": "https://localhost:8080/"
        },
        "outputId": "6688cc3f-5dae-4fb5-b3ec-b714b1fb741f"
      },
      "outputs": [
        {
          "output_type": "execute_result",
          "data": {
            "text/plain": [
              "(130, 9)"
            ]
          },
          "metadata": {},
          "execution_count": 17
        }
      ],
      "source": [
        "metro_zip_df = metro_zip_df[train_column_list]\n",
        "metro_zip_df.shape"
      ]
    },
    {
      "cell_type": "code",
      "execution_count": 18,
      "metadata": {
        "id": "OLkpeAZQTYPt",
        "colab": {
          "base_uri": "https://localhost:8080/",
          "height": 206
        },
        "outputId": "e293741d-c95b-4928-df81-ff854a939dca"
      },
      "outputs": [
        {
          "output_type": "execute_result",
          "data": {
            "text/plain": [
              "   OBJECTID_left                                       source            cat1  \\\n",
              "0          72713  Metropolitan Transportation Authority (MTA)  Transportation   \n",
              "1          72714  Metropolitan Transportation Authority (MTA)  Transportation   \n",
              "2          72715  Metropolitan Transportation Authority (MTA)  Transportation   \n",
              "3          72716  Metropolitan Transportation Authority (MTA)  Transportation   \n",
              "4          72717  Metropolitan Transportation Authority (MTA)  Transportation   \n",
              "\n",
              "             cat2                         Name description   latitude  \\\n",
              "0  Metro Stations  Downtown Long Beach Station   Blue Line  33.768076   \n",
              "1  Metro Stations          Pacific Ave Station   Blue Line  33.772263   \n",
              "2  Metro Stations       Anaheim Street Station   Blue Line  33.781835   \n",
              "3  Metro Stations    Pacific Coast Hwy Station   Blue Line  33.789095   \n",
              "4  Metro Stations        Willow Street Station   Blue Line  33.807084   \n",
              "\n",
              "    longitude ZIPCODE  \n",
              "0 -118.192933   90802  \n",
              "1 -118.193712   90802  \n",
              "2 -118.189396   90813  \n",
              "3 -118.189394   90813  \n",
              "4 -118.189846   90806  "
            ],
            "text/html": [
              "\n",
              "  <div id=\"df-0af642ad-4adb-491e-907a-3630e1eda18c\" class=\"colab-df-container\">\n",
              "    <div>\n",
              "<style scoped>\n",
              "    .dataframe tbody tr th:only-of-type {\n",
              "        vertical-align: middle;\n",
              "    }\n",
              "\n",
              "    .dataframe tbody tr th {\n",
              "        vertical-align: top;\n",
              "    }\n",
              "\n",
              "    .dataframe thead th {\n",
              "        text-align: right;\n",
              "    }\n",
              "</style>\n",
              "<table border=\"1\" class=\"dataframe\">\n",
              "  <thead>\n",
              "    <tr style=\"text-align: right;\">\n",
              "      <th></th>\n",
              "      <th>OBJECTID_left</th>\n",
              "      <th>source</th>\n",
              "      <th>cat1</th>\n",
              "      <th>cat2</th>\n",
              "      <th>Name</th>\n",
              "      <th>description</th>\n",
              "      <th>latitude</th>\n",
              "      <th>longitude</th>\n",
              "      <th>ZIPCODE</th>\n",
              "    </tr>\n",
              "  </thead>\n",
              "  <tbody>\n",
              "    <tr>\n",
              "      <th>0</th>\n",
              "      <td>72713</td>\n",
              "      <td>Metropolitan Transportation Authority (MTA)</td>\n",
              "      <td>Transportation</td>\n",
              "      <td>Metro Stations</td>\n",
              "      <td>Downtown Long Beach Station</td>\n",
              "      <td>Blue Line</td>\n",
              "      <td>33.768076</td>\n",
              "      <td>-118.192933</td>\n",
              "      <td>90802</td>\n",
              "    </tr>\n",
              "    <tr>\n",
              "      <th>1</th>\n",
              "      <td>72714</td>\n",
              "      <td>Metropolitan Transportation Authority (MTA)</td>\n",
              "      <td>Transportation</td>\n",
              "      <td>Metro Stations</td>\n",
              "      <td>Pacific Ave Station</td>\n",
              "      <td>Blue Line</td>\n",
              "      <td>33.772263</td>\n",
              "      <td>-118.193712</td>\n",
              "      <td>90802</td>\n",
              "    </tr>\n",
              "    <tr>\n",
              "      <th>2</th>\n",
              "      <td>72715</td>\n",
              "      <td>Metropolitan Transportation Authority (MTA)</td>\n",
              "      <td>Transportation</td>\n",
              "      <td>Metro Stations</td>\n",
              "      <td>Anaheim Street Station</td>\n",
              "      <td>Blue Line</td>\n",
              "      <td>33.781835</td>\n",
              "      <td>-118.189396</td>\n",
              "      <td>90813</td>\n",
              "    </tr>\n",
              "    <tr>\n",
              "      <th>3</th>\n",
              "      <td>72716</td>\n",
              "      <td>Metropolitan Transportation Authority (MTA)</td>\n",
              "      <td>Transportation</td>\n",
              "      <td>Metro Stations</td>\n",
              "      <td>Pacific Coast Hwy Station</td>\n",
              "      <td>Blue Line</td>\n",
              "      <td>33.789095</td>\n",
              "      <td>-118.189394</td>\n",
              "      <td>90813</td>\n",
              "    </tr>\n",
              "    <tr>\n",
              "      <th>4</th>\n",
              "      <td>72717</td>\n",
              "      <td>Metropolitan Transportation Authority (MTA)</td>\n",
              "      <td>Transportation</td>\n",
              "      <td>Metro Stations</td>\n",
              "      <td>Willow Street Station</td>\n",
              "      <td>Blue Line</td>\n",
              "      <td>33.807084</td>\n",
              "      <td>-118.189846</td>\n",
              "      <td>90806</td>\n",
              "    </tr>\n",
              "  </tbody>\n",
              "</table>\n",
              "</div>\n",
              "    <div class=\"colab-df-buttons\">\n",
              "\n",
              "  <div class=\"colab-df-container\">\n",
              "    <button class=\"colab-df-convert\" onclick=\"convertToInteractive('df-0af642ad-4adb-491e-907a-3630e1eda18c')\"\n",
              "            title=\"Convert this dataframe to an interactive table.\"\n",
              "            style=\"display:none;\">\n",
              "\n",
              "  <svg xmlns=\"http://www.w3.org/2000/svg\" height=\"24px\" viewBox=\"0 -960 960 960\">\n",
              "    <path d=\"M120-120v-720h720v720H120Zm60-500h600v-160H180v160Zm220 220h160v-160H400v160Zm0 220h160v-160H400v160ZM180-400h160v-160H180v160Zm440 0h160v-160H620v160ZM180-180h160v-160H180v160Zm440 0h160v-160H620v160Z\"/>\n",
              "  </svg>\n",
              "    </button>\n",
              "\n",
              "  <style>\n",
              "    .colab-df-container {\n",
              "      display:flex;\n",
              "      gap: 12px;\n",
              "    }\n",
              "\n",
              "    .colab-df-convert {\n",
              "      background-color: #E8F0FE;\n",
              "      border: none;\n",
              "      border-radius: 50%;\n",
              "      cursor: pointer;\n",
              "      display: none;\n",
              "      fill: #1967D2;\n",
              "      height: 32px;\n",
              "      padding: 0 0 0 0;\n",
              "      width: 32px;\n",
              "    }\n",
              "\n",
              "    .colab-df-convert:hover {\n",
              "      background-color: #E2EBFA;\n",
              "      box-shadow: 0px 1px 2px rgba(60, 64, 67, 0.3), 0px 1px 3px 1px rgba(60, 64, 67, 0.15);\n",
              "      fill: #174EA6;\n",
              "    }\n",
              "\n",
              "    .colab-df-buttons div {\n",
              "      margin-bottom: 4px;\n",
              "    }\n",
              "\n",
              "    [theme=dark] .colab-df-convert {\n",
              "      background-color: #3B4455;\n",
              "      fill: #D2E3FC;\n",
              "    }\n",
              "\n",
              "    [theme=dark] .colab-df-convert:hover {\n",
              "      background-color: #434B5C;\n",
              "      box-shadow: 0px 1px 3px 1px rgba(0, 0, 0, 0.15);\n",
              "      filter: drop-shadow(0px 1px 2px rgba(0, 0, 0, 0.3));\n",
              "      fill: #FFFFFF;\n",
              "    }\n",
              "  </style>\n",
              "\n",
              "    <script>\n",
              "      const buttonEl =\n",
              "        document.querySelector('#df-0af642ad-4adb-491e-907a-3630e1eda18c button.colab-df-convert');\n",
              "      buttonEl.style.display =\n",
              "        google.colab.kernel.accessAllowed ? 'block' : 'none';\n",
              "\n",
              "      async function convertToInteractive(key) {\n",
              "        const element = document.querySelector('#df-0af642ad-4adb-491e-907a-3630e1eda18c');\n",
              "        const dataTable =\n",
              "          await google.colab.kernel.invokeFunction('convertToInteractive',\n",
              "                                                    [key], {});\n",
              "        if (!dataTable) return;\n",
              "\n",
              "        const docLinkHtml = 'Like what you see? Visit the ' +\n",
              "          '<a target=\"_blank\" href=https://colab.research.google.com/notebooks/data_table.ipynb>data table notebook</a>'\n",
              "          + ' to learn more about interactive tables.';\n",
              "        element.innerHTML = '';\n",
              "        dataTable['output_type'] = 'display_data';\n",
              "        await google.colab.output.renderOutput(dataTable, element);\n",
              "        const docLink = document.createElement('div');\n",
              "        docLink.innerHTML = docLinkHtml;\n",
              "        element.appendChild(docLink);\n",
              "      }\n",
              "    </script>\n",
              "  </div>\n",
              "\n",
              "\n",
              "<div id=\"df-858aeb22-8783-43a1-858e-255acecd5d03\">\n",
              "  <button class=\"colab-df-quickchart\" onclick=\"quickchart('df-858aeb22-8783-43a1-858e-255acecd5d03')\"\n",
              "            title=\"Suggest charts\"\n",
              "            style=\"display:none;\">\n",
              "\n",
              "<svg xmlns=\"http://www.w3.org/2000/svg\" height=\"24px\"viewBox=\"0 0 24 24\"\n",
              "     width=\"24px\">\n",
              "    <g>\n",
              "        <path d=\"M19 3H5c-1.1 0-2 .9-2 2v14c0 1.1.9 2 2 2h14c1.1 0 2-.9 2-2V5c0-1.1-.9-2-2-2zM9 17H7v-7h2v7zm4 0h-2V7h2v10zm4 0h-2v-4h2v4z\"/>\n",
              "    </g>\n",
              "</svg>\n",
              "  </button>\n",
              "\n",
              "<style>\n",
              "  .colab-df-quickchart {\n",
              "      --bg-color: #E8F0FE;\n",
              "      --fill-color: #1967D2;\n",
              "      --hover-bg-color: #E2EBFA;\n",
              "      --hover-fill-color: #174EA6;\n",
              "      --disabled-fill-color: #AAA;\n",
              "      --disabled-bg-color: #DDD;\n",
              "  }\n",
              "\n",
              "  [theme=dark] .colab-df-quickchart {\n",
              "      --bg-color: #3B4455;\n",
              "      --fill-color: #D2E3FC;\n",
              "      --hover-bg-color: #434B5C;\n",
              "      --hover-fill-color: #FFFFFF;\n",
              "      --disabled-bg-color: #3B4455;\n",
              "      --disabled-fill-color: #666;\n",
              "  }\n",
              "\n",
              "  .colab-df-quickchart {\n",
              "    background-color: var(--bg-color);\n",
              "    border: none;\n",
              "    border-radius: 50%;\n",
              "    cursor: pointer;\n",
              "    display: none;\n",
              "    fill: var(--fill-color);\n",
              "    height: 32px;\n",
              "    padding: 0;\n",
              "    width: 32px;\n",
              "  }\n",
              "\n",
              "  .colab-df-quickchart:hover {\n",
              "    background-color: var(--hover-bg-color);\n",
              "    box-shadow: 0 1px 2px rgba(60, 64, 67, 0.3), 0 1px 3px 1px rgba(60, 64, 67, 0.15);\n",
              "    fill: var(--button-hover-fill-color);\n",
              "  }\n",
              "\n",
              "  .colab-df-quickchart-complete:disabled,\n",
              "  .colab-df-quickchart-complete:disabled:hover {\n",
              "    background-color: var(--disabled-bg-color);\n",
              "    fill: var(--disabled-fill-color);\n",
              "    box-shadow: none;\n",
              "  }\n",
              "\n",
              "  .colab-df-spinner {\n",
              "    border: 2px solid var(--fill-color);\n",
              "    border-color: transparent;\n",
              "    border-bottom-color: var(--fill-color);\n",
              "    animation:\n",
              "      spin 1s steps(1) infinite;\n",
              "  }\n",
              "\n",
              "  @keyframes spin {\n",
              "    0% {\n",
              "      border-color: transparent;\n",
              "      border-bottom-color: var(--fill-color);\n",
              "      border-left-color: var(--fill-color);\n",
              "    }\n",
              "    20% {\n",
              "      border-color: transparent;\n",
              "      border-left-color: var(--fill-color);\n",
              "      border-top-color: var(--fill-color);\n",
              "    }\n",
              "    30% {\n",
              "      border-color: transparent;\n",
              "      border-left-color: var(--fill-color);\n",
              "      border-top-color: var(--fill-color);\n",
              "      border-right-color: var(--fill-color);\n",
              "    }\n",
              "    40% {\n",
              "      border-color: transparent;\n",
              "      border-right-color: var(--fill-color);\n",
              "      border-top-color: var(--fill-color);\n",
              "    }\n",
              "    60% {\n",
              "      border-color: transparent;\n",
              "      border-right-color: var(--fill-color);\n",
              "    }\n",
              "    80% {\n",
              "      border-color: transparent;\n",
              "      border-right-color: var(--fill-color);\n",
              "      border-bottom-color: var(--fill-color);\n",
              "    }\n",
              "    90% {\n",
              "      border-color: transparent;\n",
              "      border-bottom-color: var(--fill-color);\n",
              "    }\n",
              "  }\n",
              "</style>\n",
              "\n",
              "  <script>\n",
              "    async function quickchart(key) {\n",
              "      const quickchartButtonEl =\n",
              "        document.querySelector('#' + key + ' button');\n",
              "      quickchartButtonEl.disabled = true;  // To prevent multiple clicks.\n",
              "      quickchartButtonEl.classList.add('colab-df-spinner');\n",
              "      try {\n",
              "        const charts = await google.colab.kernel.invokeFunction(\n",
              "            'suggestCharts', [key], {});\n",
              "      } catch (error) {\n",
              "        console.error('Error during call to suggestCharts:', error);\n",
              "      }\n",
              "      quickchartButtonEl.classList.remove('colab-df-spinner');\n",
              "      quickchartButtonEl.classList.add('colab-df-quickchart-complete');\n",
              "    }\n",
              "    (() => {\n",
              "      let quickchartButtonEl =\n",
              "        document.querySelector('#df-858aeb22-8783-43a1-858e-255acecd5d03 button');\n",
              "      quickchartButtonEl.style.display =\n",
              "        google.colab.kernel.accessAllowed ? 'block' : 'none';\n",
              "    })();\n",
              "  </script>\n",
              "</div>\n",
              "\n",
              "    </div>\n",
              "  </div>\n"
            ],
            "application/vnd.google.colaboratory.intrinsic+json": {
              "type": "dataframe",
              "variable_name": "metro_zip_df",
              "summary": "{\n  \"name\": \"metro_zip_df\",\n  \"rows\": 130,\n  \"fields\": [\n    {\n      \"column\": \"OBJECTID_left\",\n      \"properties\": {\n        \"dtype\": \"number\",\n        \"std\": 37,\n        \"min\": 72713,\n        \"max\": 72842,\n        \"num_unique_values\": 130,\n        \"samples\": [\n          72768,\n          72753,\n          72732\n        ],\n        \"semantic_type\": \"\",\n        \"description\": \"\"\n      }\n    },\n    {\n      \"column\": \"source\",\n      \"properties\": {\n        \"dtype\": \"category\",\n        \"num_unique_values\": 3,\n        \"samples\": [\n          \"Metropolitan Transportation Authority (MTA)\",\n          \"HSIP Freedom USPS_Mail_Collection_Boxes\",\n          \"HSIP Freedom Gnis_cultural_fe\"\n        ],\n        \"semantic_type\": \"\",\n        \"description\": \"\"\n      }\n    },\n    {\n      \"column\": \"cat1\",\n      \"properties\": {\n        \"dtype\": \"category\",\n        \"num_unique_values\": 1,\n        \"samples\": [\n          \"Transportation\"\n        ],\n        \"semantic_type\": \"\",\n        \"description\": \"\"\n      }\n    },\n    {\n      \"column\": \"cat2\",\n      \"properties\": {\n        \"dtype\": \"category\",\n        \"num_unique_values\": 1,\n        \"samples\": [\n          \"Metro Stations\"\n        ],\n        \"semantic_type\": \"\",\n        \"description\": \"\"\n      }\n    },\n    {\n      \"column\": \"Name\",\n      \"properties\": {\n        \"dtype\": \"string\",\n        \"num_unique_values\": 127,\n        \"samples\": [\n          \"Farmdale Station\"\n        ],\n        \"semantic_type\": \"\",\n        \"description\": \"\"\n      }\n    },\n    {\n      \"column\": \"description\",\n      \"properties\": {\n        \"dtype\": \"category\",\n        \"num_unique_values\": 11,\n        \"samples\": [\n          \"Purple Line\"\n        ],\n        \"semantic_type\": \"\",\n        \"description\": \"\"\n      }\n    },\n    {\n      \"column\": \"latitude\",\n      \"properties\": {\n        \"dtype\": \"number\",\n        \"std\": 0.11138606246276632,\n        \"min\": 33.76807583,\n        \"max\": 34.2521972,\n        \"num_unique_values\": 130,\n        \"samples\": [\n          33.92868784\n        ],\n        \"semantic_type\": \"\",\n        \"description\": \"\"\n      }\n    },\n    {\n      \"column\": \"longitude\",\n      \"properties\": {\n        \"dtype\": \"number\",\n        \"std\": 0.14783133311473662,\n        \"min\": -118.60141226,\n        \"max\": -117.89164813,\n        \"num_unique_values\": 130,\n        \"samples\": [\n          -118.29174518\n        ],\n        \"semantic_type\": \"\",\n        \"description\": \"\"\n      }\n    },\n    {\n      \"column\": \"ZIPCODE\",\n      \"properties\": {\n        \"dtype\": \"string\",\n        \"num_unique_values\": 71,\n        \"samples\": [\n          \"90004\"\n        ],\n        \"semantic_type\": \"\",\n        \"description\": \"\"\n      }\n    }\n  ]\n}"
            }
          },
          "metadata": {},
          "execution_count": 18
        }
      ],
      "source": [
        "metro_zip_df.head(5)"
      ]
    },
    {
      "cell_type": "code",
      "execution_count": 19,
      "metadata": {
        "id": "fVhwa4RwV8D0"
      },
      "outputs": [],
      "source": [
        "metro_zip_df.to_parquet('metro_with_zipcodes.parquet', index=False)"
      ]
    },
    {
      "cell_type": "markdown",
      "metadata": {
        "id": "dJTq_F1CTsga"
      },
      "source": [
        "<h2>D. Crime Data</h2>"
      ]
    },
    {
      "cell_type": "code",
      "execution_count": 20,
      "metadata": {
        "id": "iqDG4W52jbZJ"
      },
      "outputs": [],
      "source": [
        "# Convert lat/long in CSV to a geometry column\n",
        "crime_pdf['geometry'] = crime_pdf.apply(lambda row: Point(\n",
        "    row['LON'], row['LAT']), axis=1)\n",
        "crime_gdf = gpd.GeoDataFrame(crime_pdf,\n",
        "    geometry='geometry', crs=geojson_gdf.crs)\n",
        "\n",
        "# Perform a spatial join to join the CSV points with GeoJSON geometries\n",
        "crime_zip_df = gpd.sjoin(crime_gdf, geojson_gdf,\n",
        "    how=\"inner\", predicate='intersects')"
      ]
    },
    {
      "cell_type": "code",
      "execution_count": 21,
      "metadata": {
        "id": "RAfmusChVXnk",
        "colab": {
          "base_uri": "https://localhost:8080/"
        },
        "outputId": "6b55662e-3eff-42d1-e8e0-b41cf3e7af6f"
      },
      "outputs": [
        {
          "output_type": "execute_result",
          "data": {
            "text/plain": [
              "(983955, 9)"
            ]
          },
          "metadata": {},
          "execution_count": 21
        }
      ],
      "source": [
        "crime_zip_df = crime_zip_df.drop(columns=[\n",
        "    'DR_NO', 'Date Rptd', 'Rpt Dist No', 'Part 1-2', 'Mocodes',\n",
        "    'Vict Sex', 'Vict Descent', 'Premis Cd', 'Premis Desc',\n",
        "    'Weapon Used Cd', 'Weapon Desc', 'Status', 'Status Desc',\n",
        "    'Crm Cd 1', 'Crm Cd 2', 'Crm Cd 3', 'Crm Cd 4', 'LOCATION',\n",
        "    'Cross Street', 'index_right', 'OBJECTID', 'Shape_Length',\n",
        "    'Shape_Area', 'Vict Age', 'geometry']\n",
        ")\n",
        "crime_zip_df.shape"
      ]
    },
    {
      "cell_type": "code",
      "execution_count": 22,
      "metadata": {
        "id": "mJShZ1mCUV5Y",
        "colab": {
          "base_uri": "https://localhost:8080/",
          "height": 206
        },
        "outputId": "3370def7-9e9b-43bc-c734-1df00d0b04f7"
      },
      "outputs": [
        {
          "output_type": "execute_result",
          "data": {
            "text/plain": [
              "                 DATE OCC  TIME OCC  AREA  AREA NAME  Crm Cd  \\\n",
              "0  03/01/2020 12:00:00 AM      2130     7   Wilshire     510   \n",
              "1  02/08/2020 12:00:00 AM      1800     1    Central     330   \n",
              "2  11/04/2020 12:00:00 AM      1700     3  Southwest     480   \n",
              "3  03/10/2020 12:00:00 AM      2037     9   Van Nuys     343   \n",
              "4  08/17/2020 12:00:00 AM      1200     6  Hollywood     354   \n",
              "\n",
              "                                Crm Cd Desc      LAT       LON ZIPCODE  \n",
              "0                          VEHICLE - STOLEN  34.0375 -118.3506   90016  \n",
              "1                     BURGLARY FROM VEHICLE  34.0444 -118.2628   90015  \n",
              "2                             BIKE - STOLEN  34.0210 -118.3002   90007  \n",
              "3  SHOPLIFTING-GRAND THEFT ($950.01 & OVER)  34.1576 -118.4387   91423  \n",
              "4                         THEFT OF IDENTITY  34.0944 -118.3277   90028  "
            ],
            "text/html": [
              "\n",
              "  <div id=\"df-7253d429-ed58-433b-8532-81e4d2225cc5\" class=\"colab-df-container\">\n",
              "    <div>\n",
              "<style scoped>\n",
              "    .dataframe tbody tr th:only-of-type {\n",
              "        vertical-align: middle;\n",
              "    }\n",
              "\n",
              "    .dataframe tbody tr th {\n",
              "        vertical-align: top;\n",
              "    }\n",
              "\n",
              "    .dataframe thead th {\n",
              "        text-align: right;\n",
              "    }\n",
              "</style>\n",
              "<table border=\"1\" class=\"dataframe\">\n",
              "  <thead>\n",
              "    <tr style=\"text-align: right;\">\n",
              "      <th></th>\n",
              "      <th>DATE OCC</th>\n",
              "      <th>TIME OCC</th>\n",
              "      <th>AREA</th>\n",
              "      <th>AREA NAME</th>\n",
              "      <th>Crm Cd</th>\n",
              "      <th>Crm Cd Desc</th>\n",
              "      <th>LAT</th>\n",
              "      <th>LON</th>\n",
              "      <th>ZIPCODE</th>\n",
              "    </tr>\n",
              "  </thead>\n",
              "  <tbody>\n",
              "    <tr>\n",
              "      <th>0</th>\n",
              "      <td>03/01/2020 12:00:00 AM</td>\n",
              "      <td>2130</td>\n",
              "      <td>7</td>\n",
              "      <td>Wilshire</td>\n",
              "      <td>510</td>\n",
              "      <td>VEHICLE - STOLEN</td>\n",
              "      <td>34.0375</td>\n",
              "      <td>-118.3506</td>\n",
              "      <td>90016</td>\n",
              "    </tr>\n",
              "    <tr>\n",
              "      <th>1</th>\n",
              "      <td>02/08/2020 12:00:00 AM</td>\n",
              "      <td>1800</td>\n",
              "      <td>1</td>\n",
              "      <td>Central</td>\n",
              "      <td>330</td>\n",
              "      <td>BURGLARY FROM VEHICLE</td>\n",
              "      <td>34.0444</td>\n",
              "      <td>-118.2628</td>\n",
              "      <td>90015</td>\n",
              "    </tr>\n",
              "    <tr>\n",
              "      <th>2</th>\n",
              "      <td>11/04/2020 12:00:00 AM</td>\n",
              "      <td>1700</td>\n",
              "      <td>3</td>\n",
              "      <td>Southwest</td>\n",
              "      <td>480</td>\n",
              "      <td>BIKE - STOLEN</td>\n",
              "      <td>34.0210</td>\n",
              "      <td>-118.3002</td>\n",
              "      <td>90007</td>\n",
              "    </tr>\n",
              "    <tr>\n",
              "      <th>3</th>\n",
              "      <td>03/10/2020 12:00:00 AM</td>\n",
              "      <td>2037</td>\n",
              "      <td>9</td>\n",
              "      <td>Van Nuys</td>\n",
              "      <td>343</td>\n",
              "      <td>SHOPLIFTING-GRAND THEFT ($950.01 &amp; OVER)</td>\n",
              "      <td>34.1576</td>\n",
              "      <td>-118.4387</td>\n",
              "      <td>91423</td>\n",
              "    </tr>\n",
              "    <tr>\n",
              "      <th>4</th>\n",
              "      <td>08/17/2020 12:00:00 AM</td>\n",
              "      <td>1200</td>\n",
              "      <td>6</td>\n",
              "      <td>Hollywood</td>\n",
              "      <td>354</td>\n",
              "      <td>THEFT OF IDENTITY</td>\n",
              "      <td>34.0944</td>\n",
              "      <td>-118.3277</td>\n",
              "      <td>90028</td>\n",
              "    </tr>\n",
              "  </tbody>\n",
              "</table>\n",
              "</div>\n",
              "    <div class=\"colab-df-buttons\">\n",
              "\n",
              "  <div class=\"colab-df-container\">\n",
              "    <button class=\"colab-df-convert\" onclick=\"convertToInteractive('df-7253d429-ed58-433b-8532-81e4d2225cc5')\"\n",
              "            title=\"Convert this dataframe to an interactive table.\"\n",
              "            style=\"display:none;\">\n",
              "\n",
              "  <svg xmlns=\"http://www.w3.org/2000/svg\" height=\"24px\" viewBox=\"0 -960 960 960\">\n",
              "    <path d=\"M120-120v-720h720v720H120Zm60-500h600v-160H180v160Zm220 220h160v-160H400v160Zm0 220h160v-160H400v160ZM180-400h160v-160H180v160Zm440 0h160v-160H620v160ZM180-180h160v-160H180v160Zm440 0h160v-160H620v160Z\"/>\n",
              "  </svg>\n",
              "    </button>\n",
              "\n",
              "  <style>\n",
              "    .colab-df-container {\n",
              "      display:flex;\n",
              "      gap: 12px;\n",
              "    }\n",
              "\n",
              "    .colab-df-convert {\n",
              "      background-color: #E8F0FE;\n",
              "      border: none;\n",
              "      border-radius: 50%;\n",
              "      cursor: pointer;\n",
              "      display: none;\n",
              "      fill: #1967D2;\n",
              "      height: 32px;\n",
              "      padding: 0 0 0 0;\n",
              "      width: 32px;\n",
              "    }\n",
              "\n",
              "    .colab-df-convert:hover {\n",
              "      background-color: #E2EBFA;\n",
              "      box-shadow: 0px 1px 2px rgba(60, 64, 67, 0.3), 0px 1px 3px 1px rgba(60, 64, 67, 0.15);\n",
              "      fill: #174EA6;\n",
              "    }\n",
              "\n",
              "    .colab-df-buttons div {\n",
              "      margin-bottom: 4px;\n",
              "    }\n",
              "\n",
              "    [theme=dark] .colab-df-convert {\n",
              "      background-color: #3B4455;\n",
              "      fill: #D2E3FC;\n",
              "    }\n",
              "\n",
              "    [theme=dark] .colab-df-convert:hover {\n",
              "      background-color: #434B5C;\n",
              "      box-shadow: 0px 1px 3px 1px rgba(0, 0, 0, 0.15);\n",
              "      filter: drop-shadow(0px 1px 2px rgba(0, 0, 0, 0.3));\n",
              "      fill: #FFFFFF;\n",
              "    }\n",
              "  </style>\n",
              "\n",
              "    <script>\n",
              "      const buttonEl =\n",
              "        document.querySelector('#df-7253d429-ed58-433b-8532-81e4d2225cc5 button.colab-df-convert');\n",
              "      buttonEl.style.display =\n",
              "        google.colab.kernel.accessAllowed ? 'block' : 'none';\n",
              "\n",
              "      async function convertToInteractive(key) {\n",
              "        const element = document.querySelector('#df-7253d429-ed58-433b-8532-81e4d2225cc5');\n",
              "        const dataTable =\n",
              "          await google.colab.kernel.invokeFunction('convertToInteractive',\n",
              "                                                    [key], {});\n",
              "        if (!dataTable) return;\n",
              "\n",
              "        const docLinkHtml = 'Like what you see? Visit the ' +\n",
              "          '<a target=\"_blank\" href=https://colab.research.google.com/notebooks/data_table.ipynb>data table notebook</a>'\n",
              "          + ' to learn more about interactive tables.';\n",
              "        element.innerHTML = '';\n",
              "        dataTable['output_type'] = 'display_data';\n",
              "        await google.colab.output.renderOutput(dataTable, element);\n",
              "        const docLink = document.createElement('div');\n",
              "        docLink.innerHTML = docLinkHtml;\n",
              "        element.appendChild(docLink);\n",
              "      }\n",
              "    </script>\n",
              "  </div>\n",
              "\n",
              "\n",
              "<div id=\"df-8dcd37d3-c136-4cf8-980a-152c91a07766\">\n",
              "  <button class=\"colab-df-quickchart\" onclick=\"quickchart('df-8dcd37d3-c136-4cf8-980a-152c91a07766')\"\n",
              "            title=\"Suggest charts\"\n",
              "            style=\"display:none;\">\n",
              "\n",
              "<svg xmlns=\"http://www.w3.org/2000/svg\" height=\"24px\"viewBox=\"0 0 24 24\"\n",
              "     width=\"24px\">\n",
              "    <g>\n",
              "        <path d=\"M19 3H5c-1.1 0-2 .9-2 2v14c0 1.1.9 2 2 2h14c1.1 0 2-.9 2-2V5c0-1.1-.9-2-2-2zM9 17H7v-7h2v7zm4 0h-2V7h2v10zm4 0h-2v-4h2v4z\"/>\n",
              "    </g>\n",
              "</svg>\n",
              "  </button>\n",
              "\n",
              "<style>\n",
              "  .colab-df-quickchart {\n",
              "      --bg-color: #E8F0FE;\n",
              "      --fill-color: #1967D2;\n",
              "      --hover-bg-color: #E2EBFA;\n",
              "      --hover-fill-color: #174EA6;\n",
              "      --disabled-fill-color: #AAA;\n",
              "      --disabled-bg-color: #DDD;\n",
              "  }\n",
              "\n",
              "  [theme=dark] .colab-df-quickchart {\n",
              "      --bg-color: #3B4455;\n",
              "      --fill-color: #D2E3FC;\n",
              "      --hover-bg-color: #434B5C;\n",
              "      --hover-fill-color: #FFFFFF;\n",
              "      --disabled-bg-color: #3B4455;\n",
              "      --disabled-fill-color: #666;\n",
              "  }\n",
              "\n",
              "  .colab-df-quickchart {\n",
              "    background-color: var(--bg-color);\n",
              "    border: none;\n",
              "    border-radius: 50%;\n",
              "    cursor: pointer;\n",
              "    display: none;\n",
              "    fill: var(--fill-color);\n",
              "    height: 32px;\n",
              "    padding: 0;\n",
              "    width: 32px;\n",
              "  }\n",
              "\n",
              "  .colab-df-quickchart:hover {\n",
              "    background-color: var(--hover-bg-color);\n",
              "    box-shadow: 0 1px 2px rgba(60, 64, 67, 0.3), 0 1px 3px 1px rgba(60, 64, 67, 0.15);\n",
              "    fill: var(--button-hover-fill-color);\n",
              "  }\n",
              "\n",
              "  .colab-df-quickchart-complete:disabled,\n",
              "  .colab-df-quickchart-complete:disabled:hover {\n",
              "    background-color: var(--disabled-bg-color);\n",
              "    fill: var(--disabled-fill-color);\n",
              "    box-shadow: none;\n",
              "  }\n",
              "\n",
              "  .colab-df-spinner {\n",
              "    border: 2px solid var(--fill-color);\n",
              "    border-color: transparent;\n",
              "    border-bottom-color: var(--fill-color);\n",
              "    animation:\n",
              "      spin 1s steps(1) infinite;\n",
              "  }\n",
              "\n",
              "  @keyframes spin {\n",
              "    0% {\n",
              "      border-color: transparent;\n",
              "      border-bottom-color: var(--fill-color);\n",
              "      border-left-color: var(--fill-color);\n",
              "    }\n",
              "    20% {\n",
              "      border-color: transparent;\n",
              "      border-left-color: var(--fill-color);\n",
              "      border-top-color: var(--fill-color);\n",
              "    }\n",
              "    30% {\n",
              "      border-color: transparent;\n",
              "      border-left-color: var(--fill-color);\n",
              "      border-top-color: var(--fill-color);\n",
              "      border-right-color: var(--fill-color);\n",
              "    }\n",
              "    40% {\n",
              "      border-color: transparent;\n",
              "      border-right-color: var(--fill-color);\n",
              "      border-top-color: var(--fill-color);\n",
              "    }\n",
              "    60% {\n",
              "      border-color: transparent;\n",
              "      border-right-color: var(--fill-color);\n",
              "    }\n",
              "    80% {\n",
              "      border-color: transparent;\n",
              "      border-right-color: var(--fill-color);\n",
              "      border-bottom-color: var(--fill-color);\n",
              "    }\n",
              "    90% {\n",
              "      border-color: transparent;\n",
              "      border-bottom-color: var(--fill-color);\n",
              "    }\n",
              "  }\n",
              "</style>\n",
              "\n",
              "  <script>\n",
              "    async function quickchart(key) {\n",
              "      const quickchartButtonEl =\n",
              "        document.querySelector('#' + key + ' button');\n",
              "      quickchartButtonEl.disabled = true;  // To prevent multiple clicks.\n",
              "      quickchartButtonEl.classList.add('colab-df-spinner');\n",
              "      try {\n",
              "        const charts = await google.colab.kernel.invokeFunction(\n",
              "            'suggestCharts', [key], {});\n",
              "      } catch (error) {\n",
              "        console.error('Error during call to suggestCharts:', error);\n",
              "      }\n",
              "      quickchartButtonEl.classList.remove('colab-df-spinner');\n",
              "      quickchartButtonEl.classList.add('colab-df-quickchart-complete');\n",
              "    }\n",
              "    (() => {\n",
              "      let quickchartButtonEl =\n",
              "        document.querySelector('#df-8dcd37d3-c136-4cf8-980a-152c91a07766 button');\n",
              "      quickchartButtonEl.style.display =\n",
              "        google.colab.kernel.accessAllowed ? 'block' : 'none';\n",
              "    })();\n",
              "  </script>\n",
              "</div>\n",
              "\n",
              "    </div>\n",
              "  </div>\n"
            ],
            "application/vnd.google.colaboratory.intrinsic+json": {
              "type": "dataframe",
              "variable_name": "crime_zip_df"
            }
          },
          "metadata": {},
          "execution_count": 22
        }
      ],
      "source": [
        "crime_zip_df.head(5)"
      ]
    },
    {
      "cell_type": "code",
      "execution_count": 23,
      "metadata": {
        "id": "E6noHVqrpGIl"
      },
      "outputs": [],
      "source": [
        "crime_zip_df.to_parquet('crime_with_zipcodes.parquet', index=False)"
      ]
    },
    {
      "cell_type": "code",
      "source": [],
      "metadata": {
        "id": "IW_PmTGAWMSF"
      },
      "execution_count": null,
      "outputs": []
    },
    {
      "cell_type": "markdown",
      "metadata": {
        "id": "jaf2eUurWPOr"
      },
      "source": [
        "<h1>3. Reading all the files in Pyspark from external sources</h1>"
      ]
    },
    {
      "cell_type": "code",
      "execution_count": 24,
      "metadata": {
        "id": "JjP61IgPW6FL"
      },
      "outputs": [],
      "source": [
        "# Reading all parquet files\n",
        "listings_df = spark.read.parquet('listings_with_zipcodes.parquet')\n",
        "bus_df = spark.read.parquet('bus_with_zipcodes.parquet')\n",
        "metro_df = spark.read.parquet('metro_with_zipcodes.parquet')\n",
        "crime_df = spark.read.parquet('crime_with_zipcodes.parquet')"
      ]
    },
    {
      "cell_type": "code",
      "execution_count": 25,
      "metadata": {
        "id": "xfpAKF-NZaM9",
        "colab": {
          "base_uri": "https://localhost:8080/"
        },
        "outputId": "2d0212e4-ee0f-4d8c-9b83-0f170d3f99df"
      },
      "outputs": [
        {
          "output_type": "stream",
          "name": "stdout",
          "text": [
            "+---+--------------------+--------------+------------+-----------+--------------------+-----------+---------------------+--------------------+-------+--------------------+---------+----------+-----------------+--------------------+------------------+------------------+--------------------+-----------------+--------------------+--------------------+------------------+-------------------+-------------------------+------------------+--------------------+----------------------+-------------+----------------------+----------------------------+--------+----------+-------------+---------------+------------+---------+--------------+--------+----+--------------------+-------+--------------+--------------+----------------------+----------------------+----------------------+----------------------+----------------------+----------------------+----------------+----------------+---------------+---------------+---------------+----------------+---------------------+-----------------+---------------------+----------------------+------------+-----------+--------------------+----------------------+-------------------------+---------------------+---------------------------+----------------------+-------------------+-------+----------------+------------------------------+-------------------------------------------+--------------------------------------------+-------------------------------------------+-----------------+-----------+-------+\n",
            "| id|         listing_url|     scrape_id|last_scraped|     source|                name|description|neighborhood_overview|         picture_url|host_id|            host_url|host_name|host_since|    host_location|          host_about|host_response_time|host_response_rate|host_acceptance_rate|host_is_superhost|  host_thumbnail_url|    host_picture_url|host_neighbourhood|host_listings_count|host_total_listings_count|host_verifications|host_has_profile_pic|host_identity_verified|neighbourhood|neighbourhood_cleansed|neighbourhood_group_cleansed|latitude| longitude|property_type|      room_type|accommodates|bathrooms|bathrooms_text|bedrooms|beds|           amenities|  price|minimum_nights|maximum_nights|minimum_minimum_nights|maximum_minimum_nights|minimum_maximum_nights|maximum_maximum_nights|minimum_nights_avg_ntm|maximum_nights_avg_ntm|calendar_updated|has_availability|availability_30|availability_60|availability_90|availability_365|calendar_last_scraped|number_of_reviews|number_of_reviews_ltm|number_of_reviews_l30d|first_review|last_review|review_scores_rating|review_scores_accuracy|review_scores_cleanliness|review_scores_checkin|review_scores_communication|review_scores_location|review_scores_value|license|instant_bookable|calculated_host_listings_count|calculated_host_listings_count_entire_homes|calculated_host_listings_count_private_rooms|calculated_host_listings_count_shared_rooms|reviews_per_month|index_right|ZIPCODE|\n",
            "+---+--------------------+--------------+------------+-----------+--------------------+-----------+---------------------+--------------------+-------+--------------------+---------+----------+-----------------+--------------------+------------------+------------------+--------------------+-----------------+--------------------+--------------------+------------------+-------------------+-------------------------+------------------+--------------------+----------------------+-------------+----------------------+----------------------------+--------+----------+-------------+---------------+------------+---------+--------------+--------+----+--------------------+-------+--------------+--------------+----------------------+----------------------+----------------------+----------------------+----------------------+----------------------+----------------+----------------+---------------+---------------+---------------+----------------+---------------------+-----------------+---------------------+----------------------+------------+-----------+--------------------+----------------------+-------------------------+---------------------+---------------------------+----------------------+-------------------+-------+----------------+------------------------------+-------------------------------------------+--------------------------------------------+-------------------------------------------+-----------------+-----------+-------+\n",
            "|109|https://www.airbn...|20231203160142|  2023-12-05|city scrape|Condo in Culver C...|       null|                 null|https://a0.muscac...|    521|https://www.airbn...|    Paolo|2008-06-27|San Francisco, CA|Paolo Privitera, ...|              null|              null|                 50%|                f|https://a0.muscac...|https://a0.muscac...|       Culver City|                1.0|                      3.0|['email', 'phone']|                   t|                     t|         null|           Culver City|                Other Cities|33.98301|-118.38607| Entire condo|Entire home/apt|           6|     null|       2 baths|    null| 2.0|[\"Private patio o...|$129.00|            30|           730|                    30|                    30|                   730|                   730|                  30.0|                 730.0|            null|               t|              0|              0|              0|             180|           2023-12-05|                2|                    0|                     0|  2011-08-15| 2016-05-15|                 4.0|                   5.0|                      5.0|                  3.0|                        4.0|                   5.0|                4.0|   null|               f|                             1|                                          1|                                           0|                                          0|             0.01|         72|  90230|\n",
            "+---+--------------------+--------------+------------+-----------+--------------------+-----------+---------------------+--------------------+-------+--------------------+---------+----------+-----------------+--------------------+------------------+------------------+--------------------+-----------------+--------------------+--------------------+------------------+-------------------+-------------------------+------------------+--------------------+----------------------+-------------+----------------------+----------------------------+--------+----------+-------------+---------------+------------+---------+--------------+--------+----+--------------------+-------+--------------+--------------+----------------------+----------------------+----------------------+----------------------+----------------------+----------------------+----------------+----------------+---------------+---------------+---------------+----------------+---------------------+-----------------+---------------------+----------------------+------------+-----------+--------------------+----------------------+-------------------------+---------------------+---------------------------+----------------------+-------------------+-------+----------------+------------------------------+-------------------------------------------+--------------------------------------------+-------------------------------------------+-----------------+-----------+-------+\n",
            "only showing top 1 row\n",
            "\n"
          ]
        }
      ],
      "source": [
        "# Displaying all data\n",
        "listings_df.show(1)"
      ]
    },
    {
      "cell_type": "markdown",
      "metadata": {
        "id": "4CYXuq1mZwXL"
      },
      "source": [
        "<h1>4. Data Preparation by Transformation and Merging</h1>"
      ]
    },
    {
      "cell_type": "markdown",
      "metadata": {
        "id": "6np9dOH-alHp"
      },
      "source": [
        "<h2>A. Bus data</h2>"
      ]
    },
    {
      "cell_type": "code",
      "execution_count": 26,
      "metadata": {
        "id": "zveEFhiNZ-8j",
        "colab": {
          "base_uri": "https://localhost:8080/"
        },
        "outputId": "55c81212-4f02-40de-edb6-615e7a1a1682"
      },
      "outputs": [
        {
          "output_type": "execute_result",
          "data": {
            "text/plain": [
              "119"
            ]
          },
          "metadata": {},
          "execution_count": 26
        }
      ],
      "source": [
        "# Bus data transformation\n",
        "bus_pivot_df = bus_df.groupBy(F.col('ZIPCODE')).count()\n",
        "bus_pivot_df = bus_pivot_df.withColumnRenamed('count', 'bus_stops_count')\n",
        "bus_pivot_df.count()"
      ]
    },
    {
      "cell_type": "code",
      "execution_count": 27,
      "metadata": {
        "id": "vrwuVKsRZ_Bq",
        "colab": {
          "base_uri": "https://localhost:8080/"
        },
        "outputId": "cb9056c0-9a05-42c8-811c-8adb718737b0"
      },
      "outputs": [
        {
          "output_type": "stream",
          "name": "stdout",
          "text": [
            "+-------+---------------+\n",
            "|ZIPCODE|bus_stops_count|\n",
            "+-------+---------------+\n",
            "|  91326|             30|\n",
            "|  90094|              9|\n",
            "|  90211|              4|\n",
            "|  91331|             85|\n",
            "|  90042|             38|\n",
            "+-------+---------------+\n",
            "only showing top 5 rows\n",
            "\n"
          ]
        }
      ],
      "source": [
        " bus_pivot_df.show(5)"
      ]
    },
    {
      "cell_type": "markdown",
      "metadata": {
        "id": "kTio6Pr4apg6"
      },
      "source": [
        "<h2>B. Train data</h2>"
      ]
    },
    {
      "cell_type": "code",
      "execution_count": 28,
      "metadata": {
        "id": "Q_BtR7qpZ_GC",
        "colab": {
          "base_uri": "https://localhost:8080/"
        },
        "outputId": "c3b42384-74b0-48e1-f695-11eeb04230dd"
      },
      "outputs": [
        {
          "output_type": "execute_result",
          "data": {
            "text/plain": [
              "71"
            ]
          },
          "metadata": {},
          "execution_count": 28
        }
      ],
      "source": [
        "# Train data transformation\n",
        "metro_pivot_df = metro_df.groupBy(F.col('ZIPCODE')).count()\n",
        "metro_pivot_df = metro_pivot_df.withColumnRenamed('count',\n",
        "    'train_stations_count')\n",
        "metro_pivot_df.count()"
      ]
    },
    {
      "cell_type": "code",
      "execution_count": 29,
      "metadata": {
        "id": "k57jZVRiZ_LK",
        "colab": {
          "base_uri": "https://localhost:8080/"
        },
        "outputId": "72ae5e40-678e-42cb-9a23-f486df1617ec"
      },
      "outputs": [
        {
          "output_type": "stream",
          "name": "stdout",
          "text": [
            "+-------+--------------------+\n",
            "|ZIPCODE|train_stations_count|\n",
            "+-------+--------------------+\n",
            "|  90022|                   3|\n",
            "|  90220|                   2|\n",
            "|  90802|                   4|\n",
            "|  90042|                   1|\n",
            "|  91304|                   2|\n",
            "+-------+--------------------+\n",
            "only showing top 5 rows\n",
            "\n"
          ]
        }
      ],
      "source": [
        "metro_pivot_df.show(5)"
      ]
    },
    {
      "cell_type": "markdown",
      "metadata": {
        "id": "_rQ4DzzMas9q"
      },
      "source": [
        "<h2>C. Crime data</h2>"
      ]
    },
    {
      "cell_type": "code",
      "execution_count": 30,
      "metadata": {
        "id": "zekLbxMWbl-S"
      },
      "outputs": [],
      "source": [
        "spark.conf.set(\"spark.sql.legacy.timeParserPolicy\", \"LEGACY\")"
      ]
    },
    {
      "cell_type": "code",
      "execution_count": 31,
      "metadata": {
        "id": "fRYyV4h1a2WK"
      },
      "outputs": [],
      "source": [
        "# Converting 'DATE OCC' to timestamp format\n",
        "crime_filtered = crime_df.withColumn(\"DATE OCC\", F.to_timestamp(\n",
        "    F.col(\"DATE OCC\"), 'MM/dd/yyyy HH:mm:ss'))\n",
        "\n",
        "# Step 3: Filter for dates between January 1, 2024, and June 30, 2024\n",
        "crime_filtered = crime_filtered.filter(\n",
        "    (F.col(\"DATE OCC\") >= '2023-12-03') &\n",
        "     (F.col(\"DATE OCC\") <= '2024-12-03'))"
      ]
    },
    {
      "cell_type": "code",
      "execution_count": 32,
      "metadata": {
        "id": "0mc_q3cma2ZU",
        "colab": {
          "base_uri": "https://localhost:8080/"
        },
        "outputId": "c6642eea-ffd4-41c3-adbc-ad06f2de37ff"
      },
      "outputs": [
        {
          "output_type": "stream",
          "name": "stdout",
          "text": [
            "+-------------------+--------+----+-----------+------+--------------------+-------+---------+-------+-------------+\n",
            "|           DATE OCC|TIME OCC|AREA|  AREA NAME|Crm Cd|         Crm Cd Desc|    LAT|      LON|ZIPCODE|Date_of_Crime|\n",
            "+-------------------+--------+----+-----------+------+--------------------+-------+---------+-------+-------------+\n",
            "|2023-12-17 12:00:00|     730|  21|    Topanga|   210|             ROBBERY|34.1917|-118.5641|  91306|   2023-12-17|\n",
            "|2023-12-29 12:00:00|    2200|  12|77th Street|   510|    VEHICLE - STOLEN|33.9691|-118.3309|  90043|   2023-12-29|\n",
            "|2023-12-28 12:00:00|    1010|  19|    Mission|   442|SHOPLIFTING - PET...|34.2153|-118.4409|  91402|   2023-12-28|\n",
            "|2023-12-12 12:00:00|    1535|   2|    Rampart|   341|THEFT-GRAND ($950...|34.0509|-118.2642|  90017|   2023-12-12|\n",
            "|2023-12-11 12:00:00|    2025|   8|    West LA|   440|THEFT PLAIN - PET...|34.0539|-118.3844|  90035|   2023-12-11|\n",
            "+-------------------+--------+----+-----------+------+--------------------+-------+---------+-------+-------------+\n",
            "only showing top 5 rows\n",
            "\n"
          ]
        }
      ],
      "source": [
        "# Adding the Date_of_Crime column\n",
        "crime_renamed = crime_filtered.withColumn(\"Date_of_Crime\",\n",
        "    F.to_date(F.col(\"DATE OCC\")))\n",
        "\n",
        "# Showing the updated DataFrame\n",
        "crime_renamed.show(5)"
      ]
    },
    {
      "cell_type": "code",
      "execution_count": 33,
      "metadata": {
        "id": "Dc0nceqBa2fk"
      },
      "outputs": [],
      "source": [
        "# Mapping dictionary for crime codes to categories\n",
        "crime_category_mapping = {\n",
        "    '626': 'Assault and Battery', '230': 'Assault and Battery',\n",
        "    '235': 'Assault and Battery', '624': 'Assault and Battery',\n",
        "    '622': 'Assault and Battery', '623': 'Assault and Battery',\n",
        "    '627': 'Assault and Battery', '625': 'Assault and Battery',\n",
        "    '850': 'Assault and Battery', '237': 'Child-Related Crimes',\n",
        "    '922': 'Child-Related Crimes', '813': 'Child-Related Crimes',\n",
        "    '814': 'Child-Related Crimes', '870': 'Child-Related Crimes',\n",
        "    '473': 'Theft and Burglary', '474': 'Theft and Burglary',\n",
        "    '420': 'Theft and Burglary', '331': 'Theft and Burglary',\n",
        "    '341': 'Theft and Burglary', '350': 'Theft and Burglary',\n",
        "    '343': 'Theft and Burglary', '442': 'Theft and Burglary',\n",
        "    '351': 'Theft and Burglary', '450': 'Theft and Burglary',\n",
        "    '352': 'Theft and Burglary', '453': 'Theft and Burglary',\n",
        "    '210': 'Robbery and Extortion', '940': 'Robbery and Extortion',\n",
        "    '220': 'Robbery and Extortion', '654': 'Fraud and Forgery',\n",
        "    '653': 'Fraud and Forgery', '649': 'Fraud and Forgery',\n",
        "    '652': 'Fraud and Forgery', '651': 'Fraud and Forgery',\n",
        "    '670': 'Fraud and Forgery', '668': 'Fraud and Forgery',\n",
        "    '660': 'Fraud and Forgery',\n",
        "    '822': 'Human Trafficking', '921': 'Human Trafficking',\n",
        "    '821': 'Sexual Crimes', '810': 'Sexual Crimes',\n",
        "    '820': 'Sexual Crimes', '830': 'Sexual Crimes',\n",
        "    '756': 'Weapons Offenses', '761': 'Weapons Offenses',\n",
        "    '740': 'Vandalism', '745': 'Vandalism',\n",
        "    '865': 'Drug-Related Crimes',\n",
        "    '661': 'Cyber Crimes', '932': 'Cyber Crimes',\n",
        "    '438': 'Driving Offenses', '433': 'Driving Offenses',\n",
        "    '890': 'Traffic Offenses', '884': 'Traffic Offenses',\n",
        "    '470': 'Traffic Offenses', '471': 'Traffic Offenses',\n",
        "    '920': 'Kidnapping and Abduction',\n",
        "    '901': 'Kidnapping and Abduction',\n",
        "    '110': 'Serious Crime - Homicide',\n",
        "    '902': 'Miscellaneous Crimes', '900': 'Miscellaneous Crimes',\n",
        "    '903': 'Miscellaneous Crimes',\n",
        "    '880': 'Miscellaneous Crimes', '886': 'Miscellaneous Crimes',\n",
        "    '946': 'Miscellaneous Crimes',\n",
        "    '951': 'Miscellaneous Crimes', '755': 'Miscellaneous Crimes',\n",
        "    '926': 'Miscellaneous Crimes',\n",
        "    '647': 'Miscellaneous Crimes', '487': 'Miscellaneous Crimes',\n",
        "    '522': 'Miscellaneous Crimes',\n",
        "    '520': 'Miscellaneous Crimes', '510': 'Miscellaneous Crimes',\n",
        "    '668': 'Miscellaneous Crimes'\n",
        "}\n",
        "# Defining the mapping condition\n",
        "crime_category_conditions = [F.when(F.col('Crm Cd') == code, category)\n",
        "    for code, category in crime_category_mapping.items()]\n",
        "\n",
        "# Create a new column 'Crime Category' based on the mapping\n",
        "crime_category_df = crime_renamed.withColumn('Crime Category',\n",
        "    F.coalesce(*crime_category_conditions))"
      ]
    },
    {
      "cell_type": "code",
      "execution_count": 34,
      "metadata": {
        "id": "PUEH7T-2a2ic",
        "colab": {
          "base_uri": "https://localhost:8080/"
        },
        "outputId": "831e4628-3aca-4b5a-806c-a37a91444089"
      },
      "outputs": [
        {
          "output_type": "stream",
          "name": "stdout",
          "text": [
            "+-------------------+--------+----+-----------+------+--------------------+-------+---------+-------+-------------+--------------------+\n",
            "|           DATE OCC|TIME OCC|AREA|  AREA NAME|Crm Cd|         Crm Cd Desc|    LAT|      LON|ZIPCODE|Date_of_Crime|      Crime Category|\n",
            "+-------------------+--------+----+-----------+------+--------------------+-------+---------+-------+-------------+--------------------+\n",
            "|2023-12-17 12:00:00|     730|  21|    Topanga|   210|             ROBBERY|34.1917|-118.5641|  91306|   2023-12-17|Robbery and Extor...|\n",
            "|2023-12-29 12:00:00|    2200|  12|77th Street|   510|    VEHICLE - STOLEN|33.9691|-118.3309|  90043|   2023-12-29|Miscellaneous Crimes|\n",
            "|2023-12-28 12:00:00|    1010|  19|    Mission|   442|SHOPLIFTING - PET...|34.2153|-118.4409|  91402|   2023-12-28|  Theft and Burglary|\n",
            "|2023-12-12 12:00:00|    1535|   2|    Rampart|   341|THEFT-GRAND ($950...|34.0509|-118.2642|  90017|   2023-12-12|  Theft and Burglary|\n",
            "|2023-12-11 12:00:00|    2025|   8|    West LA|   440|THEFT PLAIN - PET...|34.0539|-118.3844|  90035|   2023-12-11|        Other Crimes|\n",
            "+-------------------+--------+----+-----------+------+--------------------+-------+---------+-------+-------------+--------------------+\n",
            "only showing top 5 rows\n",
            "\n"
          ]
        }
      ],
      "source": [
        "# Replace NULL values in the 'Crime Category' column with 'Other Crimes'\n",
        "crime_final = crime_category_df.fillna({'Crime Category': 'Other Crimes'})\n",
        "crime_final.show(5)"
      ]
    },
    {
      "cell_type": "code",
      "execution_count": 35,
      "metadata": {
        "id": "lrKSq8DQa2kv",
        "colab": {
          "base_uri": "https://localhost:8080/"
        },
        "outputId": "fa404eea-4ec9-4d7c-a561-bdf29c9cc27f"
      },
      "outputs": [
        {
          "output_type": "stream",
          "name": "stdout",
          "text": [
            "+-------+-------------------+--------------------+------------+----------------+-------------------+-----------------+-----------------+------------------------+--------------------+------------+---------------------+------------------------+-------------+------------------+----------------+---------+----------------+\n",
            "|ZIPCODE|Assault and Battery|Child-Related Crimes|Cyber Crimes|Driving Offenses|Drug-Related Crimes|Fraud and Forgery|Human Trafficking|Kidnapping and Abduction|Miscellaneous Crimes|Other Crimes|Robbery and Extortion|Serious Crime - Homicide|Sexual Crimes|Theft and Burglary|Traffic Offenses|Vandalism|Weapons Offenses|\n",
            "+-------+-------------------+--------------------+------------+----------------+-------------------+-----------------+-----------------+------------------------+--------------------+------------+---------------------+------------------------+-------------+------------------+----------------+---------+----------------+\n",
            "|  91326|                 56|                   1|           1|               0|                  0|                4|                0|                       1|                  51|         270|                    6|                       2|            0|               125|               0|       24|               5|\n",
            "|  90094|                 11|                   0|           0|               0|                  0|                0|                0|                       1|                  37|          83|                    1|                       0|            0|                44|               0|       10|               1|\n",
            "|  90211|                  0|                   0|           0|               0|                  0|                0|                0|                       0|                   1|           1|                    0|                       0|            0|                 1|               0|        2|               0|\n",
            "|  91331|                319|                   8|           0|               0|                  1|                1|                0|                      38|                 538|         449|                   57|                       2|            8|               441|               9|      158|              16|\n",
            "|  90745|                  1|                   0|           0|               0|                  0|                0|                0|                       0|                   1|           1|                    0|                       0|            0|                 0|               0|        0|               0|\n",
            "+-------+-------------------+--------------------+------------+----------------+-------------------+-----------------+-----------------+------------------------+--------------------+------------+---------------------+------------------------+-------------+------------------+----------------+---------+----------------+\n",
            "only showing top 5 rows\n",
            "\n"
          ]
        }
      ],
      "source": [
        "# Transforming crime categories\n",
        "temp_df = crime_final.select(\"ZIPCODE\",\n",
        "    \"Date_of_Crime\", \"Crime Category\")\n",
        "crime_pivot_df = crime_final.select(\"ZIPCODE\", \"Date_of_Crime\",\n",
        "    \"Crime Category\").groupBy(\"ZIPCODE\").pivot(\n",
        "    \"Crime Category\").agg(F.count(F.lit(1)))\n",
        "crime_pivot_df = crime_pivot_df.fillna(0)\n",
        "crime_pivot_df.show(5)"
      ]
    },
    {
      "cell_type": "markdown",
      "metadata": {
        "id": "s-MWY1dAfGI3"
      },
      "source": [
        "<h2>D. Merging all data together</h2>"
      ]
    },
    {
      "cell_type": "code",
      "execution_count": 36,
      "metadata": {
        "id": "6R31WbgMfYAC",
        "colab": {
          "base_uri": "https://localhost:8080/"
        },
        "outputId": "e0a66aa8-7da8-40fa-90ea-137184e1deb6"
      },
      "outputs": [
        {
          "output_type": "stream",
          "name": "stdout",
          "text": [
            "+-----------+--------------------+------------------+---------------------+---------------+--------------------+--------------------+------------------------------+--------------------+----------------+--------------------+------------------+-------------------+----------------------+--------------------+---------------------------+---------------------------+-----------------------------+--------------------------+---------------------------+-------------------------+---------------------------+----------------------------+----------------------------------+---------------------------+-----------------------------+-------------------------------+----------------------+-------------------------------+-------------------------------------+-----------------+------------------+----------------------+------------------+---------------------+------------------+-----------------------+-----------------+-------------+--------------------+--------------+-----------------------+-----------------------+-------------------------------+-------------------------------+-------------------------------+-------------------------------+-------------------------------+-------------------------------+-------------------------+-------------------------+------------------------+------------------------+------------------------+-------------------------+------------------------------+--------------------------+------------------------------+-------------------------------+---------------------+--------------------+-----------------------------+-------------------------------+----------------------------------+------------------------------+------------------------------------+-------------------------------+----------------------------+----------------+-------------------------+---------------------------------------+----------------------------------------------------+-----------------------------------------------------+----------------------------------------------------+--------------------------+--------------------+----------------+\n",
            "|listings_id|listings_listing_url|listings_scrape_id|listings_last_scraped|listings_source|       listings_name|listings_description|listings_neighborhood_overview|listings_picture_url|listings_host_id|   listings_host_url|listings_host_name|listings_host_since|listings_host_location| listings_host_about|listings_host_response_time|listings_host_response_rate|listings_host_acceptance_rate|listings_host_is_superhost|listings_host_thumbnail_url|listings_host_picture_url|listings_host_neighbourhood|listings_host_listings_count|listings_host_total_listings_count|listings_host_verifications|listings_host_has_profile_pic|listings_host_identity_verified|listings_neighbourhood|listings_neighbourhood_cleansed|listings_neighbourhood_group_cleansed|listings_latitude|listings_longitude|listings_property_type|listings_room_type|listings_accommodates|listings_bathrooms|listings_bathrooms_text|listings_bedrooms|listings_beds|  listings_amenities|listings_price|listings_minimum_nights|listings_maximum_nights|listings_minimum_minimum_nights|listings_maximum_minimum_nights|listings_minimum_maximum_nights|listings_maximum_maximum_nights|listings_minimum_nights_avg_ntm|listings_maximum_nights_avg_ntm|listings_calendar_updated|listings_has_availability|listings_availability_30|listings_availability_60|listings_availability_90|listings_availability_365|listings_calendar_last_scraped|listings_number_of_reviews|listings_number_of_reviews_ltm|listings_number_of_reviews_l30d|listings_first_review|listings_last_review|listings_review_scores_rating|listings_review_scores_accuracy|listings_review_scores_cleanliness|listings_review_scores_checkin|listings_review_scores_communication|listings_review_scores_location|listings_review_scores_value|listings_license|listings_instant_bookable|listings_calculated_host_listings_count|listings_calculated_host_listings_count_entire_homes|listings_calculated_host_listings_count_private_rooms|listings_calculated_host_listings_count_shared_rooms|listings_reviews_per_month|listings_index_right|listings_ZIPCODE|\n",
            "+-----------+--------------------+------------------+---------------------+---------------+--------------------+--------------------+------------------------------+--------------------+----------------+--------------------+------------------+-------------------+----------------------+--------------------+---------------------------+---------------------------+-----------------------------+--------------------------+---------------------------+-------------------------+---------------------------+----------------------------+----------------------------------+---------------------------+-----------------------------+-------------------------------+----------------------+-------------------------------+-------------------------------------+-----------------+------------------+----------------------+------------------+---------------------+------------------+-----------------------+-----------------+-------------+--------------------+--------------+-----------------------+-----------------------+-------------------------------+-------------------------------+-------------------------------+-------------------------------+-------------------------------+-------------------------------+-------------------------+-------------------------+------------------------+------------------------+------------------------+-------------------------+------------------------------+--------------------------+------------------------------+-------------------------------+---------------------+--------------------+-----------------------------+-------------------------------+----------------------------------+------------------------------+------------------------------------+-------------------------------+----------------------------+----------------+-------------------------+---------------------------------------+----------------------------------------------------+-----------------------------------------------------+----------------------------------------------------+--------------------------+--------------------+----------------+\n",
            "|        109|https://www.airbn...|    20231203160142|           2023-12-05|    city scrape|Condo in Culver C...|                null|                          null|https://a0.muscac...|             521|https://www.airbn...|             Paolo|         2008-06-27|     San Francisco, CA|Paolo Privitera, ...|                       null|                       null|                          50%|                         f|       https://a0.muscac...|     https://a0.muscac...|                Culver City|                         1.0|                               3.0|         ['email', 'phone']|                            t|                              t|                  null|                    Culver City|                         Other Cities|         33.98301|        -118.38607|          Entire condo|   Entire home/apt|                    6|              null|                2 baths|             null|          2.0|[\"Private patio o...|       $129.00|                     30|                    730|                             30|                             30|                            730|                            730|                           30.0|                          730.0|                     null|                        t|                       0|                       0|                       0|                      180|                    2023-12-05|                         2|                             0|                              0|           2011-08-15|          2016-05-15|                          4.0|                            5.0|                               5.0|                           3.0|                                 4.0|                            5.0|                         4.0|            null|                        f|                                      1|                                                   1|                                                    0|                                                   0|                      0.01|                  72|           90230|\n",
            "+-----------+--------------------+------------------+---------------------+---------------+--------------------+--------------------+------------------------------+--------------------+----------------+--------------------+------------------+-------------------+----------------------+--------------------+---------------------------+---------------------------+-----------------------------+--------------------------+---------------------------+-------------------------+---------------------------+----------------------------+----------------------------------+---------------------------+-----------------------------+-------------------------------+----------------------+-------------------------------+-------------------------------------+-----------------+------------------+----------------------+------------------+---------------------+------------------+-----------------------+-----------------+-------------+--------------------+--------------+-----------------------+-----------------------+-------------------------------+-------------------------------+-------------------------------+-------------------------------+-------------------------------+-------------------------------+-------------------------+-------------------------+------------------------+------------------------+------------------------+-------------------------+------------------------------+--------------------------+------------------------------+-------------------------------+---------------------+--------------------+-----------------------------+-------------------------------+----------------------------------+------------------------------+------------------------------------+-------------------------------+----------------------------+----------------+-------------------------+---------------------------------------+----------------------------------------------------+-----------------------------------------------------+----------------------------------------------------+--------------------------+--------------------+----------------+\n",
            "only showing top 1 row\n",
            "\n"
          ]
        }
      ],
      "source": [
        "# Adding aliases to listings dataframe column names\n",
        "list_old_cols = listings_df.columns\n",
        "list_new_cols = ['listings_' + col for col in list_old_cols]\n",
        "listings_merge_df = listings_df.toDF(*list_new_cols)\n",
        "listings_merge_df.show(1)"
      ]
    },
    {
      "cell_type": "code",
      "execution_count": 37,
      "metadata": {
        "id": "yAgO_cYPfYG1",
        "colab": {
          "base_uri": "https://localhost:8080/"
        },
        "outputId": "d6f07e55-a786-4648-bc59-a1922e802e47"
      },
      "outputs": [
        {
          "output_type": "stream",
          "name": "stdout",
          "text": [
            "+-----------+-------------------+\n",
            "|bus_ZIPCODE|bus_bus_stops_count|\n",
            "+-----------+-------------------+\n",
            "|      91326|                 30|\n",
            "+-----------+-------------------+\n",
            "only showing top 1 row\n",
            "\n"
          ]
        }
      ],
      "source": [
        "# Adding aliases to bus dataframe column names\n",
        "bus_old_cols = bus_pivot_df.columns\n",
        "bus_new_cols = ['bus_' + col for col in bus_old_cols]\n",
        "bus_merge_df = bus_pivot_df.toDF(*bus_new_cols)\n",
        "bus_merge_df.show(1)"
      ]
    },
    {
      "cell_type": "code",
      "execution_count": 38,
      "metadata": {
        "id": "1YNuWcjyfYNk",
        "colab": {
          "base_uri": "https://localhost:8080/"
        },
        "outputId": "76af9e56-6a95-4942-c9f0-0c31f4fe4bc6"
      },
      "outputs": [
        {
          "output_type": "stream",
          "name": "stdout",
          "text": [
            "+-------------+--------------------------+\n",
            "|metro_ZIPCODE|metro_train_stations_count|\n",
            "+-------------+--------------------------+\n",
            "|        90022|                         3|\n",
            "+-------------+--------------------------+\n",
            "only showing top 1 row\n",
            "\n"
          ]
        }
      ],
      "source": [
        "# Adding aliases to train dataframe column names\n",
        "metro_old_cols = metro_pivot_df.columns\n",
        "metro_new_cols = ['metro_' + col for col in metro_old_cols]\n",
        "metro_merge_df = metro_pivot_df.toDF(*metro_new_cols)\n",
        "metro_merge_df.show(1)"
      ]
    },
    {
      "cell_type": "code",
      "execution_count": 39,
      "metadata": {
        "id": "OoxQuDlwfYUf",
        "colab": {
          "base_uri": "https://localhost:8080/"
        },
        "outputId": "a3eba763-34b0-42d8-818b-17b56e50083c"
      },
      "outputs": [
        {
          "output_type": "stream",
          "name": "stdout",
          "text": [
            "+-------------+-------------------------+--------------------------+------------------+----------------------+-------------------------+-----------------------+-----------------------+------------------------------+--------------------------+------------------+---------------------------+------------------------------+-------------------+------------------------+----------------------+---------------+----------------------+\n",
            "|crime_ZIPCODE|crime_Assault and Battery|crime_Child-Related Crimes|crime_Cyber Crimes|crime_Driving Offenses|crime_Drug-Related Crimes|crime_Fraud and Forgery|crime_Human Trafficking|crime_Kidnapping and Abduction|crime_Miscellaneous Crimes|crime_Other Crimes|crime_Robbery and Extortion|crime_Serious Crime - Homicide|crime_Sexual Crimes|crime_Theft and Burglary|crime_Traffic Offenses|crime_Vandalism|crime_Weapons Offenses|\n",
            "+-------------+-------------------------+--------------------------+------------------+----------------------+-------------------------+-----------------------+-----------------------+------------------------------+--------------------------+------------------+---------------------------+------------------------------+-------------------+------------------------+----------------------+---------------+----------------------+\n",
            "|        91326|                       56|                         1|                 1|                     0|                        0|                      4|                      0|                             1|                        51|               270|                          6|                             2|                  0|                     125|                     0|             24|                     5|\n",
            "+-------------+-------------------------+--------------------------+------------------+----------------------+-------------------------+-----------------------+-----------------------+------------------------------+--------------------------+------------------+---------------------------+------------------------------+-------------------+------------------------+----------------------+---------------+----------------------+\n",
            "only showing top 1 row\n",
            "\n"
          ]
        }
      ],
      "source": [
        "# Adding aliases to crime dataframe column names\n",
        "crime_old_cols = crime_pivot_df.columns\n",
        "crime_new_cols = ['crime_' + col for col in crime_old_cols]\n",
        "crime_merge_df = crime_pivot_df.toDF(*crime_new_cols)\n",
        "crime_merge_df.show(1)"
      ]
    },
    {
      "cell_type": "code",
      "execution_count": 40,
      "metadata": {
        "id": "iCoCt9ndfYar",
        "colab": {
          "base_uri": "https://localhost:8080/"
        },
        "outputId": "61b74dbc-d3ca-4ec7-86f6-037fa47cd865"
      },
      "outputs": [
        {
          "output_type": "stream",
          "name": "stdout",
          "text": [
            "+-----------+--------------------+------------------+---------------------+---------------+--------------------+--------------------+------------------------------+--------------------+----------------+--------------------+------------------+-------------------+----------------------+--------------------+---------------------------+---------------------------+-----------------------------+--------------------------+---------------------------+-------------------------+---------------------------+----------------------------+----------------------------------+---------------------------+-----------------------------+-------------------------------+----------------------+-------------------------------+-------------------------------------+-----------------+------------------+----------------------+------------------+---------------------+------------------+-----------------------+-----------------+-------------+--------------------+--------------+-----------------------+-----------------------+-------------------------------+-------------------------------+-------------------------------+-------------------------------+-------------------------------+-------------------------------+-------------------------+-------------------------+------------------------+------------------------+------------------------+-------------------------+------------------------------+--------------------------+------------------------------+-------------------------------+---------------------+--------------------+-----------------------------+-------------------------------+----------------------------------+------------------------------+------------------------------------+-------------------------------+----------------------------+----------------+-------------------------+---------------------------------------+----------------------------------------------------+-----------------------------------------------------+----------------------------------------------------+--------------------------+--------------------+----------------+-----------+-------------------+\n",
            "|listings_id|listings_listing_url|listings_scrape_id|listings_last_scraped|listings_source|       listings_name|listings_description|listings_neighborhood_overview|listings_picture_url|listings_host_id|   listings_host_url|listings_host_name|listings_host_since|listings_host_location| listings_host_about|listings_host_response_time|listings_host_response_rate|listings_host_acceptance_rate|listings_host_is_superhost|listings_host_thumbnail_url|listings_host_picture_url|listings_host_neighbourhood|listings_host_listings_count|listings_host_total_listings_count|listings_host_verifications|listings_host_has_profile_pic|listings_host_identity_verified|listings_neighbourhood|listings_neighbourhood_cleansed|listings_neighbourhood_group_cleansed|listings_latitude|listings_longitude|listings_property_type|listings_room_type|listings_accommodates|listings_bathrooms|listings_bathrooms_text|listings_bedrooms|listings_beds|  listings_amenities|listings_price|listings_minimum_nights|listings_maximum_nights|listings_minimum_minimum_nights|listings_maximum_minimum_nights|listings_minimum_maximum_nights|listings_maximum_maximum_nights|listings_minimum_nights_avg_ntm|listings_maximum_nights_avg_ntm|listings_calendar_updated|listings_has_availability|listings_availability_30|listings_availability_60|listings_availability_90|listings_availability_365|listings_calendar_last_scraped|listings_number_of_reviews|listings_number_of_reviews_ltm|listings_number_of_reviews_l30d|listings_first_review|listings_last_review|listings_review_scores_rating|listings_review_scores_accuracy|listings_review_scores_cleanliness|listings_review_scores_checkin|listings_review_scores_communication|listings_review_scores_location|listings_review_scores_value|listings_license|listings_instant_bookable|listings_calculated_host_listings_count|listings_calculated_host_listings_count_entire_homes|listings_calculated_host_listings_count_private_rooms|listings_calculated_host_listings_count_shared_rooms|listings_reviews_per_month|listings_index_right|listings_ZIPCODE|bus_ZIPCODE|bus_bus_stops_count|\n",
            "+-----------+--------------------+------------------+---------------------+---------------+--------------------+--------------------+------------------------------+--------------------+----------------+--------------------+------------------+-------------------+----------------------+--------------------+---------------------------+---------------------------+-----------------------------+--------------------------+---------------------------+-------------------------+---------------------------+----------------------------+----------------------------------+---------------------------+-----------------------------+-------------------------------+----------------------+-------------------------------+-------------------------------------+-----------------+------------------+----------------------+------------------+---------------------+------------------+-----------------------+-----------------+-------------+--------------------+--------------+-----------------------+-----------------------+-------------------------------+-------------------------------+-------------------------------+-------------------------------+-------------------------------+-------------------------------+-------------------------+-------------------------+------------------------+------------------------+------------------------+-------------------------+------------------------------+--------------------------+------------------------------+-------------------------------+---------------------+--------------------+-----------------------------+-------------------------------+----------------------------------+------------------------------+------------------------------------+-------------------------------+----------------------------+----------------+-------------------------+---------------------------------------+----------------------------------------------------+-----------------------------------------------------+----------------------------------------------------+--------------------------+--------------------+----------------+-----------+-------------------+\n",
            "|        109|https://www.airbn...|    20231203160142|           2023-12-05|    city scrape|Condo in Culver C...|                null|                          null|https://a0.muscac...|             521|https://www.airbn...|             Paolo|         2008-06-27|     San Francisco, CA|Paolo Privitera, ...|                       null|                       null|                          50%|                         f|       https://a0.muscac...|     https://a0.muscac...|                Culver City|                         1.0|                               3.0|         ['email', 'phone']|                            t|                              t|                  null|                    Culver City|                         Other Cities|         33.98301|        -118.38607|          Entire condo|   Entire home/apt|                    6|              null|                2 baths|             null|          2.0|[\"Private patio o...|       $129.00|                     30|                    730|                             30|                             30|                            730|                            730|                           30.0|                          730.0|                     null|                        t|                       0|                       0|                       0|                      180|                    2023-12-05|                         2|                             0|                              0|           2011-08-15|          2016-05-15|                          4.0|                            5.0|                               5.0|                           3.0|                                 4.0|                            5.0|                         4.0|            null|                        f|                                      1|                                                   1|                                                    0|                                                   0|                      0.01|                  72|           90230|      90230|                 10|\n",
            "|       2708|https://www.airbn...|    20231203160142|           2023-12-04|    city scrape|Rental unit in Lo...|                null|          Walk and run to R...|https://a0.muscac...|            3008|https://www.airbn...|             Chas.|         2008-09-16|       Los Angeles, CA|Professional and ...|                       null|                       null|                         100%|                         t|       https://a0.muscac...|     https://a0.muscac...|                  Hollywood|                         2.0|                               3.0|         ['email', 'phone']|                            t|                              t|  Los Angeles, Cali...|                      Hollywood|                  City of Los Angeles|         34.09625|        -118.34605|  Private room in r...|      Private room|                    1|              null|          1 shared bath|             null|          1.0|[\"Wen, V05, Prell...|        $94.00|                     30|                    550|                             30|                             30|                           1125|                           1125|                           30.0|                         1125.0|                     null|                        t|                       0|                       0|                       0|                      271|                    2023-12-04|                        40|                             2|                              0|           2014-06-09|          2023-07-31|                         4.85|                            4.8|                              4.93|                           5.0|                                4.98|                           4.95|                        4.88|            null|                        t|                                      2|                                                   0|                                                    2|                                                   0|                      0.35|                  42|           90046|      90046|                 50|\n",
            "|       2732|https://www.airbn...|    20231203160142|           2023-12-04|    city scrape|Rental unit in Sa...|                null|          This is the best ...|https://a0.muscac...|            3041|https://www.airbn...|    Yoga Priestess|         2008-09-17|      Santa Monica, CA|I have been teach...|             within an hour|                       100%|                          42%|                         f|       https://a0.muscac...|     https://a0.muscac...|               Santa Monica|                         2.0|                               2.0|         ['email', 'phone']|                            t|                              t|  Santa Monica, Cal...|                   Santa Monica|                         Other Cities|          34.0044|        -118.48095|  Private room in r...|      Private room|                    1|              null|         1 private bath|             null|          1.0|[\"Private patio o...|       $179.00|                      7|                     27|                              7|                              7|                             27|                             27|                            7.0|                           27.0|                     null|                        t|                      25|                      55|                      85|                      360|                    2023-12-04|                        24|                             0|                              0|           2011-06-06|          2022-08-21|                         4.41|                           4.26|                              4.58|                          4.39|                                4.48|                           4.91|                        4.22|          228269|                        f|                                      2|                                                   1|                                                    1|                                                   0|                      0.16|                 110|           90405|      90405|                  2|\n",
            "|       2864|https://www.airbn...|    20231203160142|           2023-12-04|previous scrape|Rental unit in Be...|                null|          What makes the ne...|https://a0.muscac...|            3207|https://www.airbn...|         Bernadine|         2008-09-25|        Bellflower, CA|Fair, open, hones...|                       null|                       null|                         null|                         f|       https://a0.muscac...|     https://a0.muscac...|                 Bellflower|                         1.0|                               1.0|         ['email', 'phone']|                            t|                              t|  Bellflower, Calif...|                     Bellflower|                         Other Cities|          33.8749|        -118.11515|    Entire rental unit|   Entire home/apt|                    2|              null|                 1 bath|             null|          1.0|[\"TV\", \"Iron\", \"E...|        $50.00|                     30|                    730|                             30|                             30|                           1125|                           1125|                           30.0|                         1125.0|                     null|                        f|                       0|                       0|                       0|                        0|                    2023-12-04|                         0|                             0|                              0|                 null|                null|                         null|                           null|                              null|                          null|                                null|                           null|                        null|            null|                        f|                                      1|                                                   1|                                                    0|                                                   0|                      null|                 134|           90706|       null|                  0|\n",
            "|      63416|https://www.airbn...|    20231203160142|           2023-12-05|    city scrape|Home in Hollywood...|                null|                          null|https://a0.muscac...|          309512|https://www.airbn...|          Vincenzo|         2010-12-04|       Los Angeles, CA|Check out my list...|             within an hour|                       100%|                          96%|                         t|       https://a0.muscac...|     https://a0.muscac...|            Hollywood Hills|                         3.0|                               4.0|         ['email', 'phone']|                            t|                              t|                  null|                Hollywood Hills|                  City of Los Angeles|         34.11344|        -118.32399|  Private room in home|      Private room|                    3|              null|         1 private bath|             null|          2.0|[\"Shampoo\", \"Kitc...|       $220.00|                      2|                    365|                              2|                              2|                            365|                            365|                            2.0|                          365.0|                     null|                        t|                       0|                       0|                       0|                        0|                    2023-12-05|                       161|                            23|                              1|           2011-01-02|          2023-11-18|                         4.99|                           4.92|                              4.92|                          4.97|                                4.97|                           4.97|                         4.9|    HSR21-000113|                        f|                                      3|                                                   1|                                                    2|                                                   0|                      1.02|                  57|           90068|      90068|                 38|\n",
            "+-----------+--------------------+------------------+---------------------+---------------+--------------------+--------------------+------------------------------+--------------------+----------------+--------------------+------------------+-------------------+----------------------+--------------------+---------------------------+---------------------------+-----------------------------+--------------------------+---------------------------+-------------------------+---------------------------+----------------------------+----------------------------------+---------------------------+-----------------------------+-------------------------------+----------------------+-------------------------------+-------------------------------------+-----------------+------------------+----------------------+------------------+---------------------+------------------+-----------------------+-----------------+-------------+--------------------+--------------+-----------------------+-----------------------+-------------------------------+-------------------------------+-------------------------------+-------------------------------+-------------------------------+-------------------------------+-------------------------+-------------------------+------------------------+------------------------+------------------------+-------------------------+------------------------------+--------------------------+------------------------------+-------------------------------+---------------------+--------------------+-----------------------------+-------------------------------+----------------------------------+------------------------------+------------------------------------+-------------------------------+----------------------------+----------------+-------------------------+---------------------------------------+----------------------------------------------------+-----------------------------------------------------+----------------------------------------------------+--------------------------+--------------------+----------------+-----------+-------------------+\n",
            "only showing top 5 rows\n",
            "\n"
          ]
        }
      ],
      "source": [
        "# Merging listings and bus\n",
        "list_bus_df = listings_merge_df.join(bus_merge_df,\n",
        "    listings_merge_df.listings_ZIPCODE == bus_merge_df.bus_ZIPCODE,\n",
        "    how='left')\n",
        "list_bus_df = list_bus_df.fillna(0, subset=['bus_bus_stops_count'])\n",
        "list_bus_df.show(5)"
      ]
    },
    {
      "cell_type": "code",
      "execution_count": 41,
      "metadata": {
        "id": "qGzyVe4WiMBx",
        "colab": {
          "base_uri": "https://localhost:8080/"
        },
        "outputId": "d86f4411-948c-4e8c-85d1-24095b2e104a"
      },
      "outputs": [
        {
          "output_type": "stream",
          "name": "stdout",
          "text": [
            "+-----------+--------------------+------------------+---------------------+---------------+--------------------+--------------------+------------------------------+--------------------+----------------+--------------------+------------------+-------------------+----------------------+--------------------+---------------------------+---------------------------+-----------------------------+--------------------------+---------------------------+-------------------------+---------------------------+----------------------------+----------------------------------+---------------------------+-----------------------------+-------------------------------+----------------------+-------------------------------+-------------------------------------+-----------------+------------------+----------------------+------------------+---------------------+------------------+-----------------------+-----------------+-------------+--------------------+--------------+-----------------------+-----------------------+-------------------------------+-------------------------------+-------------------------------+-------------------------------+-------------------------------+-------------------------------+-------------------------+-------------------------+------------------------+------------------------+------------------------+-------------------------+------------------------------+--------------------------+------------------------------+-------------------------------+---------------------+--------------------+-----------------------------+-------------------------------+----------------------------------+------------------------------+------------------------------------+-------------------------------+----------------------------+----------------+-------------------------+---------------------------------------+----------------------------------------------------+-----------------------------------------------------+----------------------------------------------------+--------------------------+--------------------+----------------+-----------+-------------------+-------------+--------------------------+\n",
            "|listings_id|listings_listing_url|listings_scrape_id|listings_last_scraped|listings_source|       listings_name|listings_description|listings_neighborhood_overview|listings_picture_url|listings_host_id|   listings_host_url|listings_host_name|listings_host_since|listings_host_location| listings_host_about|listings_host_response_time|listings_host_response_rate|listings_host_acceptance_rate|listings_host_is_superhost|listings_host_thumbnail_url|listings_host_picture_url|listings_host_neighbourhood|listings_host_listings_count|listings_host_total_listings_count|listings_host_verifications|listings_host_has_profile_pic|listings_host_identity_verified|listings_neighbourhood|listings_neighbourhood_cleansed|listings_neighbourhood_group_cleansed|listings_latitude|listings_longitude|listings_property_type|listings_room_type|listings_accommodates|listings_bathrooms|listings_bathrooms_text|listings_bedrooms|listings_beds|  listings_amenities|listings_price|listings_minimum_nights|listings_maximum_nights|listings_minimum_minimum_nights|listings_maximum_minimum_nights|listings_minimum_maximum_nights|listings_maximum_maximum_nights|listings_minimum_nights_avg_ntm|listings_maximum_nights_avg_ntm|listings_calendar_updated|listings_has_availability|listings_availability_30|listings_availability_60|listings_availability_90|listings_availability_365|listings_calendar_last_scraped|listings_number_of_reviews|listings_number_of_reviews_ltm|listings_number_of_reviews_l30d|listings_first_review|listings_last_review|listings_review_scores_rating|listings_review_scores_accuracy|listings_review_scores_cleanliness|listings_review_scores_checkin|listings_review_scores_communication|listings_review_scores_location|listings_review_scores_value|listings_license|listings_instant_bookable|listings_calculated_host_listings_count|listings_calculated_host_listings_count_entire_homes|listings_calculated_host_listings_count_private_rooms|listings_calculated_host_listings_count_shared_rooms|listings_reviews_per_month|listings_index_right|listings_ZIPCODE|bus_ZIPCODE|bus_bus_stops_count|metro_ZIPCODE|metro_train_stations_count|\n",
            "+-----------+--------------------+------------------+---------------------+---------------+--------------------+--------------------+------------------------------+--------------------+----------------+--------------------+------------------+-------------------+----------------------+--------------------+---------------------------+---------------------------+-----------------------------+--------------------------+---------------------------+-------------------------+---------------------------+----------------------------+----------------------------------+---------------------------+-----------------------------+-------------------------------+----------------------+-------------------------------+-------------------------------------+-----------------+------------------+----------------------+------------------+---------------------+------------------+-----------------------+-----------------+-------------+--------------------+--------------+-----------------------+-----------------------+-------------------------------+-------------------------------+-------------------------------+-------------------------------+-------------------------------+-------------------------------+-------------------------+-------------------------+------------------------+------------------------+------------------------+-------------------------+------------------------------+--------------------------+------------------------------+-------------------------------+---------------------+--------------------+-----------------------------+-------------------------------+----------------------------------+------------------------------+------------------------------------+-------------------------------+----------------------------+----------------+-------------------------+---------------------------------------+----------------------------------------------------+-----------------------------------------------------+----------------------------------------------------+--------------------------+--------------------+----------------+-----------+-------------------+-------------+--------------------------+\n",
            "|        109|https://www.airbn...|    20231203160142|           2023-12-05|    city scrape|Condo in Culver C...|                null|                          null|https://a0.muscac...|             521|https://www.airbn...|             Paolo|         2008-06-27|     San Francisco, CA|Paolo Privitera, ...|                       null|                       null|                          50%|                         f|       https://a0.muscac...|     https://a0.muscac...|                Culver City|                         1.0|                               3.0|         ['email', 'phone']|                            t|                              t|                  null|                    Culver City|                         Other Cities|         33.98301|        -118.38607|          Entire condo|   Entire home/apt|                    6|              null|                2 baths|             null|          2.0|[\"Private patio o...|       $129.00|                     30|                    730|                             30|                             30|                            730|                            730|                           30.0|                          730.0|                     null|                        t|                       0|                       0|                       0|                      180|                    2023-12-05|                         2|                             0|                              0|           2011-08-15|          2016-05-15|                          4.0|                            5.0|                               5.0|                           3.0|                                 4.0|                            5.0|                         4.0|            null|                        f|                                      1|                                                   1|                                                    0|                                                   0|                      0.01|                  72|           90230|      90230|                 10|         null|                         0|\n",
            "|       2708|https://www.airbn...|    20231203160142|           2023-12-04|    city scrape|Rental unit in Lo...|                null|          Walk and run to R...|https://a0.muscac...|            3008|https://www.airbn...|             Chas.|         2008-09-16|       Los Angeles, CA|Professional and ...|                       null|                       null|                         100%|                         t|       https://a0.muscac...|     https://a0.muscac...|                  Hollywood|                         2.0|                               3.0|         ['email', 'phone']|                            t|                              t|  Los Angeles, Cali...|                      Hollywood|                  City of Los Angeles|         34.09625|        -118.34605|  Private room in r...|      Private room|                    1|              null|          1 shared bath|             null|          1.0|[\"Wen, V05, Prell...|        $94.00|                     30|                    550|                             30|                             30|                           1125|                           1125|                           30.0|                         1125.0|                     null|                        t|                       0|                       0|                       0|                      271|                    2023-12-04|                        40|                             2|                              0|           2014-06-09|          2023-07-31|                         4.85|                            4.8|                              4.93|                           5.0|                                4.98|                           4.95|                        4.88|            null|                        t|                                      2|                                                   0|                                                    2|                                                   0|                      0.35|                  42|           90046|      90046|                 50|         null|                         0|\n",
            "|       2732|https://www.airbn...|    20231203160142|           2023-12-04|    city scrape|Rental unit in Sa...|                null|          This is the best ...|https://a0.muscac...|            3041|https://www.airbn...|    Yoga Priestess|         2008-09-17|      Santa Monica, CA|I have been teach...|             within an hour|                       100%|                          42%|                         f|       https://a0.muscac...|     https://a0.muscac...|               Santa Monica|                         2.0|                               2.0|         ['email', 'phone']|                            t|                              t|  Santa Monica, Cal...|                   Santa Monica|                         Other Cities|          34.0044|        -118.48095|  Private room in r...|      Private room|                    1|              null|         1 private bath|             null|          1.0|[\"Private patio o...|       $179.00|                      7|                     27|                              7|                              7|                             27|                             27|                            7.0|                           27.0|                     null|                        t|                      25|                      55|                      85|                      360|                    2023-12-04|                        24|                             0|                              0|           2011-06-06|          2022-08-21|                         4.41|                           4.26|                              4.58|                          4.39|                                4.48|                           4.91|                        4.22|          228269|                        f|                                      2|                                                   1|                                                    1|                                                   0|                      0.16|                 110|           90405|      90405|                  2|         null|                         0|\n",
            "|       2864|https://www.airbn...|    20231203160142|           2023-12-04|previous scrape|Rental unit in Be...|                null|          What makes the ne...|https://a0.muscac...|            3207|https://www.airbn...|         Bernadine|         2008-09-25|        Bellflower, CA|Fair, open, hones...|                       null|                       null|                         null|                         f|       https://a0.muscac...|     https://a0.muscac...|                 Bellflower|                         1.0|                               1.0|         ['email', 'phone']|                            t|                              t|  Bellflower, Calif...|                     Bellflower|                         Other Cities|          33.8749|        -118.11515|    Entire rental unit|   Entire home/apt|                    2|              null|                 1 bath|             null|          1.0|[\"TV\", \"Iron\", \"E...|        $50.00|                     30|                    730|                             30|                             30|                           1125|                           1125|                           30.0|                         1125.0|                     null|                        f|                       0|                       0|                       0|                        0|                    2023-12-04|                         0|                             0|                              0|                 null|                null|                         null|                           null|                              null|                          null|                                null|                           null|                        null|            null|                        f|                                      1|                                                   1|                                                    0|                                                   0|                      null|                 134|           90706|       null|                  0|         null|                         0|\n",
            "|      63416|https://www.airbn...|    20231203160142|           2023-12-05|    city scrape|Home in Hollywood...|                null|                          null|https://a0.muscac...|          309512|https://www.airbn...|          Vincenzo|         2010-12-04|       Los Angeles, CA|Check out my list...|             within an hour|                       100%|                          96%|                         t|       https://a0.muscac...|     https://a0.muscac...|            Hollywood Hills|                         3.0|                               4.0|         ['email', 'phone']|                            t|                              t|                  null|                Hollywood Hills|                  City of Los Angeles|         34.11344|        -118.32399|  Private room in home|      Private room|                    3|              null|         1 private bath|             null|          2.0|[\"Shampoo\", \"Kitc...|       $220.00|                      2|                    365|                              2|                              2|                            365|                            365|                            2.0|                          365.0|                     null|                        t|                       0|                       0|                       0|                        0|                    2023-12-05|                       161|                            23|                              1|           2011-01-02|          2023-11-18|                         4.99|                           4.92|                              4.92|                          4.97|                                4.97|                           4.97|                         4.9|    HSR21-000113|                        f|                                      3|                                                   1|                                                    2|                                                   0|                      1.02|                  57|           90068|      90068|                 38|         null|                         0|\n",
            "+-----------+--------------------+------------------+---------------------+---------------+--------------------+--------------------+------------------------------+--------------------+----------------+--------------------+------------------+-------------------+----------------------+--------------------+---------------------------+---------------------------+-----------------------------+--------------------------+---------------------------+-------------------------+---------------------------+----------------------------+----------------------------------+---------------------------+-----------------------------+-------------------------------+----------------------+-------------------------------+-------------------------------------+-----------------+------------------+----------------------+------------------+---------------------+------------------+-----------------------+-----------------+-------------+--------------------+--------------+-----------------------+-----------------------+-------------------------------+-------------------------------+-------------------------------+-------------------------------+-------------------------------+-------------------------------+-------------------------+-------------------------+------------------------+------------------------+------------------------+-------------------------+------------------------------+--------------------------+------------------------------+-------------------------------+---------------------+--------------------+-----------------------------+-------------------------------+----------------------------------+------------------------------+------------------------------------+-------------------------------+----------------------------+----------------+-------------------------+---------------------------------------+----------------------------------------------------+-----------------------------------------------------+----------------------------------------------------+--------------------------+--------------------+----------------+-----------+-------------------+-------------+--------------------------+\n",
            "only showing top 5 rows\n",
            "\n"
          ]
        }
      ],
      "source": [
        "# Merging train to list_bus\n",
        "list_bus_train_df = list_bus_df.join(metro_merge_df,\n",
        "    listings_merge_df.listings_ZIPCODE == metro_merge_df.metro_ZIPCODE,\n",
        "    how='left')\n",
        "list_bus_train_df = list_bus_train_df.fillna(0,\n",
        "    subset=['metro_train_stations_count'])\n",
        "list_bus_train_df.show(5)"
      ]
    },
    {
      "cell_type": "code",
      "execution_count": 42,
      "metadata": {
        "id": "P9KZoD4MifDj",
        "colab": {
          "base_uri": "https://localhost:8080/"
        },
        "outputId": "fa893969-cb69-4d42-f30e-d5910f4f842b"
      },
      "outputs": [
        {
          "output_type": "stream",
          "name": "stdout",
          "text": [
            "+-----------+--------------------+------------------+---------------------+---------------+--------------------+--------------------+------------------------------+--------------------+----------------+--------------------+------------------+-------------------+----------------------+--------------------+---------------------------+---------------------------+-----------------------------+--------------------------+---------------------------+-------------------------+---------------------------+----------------------------+----------------------------------+---------------------------+-----------------------------+-------------------------------+----------------------+-------------------------------+-------------------------------------+-----------------+------------------+----------------------+------------------+---------------------+------------------+-----------------------+-----------------+-------------+--------------------+--------------+-----------------------+-----------------------+-------------------------------+-------------------------------+-------------------------------+-------------------------------+-------------------------------+-------------------------------+-------------------------+-------------------------+------------------------+------------------------+------------------------+-------------------------+------------------------------+--------------------------+------------------------------+-------------------------------+---------------------+--------------------+-----------------------------+-------------------------------+----------------------------------+------------------------------+------------------------------------+-------------------------------+----------------------------+----------------+-------------------------+---------------------------------------+----------------------------------------------------+-----------------------------------------------------+----------------------------------------------------+--------------------------+--------------------+----------------+-----------+-------------------+-------------+--------------------------+-------------+-------------------------+--------------------------+------------------+----------------------+-------------------------+-----------------------+-----------------------+------------------------------+--------------------------+------------------+---------------------------+------------------------------+-------------------+------------------------+----------------------+---------------+----------------------+\n",
            "|listings_id|listings_listing_url|listings_scrape_id|listings_last_scraped|listings_source|       listings_name|listings_description|listings_neighborhood_overview|listings_picture_url|listings_host_id|   listings_host_url|listings_host_name|listings_host_since|listings_host_location| listings_host_about|listings_host_response_time|listings_host_response_rate|listings_host_acceptance_rate|listings_host_is_superhost|listings_host_thumbnail_url|listings_host_picture_url|listings_host_neighbourhood|listings_host_listings_count|listings_host_total_listings_count|listings_host_verifications|listings_host_has_profile_pic|listings_host_identity_verified|listings_neighbourhood|listings_neighbourhood_cleansed|listings_neighbourhood_group_cleansed|listings_latitude|listings_longitude|listings_property_type|listings_room_type|listings_accommodates|listings_bathrooms|listings_bathrooms_text|listings_bedrooms|listings_beds|  listings_amenities|listings_price|listings_minimum_nights|listings_maximum_nights|listings_minimum_minimum_nights|listings_maximum_minimum_nights|listings_minimum_maximum_nights|listings_maximum_maximum_nights|listings_minimum_nights_avg_ntm|listings_maximum_nights_avg_ntm|listings_calendar_updated|listings_has_availability|listings_availability_30|listings_availability_60|listings_availability_90|listings_availability_365|listings_calendar_last_scraped|listings_number_of_reviews|listings_number_of_reviews_ltm|listings_number_of_reviews_l30d|listings_first_review|listings_last_review|listings_review_scores_rating|listings_review_scores_accuracy|listings_review_scores_cleanliness|listings_review_scores_checkin|listings_review_scores_communication|listings_review_scores_location|listings_review_scores_value|listings_license|listings_instant_bookable|listings_calculated_host_listings_count|listings_calculated_host_listings_count_entire_homes|listings_calculated_host_listings_count_private_rooms|listings_calculated_host_listings_count_shared_rooms|listings_reviews_per_month|listings_index_right|listings_ZIPCODE|bus_ZIPCODE|bus_bus_stops_count|metro_ZIPCODE|metro_train_stations_count|crime_ZIPCODE|crime_Assault and Battery|crime_Child-Related Crimes|crime_Cyber Crimes|crime_Driving Offenses|crime_Drug-Related Crimes|crime_Fraud and Forgery|crime_Human Trafficking|crime_Kidnapping and Abduction|crime_Miscellaneous Crimes|crime_Other Crimes|crime_Robbery and Extortion|crime_Serious Crime - Homicide|crime_Sexual Crimes|crime_Theft and Burglary|crime_Traffic Offenses|crime_Vandalism|crime_Weapons Offenses|\n",
            "+-----------+--------------------+------------------+---------------------+---------------+--------------------+--------------------+------------------------------+--------------------+----------------+--------------------+------------------+-------------------+----------------------+--------------------+---------------------------+---------------------------+-----------------------------+--------------------------+---------------------------+-------------------------+---------------------------+----------------------------+----------------------------------+---------------------------+-----------------------------+-------------------------------+----------------------+-------------------------------+-------------------------------------+-----------------+------------------+----------------------+------------------+---------------------+------------------+-----------------------+-----------------+-------------+--------------------+--------------+-----------------------+-----------------------+-------------------------------+-------------------------------+-------------------------------+-------------------------------+-------------------------------+-------------------------------+-------------------------+-------------------------+------------------------+------------------------+------------------------+-------------------------+------------------------------+--------------------------+------------------------------+-------------------------------+---------------------+--------------------+-----------------------------+-------------------------------+----------------------------------+------------------------------+------------------------------------+-------------------------------+----------------------------+----------------+-------------------------+---------------------------------------+----------------------------------------------------+-----------------------------------------------------+----------------------------------------------------+--------------------------+--------------------+----------------+-----------+-------------------+-------------+--------------------------+-------------+-------------------------+--------------------------+------------------+----------------------+-------------------------+-----------------------+-----------------------+------------------------------+--------------------------+------------------+---------------------------+------------------------------+-------------------+------------------------+----------------------+---------------+----------------------+\n",
            "|       2864|https://www.airbn...|    20231203160142|           2023-12-04|previous scrape|Rental unit in Be...|                null|          What makes the ne...|https://a0.muscac...|            3207|https://www.airbn...|         Bernadine|         2008-09-25|        Bellflower, CA|Fair, open, hones...|                       null|                       null|                         null|                         f|       https://a0.muscac...|     https://a0.muscac...|                 Bellflower|                         1.0|                               1.0|         ['email', 'phone']|                            t|                              t|  Bellflower, Calif...|                     Bellflower|                         Other Cities|          33.8749|        -118.11515|    Entire rental unit|   Entire home/apt|                    2|              null|                 1 bath|             null|          1.0|[\"TV\", \"Iron\", \"E...|        $50.00|                     30|                    730|                             30|                             30|                           1125|                           1125|                           30.0|                         1125.0|                     null|                        f|                       0|                       0|                       0|                        0|                    2023-12-04|                         0|                             0|                              0|                 null|                null|                         null|                           null|                              null|                          null|                                null|                           null|                        null|            null|                        f|                                      1|                                                   1|                                                    0|                                                   0|                      null|                 134|           90706|       null|                  0|         null|                         0|         null|                        0|                         0|                 0|                     0|                        0|                      0|                      0|                             0|                         0|                 0|                          0|                             0|                  0|                       0|                     0|              0|                     0|\n",
            "|        109|https://www.airbn...|    20231203160142|           2023-12-05|    city scrape|Condo in Culver C...|                null|                          null|https://a0.muscac...|             521|https://www.airbn...|             Paolo|         2008-06-27|     San Francisco, CA|Paolo Privitera, ...|                       null|                       null|                          50%|                         f|       https://a0.muscac...|     https://a0.muscac...|                Culver City|                         1.0|                               3.0|         ['email', 'phone']|                            t|                              t|                  null|                    Culver City|                         Other Cities|         33.98301|        -118.38607|          Entire condo|   Entire home/apt|                    6|              null|                2 baths|             null|          2.0|[\"Private patio o...|       $129.00|                     30|                    730|                             30|                             30|                            730|                            730|                           30.0|                          730.0|                     null|                        t|                       0|                       0|                       0|                      180|                    2023-12-05|                         2|                             0|                              0|           2011-08-15|          2016-05-15|                          4.0|                            5.0|                               5.0|                           3.0|                                 4.0|                            5.0|                         4.0|            null|                        f|                                      1|                                                   1|                                                    0|                                                   0|                      0.01|                  72|           90230|      90230|                 10|         null|                         0|        90230|                       31|                         0|                 0|                     0|                        0|                      0|                      0|                             2|                        54|                65|                          2|                             2|                  0|                      42|                     0|             25|                     5|\n",
            "|       2708|https://www.airbn...|    20231203160142|           2023-12-04|    city scrape|Rental unit in Lo...|                null|          Walk and run to R...|https://a0.muscac...|            3008|https://www.airbn...|             Chas.|         2008-09-16|       Los Angeles, CA|Professional and ...|                       null|                       null|                         100%|                         t|       https://a0.muscac...|     https://a0.muscac...|                  Hollywood|                         2.0|                               3.0|         ['email', 'phone']|                            t|                              t|  Los Angeles, Cali...|                      Hollywood|                  City of Los Angeles|         34.09625|        -118.34605|  Private room in r...|      Private room|                    1|              null|          1 shared bath|             null|          1.0|[\"Wen, V05, Prell...|        $94.00|                     30|                    550|                             30|                             30|                           1125|                           1125|                           30.0|                         1125.0|                     null|                        t|                       0|                       0|                       0|                      271|                    2023-12-04|                        40|                             2|                              0|           2014-06-09|          2023-07-31|                         4.85|                            4.8|                              4.93|                           5.0|                                4.98|                           4.95|                        4.88|            null|                        t|                                      2|                                                   0|                                                    2|                                                   0|                      0.35|                  42|           90046|      90046|                 50|         null|                         0|        90046|                       95|                         0|                 0|                     0|                        0|                      4|                      0|                             4|                       148|               505|                         27|                             0|                  3|                     162|                     2|             81|                    10|\n",
            "|       5728|https://www.airbn...|    20231203160142|           2023-12-04|    city scrape|Tiny home in Los ...|                null|          Our neighborhood ...|https://a0.muscac...|            9171|https://www.airbn...|             Sanni|         2009-03-05|       Los Angeles, CA|Located in Los An...|         within a few hours|                       100%|                          79%|                         f|       https://a0.muscac...|     https://a0.muscac...|                    Del Rey|                        13.0|                              16.0|       ['email', 'phone'...|                            t|                              t|  Los Angeles, Cali...|                        Del Rey|                  City of Los Angeles|          33.9875|          -118.432|  Private room in t...|      Private room|                    1|              null|          1 shared bath|             null|          1.0|[\"TV\", \"Shampoo\",...|        $55.00|                     30|                     65|                             30|                             30|                             65|                             65|                           30.0|                           65.0|                     null|                        t|                       0|                       1|                      31|                      120|                    2023-12-04|                       316|                             2|                              1|           2009-07-17|          2023-11-04|                         4.78|                           4.88|                              4.83|                          4.91|                                4.91|                           4.79|                        4.69|    HSR19-002149|                        f|                                      3|                                                   0|                                                    3|                                                   0|                       1.8|                  55|           90066|      90066|                 98|         null|                         0|        90066|                       57|                         2|                 0|                     1|                        0|                      2|                      0|                             3|                       215|               364|                         17|                             0|                  1|                     214|                     0|             84|                     4|\n",
            "|       2732|https://www.airbn...|    20231203160142|           2023-12-04|    city scrape|Rental unit in Sa...|                null|          This is the best ...|https://a0.muscac...|            3041|https://www.airbn...|    Yoga Priestess|         2008-09-17|      Santa Monica, CA|I have been teach...|             within an hour|                       100%|                          42%|                         f|       https://a0.muscac...|     https://a0.muscac...|               Santa Monica|                         2.0|                               2.0|         ['email', 'phone']|                            t|                              t|  Santa Monica, Cal...|                   Santa Monica|                         Other Cities|          34.0044|        -118.48095|  Private room in r...|      Private room|                    1|              null|         1 private bath|             null|          1.0|[\"Private patio o...|       $179.00|                      7|                     27|                              7|                              7|                             27|                             27|                            7.0|                           27.0|                     null|                        t|                      25|                      55|                      85|                      360|                    2023-12-04|                        24|                             0|                              0|           2011-06-06|          2022-08-21|                         4.41|                           4.26|                              4.58|                          4.39|                                4.48|                           4.91|                        4.22|          228269|                        f|                                      2|                                                   1|                                                    1|                                                   0|                      0.16|                 110|           90405|      90405|                  2|         null|                         0|        90405|                        0|                         0|                 0|                     0|                        0|                      0|                      0|                             1|                         7|                11|                          0|                             0|                  0|                       5|                     0|              3|                     0|\n",
            "+-----------+--------------------+------------------+---------------------+---------------+--------------------+--------------------+------------------------------+--------------------+----------------+--------------------+------------------+-------------------+----------------------+--------------------+---------------------------+---------------------------+-----------------------------+--------------------------+---------------------------+-------------------------+---------------------------+----------------------------+----------------------------------+---------------------------+-----------------------------+-------------------------------+----------------------+-------------------------------+-------------------------------------+-----------------+------------------+----------------------+------------------+---------------------+------------------+-----------------------+-----------------+-------------+--------------------+--------------+-----------------------+-----------------------+-------------------------------+-------------------------------+-------------------------------+-------------------------------+-------------------------------+-------------------------------+-------------------------+-------------------------+------------------------+------------------------+------------------------+-------------------------+------------------------------+--------------------------+------------------------------+-------------------------------+---------------------+--------------------+-----------------------------+-------------------------------+----------------------------------+------------------------------+------------------------------------+-------------------------------+----------------------------+----------------+-------------------------+---------------------------------------+----------------------------------------------------+-----------------------------------------------------+----------------------------------------------------+--------------------------+--------------------+----------------+-----------+-------------------+-------------+--------------------------+-------------+-------------------------+--------------------------+------------------+----------------------+-------------------------+-----------------------+-----------------------+------------------------------+--------------------------+------------------+---------------------------+------------------------------+-------------------+------------------------+----------------------+---------------+----------------------+\n",
            "only showing top 5 rows\n",
            "\n"
          ]
        }
      ],
      "source": [
        "# Merging crime to list_bus_train\n",
        "crime_columns = [col for col in crime_merge_df.columns\\\n",
        "                 if col != 'crime_ZIPCODE']\n",
        "final_df = list_bus_train_df.join(crime_merge_df,\n",
        "    listings_merge_df.listings_ZIPCODE == crime_merge_df.crime_ZIPCODE,\n",
        "    how='left')\n",
        "final_df = final_df.fillna(0,\n",
        "    subset=crime_columns)\n",
        "final_df.show(5)"
      ]
    },
    {
      "cell_type": "markdown",
      "source": [
        "<h3><b>We have merged out listings data from Airbnb Los Angeles listings with the Crime, Bus and Metro stations data based on the zipcode.</b></h3>"
      ],
      "metadata": {
        "id": "jrB7O4vyGyGx"
      }
    },
    {
      "cell_type": "code",
      "execution_count": 43,
      "metadata": {
        "id": "NgKd_lyDXvE5",
        "colab": {
          "base_uri": "https://localhost:8080/"
        },
        "outputId": "3a0d610d-9683-4ff6-977f-3eb576a4e535"
      },
      "outputs": [
        {
          "output_type": "execute_result",
          "data": {
            "text/plain": [
              "['listings_id',\n",
              " 'listings_listing_url',\n",
              " 'listings_scrape_id',\n",
              " 'listings_last_scraped',\n",
              " 'listings_source',\n",
              " 'listings_name',\n",
              " 'listings_description',\n",
              " 'listings_neighborhood_overview',\n",
              " 'listings_picture_url',\n",
              " 'listings_host_id',\n",
              " 'listings_host_url',\n",
              " 'listings_host_name',\n",
              " 'listings_host_since',\n",
              " 'listings_host_location',\n",
              " 'listings_host_about',\n",
              " 'listings_host_response_time',\n",
              " 'listings_host_response_rate',\n",
              " 'listings_host_acceptance_rate',\n",
              " 'listings_host_is_superhost',\n",
              " 'listings_host_thumbnail_url',\n",
              " 'listings_host_picture_url',\n",
              " 'listings_host_neighbourhood',\n",
              " 'listings_host_listings_count',\n",
              " 'listings_host_total_listings_count',\n",
              " 'listings_host_verifications',\n",
              " 'listings_host_has_profile_pic',\n",
              " 'listings_host_identity_verified',\n",
              " 'listings_neighbourhood',\n",
              " 'listings_neighbourhood_cleansed',\n",
              " 'listings_neighbourhood_group_cleansed',\n",
              " 'listings_latitude',\n",
              " 'listings_longitude',\n",
              " 'listings_property_type',\n",
              " 'listings_room_type',\n",
              " 'listings_accommodates',\n",
              " 'listings_bathrooms',\n",
              " 'listings_bathrooms_text',\n",
              " 'listings_bedrooms',\n",
              " 'listings_beds',\n",
              " 'listings_amenities',\n",
              " 'listings_price',\n",
              " 'listings_minimum_nights',\n",
              " 'listings_maximum_nights',\n",
              " 'listings_minimum_minimum_nights',\n",
              " 'listings_maximum_minimum_nights',\n",
              " 'listings_minimum_maximum_nights',\n",
              " 'listings_maximum_maximum_nights',\n",
              " 'listings_minimum_nights_avg_ntm',\n",
              " 'listings_maximum_nights_avg_ntm',\n",
              " 'listings_calendar_updated',\n",
              " 'listings_has_availability',\n",
              " 'listings_availability_30',\n",
              " 'listings_availability_60',\n",
              " 'listings_availability_90',\n",
              " 'listings_availability_365',\n",
              " 'listings_calendar_last_scraped',\n",
              " 'listings_number_of_reviews',\n",
              " 'listings_number_of_reviews_ltm',\n",
              " 'listings_number_of_reviews_l30d',\n",
              " 'listings_first_review',\n",
              " 'listings_last_review',\n",
              " 'listings_review_scores_rating',\n",
              " 'listings_review_scores_accuracy',\n",
              " 'listings_review_scores_cleanliness',\n",
              " 'listings_review_scores_checkin',\n",
              " 'listings_review_scores_communication',\n",
              " 'listings_review_scores_location',\n",
              " 'listings_review_scores_value',\n",
              " 'listings_license',\n",
              " 'listings_instant_bookable',\n",
              " 'listings_calculated_host_listings_count',\n",
              " 'listings_calculated_host_listings_count_entire_homes',\n",
              " 'listings_calculated_host_listings_count_private_rooms',\n",
              " 'listings_calculated_host_listings_count_shared_rooms',\n",
              " 'listings_reviews_per_month',\n",
              " 'listings_index_right',\n",
              " 'listings_ZIPCODE',\n",
              " 'bus_ZIPCODE',\n",
              " 'bus_bus_stops_count',\n",
              " 'metro_ZIPCODE',\n",
              " 'metro_train_stations_count',\n",
              " 'crime_ZIPCODE',\n",
              " 'crime_Assault and Battery',\n",
              " 'crime_Child-Related Crimes',\n",
              " 'crime_Cyber Crimes',\n",
              " 'crime_Driving Offenses',\n",
              " 'crime_Drug-Related Crimes',\n",
              " 'crime_Fraud and Forgery',\n",
              " 'crime_Human Trafficking',\n",
              " 'crime_Kidnapping and Abduction',\n",
              " 'crime_Miscellaneous Crimes',\n",
              " 'crime_Other Crimes',\n",
              " 'crime_Robbery and Extortion',\n",
              " 'crime_Serious Crime - Homicide',\n",
              " 'crime_Sexual Crimes',\n",
              " 'crime_Theft and Burglary',\n",
              " 'crime_Traffic Offenses',\n",
              " 'crime_Vandalism',\n",
              " 'crime_Weapons Offenses']"
            ]
          },
          "metadata": {},
          "execution_count": 43
        }
      ],
      "source": [
        "final_df.columns"
      ]
    },
    {
      "cell_type": "code",
      "execution_count": 44,
      "metadata": {
        "id": "lKL50-GjqsaS"
      },
      "outputs": [],
      "source": [
        "from pyspark.sql import SparkSession\n",
        "from pyspark.ml.feature import StringIndexer, OneHotEncoder, VectorAssembler\n",
        "from pyspark.ml.regression import LinearRegression\n",
        "from pyspark.ml.evaluation import RegressionEvaluator\n",
        "from pyspark.ml.pipeline import Pipeline\n",
        "from pyspark.sql.functions import col, regexp_replace\n"
      ]
    },
    {
      "cell_type": "code",
      "execution_count": 45,
      "metadata": {
        "id": "G99cjwOzqsxW"
      },
      "outputs": [],
      "source": [
        "final_df = final_df.withColumn(\n",
        "    \"listings_price\",\n",
        "    regexp_replace(col(\"listings_price\"), \"[$,]\", \"\").cast(\"float\")\n",
        ")\n"
      ]
    },
    {
      "cell_type": "code",
      "execution_count": 46,
      "metadata": {
        "id": "fU2slc0sqxpf",
        "colab": {
          "base_uri": "https://localhost:8080/"
        },
        "outputId": "fb10b357-9cac-4526-a8c6-7a9887b62053"
      },
      "outputs": [
        {
          "output_type": "stream",
          "name": "stdout",
          "text": [
            "+-----------+--------------------+------------------+---------------------+---------------+-------------+--------------------+------------------------------+--------------------+----------------+-----------------+------------------+-------------------+----------------------+-------------------+---------------------------+---------------------------+-----------------------------+--------------------------+---------------------------+-------------------------+---------------------------+----------------------------+----------------------------------+---------------------------+-----------------------------+-------------------------------+----------------------+-------------------------------+-------------------------------------+-----------------+------------------+----------------------+------------------+---------------------+------------------+-----------------------+-----------------+-------------+------------------+--------------+-----------------------+-----------------------+-------------------------------+-------------------------------+-------------------------------+-------------------------------+-------------------------------+-------------------------------+-------------------------+-------------------------+------------------------+------------------------+------------------------+-------------------------+------------------------------+--------------------------+------------------------------+-------------------------------+---------------------+--------------------+-----------------------------+-------------------------------+----------------------------------+------------------------------+------------------------------------+-------------------------------+----------------------------+----------------+-------------------------+---------------------------------------+----------------------------------------------------+-----------------------------------------------------+----------------------------------------------------+--------------------------+--------------------+----------------+-----------+-------------------+-------------+--------------------------+-------------+-------------------------+--------------------------+------------------+----------------------+-------------------------+-----------------------+-----------------------+------------------------------+--------------------------+------------------+---------------------------+------------------------------+-------------------+------------------------+----------------------+---------------+----------------------+\n",
            "|listings_id|listings_listing_url|listings_scrape_id|listings_last_scraped|listings_source|listings_name|listings_description|listings_neighborhood_overview|listings_picture_url|listings_host_id|listings_host_url|listings_host_name|listings_host_since|listings_host_location|listings_host_about|listings_host_response_time|listings_host_response_rate|listings_host_acceptance_rate|listings_host_is_superhost|listings_host_thumbnail_url|listings_host_picture_url|listings_host_neighbourhood|listings_host_listings_count|listings_host_total_listings_count|listings_host_verifications|listings_host_has_profile_pic|listings_host_identity_verified|listings_neighbourhood|listings_neighbourhood_cleansed|listings_neighbourhood_group_cleansed|listings_latitude|listings_longitude|listings_property_type|listings_room_type|listings_accommodates|listings_bathrooms|listings_bathrooms_text|listings_bedrooms|listings_beds|listings_amenities|listings_price|listings_minimum_nights|listings_maximum_nights|listings_minimum_minimum_nights|listings_maximum_minimum_nights|listings_minimum_maximum_nights|listings_maximum_maximum_nights|listings_minimum_nights_avg_ntm|listings_maximum_nights_avg_ntm|listings_calendar_updated|listings_has_availability|listings_availability_30|listings_availability_60|listings_availability_90|listings_availability_365|listings_calendar_last_scraped|listings_number_of_reviews|listings_number_of_reviews_ltm|listings_number_of_reviews_l30d|listings_first_review|listings_last_review|listings_review_scores_rating|listings_review_scores_accuracy|listings_review_scores_cleanliness|listings_review_scores_checkin|listings_review_scores_communication|listings_review_scores_location|listings_review_scores_value|listings_license|listings_instant_bookable|listings_calculated_host_listings_count|listings_calculated_host_listings_count_entire_homes|listings_calculated_host_listings_count_private_rooms|listings_calculated_host_listings_count_shared_rooms|listings_reviews_per_month|listings_index_right|listings_ZIPCODE|bus_ZIPCODE|bus_bus_stops_count|metro_ZIPCODE|metro_train_stations_count|crime_ZIPCODE|crime_Assault and Battery|crime_Child-Related Crimes|crime_Cyber Crimes|crime_Driving Offenses|crime_Drug-Related Crimes|crime_Fraud and Forgery|crime_Human Trafficking|crime_Kidnapping and Abduction|crime_Miscellaneous Crimes|crime_Other Crimes|crime_Robbery and Extortion|crime_Serious Crime - Homicide|crime_Sexual Crimes|crime_Theft and Burglary|crime_Traffic Offenses|crime_Vandalism|crime_Weapons Offenses|\n",
            "+-----------+--------------------+------------------+---------------------+---------------+-------------+--------------------+------------------------------+--------------------+----------------+-----------------+------------------+-------------------+----------------------+-------------------+---------------------------+---------------------------+-----------------------------+--------------------------+---------------------------+-------------------------+---------------------------+----------------------------+----------------------------------+---------------------------+-----------------------------+-------------------------------+----------------------+-------------------------------+-------------------------------------+-----------------+------------------+----------------------+------------------+---------------------+------------------+-----------------------+-----------------+-------------+------------------+--------------+-----------------------+-----------------------+-------------------------------+-------------------------------+-------------------------------+-------------------------------+-------------------------------+-------------------------------+-------------------------+-------------------------+------------------------+------------------------+------------------------+-------------------------+------------------------------+--------------------------+------------------------------+-------------------------------+---------------------+--------------------+-----------------------------+-------------------------------+----------------------------------+------------------------------+------------------------------------+-------------------------------+----------------------------+----------------+-------------------------+---------------------------------------+----------------------------------------------------+-----------------------------------------------------+----------------------------------------------------+--------------------------+--------------------+----------------+-----------+-------------------+-------------+--------------------------+-------------+-------------------------+--------------------------+------------------+----------------------+-------------------------+-----------------------+-----------------------+------------------------------+--------------------------+------------------+---------------------------+------------------------------+-------------------+------------------------+----------------------+---------------+----------------------+\n",
            "|0          |0                   |0                 |0                    |0              |0            |45555               |20376                         |0                   |0               |0                |16                |16                 |11230                 |20925              |10719                      |10719                      |9631                         |249                       |16                         |16                       |10044                      |16                          |16                                |16                         |16                           |16                             |20375                 |0                              |0                                    |0                |0                 |0                     |0                 |0                    |45555             |35                     |45452            |477          |0                 |0             |0                      |0                      |0                              |0                              |0                              |0                              |0                              |0                              |45555                    |0                        |0                       |0                       |0                       |0                        |0                             |0                         |0                             |0                              |12637                |12637               |12618                        |12630                          |12631                             |12638                         |12631                               |12640                          |12644                       |33601           |0                        |0                                      |0                                                   |0                                                    |0                                                   |12637                     |0                   |0               |17559      |0                  |31872        |0                         |14274        |0                        |0                         |0                 |0                     |0                        |0                      |0                      |0                             |0                         |0                 |0                          |0                             |0                  |0                       |0                     |0              |0                     |\n",
            "+-----------+--------------------+------------------+---------------------+---------------+-------------+--------------------+------------------------------+--------------------+----------------+-----------------+------------------+-------------------+----------------------+-------------------+---------------------------+---------------------------+-----------------------------+--------------------------+---------------------------+-------------------------+---------------------------+----------------------------+----------------------------------+---------------------------+-----------------------------+-------------------------------+----------------------+-------------------------------+-------------------------------------+-----------------+------------------+----------------------+------------------+---------------------+------------------+-----------------------+-----------------+-------------+------------------+--------------+-----------------------+-----------------------+-------------------------------+-------------------------------+-------------------------------+-------------------------------+-------------------------------+-------------------------------+-------------------------+-------------------------+------------------------+------------------------+------------------------+-------------------------+------------------------------+--------------------------+------------------------------+-------------------------------+---------------------+--------------------+-----------------------------+-------------------------------+----------------------------------+------------------------------+------------------------------------+-------------------------------+----------------------------+----------------+-------------------------+---------------------------------------+----------------------------------------------------+-----------------------------------------------------+----------------------------------------------------+--------------------------+--------------------+----------------+-----------+-------------------+-------------+--------------------------+-------------+-------------------------+--------------------------+------------------+----------------------+-------------------------+-----------------------+-----------------------+------------------------------+--------------------------+------------------+---------------------------+------------------------------+-------------------+------------------------+----------------------+---------------+----------------------+\n",
            "\n"
          ]
        }
      ],
      "source": [
        "from pyspark.sql.functions import col, sum\n",
        "\n",
        "# Count null values in each column\n",
        "null_counts = final_df.select([\n",
        "    sum(col(c).isNull().cast(\"int\")).alias(c) for c in final_df.columns\n",
        "])\n",
        "\n",
        "null_counts.show(truncate=False)"
      ]
    },
    {
      "cell_type": "code",
      "execution_count": 47,
      "metadata": {
        "id": "NiNYr11Hq7Cm"
      },
      "outputs": [],
      "source": [
        "threshold = 0.8 * 45555  # Define threshold for dropping columns\n",
        "columns_to_drop = [\n",
        "    col for col, count in zip(null_counts.columns, null_counts.collect()[0]) if count > threshold\n",
        "]\n",
        "final_df = final_df.drop(*columns_to_drop)"
      ]
    },
    {
      "cell_type": "code",
      "execution_count": 48,
      "metadata": {
        "id": "JlebVRmirQdr",
        "colab": {
          "base_uri": "https://localhost:8080/"
        },
        "outputId": "ea13745e-156b-452e-8359-2c613083b360"
      },
      "outputs": [
        {
          "output_type": "stream",
          "name": "stdout",
          "text": [
            "root\n",
            " |-- listings_id: long (nullable = true)\n",
            " |-- listings_listing_url: string (nullable = true)\n",
            " |-- listings_scrape_id: long (nullable = true)\n",
            " |-- listings_last_scraped: string (nullable = true)\n",
            " |-- listings_source: string (nullable = true)\n",
            " |-- listings_name: string (nullable = true)\n",
            " |-- listings_neighborhood_overview: string (nullable = true)\n",
            " |-- listings_picture_url: string (nullable = true)\n",
            " |-- listings_host_id: long (nullable = true)\n",
            " |-- listings_host_url: string (nullable = true)\n",
            " |-- listings_host_name: string (nullable = true)\n",
            " |-- listings_host_since: string (nullable = true)\n",
            " |-- listings_host_location: string (nullable = true)\n",
            " |-- listings_host_about: string (nullable = true)\n",
            " |-- listings_host_response_time: string (nullable = true)\n",
            " |-- listings_host_response_rate: string (nullable = true)\n",
            " |-- listings_host_acceptance_rate: string (nullable = true)\n",
            " |-- listings_host_is_superhost: string (nullable = true)\n",
            " |-- listings_host_thumbnail_url: string (nullable = true)\n",
            " |-- listings_host_picture_url: string (nullable = true)\n",
            " |-- listings_host_neighbourhood: string (nullable = true)\n",
            " |-- listings_host_listings_count: double (nullable = true)\n",
            " |-- listings_host_total_listings_count: double (nullable = true)\n",
            " |-- listings_host_verifications: string (nullable = true)\n",
            " |-- listings_host_has_profile_pic: string (nullable = true)\n",
            " |-- listings_host_identity_verified: string (nullable = true)\n",
            " |-- listings_neighbourhood: string (nullable = true)\n",
            " |-- listings_neighbourhood_cleansed: string (nullable = true)\n",
            " |-- listings_neighbourhood_group_cleansed: string (nullable = true)\n",
            " |-- listings_latitude: double (nullable = true)\n",
            " |-- listings_longitude: double (nullable = true)\n",
            " |-- listings_property_type: string (nullable = true)\n",
            " |-- listings_room_type: string (nullable = true)\n",
            " |-- listings_accommodates: long (nullable = true)\n",
            " |-- listings_bathrooms_text: string (nullable = true)\n",
            " |-- listings_beds: double (nullable = true)\n",
            " |-- listings_amenities: string (nullable = true)\n",
            " |-- listings_price: float (nullable = true)\n",
            " |-- listings_minimum_nights: long (nullable = true)\n",
            " |-- listings_maximum_nights: long (nullable = true)\n",
            " |-- listings_minimum_minimum_nights: long (nullable = true)\n",
            " |-- listings_maximum_minimum_nights: long (nullable = true)\n",
            " |-- listings_minimum_maximum_nights: long (nullable = true)\n",
            " |-- listings_maximum_maximum_nights: long (nullable = true)\n",
            " |-- listings_minimum_nights_avg_ntm: double (nullable = true)\n",
            " |-- listings_maximum_nights_avg_ntm: double (nullable = true)\n",
            " |-- listings_has_availability: string (nullable = true)\n",
            " |-- listings_availability_30: long (nullable = true)\n",
            " |-- listings_availability_60: long (nullable = true)\n",
            " |-- listings_availability_90: long (nullable = true)\n",
            " |-- listings_availability_365: long (nullable = true)\n",
            " |-- listings_calendar_last_scraped: string (nullable = true)\n",
            " |-- listings_number_of_reviews: long (nullable = true)\n",
            " |-- listings_number_of_reviews_ltm: long (nullable = true)\n",
            " |-- listings_number_of_reviews_l30d: long (nullable = true)\n",
            " |-- listings_first_review: string (nullable = true)\n",
            " |-- listings_last_review: string (nullable = true)\n",
            " |-- listings_review_scores_rating: double (nullable = true)\n",
            " |-- listings_review_scores_accuracy: double (nullable = true)\n",
            " |-- listings_review_scores_cleanliness: double (nullable = true)\n",
            " |-- listings_review_scores_checkin: double (nullable = true)\n",
            " |-- listings_review_scores_communication: double (nullable = true)\n",
            " |-- listings_review_scores_location: double (nullable = true)\n",
            " |-- listings_review_scores_value: double (nullable = true)\n",
            " |-- listings_license: string (nullable = true)\n",
            " |-- listings_instant_bookable: string (nullable = true)\n",
            " |-- listings_calculated_host_listings_count: long (nullable = true)\n",
            " |-- listings_calculated_host_listings_count_entire_homes: long (nullable = true)\n",
            " |-- listings_calculated_host_listings_count_private_rooms: long (nullable = true)\n",
            " |-- listings_calculated_host_listings_count_shared_rooms: long (nullable = true)\n",
            " |-- listings_reviews_per_month: double (nullable = true)\n",
            " |-- listings_index_right: long (nullable = true)\n",
            " |-- listings_ZIPCODE: string (nullable = true)\n",
            " |-- bus_ZIPCODE: string (nullable = true)\n",
            " |-- bus_bus_stops_count: long (nullable = true)\n",
            " |-- metro_ZIPCODE: string (nullable = true)\n",
            " |-- metro_train_stations_count: long (nullable = true)\n",
            " |-- crime_ZIPCODE: string (nullable = true)\n",
            " |-- crime_Assault and Battery: long (nullable = true)\n",
            " |-- crime_Child-Related Crimes: long (nullable = true)\n",
            " |-- crime_Cyber Crimes: long (nullable = true)\n",
            " |-- crime_Driving Offenses: long (nullable = true)\n",
            " |-- crime_Drug-Related Crimes: long (nullable = true)\n",
            " |-- crime_Fraud and Forgery: long (nullable = true)\n",
            " |-- crime_Human Trafficking: long (nullable = true)\n",
            " |-- crime_Kidnapping and Abduction: long (nullable = true)\n",
            " |-- crime_Miscellaneous Crimes: long (nullable = true)\n",
            " |-- crime_Other Crimes: long (nullable = true)\n",
            " |-- crime_Robbery and Extortion: long (nullable = true)\n",
            " |-- crime_Serious Crime - Homicide: long (nullable = true)\n",
            " |-- crime_Sexual Crimes: long (nullable = true)\n",
            " |-- crime_Theft and Burglary: long (nullable = true)\n",
            " |-- crime_Traffic Offenses: long (nullable = true)\n",
            " |-- crime_Vandalism: long (nullable = true)\n",
            " |-- crime_Weapons Offenses: long (nullable = true)\n",
            "\n"
          ]
        }
      ],
      "source": [
        "final_df.printSchema()"
      ]
    },
    {
      "cell_type": "code",
      "execution_count": 49,
      "metadata": {
        "id": "FWGMVYIvtCu2",
        "colab": {
          "base_uri": "https://localhost:8080/"
        },
        "outputId": "6ba78908-7469-4b19-9b5f-73702f641c03"
      },
      "outputs": [
        {
          "output_type": "stream",
          "name": "stdout",
          "text": [
            "+-----------+--------------------+------------------------------+----------------+-------------------+----------------------+--------------------+---------------------------+---------------------------+-----------------------------+--------------------------+-------------------------+---------------------------+----------------------------+----------------------------------+---------------------------+-----------------------------+-------------------------------+-------------------------------+-------------------------------------+----------------------+------------------+---------------------+-----------------------+-------------+--------------------+--------------+-----------------------+-----------------------+-------------------------------+-------------------------------+-------------------------------+-------------------------------+-------------------------------+-------------------------------+-------------------------+------------------------+------------------------+------------------------+-------------------------+------------------------------+--------------------------+------------------------------+-------------------------------+---------------------+--------------------+-----------------------------+-------------------------------+----------------------------------+------------------------------+------------------------------------+-------------------------------+----------------------------+----------------+-------------------------+---------------------------------------+----------------------------------------------------+-----------------------------------------------------+----------------------------------------------------+--------------------------+--------------------+----------------+-----------+-------------------+--------------------------+-------------------------+--------------------------+------------------+----------------------+-------------------------+-----------------------+-----------------------+------------------------------+--------------------------+------------------+---------------------------+------------------------------+-------------------+------------------------+----------------------+---------------+----------------------+\n",
            "|listings_id|       listings_name|listings_neighborhood_overview|listings_host_id|listings_host_since|listings_host_location| listings_host_about|listings_host_response_time|listings_host_response_rate|listings_host_acceptance_rate|listings_host_is_superhost|listings_host_picture_url|listings_host_neighbourhood|listings_host_listings_count|listings_host_total_listings_count|listings_host_verifications|listings_host_has_profile_pic|listings_host_identity_verified|listings_neighbourhood_cleansed|listings_neighbourhood_group_cleansed|listings_property_type|listings_room_type|listings_accommodates|listings_bathrooms_text|listings_beds|  listings_amenities|listings_price|listings_minimum_nights|listings_maximum_nights|listings_minimum_minimum_nights|listings_maximum_minimum_nights|listings_minimum_maximum_nights|listings_maximum_maximum_nights|listings_minimum_nights_avg_ntm|listings_maximum_nights_avg_ntm|listings_has_availability|listings_availability_30|listings_availability_60|listings_availability_90|listings_availability_365|listings_calendar_last_scraped|listings_number_of_reviews|listings_number_of_reviews_ltm|listings_number_of_reviews_l30d|listings_first_review|listings_last_review|listings_review_scores_rating|listings_review_scores_accuracy|listings_review_scores_cleanliness|listings_review_scores_checkin|listings_review_scores_communication|listings_review_scores_location|listings_review_scores_value|listings_license|listings_instant_bookable|listings_calculated_host_listings_count|listings_calculated_host_listings_count_entire_homes|listings_calculated_host_listings_count_private_rooms|listings_calculated_host_listings_count_shared_rooms|listings_reviews_per_month|listings_index_right|listings_ZIPCODE|bus_ZIPCODE|bus_bus_stops_count|metro_train_stations_count|crime_Assault and Battery|crime_Child-Related Crimes|crime_Cyber Crimes|crime_Driving Offenses|crime_Drug-Related Crimes|crime_Fraud and Forgery|crime_Human Trafficking|crime_Kidnapping and Abduction|crime_Miscellaneous Crimes|crime_Other Crimes|crime_Robbery and Extortion|crime_Serious Crime - Homicide|crime_Sexual Crimes|crime_Theft and Burglary|crime_Traffic Offenses|crime_Vandalism|crime_Weapons Offenses|\n",
            "+-----------+--------------------+------------------------------+----------------+-------------------+----------------------+--------------------+---------------------------+---------------------------+-----------------------------+--------------------------+-------------------------+---------------------------+----------------------------+----------------------------------+---------------------------+-----------------------------+-------------------------------+-------------------------------+-------------------------------------+----------------------+------------------+---------------------+-----------------------+-------------+--------------------+--------------+-----------------------+-----------------------+-------------------------------+-------------------------------+-------------------------------+-------------------------------+-------------------------------+-------------------------------+-------------------------+------------------------+------------------------+------------------------+-------------------------+------------------------------+--------------------------+------------------------------+-------------------------------+---------------------+--------------------+-----------------------------+-------------------------------+----------------------------------+------------------------------+------------------------------------+-------------------------------+----------------------------+----------------+-------------------------+---------------------------------------+----------------------------------------------------+-----------------------------------------------------+----------------------------------------------------+--------------------------+--------------------+----------------+-----------+-------------------+--------------------------+-------------------------+--------------------------+------------------+----------------------+-------------------------+-----------------------+-----------------------+------------------------------+--------------------------+------------------+---------------------------+------------------------------+-------------------+------------------------+----------------------+---------------+----------------------+\n",
            "|        109|Condo in Culver C...|                          null|             521|         2008-06-27|     San Francisco, CA|Paolo Privitera, ...|                       null|                       null|                          50%|                         f|     https://a0.muscac...|                Culver City|                         1.0|                               3.0|         ['email', 'phone']|                            t|                              t|                    Culver City|                         Other Cities|          Entire condo|   Entire home/apt|                    6|                2 baths|          2.0|[\"Private patio o...|         129.0|                     30|                    730|                             30|                             30|                            730|                            730|                           30.0|                          730.0|                        t|                       0|                       0|                       0|                      180|                    2023-12-05|                         2|                             0|                              0|           2011-08-15|          2016-05-15|                          4.0|                            5.0|                               5.0|                           3.0|                                 4.0|                            5.0|                         4.0|            null|                        f|                                      1|                                                   1|                                                    0|                                                   0|                      0.01|                  72|           90230|      90230|                 10|                         0|                       31|                         0|                 0|                     0|                        0|                      0|                      0|                             2|                        54|                65|                          2|                             2|                  0|                      42|                     0|             25|                     5|\n",
            "+-----------+--------------------+------------------------------+----------------+-------------------+----------------------+--------------------+---------------------------+---------------------------+-----------------------------+--------------------------+-------------------------+---------------------------+----------------------------+----------------------------------+---------------------------+-----------------------------+-------------------------------+-------------------------------+-------------------------------------+----------------------+------------------+---------------------+-----------------------+-------------+--------------------+--------------+-----------------------+-----------------------+-------------------------------+-------------------------------+-------------------------------+-------------------------------+-------------------------------+-------------------------------+-------------------------+------------------------+------------------------+------------------------+-------------------------+------------------------------+--------------------------+------------------------------+-------------------------------+---------------------+--------------------+-----------------------------+-------------------------------+----------------------------------+------------------------------+------------------------------------+-------------------------------+----------------------------+----------------+-------------------------+---------------------------------------+----------------------------------------------------+-----------------------------------------------------+----------------------------------------------------+--------------------------+--------------------+----------------+-----------+-------------------+--------------------------+-------------------------+--------------------------+------------------+----------------------+-------------------------+-----------------------+-----------------------+------------------------------+--------------------------+------------------+---------------------------+------------------------------+-------------------+------------------------+----------------------+---------------+----------------------+\n",
            "only showing top 1 row\n",
            "\n"
          ]
        }
      ],
      "source": [
        "# List of columns to drop\n",
        "columns_to_drop = [\n",
        "    'listings_listing_url', 'listings_scrape_id', 'listings_last_scraped',\n",
        "    'listings_source', 'listings_picture_url', 'listings_host_url',\n",
        "    'listings_host_name', 'listings_host_thumbnail_url', 'listings_latitude',\n",
        "    'listings_longitude', 'listings_neighbourhood_group_cleansed'\n",
        "    'listings_host_picture_url', 'listings_neighbourhood',\n",
        "    'listings_neighbourhood_group_cleansed'\n",
        "    'calendars_listing_id', 'metro_latitude',\n",
        "    'metro_longitude', 'bus_stop_NUMBER',\n",
        "    'listings_Shape_Length', 'listings_Shape_Area', 'metro_ZIPCODE',\n",
        "    'crime_ZIPCODE', 'bus_stop_ZIPCODE'\n",
        "]\n",
        "\n",
        "# Drop columns from the PySpark DataFrame\n",
        "final_df = final_df.drop(*columns_to_drop)\n",
        "\n",
        "# Show the first few rows of the updated DataFrame\n",
        "final_df.show(1)"
      ]
    },
    {
      "cell_type": "code",
      "execution_count": 50,
      "metadata": {
        "id": "lTSmfJuVwZut",
        "colab": {
          "base_uri": "https://localhost:8080/"
        },
        "outputId": "5a74eae3-44a3-4527-a39c-2deeea78b5dd"
      },
      "outputs": [
        {
          "output_type": "stream",
          "name": "stdout",
          "text": [
            "root\n",
            " |-- listings_id: long (nullable = true)\n",
            " |-- listings_name: string (nullable = true)\n",
            " |-- listings_neighborhood_overview: string (nullable = true)\n",
            " |-- listings_host_id: long (nullable = true)\n",
            " |-- listings_host_since: string (nullable = true)\n",
            " |-- listings_host_location: string (nullable = true)\n",
            " |-- listings_host_about: string (nullable = true)\n",
            " |-- listings_host_response_time: string (nullable = true)\n",
            " |-- listings_host_response_rate: string (nullable = true)\n",
            " |-- listings_host_acceptance_rate: string (nullable = true)\n",
            " |-- listings_host_is_superhost: string (nullable = true)\n",
            " |-- listings_host_picture_url: string (nullable = true)\n",
            " |-- listings_host_neighbourhood: string (nullable = true)\n",
            " |-- listings_host_listings_count: double (nullable = true)\n",
            " |-- listings_host_total_listings_count: double (nullable = true)\n",
            " |-- listings_host_verifications: string (nullable = true)\n",
            " |-- listings_host_has_profile_pic: string (nullable = true)\n",
            " |-- listings_host_identity_verified: string (nullable = true)\n",
            " |-- listings_neighbourhood_cleansed: string (nullable = true)\n",
            " |-- listings_neighbourhood_group_cleansed: string (nullable = true)\n",
            " |-- listings_property_type: string (nullable = true)\n",
            " |-- listings_room_type: string (nullable = true)\n",
            " |-- listings_accommodates: long (nullable = true)\n",
            " |-- listings_bathrooms_text: string (nullable = true)\n",
            " |-- listings_beds: double (nullable = true)\n",
            " |-- listings_amenities: string (nullable = true)\n",
            " |-- listings_price: float (nullable = true)\n",
            " |-- listings_minimum_nights: long (nullable = true)\n",
            " |-- listings_maximum_nights: long (nullable = true)\n",
            " |-- listings_minimum_minimum_nights: long (nullable = true)\n",
            " |-- listings_maximum_minimum_nights: long (nullable = true)\n",
            " |-- listings_minimum_maximum_nights: long (nullable = true)\n",
            " |-- listings_maximum_maximum_nights: long (nullable = true)\n",
            " |-- listings_minimum_nights_avg_ntm: double (nullable = true)\n",
            " |-- listings_maximum_nights_avg_ntm: double (nullable = true)\n",
            " |-- listings_has_availability: string (nullable = true)\n",
            " |-- listings_availability_30: long (nullable = true)\n",
            " |-- listings_availability_60: long (nullable = true)\n",
            " |-- listings_availability_90: long (nullable = true)\n",
            " |-- listings_availability_365: long (nullable = true)\n",
            " |-- listings_calendar_last_scraped: string (nullable = true)\n",
            " |-- listings_number_of_reviews: long (nullable = true)\n",
            " |-- listings_number_of_reviews_ltm: long (nullable = true)\n",
            " |-- listings_number_of_reviews_l30d: long (nullable = true)\n",
            " |-- listings_first_review: string (nullable = true)\n",
            " |-- listings_last_review: string (nullable = true)\n",
            " |-- listings_review_scores_rating: double (nullable = true)\n",
            " |-- listings_review_scores_accuracy: double (nullable = true)\n",
            " |-- listings_review_scores_cleanliness: double (nullable = true)\n",
            " |-- listings_review_scores_checkin: double (nullable = true)\n",
            " |-- listings_review_scores_communication: double (nullable = true)\n",
            " |-- listings_review_scores_location: double (nullable = true)\n",
            " |-- listings_review_scores_value: double (nullable = true)\n",
            " |-- listings_license: string (nullable = true)\n",
            " |-- listings_instant_bookable: string (nullable = true)\n",
            " |-- listings_calculated_host_listings_count: long (nullable = true)\n",
            " |-- listings_calculated_host_listings_count_entire_homes: long (nullable = true)\n",
            " |-- listings_calculated_host_listings_count_private_rooms: long (nullable = true)\n",
            " |-- listings_calculated_host_listings_count_shared_rooms: long (nullable = true)\n",
            " |-- listings_reviews_per_month: double (nullable = true)\n",
            " |-- listings_index_right: long (nullable = true)\n",
            " |-- listings_ZIPCODE: string (nullable = true)\n",
            " |-- bus_ZIPCODE: string (nullable = true)\n",
            " |-- bus_bus_stops_count: long (nullable = true)\n",
            " |-- metro_train_stations_count: long (nullable = true)\n",
            " |-- crime_Assault and Battery: long (nullable = true)\n",
            " |-- crime_Child-Related Crimes: long (nullable = true)\n",
            " |-- crime_Cyber Crimes: long (nullable = true)\n",
            " |-- crime_Driving Offenses: long (nullable = true)\n",
            " |-- crime_Drug-Related Crimes: long (nullable = true)\n",
            " |-- crime_Fraud and Forgery: long (nullable = true)\n",
            " |-- crime_Human Trafficking: long (nullable = true)\n",
            " |-- crime_Kidnapping and Abduction: long (nullable = true)\n",
            " |-- crime_Miscellaneous Crimes: long (nullable = true)\n",
            " |-- crime_Other Crimes: long (nullable = true)\n",
            " |-- crime_Robbery and Extortion: long (nullable = true)\n",
            " |-- crime_Serious Crime - Homicide: long (nullable = true)\n",
            " |-- crime_Sexual Crimes: long (nullable = true)\n",
            " |-- crime_Theft and Burglary: long (nullable = true)\n",
            " |-- crime_Traffic Offenses: long (nullable = true)\n",
            " |-- crime_Vandalism: long (nullable = true)\n",
            " |-- crime_Weapons Offenses: long (nullable = true)\n",
            "\n"
          ]
        }
      ],
      "source": [
        "final_df.printSchema()"
      ]
    },
    {
      "cell_type": "code",
      "execution_count": 51,
      "metadata": {
        "id": "84Quvi2pxrxR",
        "colab": {
          "base_uri": "https://localhost:8080/"
        },
        "outputId": "ffbd8035-d978-4836-d75e-31ca8bfbcdbd"
      },
      "outputs": [
        {
          "output_type": "stream",
          "name": "stdout",
          "text": [
            "+-----------+--------------------+----------------+-------------------+----------------------+---------------------------+---------------------------+-----------------------------+--------------------------+-------------------------+----------------------------+----------------------------------+-----------------------------+-------------------------------+-------------------------------+-------------------------------------+----------------------+------------------+---------------------+-----------------------+-------------+--------------------+--------------+-----------------------+-----------------------+-------------------------------+-------------------------------+-------------------------------+-------------------------------+-------------------------------+-------------------------------+-------------------------+------------------------+------------------------+------------------------+-------------------------+------------------------------+--------------------------+------------------------------+-------------------------------+---------------------+--------------------+-----------------------------+-------------------------------+----------------------------------+------------------------------+------------------------------------+-------------------------------+----------------------------+-------------------------+---------------------------------------+----------------------------------------------------+-----------------------------------------------------+----------------------------------------------------+--------------------------+--------------------+----------------+-----------+-------------------+--------------------------+-------------------------+--------------------------+------------------+----------------------+-------------------------+-----------------------+-----------------------+------------------------------+--------------------------+------------------+---------------------------+------------------------------+-------------------+------------------------+----------------------+---------------+----------------------+\n",
            "|listings_id|       listings_name|listings_host_id|listings_host_since|listings_host_location|listings_host_response_time|listings_host_response_rate|listings_host_acceptance_rate|listings_host_is_superhost|listings_host_picture_url|listings_host_listings_count|listings_host_total_listings_count|listings_host_has_profile_pic|listings_host_identity_verified|listings_neighbourhood_cleansed|listings_neighbourhood_group_cleansed|listings_property_type|listings_room_type|listings_accommodates|listings_bathrooms_text|listings_beds|  listings_amenities|listings_price|listings_minimum_nights|listings_maximum_nights|listings_minimum_minimum_nights|listings_maximum_minimum_nights|listings_minimum_maximum_nights|listings_maximum_maximum_nights|listings_minimum_nights_avg_ntm|listings_maximum_nights_avg_ntm|listings_has_availability|listings_availability_30|listings_availability_60|listings_availability_90|listings_availability_365|listings_calendar_last_scraped|listings_number_of_reviews|listings_number_of_reviews_ltm|listings_number_of_reviews_l30d|listings_first_review|listings_last_review|listings_review_scores_rating|listings_review_scores_accuracy|listings_review_scores_cleanliness|listings_review_scores_checkin|listings_review_scores_communication|listings_review_scores_location|listings_review_scores_value|listings_instant_bookable|listings_calculated_host_listings_count|listings_calculated_host_listings_count_entire_homes|listings_calculated_host_listings_count_private_rooms|listings_calculated_host_listings_count_shared_rooms|listings_reviews_per_month|listings_index_right|listings_ZIPCODE|bus_ZIPCODE|bus_bus_stops_count|metro_train_stations_count|crime_Assault and Battery|crime_Child-Related Crimes|crime_Cyber Crimes|crime_Driving Offenses|crime_Drug-Related Crimes|crime_Fraud and Forgery|crime_Human Trafficking|crime_Kidnapping and Abduction|crime_Miscellaneous Crimes|crime_Other Crimes|crime_Robbery and Extortion|crime_Serious Crime - Homicide|crime_Sexual Crimes|crime_Theft and Burglary|crime_Traffic Offenses|crime_Vandalism|crime_Weapons Offenses|\n",
            "+-----------+--------------------+----------------+-------------------+----------------------+---------------------------+---------------------------+-----------------------------+--------------------------+-------------------------+----------------------------+----------------------------------+-----------------------------+-------------------------------+-------------------------------+-------------------------------------+----------------------+------------------+---------------------+-----------------------+-------------+--------------------+--------------+-----------------------+-----------------------+-------------------------------+-------------------------------+-------------------------------+-------------------------------+-------------------------------+-------------------------------+-------------------------+------------------------+------------------------+------------------------+-------------------------+------------------------------+--------------------------+------------------------------+-------------------------------+---------------------+--------------------+-----------------------------+-------------------------------+----------------------------------+------------------------------+------------------------------------+-------------------------------+----------------------------+-------------------------+---------------------------------------+----------------------------------------------------+-----------------------------------------------------+----------------------------------------------------+--------------------------+--------------------+----------------+-----------+-------------------+--------------------------+-------------------------+--------------------------+------------------+----------------------+-------------------------+-----------------------+-----------------------+------------------------------+--------------------------+------------------+---------------------------+------------------------------+-------------------+------------------------+----------------------+---------------+----------------------+\n",
            "|        109|Condo in Culver C...|             521|         2008-06-27|     San Francisco, CA|                       null|                       null|                          50%|                         f|     https://a0.muscac...|                         1.0|                               3.0|                            t|                              t|                    Culver City|                         Other Cities|          Entire condo|   Entire home/apt|                    6|                2 baths|          2.0|[\"Private patio o...|         129.0|                     30|                    730|                             30|                             30|                            730|                            730|                           30.0|                          730.0|                        t|                       0|                       0|                       0|                      180|                    2023-12-05|                         2|                             0|                              0|           2011-08-15|          2016-05-15|                          4.0|                            5.0|                               5.0|                           3.0|                                 4.0|                            5.0|                         4.0|                        f|                                      1|                                                   1|                                                    0|                                                   0|                      0.01|                  72|           90230|      90230|                 10|                         0|                       31|                         0|                 0|                     0|                        0|                      0|                      0|                             2|                        54|                65|                          2|                             2|                  0|                      42|                     0|             25|                     5|\n",
            "+-----------+--------------------+----------------+-------------------+----------------------+---------------------------+---------------------------+-----------------------------+--------------------------+-------------------------+----------------------------+----------------------------------+-----------------------------+-------------------------------+-------------------------------+-------------------------------------+----------------------+------------------+---------------------+-----------------------+-------------+--------------------+--------------+-----------------------+-----------------------+-------------------------------+-------------------------------+-------------------------------+-------------------------------+-------------------------------+-------------------------------+-------------------------+------------------------+------------------------+------------------------+-------------------------+------------------------------+--------------------------+------------------------------+-------------------------------+---------------------+--------------------+-----------------------------+-------------------------------+----------------------------------+------------------------------+------------------------------------+-------------------------------+----------------------------+-------------------------+---------------------------------------+----------------------------------------------------+-----------------------------------------------------+----------------------------------------------------+--------------------------+--------------------+----------------+-----------+-------------------+--------------------------+-------------------------+--------------------------+------------------+----------------------+-------------------------+-----------------------+-----------------------+------------------------------+--------------------------+------------------+---------------------------+------------------------------+-------------------+------------------------+----------------------+---------------+----------------------+\n",
            "only showing top 1 row\n",
            "\n"
          ]
        }
      ],
      "source": [
        "# Dropping irrelevant or redundant columns\n",
        "columns_to_drop = [\n",
        "    'listings_neighborhood_overview', 'listings_host_about', 'listings_host_neighbourhood',\n",
        "    'listings_license', 'listings_host_verifications'\n",
        "]\n",
        "\n",
        "final_df = final_df.drop(*columns_to_drop)\n",
        "\n",
        "# Show schema after dropping\n",
        "final_df.show(1)"
      ]
    },
    {
      "cell_type": "code",
      "execution_count": 52,
      "metadata": {
        "id": "wZARcjITzS0U",
        "colab": {
          "base_uri": "https://localhost:8080/"
        },
        "outputId": "919697b3-686f-4b4b-f83a-737b583ef11c"
      },
      "outputs": [
        {
          "output_type": "stream",
          "name": "stdout",
          "text": [
            "+-----------+----------------+-------------------+----------------------+---------------------------+---------------------------+-----------------------------+--------------------------+-------------------------+----------------------------+----------------------------------+-----------------------------+-------------------------------+-------------------------------+-------------------------------------+----------------------+------------------+---------------------+-----------------------+-------------+--------------------+--------------+-----------------------+-----------------------+-------------------------------+-------------------------------+-------------------------------+-------------------------------+-------------------------------+-------------------------------+-------------------------+------------------------+------------------------+------------------------+-------------------------+------------------------------+--------------------------+------------------------------+-------------------------------+---------------------+--------------------+-----------------------------+-------------------------------+----------------------------------+------------------------------+------------------------------------+-------------------------------+----------------------------+-------------------------+---------------------------------------+----------------------------------------------------+-----------------------------------------------------+----------------------------------------------------+--------------------------+--------------------+----------------+-----------+-------------------+--------------------------+-------------------------+--------------------------+------------------+----------------------+-------------------------+-----------------------+-----------------------+------------------------------+--------------------------+------------------+---------------------------+------------------------------+-------------------+------------------------+----------------------+---------------+----------------------+\n",
            "|listings_id|listings_host_id|listings_host_since|listings_host_location|listings_host_response_time|listings_host_response_rate|listings_host_acceptance_rate|listings_host_is_superhost|listings_host_picture_url|listings_host_listings_count|listings_host_total_listings_count|listings_host_has_profile_pic|listings_host_identity_verified|listings_neighbourhood_cleansed|listings_neighbourhood_group_cleansed|listings_property_type|listings_room_type|listings_accommodates|listings_bathrooms_text|listings_beds|  listings_amenities|listings_price|listings_minimum_nights|listings_maximum_nights|listings_minimum_minimum_nights|listings_maximum_minimum_nights|listings_minimum_maximum_nights|listings_maximum_maximum_nights|listings_minimum_nights_avg_ntm|listings_maximum_nights_avg_ntm|listings_has_availability|listings_availability_30|listings_availability_60|listings_availability_90|listings_availability_365|listings_calendar_last_scraped|listings_number_of_reviews|listings_number_of_reviews_ltm|listings_number_of_reviews_l30d|listings_first_review|listings_last_review|listings_review_scores_rating|listings_review_scores_accuracy|listings_review_scores_cleanliness|listings_review_scores_checkin|listings_review_scores_communication|listings_review_scores_location|listings_review_scores_value|listings_instant_bookable|listings_calculated_host_listings_count|listings_calculated_host_listings_count_entire_homes|listings_calculated_host_listings_count_private_rooms|listings_calculated_host_listings_count_shared_rooms|listings_reviews_per_month|listings_index_right|listings_ZIPCODE|bus_ZIPCODE|bus_bus_stops_count|metro_train_stations_count|crime_Assault and Battery|crime_Child-Related Crimes|crime_Cyber Crimes|crime_Driving Offenses|crime_Drug-Related Crimes|crime_Fraud and Forgery|crime_Human Trafficking|crime_Kidnapping and Abduction|crime_Miscellaneous Crimes|crime_Other Crimes|crime_Robbery and Extortion|crime_Serious Crime - Homicide|crime_Sexual Crimes|crime_Theft and Burglary|crime_Traffic Offenses|crime_Vandalism|crime_Weapons Offenses|\n",
            "+-----------+----------------+-------------------+----------------------+---------------------------+---------------------------+-----------------------------+--------------------------+-------------------------+----------------------------+----------------------------------+-----------------------------+-------------------------------+-------------------------------+-------------------------------------+----------------------+------------------+---------------------+-----------------------+-------------+--------------------+--------------+-----------------------+-----------------------+-------------------------------+-------------------------------+-------------------------------+-------------------------------+-------------------------------+-------------------------------+-------------------------+------------------------+------------------------+------------------------+-------------------------+------------------------------+--------------------------+------------------------------+-------------------------------+---------------------+--------------------+-----------------------------+-------------------------------+----------------------------------+------------------------------+------------------------------------+-------------------------------+----------------------------+-------------------------+---------------------------------------+----------------------------------------------------+-----------------------------------------------------+----------------------------------------------------+--------------------------+--------------------+----------------+-----------+-------------------+--------------------------+-------------------------+--------------------------+------------------+----------------------+-------------------------+-----------------------+-----------------------+------------------------------+--------------------------+------------------+---------------------------+------------------------------+-------------------+------------------------+----------------------+---------------+----------------------+\n",
            "|        109|             521|         2008-06-27|     San Francisco, CA|                       null|                       null|                          50%|                         f|     https://a0.muscac...|                         1.0|                               3.0|                            t|                              t|                    Culver City|                         Other Cities|          Entire condo|   Entire home/apt|                    6|                2 baths|          2.0|[\"Private patio o...|         129.0|                     30|                    730|                             30|                             30|                            730|                            730|                           30.0|                          730.0|                        t|                       0|                       0|                       0|                      180|                    2023-12-05|                         2|                             0|                              0|           2011-08-15|          2016-05-15|                          4.0|                            5.0|                               5.0|                           3.0|                                 4.0|                            5.0|                         4.0|                        f|                                      1|                                                   1|                                                    0|                                                   0|                      0.01|                  72|           90230|      90230|                 10|                         0|                       31|                         0|                 0|                     0|                        0|                      0|                      0|                             2|                        54|                65|                          2|                             2|                  0|                      42|                     0|             25|                     5|\n",
            "+-----------+----------------+-------------------+----------------------+---------------------------+---------------------------+-----------------------------+--------------------------+-------------------------+----------------------------+----------------------------------+-----------------------------+-------------------------------+-------------------------------+-------------------------------------+----------------------+------------------+---------------------+-----------------------+-------------+--------------------+--------------+-----------------------+-----------------------+-------------------------------+-------------------------------+-------------------------------+-------------------------------+-------------------------------+-------------------------------+-------------------------+------------------------+------------------------+------------------------+-------------------------+------------------------------+--------------------------+------------------------------+-------------------------------+---------------------+--------------------+-----------------------------+-------------------------------+----------------------------------+------------------------------+------------------------------------+-------------------------------+----------------------------+-------------------------+---------------------------------------+----------------------------------------------------+-----------------------------------------------------+----------------------------------------------------+--------------------------+--------------------+----------------+-----------+-------------------+--------------------------+-------------------------+--------------------------+------------------+----------------------+-------------------------+-----------------------+-----------------------+------------------------------+--------------------------+------------------+---------------------------+------------------------------+-------------------+------------------------+----------------------+---------------+----------------------+\n",
            "only showing top 1 row\n",
            "\n"
          ]
        }
      ],
      "source": [
        "# Dropping irrelevant or redundant columns\n",
        "columns_to_drop = [\n",
        "    'listings_name']\n",
        "\n",
        "final_df = final_df.drop(*columns_to_drop)\n",
        "\n",
        "# Show schema after dropping\n",
        "final_df.show(1)"
      ]
    },
    {
      "cell_type": "code",
      "execution_count": 53,
      "metadata": {
        "id": "ZNCtheCYzZlX",
        "colab": {
          "base_uri": "https://localhost:8080/"
        },
        "outputId": "03d3a77a-b250-4d4b-9dc7-1faf54146328"
      },
      "outputs": [
        {
          "output_type": "stream",
          "name": "stdout",
          "text": [
            "+-------------------+------------------+\n",
            "|listings_host_since| host_active_years|\n",
            "+-------------------+------------------+\n",
            "|         2008-06-27|16.476712328767125|\n",
            "+-------------------+------------------+\n",
            "only showing top 1 row\n",
            "\n"
          ]
        }
      ],
      "source": [
        "\n",
        "\n",
        "from pyspark.sql.functions import to_date, datediff, current_date\n",
        "\n",
        "# Convert to datetime and derive 'host_active_years'\n",
        "final_df = final_df.withColumn('listings_host_since', to_date(final_df['listings_host_since']))\n",
        "final_df = final_df.withColumn('host_active_years', (datediff(current_date(), final_df['listings_host_since']) / 365).cast('double'))\n",
        "\n",
        "# Show a few rows with the new feature\n",
        "final_df.select('listings_host_since', 'host_active_years').show(1)"
      ]
    },
    {
      "cell_type": "code",
      "execution_count": 54,
      "metadata": {
        "id": "54xjFJv8zmtq"
      },
      "outputs": [],
      "source": [
        "# Drop the original 'listings_host_since' column\n",
        "final_df = final_df.drop('listings_host_since')"
      ]
    },
    {
      "cell_type": "code",
      "execution_count": 55,
      "metadata": {
        "id": "qDYYA1HGzxMa",
        "colab": {
          "base_uri": "https://localhost:8080/"
        },
        "outputId": "f1c2fce9-a8ba-407a-eebd-f1e97f44029c"
      },
      "outputs": [
        {
          "output_type": "stream",
          "name": "stdout",
          "text": [
            "+---------------------------+-----------------------------+\n",
            "|listings_host_response_rate|listings_host_acceptance_rate|\n",
            "+---------------------------+-----------------------------+\n",
            "|                       null|                         50.0|\n",
            "|                       null|                        100.0|\n",
            "|                      100.0|                         42.0|\n",
            "|                       null|                         null|\n",
            "|                      100.0|                         96.0|\n",
            "+---------------------------+-----------------------------+\n",
            "only showing top 5 rows\n",
            "\n"
          ]
        }
      ],
      "source": [
        "from pyspark.sql.functions import regexp_replace\n",
        "\n",
        "# Remove '%' and convert to numeric\n",
        "final_df = final_df.withColumn('listings_host_response_rate', regexp_replace('listings_host_response_rate', '%', '').cast('double'))\n",
        "final_df = final_df.withColumn('listings_host_acceptance_rate', regexp_replace('listings_host_acceptance_rate', '%', '').cast('double'))\n",
        "\n",
        "# Show updated columns\n",
        "final_df.select('listings_host_response_rate', 'listings_host_acceptance_rate').show(5)"
      ]
    },
    {
      "cell_type": "code",
      "execution_count": 56,
      "metadata": {
        "id": "7Pnhy8NNz4Oc",
        "colab": {
          "base_uri": "https://localhost:8080/"
        },
        "outputId": "c2c7e313-fd52-4724-8f8a-97f2c774425d"
      },
      "outputs": [
        {
          "output_type": "stream",
          "name": "stdout",
          "text": [
            "+--------------------------+-----------------------------+-------------------------------+-------------------------+\n",
            "|listings_host_is_superhost|listings_host_has_profile_pic|listings_host_identity_verified|listings_instant_bookable|\n",
            "+--------------------------+-----------------------------+-------------------------------+-------------------------+\n",
            "|                         0|                            1|                              1|                        0|\n",
            "|                         1|                            1|                              1|                        1|\n",
            "|                         0|                            1|                              1|                        0|\n",
            "|                         0|                            1|                              1|                        0|\n",
            "|                         1|                            1|                              1|                        0|\n",
            "+--------------------------+-----------------------------+-------------------------------+-------------------------+\n",
            "only showing top 5 rows\n",
            "\n"
          ]
        }
      ],
      "source": [
        "from pyspark.sql.functions import when\n",
        "\n",
        "# Convert 't'/'f' to 1/0\n",
        "binary_columns = ['listings_host_is_superhost', 'listings_host_has_profile_pic', 'listings_host_identity_verified', 'listings_instant_bookable']\n",
        "for col_name in binary_columns:\n",
        "    final_df = final_df.withColumn(col_name, when(final_df[col_name] == 't', 1).otherwise(0))\n",
        "\n",
        "# Show binary column transformations\n",
        "final_df.select(*binary_columns).show(5)"
      ]
    },
    {
      "cell_type": "code",
      "execution_count": 57,
      "metadata": {
        "id": "xBrNEmXz0Cz_",
        "colab": {
          "base_uri": "https://localhost:8080/"
        },
        "outputId": "6e730fe1-567c-4d34-ae49-e820ce1e0211"
      },
      "outputs": [
        {
          "output_type": "stream",
          "name": "stdout",
          "text": [
            "+---------------+\n",
            "|bathrooms_count|\n",
            "+---------------+\n",
            "|            2.0|\n",
            "|            0.5|\n",
            "|            1.0|\n",
            "|            1.0|\n",
            "|            1.0|\n",
            "+---------------+\n",
            "only showing top 5 rows\n",
            "\n"
          ]
        }
      ],
      "source": [
        "from pyspark.sql.functions import when, regexp_extract\n",
        "\n",
        "# Extract numeric part and assign default 1 where text doesn't specify a number\n",
        "final_df = final_df.withColumn(\n",
        "    'bathrooms_count',\n",
        "    regexp_extract('listings_bathrooms_text', r'(\\d+)', 1).cast('float')\n",
        ")\n",
        "\n",
        "# Adjust the numeric value based on the type of bathroom\n",
        "final_df = final_df.withColumn(\n",
        "    'bathrooms_count',\n",
        "    when(final_df['listings_bathrooms_text'].contains('shared'), final_df['bathrooms_count'] * 0.5)\n",
        "    .when(final_df['listings_bathrooms_text'].contains('private'), final_df['bathrooms_count'] * 1.0)\n",
        "    .otherwise(final_df['bathrooms_count'])\n",
        ")\n",
        "\n",
        "# Drop the original text column as it's now redundant\n",
        "final_df = final_df.drop('listings_bathrooms_text')\n",
        "\n",
        "# Show the result\n",
        "final_df.select('bathrooms_count').show(5)"
      ]
    },
    {
      "cell_type": "code",
      "execution_count": 58,
      "metadata": {
        "id": "mmMz1uVZ1MKE"
      },
      "outputs": [],
      "source": [
        "# Drop the 'listings_host_location' column\n",
        "final_df = final_df.drop('listings_host_location')"
      ]
    },
    {
      "cell_type": "code",
      "execution_count": 59,
      "metadata": {
        "id": "uFSqtn6p1gHS",
        "colab": {
          "base_uri": "https://localhost:8080/"
        },
        "outputId": "a889977d-ccdc-401f-f75d-08b4ff211d36"
      },
      "outputs": [
        {
          "output_type": "stream",
          "name": "stdout",
          "text": [
            "+----------------------+\n",
            "|response_time_category|\n",
            "+----------------------+\n",
            "|                     5|\n",
            "|                     5|\n",
            "|                     1|\n",
            "|                     5|\n",
            "|                     1|\n",
            "|                     2|\n",
            "|                     2|\n",
            "|                     2|\n",
            "|                     2|\n",
            "|                     2|\n",
            "+----------------------+\n",
            "only showing top 10 rows\n",
            "\n"
          ]
        }
      ],
      "source": [
        "from pyspark.sql.functions import when\n",
        "\n",
        "# Map response times into numerical categories\n",
        "final_df = final_df.withColumn(\n",
        "    'response_time_category',\n",
        "    when(final_df['listings_host_response_time'] == 'within an hour', 1)\n",
        "    .when(final_df['listings_host_response_time'] == 'within a few hours', 2)\n",
        "    .when(final_df['listings_host_response_time'] == 'within a day', 3)\n",
        "    .when(final_df['listings_host_response_time'] == 'a few days or more', 4)\n",
        "    .otherwise(5)  # For NULL or undefined values\n",
        ")\n",
        "\n",
        "# Drop the original column\n",
        "final_df = final_df.drop('listings_host_response_time')\n",
        "\n",
        "# Show the transformed column\n",
        "final_df.select('response_time_category').show(10)"
      ]
    },
    {
      "cell_type": "code",
      "execution_count": 60,
      "metadata": {
        "id": "HMKUxbGk2SJb",
        "colab": {
          "base_uri": "https://localhost:8080/"
        },
        "outputId": "d6d9284c-5c56-4fef-ca85-f98b45e90532"
      },
      "outputs": [
        {
          "output_type": "stream",
          "name": "stdout",
          "text": [
            "Number of distinct neighborhoods: 266\n"
          ]
        }
      ],
      "source": [
        "# Count the number of distinct values in 'listings_neighbourhood_cleansed'\n",
        "distinct_count = final_df.select('listings_neighbourhood_cleansed').distinct().count()\n",
        "\n",
        "print(f\"Number of distinct neighborhoods: {distinct_count}\")\n"
      ]
    },
    {
      "cell_type": "code",
      "execution_count": 61,
      "metadata": {
        "id": "WhMLxfkv4ZdF"
      },
      "outputs": [],
      "source": [
        "# Drop 'listings_neighbourhood_cleansed' since ZIPCODE is available\n",
        "final_df = final_df.drop('listings_neighbourhood_cleansed')"
      ]
    },
    {
      "cell_type": "code",
      "source": [
        "# Count the number of distinct values in 'listings_neighbourhood_cleansed'\n",
        "distinct_count = final_df.select('listings_property_type').distinct().count()\n",
        "\n",
        "print(f\"Number of distinct property type: {distinct_count}\")\n"
      ],
      "metadata": {
        "id": "13OP41dD29qb",
        "colab": {
          "base_uri": "https://localhost:8080/"
        },
        "outputId": "fc2b0cbd-69af-46c4-fddf-e577aadf2095"
      },
      "execution_count": 62,
      "outputs": [
        {
          "output_type": "stream",
          "name": "stdout",
          "text": [
            "Number of distinct property type: 106\n"
          ]
        }
      ]
    },
    {
      "cell_type": "code",
      "execution_count": 63,
      "metadata": {
        "id": "BC2rBncB48yV"
      },
      "outputs": [],
      "source": [
        "final_df = final_df.withColumn(\n",
        "    'property_type_group',\n",
        "    F.when(final_df['listings_property_type'].rlike('Private room'), 'Private Room')\n",
        "    .when(final_df['listings_property_type'].rlike('Entire|Townhouse'), 'Entire Unit')\n",
        "    .when(final_df['listings_property_type'].rlike('Shared room'), 'Shared Accommodation')\n",
        "    .when(final_df['listings_property_type'].rlike('Yurt|Treehouse|Lighthouse|Cave|Castle|Dome|Tower'), 'Unique Stays')\n",
        "    .when(final_df['listings_property_type'].rlike('Boutique|Hotel|Hostel|Serviced apartment'), 'Boutique & Hotels')\n",
        "    .when(final_df['listings_property_type'].rlike('Campsite|Tipi|Shepherd’s hut|Tent|Hut'), 'Nature-Based Stays')\n",
        "    .when(final_df['listings_property_type'].rlike('Farm stay|Ranch|Barn'), 'Farm & Ranch Stays')\n",
        "    .when(final_df['listings_property_type'].rlike('Camper|RV|Bus|Train|Boat|Houseboat'), 'Vehicles as Accommodation')\n",
        "    .when(final_df['listings_property_type'].rlike('Resort|Villa|Bungalow'), 'Luxury & Resort Stays')\n",
        "    .when(final_df['listings_property_type'].rlike('Casa|Minsu|Earthen home|Cycladic home'), 'Cultural & Local Experiences')\n",
        "    .otherwise('Other')  # Catch-all for unclassified property types\n",
        ")"
      ]
    },
    {
      "cell_type": "code",
      "execution_count": 64,
      "metadata": {
        "id": "NmQIwvb35JpV"
      },
      "outputs": [],
      "source": [
        "# Drop the original 'listings_property_type' column\n",
        "final_df = final_df.drop('listings_property_type')"
      ]
    },
    {
      "cell_type": "code",
      "execution_count": 65,
      "metadata": {
        "id": "sY8MEm3L5SuO",
        "colab": {
          "base_uri": "https://localhost:8080/"
        },
        "outputId": "5f4d8c0a-7b4c-4560-8018-4d345fd9c93d"
      },
      "outputs": [
        {
          "output_type": "stream",
          "name": "stdout",
          "text": [
            "+--------------------+-----+\n",
            "| property_type_group|count|\n",
            "+--------------------+-----+\n",
            "|         Entire Unit|33268|\n",
            "|Cultural & Local ...|   26|\n",
            "|               Other|  965|\n",
            "|Vehicles as Accom...|  196|\n",
            "|        Unique Stays|   37|\n",
            "|  Farm & Ranch Stays|   36|\n",
            "|Shared Accommodation|  762|\n",
            "|  Nature-Based Stays|   33|\n",
            "|        Private Room|10232|\n",
            "+--------------------+-----+\n",
            "\n"
          ]
        }
      ],
      "source": [
        "# Count the occurrences of each property type group\n",
        "final_df.groupBy('property_type_group').count().show()"
      ]
    },
    {
      "cell_type": "code",
      "execution_count": 66,
      "metadata": {
        "id": "C8Y6VCdf5W7i",
        "colab": {
          "base_uri": "https://localhost:8080/"
        },
        "outputId": "878e7f68-a17f-4983-8997-1d7fd66e9612"
      },
      "outputs": [
        {
          "output_type": "stream",
          "name": "stdout",
          "text": [
            "+-------------------------+------------------------------------------+-------------------+---------------------------------------+--------------------------+--------------------------------+----------------------------------+--------------------------------+--------------------------+\n",
            "|property_type_Entire_Unit|property_type_Cultural_&_Local_Experiences|property_type_Other|property_type_Vehicles_as_Accommodation|property_type_Unique_Stays|property_type_Farm_&_Ranch_Stays|property_type_Shared_Accommodation|property_type_Nature-Based_Stays|property_type_Private_Room|\n",
            "+-------------------------+------------------------------------------+-------------------+---------------------------------------+--------------------------+--------------------------------+----------------------------------+--------------------------------+--------------------------+\n",
            "|                        1|                                         0|                  0|                                      0|                         0|                               0|                                 0|                               0|                         0|\n",
            "|                        0|                                         0|                  0|                                      0|                         0|                               0|                                 0|                               0|                         1|\n",
            "|                        0|                                         0|                  0|                                      0|                         0|                               0|                                 0|                               0|                         1|\n",
            "|                        1|                                         0|                  0|                                      0|                         0|                               0|                                 0|                               0|                         0|\n",
            "|                        0|                                         0|                  0|                                      0|                         0|                               0|                                 0|                               0|                         1|\n",
            "+-------------------------+------------------------------------------+-------------------+---------------------------------------+--------------------------+--------------------------------+----------------------------------+--------------------------------+--------------------------+\n",
            "only showing top 5 rows\n",
            "\n"
          ]
        }
      ],
      "source": [
        "from pyspark.sql.functions import when\n",
        "\n",
        "# Get unique values from 'property_type_group'\n",
        "property_types = final_df.select('property_type_group').distinct().rdd.flatMap(lambda x: x).collect()\n",
        "\n",
        "# Create a binary column for each property type\n",
        "for property_type in property_types:\n",
        "    col_name = f'property_type_{property_type.replace(\" \", \"_\")}'  # Replace spaces for valid column names\n",
        "    final_df = final_df.withColumn(col_name, when(final_df['property_type_group'] == property_type, 1).otherwise(0))\n",
        "\n",
        "# Drop the original 'property_type_group' column\n",
        "final_df = final_df.drop('property_type_group')\n",
        "\n",
        "# Show the new one-hot encoded columns\n",
        "final_df.select([f'property_type_{property_type.replace(\" \", \"_\")}' for property_type in property_types]).show(5)"
      ]
    },
    {
      "cell_type": "code",
      "execution_count": 67,
      "metadata": {
        "id": "Mz3fmUvT5lm_",
        "colab": {
          "base_uri": "https://localhost:8080/"
        },
        "outputId": "2fd8eb2f-82d1-43cd-ee3d-19dc21c4c0ba"
      },
      "outputs": [
        {
          "output_type": "stream",
          "name": "stdout",
          "text": [
            "+------------------+\n",
            "|listings_room_type|\n",
            "+------------------+\n",
            "|       Shared room|\n",
            "|        Hotel room|\n",
            "|   Entire home/apt|\n",
            "|      Private room|\n",
            "+------------------+\n",
            "\n"
          ]
        }
      ],
      "source": [
        "# Check distinct values in 'listings_room_type'\n",
        "final_df.select('listings_room_type').distinct().show()"
      ]
    },
    {
      "cell_type": "code",
      "execution_count": 68,
      "metadata": {
        "id": "bAf_cj3m5x-x",
        "colab": {
          "base_uri": "https://localhost:8080/"
        },
        "outputId": "e1a7fffc-e208-4842-faa7-36aeea5d3ac6"
      },
      "outputs": [
        {
          "output_type": "stream",
          "name": "stdout",
          "text": [
            "+---------------------+--------------------+-------------------------+----------------------+\n",
            "|room_type_Shared_room|room_type_Hotel_room|room_type_Entire_home/apt|room_type_Private_room|\n",
            "+---------------------+--------------------+-------------------------+----------------------+\n",
            "|                    0|                   0|                        1|                     0|\n",
            "|                    0|                   0|                        0|                     1|\n",
            "|                    0|                   0|                        0|                     1|\n",
            "|                    0|                   0|                        1|                     0|\n",
            "|                    0|                   0|                        0|                     1|\n",
            "+---------------------+--------------------+-------------------------+----------------------+\n",
            "only showing top 5 rows\n",
            "\n"
          ]
        }
      ],
      "source": [
        "from pyspark.sql.functions import when\n",
        "\n",
        "room_types = ['Shared room', 'Hotel room', 'Entire home/apt', 'Private room']\n",
        "for room_type in room_types:\n",
        "    col_name = f'room_type_{room_type.replace(\" \", \"_\")}'  # Replace spaces with underscores\n",
        "    final_df = final_df.withColumn(col_name, when(final_df['listings_room_type'] == room_type, 1).otherwise(0))\n",
        "\n",
        "# Drop the original 'listings_room_type' column\n",
        "final_df = final_df.drop('listings_room_type')\n",
        "\n",
        "# Show the one-hot encoded columns\n",
        "final_df.select([f'room_type_{room_type.replace(\" \", \"_\")}' for room_type in room_types]).show(5)\n"
      ]
    },
    {
      "cell_type": "code",
      "execution_count": 69,
      "metadata": {
        "id": "WQvs3E8754g_",
        "colab": {
          "base_uri": "https://localhost:8080/"
        },
        "outputId": "c773f9de-5819-4c30-9161-f99018ebc7dc"
      },
      "outputs": [
        {
          "output_type": "stream",
          "name": "stdout",
          "text": [
            "+-----------------------------------------------------------------------------------------------------------------------------------------------------------------------------------------------------------------------------------------------------------------------------------------------------------------------------------------------------------------------------------------------------------------------------------------------------------------------------------------------------------------------------------------------------------------------------------------------------------------------------------------------------------------------------------------------------------------------------------------------------------------------------------------------------------------------------------------------------------------------------------------------------------------------------------------------------------------------------------------------------------------------------------------------------------------------------------------------------------------------------------------------------------------------------------------------------------------------------------------------------------------------------------------------------------------------------------------------------------------------------------------------------------------------------------------------------------------------------------------------------------------------------------------------------------------------------------------------------------------------------+\n",
            "|listings_amenities                                                                                                                                                                                                                                                                                                                                                                                                                                                                                                                                                                                                                                                                                                                                                                                                                                                                                                                                                                                                                                                                                                                                                                                                                                                                                                                                                                                                                                                                                                                                                                                                           |\n",
            "+-----------------------------------------------------------------------------------------------------------------------------------------------------------------------------------------------------------------------------------------------------------------------------------------------------------------------------------------------------------------------------------------------------------------------------------------------------------------------------------------------------------------------------------------------------------------------------------------------------------------------------------------------------------------------------------------------------------------------------------------------------------------------------------------------------------------------------------------------------------------------------------------------------------------------------------------------------------------------------------------------------------------------------------------------------------------------------------------------------------------------------------------------------------------------------------------------------------------------------------------------------------------------------------------------------------------------------------------------------------------------------------------------------------------------------------------------------------------------------------------------------------------------------------------------------------------------------------------------------------------------------+\n",
            "|[\"Private patio or balcony\", \"Shared pool\", \"Elevator\", \"Shampoo\", \"Kitchen\", \"Iron\", \"Essentials\", \"Carbon monoxide alarm\", \"Gym\", \"Coffee maker\", \"Backyard\", \"First aid kit\", \"Wifi\", \"Free parking on premises\", \"Heating\", \"TV with standard cable\", \"Air conditioning\", \"Shared hot tub\", \"Indoor fireplace\", \"Fire extinguisher\", \"Hair dryer\", \"Pool view\", \"Dedicated workspace\", \"Refrigerator\", \"Smoke alarm\", \"Washer\", \"Dryer\", \"Garden view\", \"Dishes and silverware\", \"Hangers\"]                                                                                                                                                                                                                                                                                                                                                                                                                                                                                                                                                                                                                                                                                                                                                                                                                                                                                                                                                                                                                                                                                                                              |\n",
            "|[\"Wen, V05, Prell, among others.  conditioner\", \"Central heating\", \"Elevator\", \"Kitchen\", \"Single level home\", \"Iron\", \"Barbecue utensils\", \"Coffee\", \"Breakfast\", \"Clothing storage: closet, wardrobe, and dresser\", \"Indoor fireplace: gas\", \"Essentials\", \"Dishwasher\", \"Carbon monoxide alarm\", \"Free parking on premises\", \"Books and reading material\", \"Paid dryer \\u2013 In building\", \"Portable heater\", \"Portable fans\", \"Shower gel\", \"First aid kit\", \"Wifi\", \"Paid washer \\u2013 In building\", \"Drying rack for clothing\", \"Exercise equipment: elliptical, free weights, stationary bike, treadmill\", \"Bathtub\", \"Wine glasses\", \"Baking sheet\", \"Shared patio or balcony\", \"Long term stays allowed\", \"Lock on bedroom door\", \"Luggage dropoff allowed\", \"Cleaning products\", \"Coffee maker: drip coffee maker\", \"Shared gym in building\", \"Shared backyard \\u2013 Fully fenced\", \"Cooking basics\", \"Toaster\", \"Outdoor furniture\", \"Hot water\", \"Board games\", \"Frigidaire gas stove\", \"Beach access\", \"1801 Beekman Luxury Spa Goat Milk Soap & Handmade Hand Cut Amish Wild Flower Bars body soap\", \"Shared hot tub\", \"Mountain view\", \"Wen, Prell, Sauve, V05, Pert, Pantene. shampoo\", \"Bed linens\", \"Fire extinguisher\", \"Oven\", \"Freezer\", \"Shared sauna\", \"Host greets you\", \"Central air conditioning\", \"Fireplace guards\", \"Room-darkening shades\", \"Samsung refrigerator\", \"Hair dryer\", \"Dedicated workspace\", \"Free street parking\", \"Dishes and silverware\", \"Portable air conditioning\", \"Smoke alarm\", \"Blender\", \"Outdoor dining area\", \"Microwave\", \"Extra pillows and blankets\", \"Hangers\"]|\n",
            "|[\"Private patio or balcony\", \"Hair dryer\", \"Dedicated workspace\", \"Cooking basics\", \"Shampoo\", \"Kitchen\", \"Wifi\", \"Refrigerator\", \"Smoke alarm\", \"Free street parking\", \"Washer\", \"Dryer\", \"Heating\", \"Oven\", \"Microwave\", \"Dishes and silverware\", \"Host greets you\", \"Essentials\", \"Hangers\"]                                                                                                                                                                                                                                                                                                                                                                                                                                                                                                                                                                                                                                                                                                                                                                                                                                                                                                                                                                                                                                                                                                                                                                                                                                                                                                                              |\n",
            "|[\"TV\", \"Iron\", \"Essentials\", \"Carbon monoxide alarm\", \"Wifi\", \"Free parking on premises\", \"Heating\", \"Long term stays allowed\", \"Hot water\", \"Air conditioning\", \"Bed linens\", \"Security cameras on property\", \"Host greets you\", \"Hair dryer\", \"Refrigerator\", \"Free street parking\", \"Smoke alarm\", \"Washer\", \"Dryer\", \"Microwave\", \"Extra pillows and blankets\", \"Hangers\"]                                                                                                                                                                                                                                                                                                                                                                                                                                                                                                                                                                                                                                                                                                                                                                                                                                                                                                                                                                                                                                                                                                                                                                                                                                               |\n",
            "|[\"Shampoo\", \"Kitchen\", \"Hot water kettle\", \"Iron\", \"Barbecue utensils\", \"Essentials\", \"Dishwasher\", \"Coffee maker\", \"Books and reading material\", \"Portable fans\", \"Shower gel\", \"AC - split type ductless system\", \"Wifi\", \"Heating\", \"Sun loungers\", \"Free parking on premises\", \"Clothing storage: wardrobe and dresser\", \"Luggage dropoff allowed\", \"Conditioner\", \"Cleaning products\", \"Piano\", \"Cooking basics\", \"Toaster\", \"Outdoor furniture\", \"Hot water\", \"Patio or balcony\", \"Gas stove\", \"Dining table\", \"Mountain view\", \"Bidet\", \"Bed linens\", \"Ceiling fan\", \"Fire extinguisher\", \"Freezer\", \"Room-darkening shades\", \"Hair dryer\", \"Ethernet connection\", \"Dedicated workspace\", \"Refrigerator\", \"Double oven\", \"Dishes and silverware\", \"Free street parking\", \"Body soap\", \"Washer\", \"Dryer\", \"Sound system\", \"City skyline view\", \"Garden view\", \"Blender\", \"Microwave\", \"32\\\" HDTV with Amazon Prime Video, Disney+, HBO Max, Hulu, Roku, DVD player\", \"Extra pillows and blankets\", \"Outdoor dining area\", \"Park view\", \"Hangers\"]                                                                                                                                                                                                                                                                                                                                                                                                                                                                                                                                                                      |\n",
            "+-----------------------------------------------------------------------------------------------------------------------------------------------------------------------------------------------------------------------------------------------------------------------------------------------------------------------------------------------------------------------------------------------------------------------------------------------------------------------------------------------------------------------------------------------------------------------------------------------------------------------------------------------------------------------------------------------------------------------------------------------------------------------------------------------------------------------------------------------------------------------------------------------------------------------------------------------------------------------------------------------------------------------------------------------------------------------------------------------------------------------------------------------------------------------------------------------------------------------------------------------------------------------------------------------------------------------------------------------------------------------------------------------------------------------------------------------------------------------------------------------------------------------------------------------------------------------------------------------------------------------------+\n",
            "only showing top 5 rows\n",
            "\n"
          ]
        }
      ],
      "source": [
        "# Show a sample of 'listings_amenities'\n",
        "final_df.select('listings_amenities').show(5, truncate=False)"
      ]
    },
    {
      "cell_type": "code",
      "source": [
        "final_df = final_df.withColumn('listings_amenities', F.lower(col('listings_amenities')))"
      ],
      "metadata": {
        "id": "eKjxf8I6TgxW"
      },
      "execution_count": 70,
      "outputs": []
    },
    {
      "cell_type": "code",
      "source": [
        "# Define the 27 categories and their associated keywords\n",
        "categories = {\n",
        "    \"free_wifi_and_internet\": [\"wifi\", \"internet\"],\n",
        "    \"outdoor_spaces\": [\"patio\", \"balcony\", \"backyard\", \"garden\", \"terrace\", \"views\"],\n",
        "    \"swimming_facilities\": [\"pool\", \"hot tub\", \"jacuzzi\"],\n",
        "    \"kitchen_essentials\": [\"kitchen\", \"microwave\", \"stove\", \"oven\", \"refrigerator\"],\n",
        "    \"laundry_facilities\": [\"washer\", \"dryer\", \"iron\", \"ironing board\"],\n",
        "    \"heating_and_cooling\": [\"air conditioning\", \"heating\", \"fan\"],\n",
        "    \"safety_and_security\": [\"carbon monoxide alarm\", \"smoke detector\", \"first aid kit\"],\n",
        "    \"entertainment\": [\"tv\", \"streaming\", \"cable\"],\n",
        "    \"free_parking\": [\"free parking\"],\n",
        "    \"parking_facilities\": [\"garage\", \"paid parking\"],\n",
        "    \"pet_friendly\": [\"pets allowed\", \"dog-friendly\"],\n",
        "    \"accessibility_features\": [\"elevator\", \"wheelchair access\"],\n",
        "    \"fitness_and_gym_equipment\": [\"gym\", \"fitness\", \"workout equipment\"],\n",
        "    \"child_friendly_amenities\": [\"crib\", \"high chair\", \"playpen\"],\n",
        "    \"essentials\": [\"towels\", \"shampoo\", \"soap\", \"toiletries\"],\n",
        "    \"workspace_features\": [\"desk\", \"workspace\", \"ergonomic chair\"],\n",
        "    \"barbecue_and_grills\": [\"grill\", \"barbecue\"],\n",
        "    \"luxury_features\": [\"private pool\", \"sauna\", \"jacuzzi\"],\n",
        "    \"recreational_features\": [\"game room\", \"table tennis\", \"ping pong\"],\n",
        "    \"transport_features\": [\"airport shuttle\", \"bike rental\"],\n",
        "    \"scenic_views\": [\"mountain view\", \"sea view\", \"city view\"],\n",
        "    \"shared_spaces\": [\"shared spaces\", \"communal area\"],\n",
        "    \"technology_and_smart_home\": [\"smart lock\", \"smart thermostat\"],\n",
        "    \"dining_area\": [\"dining table\", \"breakfast nook\"],\n",
        "    \"event_friendly_spaces\": [\"event space\", \"meeting room\"],\n",
        "    \"green_spaces\": [\"garden\", \"outdoor plants\"],\n",
        "    \"luxury_entertainment\": [\"home theater\", \"cinema\", \"pool table\"],\n",
        "    \"special_accommodations\": [\"allergy-friendly\", \"vegan-friendly\"],\n",
        "}\n",
        "\n",
        "# Add a new column for each category with the count of matches in \"amenities\"\n",
        "for category, keywords in categories.items():\n",
        "    condition = F.lit(0)  # Initialize condition as a numeric column with 0\n",
        "    for keyword in keywords:\n",
        "        condition = condition + F.when(F.lower(F.col(\"listings_amenities\")).contains(keyword.lower()), 1).otherwise(0)\n",
        "    final_df = final_df.withColumn(category, condition)\n",
        "\n",
        "# Show the updated DataFrame\n",
        "final_df.select(\"listings_amenities\", *categories.keys()).show(truncate=False)"
      ],
      "metadata": {
        "id": "7ZLOw_LpTLwD",
        "colab": {
          "base_uri": "https://localhost:8080/"
        },
        "outputId": "69dbfdb8-4bc6-454c-d265-a52cebe1e2ce"
      },
      "execution_count": 71,
      "outputs": [
        {
          "output_type": "stream",
          "name": "stdout",
          "text": [
            "+-----------------------------------------------------------------------------------------------------------------------------------------------------------------------------------------------------------------------------------------------------------------------------------------------------------------------------------------------------------------------------------------------------------------------------------------------------------------------------------------------------------------------------------------------------------------------------------------------------------------------------------------------------------------------------------------------------------------------------------------------------------------------------------------------------------------------------------------------------------------------------------------------------------------------------------------------------------------------------------------------------------------------------------------------------------------------------------------------------------------------------------------------------------------------------------------------------------------------------------------------------------------------------------------------------------------------------------------------------------------------------------------------------------------------------------------------------------------------------------------------------------------------------------------------------------------------------------------------------------------------------------------------------------------------------------------------------------------------------------------------------------------------------------------------------------------------------+----------------------+--------------+-------------------+------------------+------------------+-------------------+-------------------+-------------+------------+------------------+------------+----------------------+-------------------------+------------------------+----------+------------------+-------------------+---------------+---------------------+------------------+------------+-------------+-------------------------+-----------+---------------------+------------+--------------------+----------------------+\n",
            "|listings_amenities                                                                                                                                                                                                                                                                                                                                                                                                                                                                                                                                                                                                                                                                                                                                                                                                                                                                                                                                                                                                                                                                                                                                                                                                                                                                                                                                                                                                                                                                                                                                                                                                                                                                                                                                                                                                           |free_wifi_and_internet|outdoor_spaces|swimming_facilities|kitchen_essentials|laundry_facilities|heating_and_cooling|safety_and_security|entertainment|free_parking|parking_facilities|pet_friendly|accessibility_features|fitness_and_gym_equipment|child_friendly_amenities|essentials|workspace_features|barbecue_and_grills|luxury_features|recreational_features|transport_features|scenic_views|shared_spaces|technology_and_smart_home|dining_area|event_friendly_spaces|green_spaces|luxury_entertainment|special_accommodations|\n",
            "+-----------------------------------------------------------------------------------------------------------------------------------------------------------------------------------------------------------------------------------------------------------------------------------------------------------------------------------------------------------------------------------------------------------------------------------------------------------------------------------------------------------------------------------------------------------------------------------------------------------------------------------------------------------------------------------------------------------------------------------------------------------------------------------------------------------------------------------------------------------------------------------------------------------------------------------------------------------------------------------------------------------------------------------------------------------------------------------------------------------------------------------------------------------------------------------------------------------------------------------------------------------------------------------------------------------------------------------------------------------------------------------------------------------------------------------------------------------------------------------------------------------------------------------------------------------------------------------------------------------------------------------------------------------------------------------------------------------------------------------------------------------------------------------------------------------------------------+----------------------+--------------+-------------------+------------------+------------------+-------------------+-------------------+-------------+------------+------------------+------------+----------------------+-------------------------+------------------------+----------+------------------+-------------------+---------------+---------------------+------------------+------------+-------------+-------------------------+-----------+---------------------+------------+--------------------+----------------------+\n",
            "|[\"private patio or balcony\", \"shared pool\", \"elevator\", \"shampoo\", \"kitchen\", \"iron\", \"essentials\", \"carbon monoxide alarm\", \"gym\", \"coffee maker\", \"backyard\", \"first aid kit\", \"wifi\", \"free parking on premises\", \"heating\", \"tv with standard cable\", \"air conditioning\", \"shared hot tub\", \"indoor fireplace\", \"fire extinguisher\", \"hair dryer\", \"pool view\", \"dedicated workspace\", \"refrigerator\", \"smoke alarm\", \"washer\", \"dryer\", \"garden view\", \"dishes and silverware\", \"hangers\"]                                                                                                                                                                                                                                                                                                                                                                                                                                                                                                                                                                                                                                                                                                                                                                                                                                                                                                                                                                                                                                                                                                                                                                                                                                                                                                                              |1                     |4             |2                  |2                 |3                 |2                  |2                  |2            |1           |0                 |0           |1                     |1                        |0                       |1         |1                 |0                  |0              |0                    |0                 |0           |0            |0                        |0          |0                    |1           |0                   |0                     |\n",
            "|[\"wen, v05, prell, among others.  conditioner\", \"central heating\", \"elevator\", \"kitchen\", \"single level home\", \"iron\", \"barbecue utensils\", \"coffee\", \"breakfast\", \"clothing storage: closet, wardrobe, and dresser\", \"indoor fireplace: gas\", \"essentials\", \"dishwasher\", \"carbon monoxide alarm\", \"free parking on premises\", \"books and reading material\", \"paid dryer \\u2013 in building\", \"portable heater\", \"portable fans\", \"shower gel\", \"first aid kit\", \"wifi\", \"paid washer \\u2013 in building\", \"drying rack for clothing\", \"exercise equipment: elliptical, free weights, stationary bike, treadmill\", \"bathtub\", \"wine glasses\", \"baking sheet\", \"shared patio or balcony\", \"long term stays allowed\", \"lock on bedroom door\", \"luggage dropoff allowed\", \"cleaning products\", \"coffee maker: drip coffee maker\", \"shared gym in building\", \"shared backyard \\u2013 fully fenced\", \"cooking basics\", \"toaster\", \"outdoor furniture\", \"hot water\", \"board games\", \"frigidaire gas stove\", \"beach access\", \"1801 beekman luxury spa goat milk soap & handmade hand cut amish wild flower bars body soap\", \"shared hot tub\", \"mountain view\", \"wen, prell, sauve, v05, pert, pantene. shampoo\", \"bed linens\", \"fire extinguisher\", \"oven\", \"freezer\", \"shared sauna\", \"host greets you\", \"central air conditioning\", \"fireplace guards\", \"room-darkening shades\", \"samsung refrigerator\", \"hair dryer\", \"dedicated workspace\", \"free street parking\", \"dishes and silverware\", \"portable air conditioning\", \"smoke alarm\", \"blender\", \"outdoor dining area\", \"microwave\", \"extra pillows and blankets\", \"hangers\"]                                                                                                                                                                                                |1                     |3             |1                  |5                 |3                 |3                  |2                  |0            |1           |0                 |0           |1                     |1                        |0                       |2         |1                 |1                  |1              |0                    |0                 |1           |0            |0                        |0          |0                    |0           |0                   |0                     |\n",
            "|[\"private patio or balcony\", \"hair dryer\", \"dedicated workspace\", \"cooking basics\", \"shampoo\", \"kitchen\", \"wifi\", \"refrigerator\", \"smoke alarm\", \"free street parking\", \"washer\", \"dryer\", \"heating\", \"oven\", \"microwave\", \"dishes and silverware\", \"host greets you\", \"essentials\", \"hangers\"]                                                                                                                                                                                                                                                                                                                                                                                                                                                                                                                                                                                                                                                                                                                                                                                                                                                                                                                                                                                                                                                                                                                                                                                                                                                                                                                                                                                                                                                                                                                              |1                     |2             |0                  |4                 |2                 |1                  |0                  |0            |0           |0                 |0           |0                     |0                        |0                       |1         |1                 |0                  |0              |0                    |0                 |0           |0            |0                        |0          |0                    |0           |0                   |0                     |\n",
            "|[\"tv\", \"iron\", \"essentials\", \"carbon monoxide alarm\", \"wifi\", \"free parking on premises\", \"heating\", \"long term stays allowed\", \"hot water\", \"air conditioning\", \"bed linens\", \"security cameras on property\", \"host greets you\", \"hair dryer\", \"refrigerator\", \"free street parking\", \"smoke alarm\", \"washer\", \"dryer\", \"microwave\", \"extra pillows and blankets\", \"hangers\"]                                                                                                                                                                                                                                                                                                                                                                                                                                                                                                                                                                                                                                                                                                                                                                                                                                                                                                                                                                                                                                                                                                                                                                                                                                                                                                                                                                                                                                               |1                     |0             |0                  |2                 |3                 |2                  |1                  |1            |1           |0                 |0           |0                     |0                        |0                       |0         |0                 |0                  |0              |0                    |0                 |0           |0            |0                        |0          |0                    |0           |0                   |0                     |\n",
            "|[\"shampoo\", \"kitchen\", \"hot water kettle\", \"iron\", \"barbecue utensils\", \"essentials\", \"dishwasher\", \"coffee maker\", \"books and reading material\", \"portable fans\", \"shower gel\", \"ac - split type ductless system\", \"wifi\", \"heating\", \"sun loungers\", \"free parking on premises\", \"clothing storage: wardrobe and dresser\", \"luggage dropoff allowed\", \"conditioner\", \"cleaning products\", \"piano\", \"cooking basics\", \"toaster\", \"outdoor furniture\", \"hot water\", \"patio or balcony\", \"gas stove\", \"dining table\", \"mountain view\", \"bidet\", \"bed linens\", \"ceiling fan\", \"fire extinguisher\", \"freezer\", \"room-darkening shades\", \"hair dryer\", \"ethernet connection\", \"dedicated workspace\", \"refrigerator\", \"double oven\", \"dishes and silverware\", \"free street parking\", \"body soap\", \"washer\", \"dryer\", \"sound system\", \"city skyline view\", \"garden view\", \"blender\", \"microwave\", \"32\\\" hdtv with amazon prime video, disney+, hbo max, hulu, roku, dvd player\", \"extra pillows and blankets\", \"outdoor dining area\", \"park view\", \"hangers\"]                                                                                                                                                                                                                                                                                                                                                                                                                                                                                                                                                                                                                                                                                                                                                                      |1                     |3             |0                  |5                 |3                 |2                  |0                  |1            |1           |0                 |0           |0                     |0                        |0                       |2         |1                 |1                  |0              |0                    |0                 |1           |0            |0                        |1          |0                    |1           |0                   |0                     |\n",
            "|[\"tv\", \"shampoo\", \"outdoor kitchen\", \"iron\", \"essentials\", \"carbon monoxide alarm\", \"coffee maker\", \"wifi\", \"shared patio or balcony\", \"free parking on premises\", \"heating\", \"lockbox\", \"lock on bedroom door\", \"shared backyard \\u2013 fully fenced\", \"self check-in\", \"cooking basics\", \"fire pit\", \"outdoor furniture\", \"hot water\", \"fire extinguisher\", \"bbq grill\", \"hair dryer\", \"free street parking\", \"smoke alarm\", \"washer\", \"outdoor dining area\", \"private entrance\", \"microwave\", \"hangers\"]                                                                                                                                                                                                                                                                                                                                                                                                                                                                                                                                                                                                                                                                                                                                                                                                                                                                                                                                                                                                                                                                                                                                                                                                                                                                                                                  |1                     |3             |0                  |2                 |3                 |1                  |1                  |1            |1           |0                 |0           |0                     |0                        |0                       |1         |0                 |1                  |0              |0                    |0                 |0           |0            |0                        |0          |0                    |0           |0                   |0                     |\n",
            "|[\"high chair\", \"shampoo\", \"kitchen\", \"stove\", \"single level home\", \"iron\", \"essentials\", \"carbon monoxide alarm\", \"coffee maker\", \"first aid kit\", \"wifi\", \"free parking on premises\", \"heating\", \"long term stays allowed\", \"lockbox\", \"lock on bedroom door\", \"luggage dropoff allowed\", \"shared backyard \\u2013 fully fenced\", \"self check-in\", \"cooking basics\", \"hot water\", \"bed linens\", \"oven\", \"fire extinguisher\", \"children\\u2019s books and toys\", \"hair dryer\", \"refrigerator\", \"free street parking\", \"smoke alarm\", \"washer\", \"garden view\", \"dishes and silverware\", \"hangers\"]                                                                                                                                                                                                                                                                                                                                                                                                                                                                                                                                                                                                                                                                                                                                                                                                                                                                                                                                                                                                                                                                                                                                                                                                                              |1                     |2             |0                  |4                 |3                 |1                  |2                  |0            |1           |0                 |0           |0                     |0                        |1                       |1         |0                 |0                  |0              |0                    |0                 |0           |0            |0                        |0          |0                    |1           |0                   |0                     |\n",
            "|[\"shampoo\", \"kitchen\", \"laundromat nearby\", \"stove\", \"cleaning available during stay\", \"hot water kettle\", \"iron\", \"coffee\", \"hammock\", \"clothing storage: closet\", \"essentials\", \"carbon monoxide alarm\", \"coffee maker\", \"backyard\", \"wifi\", \"shower gel\", \"free parking on premises\", \"wine glasses\", \"heating\", \"baking sheet\", \"long term stays allowed\", \"conditioner\", \"pack \\u2019n play/travel crib - always at the listing\", \"cooking basics\", \"toaster\", \"fire pit\", \"hot water\", \"air conditioning\", \"patio or balcony\", \"outdoor furniture\", \"tv with dvd player, netflix, amazon prime video, apple tv, hulu\", \"bed linens\", \"security cameras on property\", \"oven\", \"hot tub\", \"bbq grill\", \"hair dryer\", \"refrigerator\", \"free street parking\", \"dishes and silverware\", \"body soap\", \"crib\", \"smoke alarm\", \"blender\", \"outdoor dining area\", \"microwave\", \"extra pillows and blankets\", \"hangers\"]                                                                                                                                                                                                                                                                                                                                                                                                                                                                                                                                                                                                                                                                                                                                                                                                                                                                                                         |1                     |3             |1                  |5                 |2                 |2                  |1                  |1            |1           |0                 |0           |0                     |0                        |1                       |2         |0                 |1                  |0              |0                    |0                 |0           |0            |0                        |0          |0                    |0           |0                   |0                     |\n",
            "|[\"high chair\", \"kitchen\", \"iron\", \"essentials\", \"carbon monoxide alarm\", \"backyard\", \"wifi\", \"free parking on premises\", \"heating\", \"long term stays allowed\", \"lockbox\", \"tv with standard cable\", \"private pool\", \"luggage dropoff allowed\", \"self check-in\", \"pets allowed\", \"hot water\", \"air conditioning\", \"patio or balcony\", \"hair dryer\", \"smoke alarm\", \"washer\", \"dryer\", \"pack \\u2019n play/travel crib\", \"hangers\"]                                                                                                                                                                                                                                                                                                                                                                                                                                                                                                                                                                                                                                                                                                                                                                                                                                                                                                                                                                                                                                                                                                                                                                                                                                                                                                                                                                                             |1                     |3             |1                  |1                 |3                 |2                  |1                  |2            |1           |0                 |1           |0                     |0                        |2                       |0         |0                 |0                  |1              |0                    |0                 |0           |0            |0                        |0          |0                    |0           |0                   |0                     |\n",
            "|[\"high chair\", \"shampoo\", \"cleaning available during stay\", \"iron\", \"essentials\", \"gym\", \"backyard\", \"first aid kit\", \"wifi\", \"free parking on premises\", \"heating\", \"lockbox\", \"tv with standard cable\", \"private pool\", \"luggage dropoff allowed\", \"self check-in\", \"hot water\", \"air conditioning\", \"patio or balcony\", \"pets allowed\", \"indoor fireplace\", \"fire extinguisher\", \"children\\u2019s books and toys\", \"bbq grill\", \"hair dryer\", \"free street parking\", \"smoke alarm\", \"washer\", \"dryer\", \"private entrance\", \"pack \\u2019n play/travel crib\", \"hangers\"]                                                                                                                                                                                                                                                                                                                                                                                                                                                                                                                                                                                                                                                                                                                                                                                                                                                                                                                                                                                                                                                                                                                                                                                                                                                    |1                     |3             |1                  |0                 |3                 |2                  |1                  |2            |1           |0                 |1           |0                     |1                        |2                       |1         |0                 |1                  |1              |0                    |0                 |0           |0            |0                        |0          |0                    |0           |0                   |0                     |\n",
            "|[\"private patio or balcony\", \"private hot tub\", \"kitchen\", \"stove\", \"iron\", \"essentials\", \"carbon monoxide alarm\", \"coffee maker\", \"backyard\", \"first aid kit\", \"wifi\", \"free parking on premises\", \"heating\", \"tv with standard cable\", \"private pool\", \"luggage dropoff allowed\", \"piano\", \"cooking basics\", \"outdoor furniture\", \"hot water\", \"bed linens\", \"indoor fireplace\", \"oven\", \"fire extinguisher\", \"host greets you\", \"bbq grill\", \"hair dryer\", \"ethernet connection\", \"refrigerator\", \"free street parking\", \"dishes and silverware\", \"smoke alarm\", \"washer\", \"dryer\", \"outdoor dining area\", \"extra pillows and blankets\", \"hangers\"]                                                                                                                                                                                                                                                                                                                                                                                                                                                                                                                                                                                                                                                                                                                                                                                                                                                                                                                                                                                                                                                                                                                                                                       |1                     |3             |2                  |4                 |3                 |1                  |2                  |2            |1           |0                 |0           |0                     |0                        |0                       |0         |0                 |1                  |1              |0                    |0                 |0           |0            |0                        |0          |0                    |0           |0                   |0                     |\n",
            "|[\"shampoo\", \"kitchen\", \"stove\", \"iron\", \"barbecue utensils\", \"rice maker\", \"essentials\", \"carbon monoxide alarm\", \"backyard\", \"portable fans\", \"first aid kit\", \"wifi\", \"free parking on premises\", \"heating\", \"baking sheet\", \"long term stays allowed\", \"bathtub\", \"lock on bedroom door\", \"luggage dropoff allowed\", \"conditioner\", \"cleaning products\", \"piano\", \"cooking basics\", \"outdoor furniture\", \"hot water\", \"bed linens\", \"indoor fireplace\", \"oven\", \"fire extinguisher\", \"freezer\", \"mini fridge\", \"hair dryer\", \"dedicated workspace\", \"refrigerator\", \"free street parking\", \"dishes and silverware\", \"body soap\", \"smoke alarm\", \"washer\", \"dryer\", \"outdoor dining area\", \"microwave\", \"extra pillows and blankets\", \"hangers\"]                                                                                                                                                                                                                                                                                                                                                                                                                                                                                                                                                                                                                                                                                                                                                                                                                                                                                                                                                                                                                                                                           |1                     |1             |0                  |5                 |3                 |2                  |2                  |0            |1           |0                 |0           |0                     |0                        |0                       |2         |1                 |1                  |0              |0                    |0                 |0           |0            |0                        |0          |0                    |0           |0                   |0                     |\n",
            "|[\"shared pool\", \"kitchen\", \"laundromat nearby\", \"stove\", \"cleaning available during stay\", \"hot water kettle\", \"iron\", \"essentials\", \"carbon monoxide alarm\", \"coffee maker\", \"backyard\", \"paid dryer \\u2013 in building\", \"first aid kit\", \"wifi\", \"sun loungers\", \"wine glasses\", \"paid washer \\u2013 in building\", \"heating\", \"long term stays allowed\", \"tv with standard cable\", \"clothing storage: closet and dresser\", \"luggage dropoff allowed\", \"cooking basics\", \"toaster\", \"outdoor furniture\", \"hot water\", \"air conditioning\", \"patio or balcony\", \"dining table\", \"bed linens\", \"indoor fireplace\", \"ceiling fan\", \"security cameras on property\", \"oven\", \"freezer\", \"host greets you\", \"hair dryer\", \"dedicated workspace\", \"refrigerator\", \"free street parking\", \"dishes and silverware\", \"body soap\", \"smoke alarm\", \"microwave\", \"extra pillows and blankets\", \"hangers\"]                                                                                                                                                                                                                                                                                                                                                                                                                                                                                                                                                                                                                                                                                                                                                                                                                                                                                                                                |1                     |3             |1                  |5                 |3                 |3                  |2                  |2            |0           |0                 |0           |0                     |0                        |0                       |1         |1                 |0                  |0              |0                    |0                 |0           |0            |0                        |1          |0                    |0           |0                   |0                     |\n",
            "|[\"private patio or balcony\", \"elevator\", \"shampoo\", \"kitchen\", \"single level home\", \"iron\", \"indoor fireplace: gas\", \"essentials\", \"dishwasher\", \"carbon monoxide alarm\", \"coffee maker\", \"ev charger\", \"paid dryer \\u2013 in building\", \"first aid kit\", \"wifi\", \"free parking on premises\", \"paid washer \\u2013 in building\", \"movie theater\", \"heating\", \"long term stays allowed\", \"lock on bedroom door\", \"luggage dropoff allowed\", \"shared gym in building\", \"shared backyard \\u2013 fully fenced\", \"cooking basics\", \"outdoor furniture\", \"hot water\", \"frigidaire gas stove\", \"shared hot tub\", \"mountain view\", \"exercise equipment\", \"oven\", \"fire extinguisher\", \"host greets you\", \"central air conditioning\", \"bbq grill\", \"hair dryer\", \"dedicated workspace\", \"refrigerator\", \"free street parking\", \"smoke alarm\", \"outdoor dining area\", \"microwave\", \"dishes and silverware\", \"hangers\"]                                                                                                                                                                                                                                                                                                                                                                                                                                                                                                                                                                                                                                                                                                                                                                                                                                                                                                                  |1                     |3             |1                  |5                 |3                 |2                  |2                  |0            |1           |0                 |0           |1                     |1                        |0                       |1         |1                 |1                  |0              |0                    |0                 |1           |0            |0                        |0          |0                    |0           |0                   |0                     |\n",
            "|[\"shared pool\", \"shampoo\", \"32\\\" tv with amazon prime video, disney+, hulu, netflix, dvd player\", \"cleaning available during stay\", \"hot water kettle\", \"iron\", \"coffee\", \"clothing storage: closet\", \"essentials\", \"costco  body soap\", \"dishwasher\", \"carbon monoxide alarm\", \"books and reading material\", \"portable heater\", \"portable fans\", \"shower gel\", \"first aid kit\", \"wifi\", \"shared patio or balcony\", \"costco  conditioner\", \"bathtub\", \"cleaning products\", \"outdoor furniture\", \"coffee maker: keurig coffee machine\", \"hot water\", \"bed linens\", \"ceiling fan\", \"security cameras on property\", \"fire extinguisher\", \"host greets you\", \"fireplace guards\", \"room-darkening shades\", \"hair dryer\", \"dedicated workspace\", \"refrigerator\", \"private backyard \\u2013 fully fenced\", \"dishes and silverware\", \"free street parking\", \"smoke alarm\", \"outdoor dining area\", \"microwave\", \"extra pillows and blankets\", \"hangers\"]                                                                                                                                                                                                                                                                                                                                                                                                                                                                                                                                                                                                                                                                                                                                                                                                                                                                               |1                     |3             |1                  |2                 |3                 |1                  |2                  |1            |0           |0                 |0           |0                     |0                        |0                       |2         |1                 |0                  |0              |0                    |0                 |0           |0            |0                        |0          |0                    |0           |0                   |0                     |\n",
            "|[\"kitchen\", \"laundromat nearby\", \"cleaning available during stay\", \"hot water kettle\", \"single level home\", \"iron\", \"standalone high chair - available upon request\", \"pack \\u2019n play/travel crib - available upon request\", \"barbecue utensils\", \"coffee\", \"rice maker\", \"beach essentials\", \"essentials\", \"single oven\", \"carbon monoxide alarm\", \"shared gym nearby\", \"shared bbq grill: charcoal\", \"free washer \\u2013 in building\", \"tresemm\\u00e9/kirkland, not tested on animals. shampoo\", \"portable heater\", \"portable fans\", \"shower gel\", \"first aid kit\", \"wine glasses\", \"drying rack for clothing\", \"baking sheet\", \"tresemm\\u00e9/kirkland, not tested on animals conditioner\", \"shared patio or balcony\", \"sun loungers\", \"long term stays allowed\", \"lockbox\", \"window ac unit\", \"clothing storage: closet and dresser\", \"luggage dropoff allowed\", \"cleaning products\", \"coffee maker: drip coffee maker\", \"37\\\" hdtv with apple tv, netflix, premium cable, standard cable, dvd player\", \"shared backyard \\u2013 fully fenced\", \"self check-in\", \"cooking basics\", \"toaster\", \"outdoor furniture\", \"hot water\", \"baby safety gates\", \"free driveway parking on premises \\u2013 3 spaces\", \"pets allowed\", \"gas stove\", \"dining table\", \"bed linens\", \"ceiling fan\", \"security cameras on property\", \"fire extinguisher\", \"freezer\", \"outlet covers\", \"room-darkening shades\", \"fast wifi \\u2013 86 mbps\", \"hair dryer\", \"ethernet connection\", \"dedicated workspace\", \"free dryer \\u2013 in building\", \"refrigerator\", \"free street parking\", \"dishes and silverware\", \"smoke alarm\", \"blender\", \"garden view\", \"private entrance\", \"outdoor dining area\", \"microwave\", \"extra pillows and blankets\", \"bikes\", \"kirkland, not tested on animals. body soap\", \"crib - always at the listing\", \"hangers\"]|1                     |4             |0                  |5                 |3                 |1                  |2                  |2            |0           |0                 |1           |0                     |1                        |2                       |2         |1                 |2                  |0              |0                    |0                 |0           |0            |0                        |1          |0                    |1           |0                   |0                     |\n",
            "|[\"private patio or balcony\", \"record player\", \"shampoo\", \"kitchen\", \"laundromat nearby\", \"toaster oven oven\", \"booster seat high chair - available upon request\", \"hot water kettle\", \"iron\", \"single level home\", \"pack \\u2019n play/travel crib - available upon request\", \"coffee\", \"rice maker\", \"beach essentials\", \"building staff\", \"essentials\", \"shared gym nearby\", \"portable heater\", \"first aid kit\", \"shower gel\", \"wifi\", \"ikea induction stove\", \"drying rack for clothing\", \"outdoor playground\", \"window ac unit\", \"55\\\" hdtv with amazon prime video, hbo max, netflix, roku, standard cable, premium cable\", \"conditioner\", \"cleaning products\", \"smoking allowed\", \"clothing storage\", \"self check-in\", \"cooking basics\", \"toaster\", \"outdoor furniture\", \"hot water\", \"board games\", \"dining table\", \"bed linens\", \"ceiling fan\", \"security cameras on property\", \"fire extinguisher\", \"bbq grill: charcoal\", \"freezer\", \"children\\u2019s books and toys\", \"mini fridge\", \"public or shared beach access\", \"courtyard view\", \"exercise equipment: elliptical, free weights, stationary bike, treadmill, yoga mat\", \"free driveway parking on premises \\u2013 1 space\", \"room-darkening shades\", \"hair dryer\", \"ethernet connection\", \"dedicated workspace\", \"refrigerator\", \"private backyard \\u2013 fully fenced\", \"dishes and silverware\", \"free street parking\", \"body soap\", \"crib\", \"smoke alarm\", \"blender\", \"garden view\", \"private entrance\", \"outdoor dining area\", \"microwave\", \"extra pillows and blankets\", \"park view\", \"hangers\"]                                                                                                                                                                                                                                                         |1                     |4             |0                  |5                 |2                 |1                  |1                  |2            |0           |0                 |0           |0                     |1                        |2                       |2         |1                 |1                  |0              |0                    |0                 |0           |0            |0                        |1          |0                    |1           |0                   |0                     |\n",
            "|[\"elevator\", \"shampoo\", \"kitchen\", \"stove\", \"iron\", \"beach essentials\", \"game console\", \"essentials\", \"dishwasher\", \"carbon monoxide alarm\", \"coffee maker\", \"first aid kit\", \"wifi\", \"free parking on premises\", \"heating\", \"long term stays allowed\", \"bathtub\", \"lockbox\", \"tv with standard cable\", \"lock on bedroom door\", \"luggage dropoff allowed\", \"self check-in\", \"cooking basics\", \"hot water\", \"baby safety gates\", \"air conditioning\", \"patio or balcony\", \"bed linens\", \"oven\", \"fire extinguisher\", \"children\\u2019s books and toys\", \"room-darkening shades\", \"hair dryer\", \"refrigerator\", \"free street parking\", \"dishes and silverware\", \"smoke alarm\", \"washer\", \"dryer\", \"private entrance\", \"microwave\", \"extra pillows and blankets\", \"hangers\"]                                                                                                                                                                                                                                                                                                                                                                                                                                                                                                                                                                                                                                                                                                                                                                                                                                                                                                                                                                                                                                                      |1                     |2             |0                  |5                 |3                 |2                  |2                  |2            |1           |0                 |0           |1                     |0                        |0                       |1         |0                 |0                  |0              |0                    |0                 |0           |0            |0                        |0          |0                    |0           |0                   |0                     |\n",
            "|[\"shampoo\", \"kitchen\", \"stove\", \"iron\", \"essentials\", \"carbon monoxide alarm\", \"wifi\", \"heating\", \"bathtub\", \"lock on bedroom door\", \"cooking basics\", \"hot water\", \"oven\", \"host greets you\", \"hair dryer\", \"dedicated workspace\", \"refrigerator\", \"free street parking\", \"smoke alarm\", \"dishes and silverware\", \"hangers\"]                                                                                                                                                                                                                                                                                                                                                                                                                                                                                                                                                                                                                                                                                                                                                                                                                                                                                                                                                                                                                                                                                                                                                                                                                                                                                                                                                                                                                                                                                                |1                     |0             |0                  |4                 |2                 |1                  |1                  |0            |0           |0                 |0           |0                     |0                        |0                       |1         |1                 |0                  |0              |0                    |0                 |0           |0            |0                        |0          |0                    |0           |0                   |0                     |\n",
            "|[\"kitchen\", \"laundromat nearby\", \"hot water kettle\", \"single level home\", \"iron\", \"coffee\", \"hammock\", \"clothing storage: closet\", \"essentials\", \"convection toaster oven oven\", \"carbon monoxide alarm\", \"free washer \\u2013 in building\", \"heating - split type ductless system\", \"shared backyard \\u2013 not fully fenced\", \"wifi\", \"shared patio or balcony\", \"bluetooth sound system\", \"ac - split type ductless system\", \"wine glasses\", \"free parking on premises\", \"long term stays allowed\", \"lockbox\", \"luggage dropoff allowed\", \"cleaning products\", \"coffee maker: drip coffee maker, french press\", \"self check-in\", \"cooking basics\", \"toaster\", \"outdoor furniture\", \"hot water\", \"dining table\", \"bed linens\", \"ceiling fan\", \"security cameras on property\", \"fire extinguisher\", \"freezer\", \"mini fridge\", \"danyo refrigerator\", \"room-darkening shades\", \"hair dryer\", \"valley view\", \"dedicated workspace\", \"free dryer \\u2013 in building\", \"induction stove\", \"free street parking\", \"dishes and silverware\", \"32\\\" hdtv with roku\", \"smoke alarm\", \"city skyline view\", \"garden view\", \"private entrance\", \"microwave\", \"outdoor dining area\", \"extra pillows and blankets\", \"hangers\"]                                                                                                                                                                                                                                                                                                                                                                                                                                                                                                                                                                                                              |1                     |4             |0                  |5                 |3                 |2                  |1                  |1            |1           |0                 |0           |0                     |0                        |0                       |0         |1                 |0                  |0              |0                    |0                 |0           |0            |0                        |1          |0                    |1           |0                   |0                     |\n",
            "+-----------------------------------------------------------------------------------------------------------------------------------------------------------------------------------------------------------------------------------------------------------------------------------------------------------------------------------------------------------------------------------------------------------------------------------------------------------------------------------------------------------------------------------------------------------------------------------------------------------------------------------------------------------------------------------------------------------------------------------------------------------------------------------------------------------------------------------------------------------------------------------------------------------------------------------------------------------------------------------------------------------------------------------------------------------------------------------------------------------------------------------------------------------------------------------------------------------------------------------------------------------------------------------------------------------------------------------------------------------------------------------------------------------------------------------------------------------------------------------------------------------------------------------------------------------------------------------------------------------------------------------------------------------------------------------------------------------------------------------------------------------------------------------------------------------------------------+----------------------+--------------+-------------------+------------------+------------------+-------------------+-------------------+-------------+------------+------------------+------------+----------------------+-------------------------+------------------------+----------+------------------+-------------------+---------------+---------------------+------------------+------------+-------------+-------------------------+-----------+---------------------+------------+--------------------+----------------------+\n",
            "only showing top 20 rows\n",
            "\n"
          ]
        }
      ]
    },
    {
      "cell_type": "code",
      "execution_count": 72,
      "metadata": {
        "id": "QYoU43O36HyY",
        "colab": {
          "base_uri": "https://localhost:8080/"
        },
        "outputId": "d40d58c8-9d25-472c-a4e1-ce9ec8504754"
      },
      "outputs": [
        {
          "output_type": "stream",
          "name": "stdout",
          "text": [
            "+-----------------------------------------------------------------------------------------------------------------------------------------------------------------------------------------------------------------------------------------------------------------------------------------------------------------------------------------------------------------------------------------------------------------------------------------------------------------------------------------------------------------------------------------------------------------------------------------------------------------------------------------------------------------------------------------------------------------------------------------------------------------------------------------------------------------------------------------------------------------------------------------------------------------------------------------------------------------------------------------------------------------------------------------------------------------------------------------------------------------------------------------------------------------------------------------------------------------------------------------------------------------------------------------------------------------------------------------------------------------------------------------------------------------------------------------------------------------------------------------------------------------------------------------------------------------------------------------------------------------------------+---------------+\n",
            "|listings_amenities                                                                                                                                                                                                                                                                                                                                                                                                                                                                                                                                                                                                                                                                                                                                                                                                                                                                                                                                                                                                                                                                                                                                                                                                                                                                                                                                                                                                                                                                                                                                                                                                           |total_amenities|\n",
            "+-----------------------------------------------------------------------------------------------------------------------------------------------------------------------------------------------------------------------------------------------------------------------------------------------------------------------------------------------------------------------------------------------------------------------------------------------------------------------------------------------------------------------------------------------------------------------------------------------------------------------------------------------------------------------------------------------------------------------------------------------------------------------------------------------------------------------------------------------------------------------------------------------------------------------------------------------------------------------------------------------------------------------------------------------------------------------------------------------------------------------------------------------------------------------------------------------------------------------------------------------------------------------------------------------------------------------------------------------------------------------------------------------------------------------------------------------------------------------------------------------------------------------------------------------------------------------------------------------------------------------------+---------------+\n",
            "|[\"private patio or balcony\", \"shared pool\", \"elevator\", \"shampoo\", \"kitchen\", \"iron\", \"essentials\", \"carbon monoxide alarm\", \"gym\", \"coffee maker\", \"backyard\", \"first aid kit\", \"wifi\", \"free parking on premises\", \"heating\", \"tv with standard cable\", \"air conditioning\", \"shared hot tub\", \"indoor fireplace\", \"fire extinguisher\", \"hair dryer\", \"pool view\", \"dedicated workspace\", \"refrigerator\", \"smoke alarm\", \"washer\", \"dryer\", \"garden view\", \"dishes and silverware\", \"hangers\"]                                                                                                                                                                                                                                                                                                                                                                                                                                                                                                                                                                                                                                                                                                                                                                                                                                                                                                                                                                                                                                                                                                                              |30             |\n",
            "|[\"wen, v05, prell, among others.  conditioner\", \"central heating\", \"elevator\", \"kitchen\", \"single level home\", \"iron\", \"barbecue utensils\", \"coffee\", \"breakfast\", \"clothing storage: closet, wardrobe, and dresser\", \"indoor fireplace: gas\", \"essentials\", \"dishwasher\", \"carbon monoxide alarm\", \"free parking on premises\", \"books and reading material\", \"paid dryer \\u2013 in building\", \"portable heater\", \"portable fans\", \"shower gel\", \"first aid kit\", \"wifi\", \"paid washer \\u2013 in building\", \"drying rack for clothing\", \"exercise equipment: elliptical, free weights, stationary bike, treadmill\", \"bathtub\", \"wine glasses\", \"baking sheet\", \"shared patio or balcony\", \"long term stays allowed\", \"lock on bedroom door\", \"luggage dropoff allowed\", \"cleaning products\", \"coffee maker: drip coffee maker\", \"shared gym in building\", \"shared backyard \\u2013 fully fenced\", \"cooking basics\", \"toaster\", \"outdoor furniture\", \"hot water\", \"board games\", \"frigidaire gas stove\", \"beach access\", \"1801 beekman luxury spa goat milk soap & handmade hand cut amish wild flower bars body soap\", \"shared hot tub\", \"mountain view\", \"wen, prell, sauve, v05, pert, pantene. shampoo\", \"bed linens\", \"fire extinguisher\", \"oven\", \"freezer\", \"shared sauna\", \"host greets you\", \"central air conditioning\", \"fireplace guards\", \"room-darkening shades\", \"samsung refrigerator\", \"hair dryer\", \"dedicated workspace\", \"free street parking\", \"dishes and silverware\", \"portable air conditioning\", \"smoke alarm\", \"blender\", \"outdoor dining area\", \"microwave\", \"extra pillows and blankets\", \"hangers\"]|81             |\n",
            "|[\"private patio or balcony\", \"hair dryer\", \"dedicated workspace\", \"cooking basics\", \"shampoo\", \"kitchen\", \"wifi\", \"refrigerator\", \"smoke alarm\", \"free street parking\", \"washer\", \"dryer\", \"heating\", \"oven\", \"microwave\", \"dishes and silverware\", \"host greets you\", \"essentials\", \"hangers\"]                                                                                                                                                                                                                                                                                                                                                                                                                                                                                                                                                                                                                                                                                                                                                                                                                                                                                                                                                                                                                                                                                                                                                                                                                                                                                                                              |19             |\n",
            "|[\"tv\", \"iron\", \"essentials\", \"carbon monoxide alarm\", \"wifi\", \"free parking on premises\", \"heating\", \"long term stays allowed\", \"hot water\", \"air conditioning\", \"bed linens\", \"security cameras on property\", \"host greets you\", \"hair dryer\", \"refrigerator\", \"free street parking\", \"smoke alarm\", \"washer\", \"dryer\", \"microwave\", \"extra pillows and blankets\", \"hangers\"]                                                                                                                                                                                                                                                                                                                                                                                                                                                                                                                                                                                                                                                                                                                                                                                                                                                                                                                                                                                                                                                                                                                                                                                                                                               |22             |\n",
            "|[\"shampoo\", \"kitchen\", \"hot water kettle\", \"iron\", \"barbecue utensils\", \"essentials\", \"dishwasher\", \"coffee maker\", \"books and reading material\", \"portable fans\", \"shower gel\", \"ac - split type ductless system\", \"wifi\", \"heating\", \"sun loungers\", \"free parking on premises\", \"clothing storage: wardrobe and dresser\", \"luggage dropoff allowed\", \"conditioner\", \"cleaning products\", \"piano\", \"cooking basics\", \"toaster\", \"outdoor furniture\", \"hot water\", \"patio or balcony\", \"gas stove\", \"dining table\", \"mountain view\", \"bidet\", \"bed linens\", \"ceiling fan\", \"fire extinguisher\", \"freezer\", \"room-darkening shades\", \"hair dryer\", \"ethernet connection\", \"dedicated workspace\", \"refrigerator\", \"double oven\", \"dishes and silverware\", \"free street parking\", \"body soap\", \"washer\", \"dryer\", \"sound system\", \"city skyline view\", \"garden view\", \"blender\", \"microwave\", \"32\\\" hdtv with amazon prime video, disney+, hbo max, hulu, roku, dvd player\", \"extra pillows and blankets\", \"outdoor dining area\", \"park view\", \"hangers\"]                                                                                                                                                                                                                                                                                                                                                                                                                                                                                                                                                                      |60             |\n",
            "+-----------------------------------------------------------------------------------------------------------------------------------------------------------------------------------------------------------------------------------------------------------------------------------------------------------------------------------------------------------------------------------------------------------------------------------------------------------------------------------------------------------------------------------------------------------------------------------------------------------------------------------------------------------------------------------------------------------------------------------------------------------------------------------------------------------------------------------------------------------------------------------------------------------------------------------------------------------------------------------------------------------------------------------------------------------------------------------------------------------------------------------------------------------------------------------------------------------------------------------------------------------------------------------------------------------------------------------------------------------------------------------------------------------------------------------------------------------------------------------------------------------------------------------------------------------------------------------------------------------------------------+---------------+\n",
            "only showing top 5 rows\n",
            "\n"
          ]
        }
      ],
      "source": [
        "from pyspark.sql.functions import size, split\n",
        "\n",
        "# Count total amenities\n",
        "final_df = final_df.withColumn('total_amenities', size(split('listings_amenities', ',')))\n",
        "\n",
        "# Show the new column\n",
        "final_df.select('listings_amenities', 'total_amenities').show(5, truncate=False)"
      ]
    },
    {
      "cell_type": "code",
      "execution_count": 73,
      "metadata": {
        "id": "M-BVeaWS6s1D"
      },
      "outputs": [],
      "source": [
        "# Drop the 'listings_amenities' column\n",
        "final_df = final_df.drop('listings_amenities')"
      ]
    },
    {
      "cell_type": "code",
      "execution_count": 74,
      "metadata": {
        "id": "zuNNYQDw6zuf"
      },
      "outputs": [],
      "source": [
        "final_df = final_df.drop('listings_calendar_last_scraped')"
      ]
    },
    {
      "cell_type": "code",
      "execution_count": 75,
      "metadata": {
        "id": "zKcC0PH36-qV",
        "colab": {
          "base_uri": "https://localhost:8080/"
        },
        "outputId": "c16cbaef-556f-43b7-fd67-4a7359c3e922"
      },
      "outputs": [
        {
          "output_type": "stream",
          "name": "stdout",
          "text": [
            "+----------------+\n",
            "|has_availability|\n",
            "+----------------+\n",
            "|               1|\n",
            "|               1|\n",
            "|               1|\n",
            "|               0|\n",
            "|               1|\n",
            "|               1|\n",
            "|               1|\n",
            "|               1|\n",
            "|               1|\n",
            "|               0|\n",
            "+----------------+\n",
            "only showing top 10 rows\n",
            "\n"
          ]
        }
      ],
      "source": [
        "from pyspark.sql.functions import when\n",
        "\n",
        "final_df = final_df.withColumn(\n",
        "    'has_availability',\n",
        "    when(final_df['listings_has_availability'] == 't', 1).otherwise(0)\n",
        ")\n",
        "\n",
        "# Drop the original column\n",
        "final_df = final_df.drop('listings_has_availability')\n",
        "\n",
        "# Show the new column\n",
        "final_df.select('has_availability').show(10)"
      ]
    },
    {
      "cell_type": "code",
      "execution_count": 76,
      "metadata": {
        "id": "Omd2G2iE7CfQ"
      },
      "outputs": [],
      "source": [
        "final_df = final_df.drop('bus_ZIPCODE')"
      ]
    },
    {
      "cell_type": "code",
      "execution_count": 77,
      "metadata": {
        "id": "SHOLwVYP7XY3",
        "colab": {
          "base_uri": "https://localhost:8080/"
        },
        "outputId": "64d73fb5-d7e0-4c03-c79e-cbb7675dd70f"
      },
      "outputs": [
        {
          "output_type": "stream",
          "name": "stdout",
          "text": [
            "+---------------------+--------------------+\n",
            "|listings_first_review|listings_last_review|\n",
            "+---------------------+--------------------+\n",
            "|           2011-08-15|          2016-05-15|\n",
            "|           2014-06-09|          2023-07-31|\n",
            "|           2011-06-06|          2022-08-21|\n",
            "|                 null|                null|\n",
            "|           2011-01-02|          2023-11-18|\n",
            "|           2009-07-17|          2023-11-04|\n",
            "|           2011-05-17|          2020-08-22|\n",
            "|           2011-01-02|          2023-11-19|\n",
            "|           2012-03-12|          2023-10-28|\n",
            "|           2009-08-13|          2020-03-22|\n",
            "+---------------------+--------------------+\n",
            "only showing top 10 rows\n",
            "\n"
          ]
        }
      ],
      "source": [
        "from pyspark.sql.functions import to_date\n",
        "\n",
        "# Convert to date format\n",
        "final_df = final_df.withColumn('listings_first_review', to_date(final_df['listings_first_review']))\n",
        "final_df = final_df.withColumn('listings_last_review', to_date(final_df['listings_last_review']))\n",
        "\n",
        "# Show the converted columns\n",
        "final_df.select('listings_first_review', 'listings_last_review').show(10)"
      ]
    },
    {
      "cell_type": "code",
      "execution_count": 78,
      "metadata": {
        "id": "riaDGX0n7e_a",
        "colab": {
          "base_uri": "https://localhost:8080/"
        },
        "outputId": "e8d0f646-5679-415a-c01e-d9c8ce66b56e"
      },
      "outputs": [
        {
          "output_type": "stream",
          "name": "stdout",
          "text": [
            "+---------------------+--------------------+----------------------+------------------------+\n",
            "|listings_first_review|listings_last_review|days_since_last_review|review_activity_duration|\n",
            "+---------------------+--------------------+----------------------+------------------------+\n",
            "|           2011-08-15|          2016-05-15|                  3135|                    1735|\n",
            "|           2014-06-09|          2023-07-31|                   502|                    3339|\n",
            "|           2011-06-06|          2022-08-21|                   846|                    4094|\n",
            "|                 null|                null|                  null|                    null|\n",
            "|           2011-01-02|          2023-11-18|                   392|                    4703|\n",
            "|           2009-07-17|          2023-11-04|                   406|                    5223|\n",
            "|           2011-05-17|          2020-08-22|                  1575|                    3385|\n",
            "|           2011-01-02|          2023-11-19|                   391|                    4704|\n",
            "|           2012-03-12|          2023-10-28|                   413|                    4247|\n",
            "|           2009-08-13|          2020-03-22|                  1728|                    3874|\n",
            "+---------------------+--------------------+----------------------+------------------------+\n",
            "only showing top 10 rows\n",
            "\n"
          ]
        }
      ],
      "source": [
        "from pyspark.sql.functions import datediff, current_date\n",
        "\n",
        "# Calculate days since last review\n",
        "final_df = final_df.withColumn('days_since_last_review', datediff(current_date(), final_df['listings_last_review']))\n",
        "\n",
        "# Calculate duration between first and last review\n",
        "final_df = final_df.withColumn('review_activity_duration', datediff(final_df['listings_last_review'], final_df['listings_first_review']))\n",
        "\n",
        "# Show the new columns\n",
        "final_df.select('listings_first_review', 'listings_last_review', 'days_since_last_review', 'review_activity_duration').show(10)"
      ]
    },
    {
      "cell_type": "code",
      "execution_count": 79,
      "metadata": {
        "id": "j0PV69ru7kBE"
      },
      "outputs": [],
      "source": [
        "# Drop the original columns\n",
        "final_df = final_df.drop('listings_first_review', 'listings_last_review')"
      ]
    },
    {
      "cell_type": "code",
      "execution_count": 80,
      "metadata": {
        "id": "FZognl7j7qNa",
        "colab": {
          "base_uri": "https://localhost:8080/"
        },
        "outputId": "d72053f0-1613-404f-b21e-cd21baf1928e"
      },
      "outputs": [
        {
          "output_type": "stream",
          "name": "stdout",
          "text": [
            "+-----------+----------------+---------------------------+-----------------------------+--------------------------+-------------------------+----------------------------+----------------------------------+-----------------------------+-------------------------------+-------------------------------------+---------------------+-------------+--------------+-----------------------+-----------------------+-------------------------------+-------------------------------+-------------------------------+-------------------------------+-------------------------------+-------------------------------+------------------------+------------------------+------------------------+-------------------------+--------------------------+------------------------------+-------------------------------+-----------------------------+-------------------------------+----------------------------------+------------------------------+------------------------------------+-------------------------------+----------------------------+-------------------------+---------------------------------------+----------------------------------------------------+-----------------------------------------------------+----------------------------------------------------+--------------------------+--------------------+----------------+-------------------+--------------------------+-------------------------+--------------------------+------------------+----------------------+-------------------------+-----------------------+-----------------------+------------------------------+--------------------------+------------------+---------------------------+------------------------------+-------------------+------------------------+----------------------+---------------+----------------------+-----------------+---------------+----------------------+-------------------------+------------------------------------------+-------------------+---------------------------------------+--------------------------+--------------------------------+----------------------------------+--------------------------------+--------------------------+---------------------+--------------------+-------------------------+----------------------+----------------------+--------------+-------------------+------------------+------------------+-------------------+-------------------+-------------+------------+------------------+------------+----------------------+-------------------------+------------------------+----------+------------------+-------------------+---------------+---------------------+------------------+------------+-------------+-------------------------+-----------+---------------------+------------+--------------------+----------------------+---------------+----------------+----------------------+------------------------+\n",
            "|listings_id|listings_host_id|listings_host_response_rate|listings_host_acceptance_rate|listings_host_is_superhost|listings_host_picture_url|listings_host_listings_count|listings_host_total_listings_count|listings_host_has_profile_pic|listings_host_identity_verified|listings_neighbourhood_group_cleansed|listings_accommodates|listings_beds|listings_price|listings_minimum_nights|listings_maximum_nights|listings_minimum_minimum_nights|listings_maximum_minimum_nights|listings_minimum_maximum_nights|listings_maximum_maximum_nights|listings_minimum_nights_avg_ntm|listings_maximum_nights_avg_ntm|listings_availability_30|listings_availability_60|listings_availability_90|listings_availability_365|listings_number_of_reviews|listings_number_of_reviews_ltm|listings_number_of_reviews_l30d|listings_review_scores_rating|listings_review_scores_accuracy|listings_review_scores_cleanliness|listings_review_scores_checkin|listings_review_scores_communication|listings_review_scores_location|listings_review_scores_value|listings_instant_bookable|listings_calculated_host_listings_count|listings_calculated_host_listings_count_entire_homes|listings_calculated_host_listings_count_private_rooms|listings_calculated_host_listings_count_shared_rooms|listings_reviews_per_month|listings_index_right|listings_ZIPCODE|bus_bus_stops_count|metro_train_stations_count|crime_Assault and Battery|crime_Child-Related Crimes|crime_Cyber Crimes|crime_Driving Offenses|crime_Drug-Related Crimes|crime_Fraud and Forgery|crime_Human Trafficking|crime_Kidnapping and Abduction|crime_Miscellaneous Crimes|crime_Other Crimes|crime_Robbery and Extortion|crime_Serious Crime - Homicide|crime_Sexual Crimes|crime_Theft and Burglary|crime_Traffic Offenses|crime_Vandalism|crime_Weapons Offenses|host_active_years|bathrooms_count|response_time_category|property_type_Entire_Unit|property_type_Cultural_&_Local_Experiences|property_type_Other|property_type_Vehicles_as_Accommodation|property_type_Unique_Stays|property_type_Farm_&_Ranch_Stays|property_type_Shared_Accommodation|property_type_Nature-Based_Stays|property_type_Private_Room|room_type_Shared_room|room_type_Hotel_room|room_type_Entire_home/apt|room_type_Private_room|free_wifi_and_internet|outdoor_spaces|swimming_facilities|kitchen_essentials|laundry_facilities|heating_and_cooling|safety_and_security|entertainment|free_parking|parking_facilities|pet_friendly|accessibility_features|fitness_and_gym_equipment|child_friendly_amenities|essentials|workspace_features|barbecue_and_grills|luxury_features|recreational_features|transport_features|scenic_views|shared_spaces|technology_and_smart_home|dining_area|event_friendly_spaces|green_spaces|luxury_entertainment|special_accommodations|total_amenities|has_availability|days_since_last_review|review_activity_duration|\n",
            "+-----------+----------------+---------------------------+-----------------------------+--------------------------+-------------------------+----------------------------+----------------------------------+-----------------------------+-------------------------------+-------------------------------------+---------------------+-------------+--------------+-----------------------+-----------------------+-------------------------------+-------------------------------+-------------------------------+-------------------------------+-------------------------------+-------------------------------+------------------------+------------------------+------------------------+-------------------------+--------------------------+------------------------------+-------------------------------+-----------------------------+-------------------------------+----------------------------------+------------------------------+------------------------------------+-------------------------------+----------------------------+-------------------------+---------------------------------------+----------------------------------------------------+-----------------------------------------------------+----------------------------------------------------+--------------------------+--------------------+----------------+-------------------+--------------------------+-------------------------+--------------------------+------------------+----------------------+-------------------------+-----------------------+-----------------------+------------------------------+--------------------------+------------------+---------------------------+------------------------------+-------------------+------------------------+----------------------+---------------+----------------------+-----------------+---------------+----------------------+-------------------------+------------------------------------------+-------------------+---------------------------------------+--------------------------+--------------------------------+----------------------------------+--------------------------------+--------------------------+---------------------+--------------------+-------------------------+----------------------+----------------------+--------------+-------------------+------------------+------------------+-------------------+-------------------+-------------+------------+------------------+------------+----------------------+-------------------------+------------------------+----------+------------------+-------------------+---------------+---------------------+------------------+------------+-------------+-------------------------+-----------+---------------------+------------+--------------------+----------------------+---------------+----------------+----------------------+------------------------+\n",
            "|    9304169|        48301416|                       97.0|                         99.0|                         1|     https://a0.muscac...|                        10.0|                              12.0|                            1|                              1|                 Unincorporated Areas|                    2|          1.0|          71.0|                      2|                     14|                              2|                              2|                           1125|                           1125|                            2.0|                         1125.0|                       0|                       0|                       0|                        0|                       543|                            50|                              2|                         4.79|                           4.87|                              4.87|                          4.91|                                4.92|                           4.57|                        4.82|                        0|                                      6|                                                   6|                                                    0|                                                   0|                       5.7|                  19|           90022|                  0|                         3|                        0|                         0|                 0|                     0|                        0|                      0|                      0|                             0|                         0|                 0|                          0|                             0|                  0|                       0|                     0|              0|                     0|9.112328767123287|            1.0|                     1|                        1|                                         0|                  0|                                      0|                         0|                               0|                                 0|                               0|                         0|                    0|                   0|                        1|                     0|                     1|             0|                  0|                 2|                 2|                  3|                  1|            1|           1|                 0|           0|                     0|                        0|                       0|         2|                 0|                  0|              0|                    0|                 0|           0|            0|                        0|          0|                    0|           0|                   0|                     0|             30|               1|                   394|                    2839|\n",
            "+-----------+----------------+---------------------------+-----------------------------+--------------------------+-------------------------+----------------------------+----------------------------------+-----------------------------+-------------------------------+-------------------------------------+---------------------+-------------+--------------+-----------------------+-----------------------+-------------------------------+-------------------------------+-------------------------------+-------------------------------+-------------------------------+-------------------------------+------------------------+------------------------+------------------------+-------------------------+--------------------------+------------------------------+-------------------------------+-----------------------------+-------------------------------+----------------------------------+------------------------------+------------------------------------+-------------------------------+----------------------------+-------------------------+---------------------------------------+----------------------------------------------------+-----------------------------------------------------+----------------------------------------------------+--------------------------+--------------------+----------------+-------------------+--------------------------+-------------------------+--------------------------+------------------+----------------------+-------------------------+-----------------------+-----------------------+------------------------------+--------------------------+------------------+---------------------------+------------------------------+-------------------+------------------------+----------------------+---------------+----------------------+-----------------+---------------+----------------------+-------------------------+------------------------------------------+-------------------+---------------------------------------+--------------------------+--------------------------------+----------------------------------+--------------------------------+--------------------------+---------------------+--------------------+-------------------------+----------------------+----------------------+--------------+-------------------+------------------+------------------+-------------------+-------------------+-------------+------------+------------------+------------+----------------------+-------------------------+------------------------+----------+------------------+-------------------+---------------+---------------------+------------------+------------+-------------+-------------------------+-----------+---------------------+------------+--------------------+----------------------+---------------+----------------+----------------------+------------------------+\n",
            "only showing top 1 row\n",
            "\n"
          ]
        }
      ],
      "source": [
        "final_df.show(1)"
      ]
    },
    {
      "cell_type": "code",
      "execution_count": 81,
      "metadata": {
        "id": "Go0FlupG7rI6",
        "colab": {
          "base_uri": "https://localhost:8080/"
        },
        "outputId": "357a5a8f-c463-4d48-c7ff-31079982d58b"
      },
      "outputs": [
        {
          "output_type": "stream",
          "name": "stdout",
          "text": [
            "+-----------+----------------+---------------------------+-----------------------------+--------------------------+-------------------------+----------------------------+----------------------------------+-----------------------------+-------------------------------+-------------------------------------+---------------------+-------------+--------------+-----------------------+-----------------------+-------------------------------+-------------------------------+-------------------------------+-------------------------------+-------------------------------+-------------------------------+------------------------+------------------------+------------------------+-------------------------+--------------------------+------------------------------+-------------------------------+-----------------------------+-------------------------------+----------------------------------+------------------------------+------------------------------------+-------------------------------+----------------------------+-------------------------+---------------------------------------+----------------------------------------------------+-----------------------------------------------------+----------------------------------------------------+--------------------------+--------------------+----------------+-------------------+--------------------------+-------------------------+--------------------------+------------------+----------------------+-------------------------+-----------------------+-----------------------+------------------------------+--------------------------+------------------+---------------------------+------------------------------+-------------------+------------------------+----------------------+---------------+----------------------+-----------------+---------------+----------------------+-------------------------+------------------------------------------+-------------------+---------------------------------------+--------------------------+--------------------------------+----------------------------------+--------------------------------+--------------------------+---------------------+--------------------+-------------------------+----------------------+----------------------+--------------+-------------------+------------------+------------------+-------------------+-------------------+-------------+------------+------------------+------------+----------------------+-------------------------+------------------------+----------+------------------+-------------------+---------------+---------------------+------------------+------------+-------------+-------------------------+-----------+---------------------+------------+--------------------+----------------------+---------------+----------------+----------------------+------------------------+\n",
            "|listings_id|listings_host_id|listings_host_response_rate|listings_host_acceptance_rate|listings_host_is_superhost|listings_host_picture_url|listings_host_listings_count|listings_host_total_listings_count|listings_host_has_profile_pic|listings_host_identity_verified|listings_neighbourhood_group_cleansed|listings_accommodates|listings_beds|listings_price|listings_minimum_nights|listings_maximum_nights|listings_minimum_minimum_nights|listings_maximum_minimum_nights|listings_minimum_maximum_nights|listings_maximum_maximum_nights|listings_minimum_nights_avg_ntm|listings_maximum_nights_avg_ntm|listings_availability_30|listings_availability_60|listings_availability_90|listings_availability_365|listings_number_of_reviews|listings_number_of_reviews_ltm|listings_number_of_reviews_l30d|listings_review_scores_rating|listings_review_scores_accuracy|listings_review_scores_cleanliness|listings_review_scores_checkin|listings_review_scores_communication|listings_review_scores_location|listings_review_scores_value|listings_instant_bookable|listings_calculated_host_listings_count|listings_calculated_host_listings_count_entire_homes|listings_calculated_host_listings_count_private_rooms|listings_calculated_host_listings_count_shared_rooms|listings_reviews_per_month|listings_index_right|listings_ZIPCODE|bus_bus_stops_count|metro_train_stations_count|crime_Assault and Battery|crime_Child-Related Crimes|crime_Cyber Crimes|crime_Driving Offenses|crime_Drug-Related Crimes|crime_Fraud and Forgery|crime_Human Trafficking|crime_Kidnapping and Abduction|crime_Miscellaneous Crimes|crime_Other Crimes|crime_Robbery and Extortion|crime_Serious Crime - Homicide|crime_Sexual Crimes|crime_Theft and Burglary|crime_Traffic Offenses|crime_Vandalism|crime_Weapons Offenses|host_active_years|bathrooms_count|response_time_category|property_type_Entire_Unit|property_type_Cultural_&_Local_Experiences|property_type_Other|property_type_Vehicles_as_Accommodation|property_type_Unique_Stays|property_type_Farm_&_Ranch_Stays|property_type_Shared_Accommodation|property_type_Nature-Based_Stays|property_type_Private_Room|room_type_Shared_room|room_type_Hotel_room|room_type_Entire_home/apt|room_type_Private_room|free_wifi_and_internet|outdoor_spaces|swimming_facilities|kitchen_essentials|laundry_facilities|heating_and_cooling|safety_and_security|entertainment|free_parking|parking_facilities|pet_friendly|accessibility_features|fitness_and_gym_equipment|child_friendly_amenities|essentials|workspace_features|barbecue_and_grills|luxury_features|recreational_features|transport_features|scenic_views|shared_spaces|technology_and_smart_home|dining_area|event_friendly_spaces|green_spaces|luxury_entertainment|special_accommodations|total_amenities|has_availability|days_since_last_review|review_activity_duration|\n",
            "+-----------+----------------+---------------------------+-----------------------------+--------------------------+-------------------------+----------------------------+----------------------------------+-----------------------------+-------------------------------+-------------------------------------+---------------------+-------------+--------------+-----------------------+-----------------------+-------------------------------+-------------------------------+-------------------------------+-------------------------------+-------------------------------+-------------------------------+------------------------+------------------------+------------------------+-------------------------+--------------------------+------------------------------+-------------------------------+-----------------------------+-------------------------------+----------------------------------+------------------------------+------------------------------------+-------------------------------+----------------------------+-------------------------+---------------------------------------+----------------------------------------------------+-----------------------------------------------------+----------------------------------------------------+--------------------------+--------------------+----------------+-------------------+--------------------------+-------------------------+--------------------------+------------------+----------------------+-------------------------+-----------------------+-----------------------+------------------------------+--------------------------+------------------+---------------------------+------------------------------+-------------------+------------------------+----------------------+---------------+----------------------+-----------------+---------------+----------------------+-------------------------+------------------------------------------+-------------------+---------------------------------------+--------------------------+--------------------------------+----------------------------------+--------------------------------+--------------------------+---------------------+--------------------+-------------------------+----------------------+----------------------+--------------+-------------------+------------------+------------------+-------------------+-------------------+-------------+------------+------------------+------------+----------------------+-------------------------+------------------------+----------+------------------+-------------------+---------------+---------------------+------------------+------------+-------------+-------------------------+-----------+---------------------+------------+--------------------+----------------------+---------------+----------------+----------------------+------------------------+\n",
            "|          0|               0|                      10719|                         9631|                         0|                       16|                          16|                                16|                            0|                              0|                                    0|                    0|          477|             0|                      0|                      0|                              0|                              0|                              0|                              0|                              0|                              0|                       0|                       0|                       0|                        0|                         0|                             0|                              0|                        12618|                          12630|                             12631|                         12638|                               12631|                          12640|                       12644|                        0|                                      0|                                                   0|                                                    0|                                                   0|                     12637|                   0|               0|                  0|                         0|                        0|                         0|                 0|                     0|                        0|                      0|                      0|                             0|                         0|                 0|                          0|                             0|                  0|                       0|                     0|              0|                     0|               16|            188|                     0|                        0|                                         0|                  0|                                      0|                         0|                               0|                                 0|                               0|                         0|                    0|                   0|                        0|                     0|                     0|             0|                  0|                 0|                 0|                  0|                  0|            0|           0|                 0|           0|                     0|                        0|                       0|         0|                 0|                  0|              0|                    0|                 0|           0|            0|                        0|          0|                    0|           0|                   0|                     0|              0|               0|                 12637|                   12637|\n",
            "+-----------+----------------+---------------------------+-----------------------------+--------------------------+-------------------------+----------------------------+----------------------------------+-----------------------------+-------------------------------+-------------------------------------+---------------------+-------------+--------------+-----------------------+-----------------------+-------------------------------+-------------------------------+-------------------------------+-------------------------------+-------------------------------+-------------------------------+------------------------+------------------------+------------------------+-------------------------+--------------------------+------------------------------+-------------------------------+-----------------------------+-------------------------------+----------------------------------+------------------------------+------------------------------------+-------------------------------+----------------------------+-------------------------+---------------------------------------+----------------------------------------------------+-----------------------------------------------------+----------------------------------------------------+--------------------------+--------------------+----------------+-------------------+--------------------------+-------------------------+--------------------------+------------------+----------------------+-------------------------+-----------------------+-----------------------+------------------------------+--------------------------+------------------+---------------------------+------------------------------+-------------------+------------------------+----------------------+---------------+----------------------+-----------------+---------------+----------------------+-------------------------+------------------------------------------+-------------------+---------------------------------------+--------------------------+--------------------------------+----------------------------------+--------------------------------+--------------------------+---------------------+--------------------+-------------------------+----------------------+----------------------+--------------+-------------------+------------------+------------------+-------------------+-------------------+-------------+------------+------------------+------------+----------------------+-------------------------+------------------------+----------+------------------+-------------------+---------------+---------------------+------------------+------------+-------------+-------------------------+-----------+---------------------+------------+--------------------+----------------------+---------------+----------------+----------------------+------------------------+\n",
            "\n"
          ]
        }
      ],
      "source": [
        "from pyspark.sql.functions import col, sum\n",
        "\n",
        "# Count null values for each column\n",
        "null_counts = final_df.select([sum(col(c).isNull().cast('int')).alias(c) for c in final_df.columns])\n",
        "\n",
        "# Show the results\n",
        "null_counts.show()\n"
      ]
    },
    {
      "cell_type": "code",
      "execution_count": 82,
      "metadata": {
        "id": "2uXb9AmR8B2Z"
      },
      "outputs": [],
      "source": [
        "# Drop columns with excessive nulls if needed\n",
        "final_df = final_df.drop('listings_review_scores_rating', 'listings_review_scores_accuracy')  # Example"
      ]
    },
    {
      "cell_type": "code",
      "execution_count": 83,
      "metadata": {
        "id": "TgIcpz_N8TmB",
        "colab": {
          "base_uri": "https://localhost:8080/"
        },
        "outputId": "a1858417-07a0-4a6d-e386-65c222d78942"
      },
      "outputs": [
        {
          "output_type": "stream",
          "name": "stdout",
          "text": [
            "+---------------+\n",
            "|bathrooms_count|\n",
            "+---------------+\n",
            "|            8.0|\n",
            "|            0.0|\n",
            "|            7.0|\n",
            "|            3.5|\n",
            "|            6.5|\n",
            "|           null|\n",
            "|            2.5|\n",
            "|            1.0|\n",
            "|           25.0|\n",
            "|           36.0|\n",
            "+---------------+\n",
            "only showing top 10 rows\n",
            "\n"
          ]
        }
      ],
      "source": [
        "# Step 1: Check unique values to assess the column\n",
        "final_df.select('bathrooms_count').distinct().show(10)"
      ]
    },
    {
      "cell_type": "code",
      "execution_count": 84,
      "metadata": {
        "id": "E68KF8yF8ydq",
        "colab": {
          "base_uri": "https://localhost:8080/"
        },
        "outputId": "618fe498-eae2-43eb-e793-fe02d1eb9a22"
      },
      "outputs": [
        {
          "output_type": "stream",
          "name": "stdout",
          "text": [
            "+---------------------------+-----------------------------+----------------------------------+------------------------------+------------------------------------+-------------------------------+----------------------------+----------------------------+----------------------------------+-------------+--------------------------+-----------------+---------------+----------------------+\n",
            "|listings_host_response_rate|listings_host_acceptance_rate|listings_review_scores_cleanliness|listings_review_scores_checkin|listings_review_scores_communication|listings_review_scores_location|listings_review_scores_value|listings_host_listings_count|listings_host_total_listings_count|listings_beds|listings_reviews_per_month|host_active_years|bathrooms_count|days_since_last_review|\n",
            "+---------------------------+-----------------------------+----------------------------------+------------------------------+------------------------------------+-------------------------------+----------------------------+----------------------------+----------------------------------+-------------+--------------------------+-----------------+---------------+----------------------+\n",
            "|                          0|                            0|                                 0|                             0|                                   0|                              0|                           0|                           0|                                 0|            0|                         0|                0|              0|                     0|\n",
            "+---------------------------+-----------------------------+----------------------------------+------------------------------+------------------------------------+-------------------------------+----------------------------+----------------------------+----------------------------------+-------------+--------------------------+-----------------+---------------+----------------------+\n",
            "\n"
          ]
        }
      ],
      "source": [
        "# Impute values for columns based on specified strategies\n",
        "columns_to_impute_mean = [\n",
        "    'listings_host_response_rate', 'listings_host_acceptance_rate',\n",
        "    'listings_review_scores_cleanliness', 'listings_review_scores_checkin',\n",
        "    'listings_review_scores_communication', 'listings_review_scores_location',\n",
        "    'listings_review_scores_value'\n",
        "]\n",
        "\n",
        "# Impute mean for specified columns\n",
        "for col_name in columns_to_impute_mean:\n",
        "    mean_value = final_df.select(col_name).groupBy().avg(col_name).first()[0]\n",
        "    final_df = final_df.fillna({col_name: mean_value})\n",
        "\n",
        "# Impute 0 for specified columns\n",
        "columns_to_impute_zero = [\n",
        "    'listings_host_listings_count', 'listings_host_total_listings_count',\n",
        "    'listings_beds', 'listings_reviews_per_month', 'host_active_years',\n",
        "    'bathrooms_count'\n",
        "]\n",
        "\n",
        "final_df = final_df.fillna({col_name: 0 for col_name in columns_to_impute_zero})\n",
        "\n",
        "# Impute -1 for 'days_since_last_review'\n",
        "final_df = final_df.fillna({'days_since_last_review': -1})\n",
        "\n",
        "# Confirm imputation\n",
        "final_df.select([\n",
        "    sum(col(c).isNull().cast('int')).alias(c) for c in columns_to_impute_mean + columns_to_impute_zero + ['days_since_last_review']\n",
        "]).show()"
      ]
    },
    {
      "cell_type": "code",
      "execution_count": 85,
      "metadata": {
        "id": "rGkv2jQU_-Rj",
        "colab": {
          "base_uri": "https://localhost:8080/"
        },
        "outputId": "ca81233d-8211-48b9-8b24-f75e66e0294f"
      },
      "outputs": [
        {
          "output_type": "stream",
          "name": "stdout",
          "text": [
            "root\n",
            " |-- listings_id: long (nullable = true)\n",
            " |-- listings_host_id: long (nullable = true)\n",
            " |-- listings_host_response_rate: double (nullable = false)\n",
            " |-- listings_host_acceptance_rate: double (nullable = false)\n",
            " |-- listings_host_is_superhost: integer (nullable = false)\n",
            " |-- listings_host_picture_url: string (nullable = true)\n",
            " |-- listings_host_listings_count: double (nullable = false)\n",
            " |-- listings_host_total_listings_count: double (nullable = false)\n",
            " |-- listings_host_has_profile_pic: integer (nullable = false)\n",
            " |-- listings_host_identity_verified: integer (nullable = false)\n",
            " |-- listings_neighbourhood_group_cleansed: string (nullable = true)\n",
            " |-- listings_accommodates: long (nullable = true)\n",
            " |-- listings_beds: double (nullable = false)\n",
            " |-- listings_price: float (nullable = true)\n",
            " |-- listings_minimum_nights: long (nullable = true)\n",
            " |-- listings_maximum_nights: long (nullable = true)\n",
            " |-- listings_minimum_minimum_nights: long (nullable = true)\n",
            " |-- listings_maximum_minimum_nights: long (nullable = true)\n",
            " |-- listings_minimum_maximum_nights: long (nullable = true)\n",
            " |-- listings_maximum_maximum_nights: long (nullable = true)\n",
            " |-- listings_minimum_nights_avg_ntm: double (nullable = true)\n",
            " |-- listings_maximum_nights_avg_ntm: double (nullable = true)\n",
            " |-- listings_availability_30: long (nullable = true)\n",
            " |-- listings_availability_60: long (nullable = true)\n",
            " |-- listings_availability_90: long (nullable = true)\n",
            " |-- listings_availability_365: long (nullable = true)\n",
            " |-- listings_number_of_reviews: long (nullable = true)\n",
            " |-- listings_number_of_reviews_ltm: long (nullable = true)\n",
            " |-- listings_number_of_reviews_l30d: long (nullable = true)\n",
            " |-- listings_review_scores_cleanliness: double (nullable = false)\n",
            " |-- listings_review_scores_checkin: double (nullable = false)\n",
            " |-- listings_review_scores_communication: double (nullable = false)\n",
            " |-- listings_review_scores_location: double (nullable = false)\n",
            " |-- listings_review_scores_value: double (nullable = false)\n",
            " |-- listings_instant_bookable: integer (nullable = false)\n",
            " |-- listings_calculated_host_listings_count: long (nullable = true)\n",
            " |-- listings_calculated_host_listings_count_entire_homes: long (nullable = true)\n",
            " |-- listings_calculated_host_listings_count_private_rooms: long (nullable = true)\n",
            " |-- listings_calculated_host_listings_count_shared_rooms: long (nullable = true)\n",
            " |-- listings_reviews_per_month: double (nullable = false)\n",
            " |-- listings_index_right: long (nullable = true)\n",
            " |-- listings_ZIPCODE: integer (nullable = true)\n",
            " |-- bus_bus_stops_count: long (nullable = true)\n",
            " |-- metro_train_stations_count: long (nullable = true)\n",
            " |-- crime_Assault and Battery: long (nullable = true)\n",
            " |-- crime_Child-Related Crimes: long (nullable = true)\n",
            " |-- crime_Cyber Crimes: long (nullable = true)\n",
            " |-- crime_Driving Offenses: long (nullable = true)\n",
            " |-- crime_Drug-Related Crimes: long (nullable = true)\n",
            " |-- crime_Fraud and Forgery: long (nullable = true)\n",
            " |-- crime_Human Trafficking: long (nullable = true)\n",
            " |-- crime_Kidnapping and Abduction: long (nullable = true)\n",
            " |-- crime_Miscellaneous Crimes: long (nullable = true)\n",
            " |-- crime_Other Crimes: long (nullable = true)\n",
            " |-- crime_Robbery and Extortion: long (nullable = true)\n",
            " |-- crime_Serious Crime - Homicide: long (nullable = true)\n",
            " |-- crime_Sexual Crimes: long (nullable = true)\n",
            " |-- crime_Theft and Burglary: long (nullable = true)\n",
            " |-- crime_Traffic Offenses: long (nullable = true)\n",
            " |-- crime_Vandalism: long (nullable = true)\n",
            " |-- crime_Weapons Offenses: long (nullable = true)\n",
            " |-- host_active_years: double (nullable = false)\n",
            " |-- bathrooms_count: double (nullable = false)\n",
            " |-- response_time_category: integer (nullable = false)\n",
            " |-- property_type_Entire_Unit: integer (nullable = false)\n",
            " |-- property_type_Cultural_&_Local_Experiences: integer (nullable = false)\n",
            " |-- property_type_Other: integer (nullable = false)\n",
            " |-- property_type_Vehicles_as_Accommodation: integer (nullable = false)\n",
            " |-- property_type_Unique_Stays: integer (nullable = false)\n",
            " |-- property_type_Farm_&_Ranch_Stays: integer (nullable = false)\n",
            " |-- property_type_Shared_Accommodation: integer (nullable = false)\n",
            " |-- property_type_Nature-Based_Stays: integer (nullable = false)\n",
            " |-- property_type_Private_Room: integer (nullable = false)\n",
            " |-- room_type_Shared_room: integer (nullable = false)\n",
            " |-- room_type_Hotel_room: integer (nullable = false)\n",
            " |-- room_type_Entire_home/apt: integer (nullable = false)\n",
            " |-- room_type_Private_room: integer (nullable = false)\n",
            " |-- free_wifi_and_internet: integer (nullable = false)\n",
            " |-- outdoor_spaces: integer (nullable = false)\n",
            " |-- swimming_facilities: integer (nullable = false)\n",
            " |-- kitchen_essentials: integer (nullable = false)\n",
            " |-- laundry_facilities: integer (nullable = false)\n",
            " |-- heating_and_cooling: integer (nullable = false)\n",
            " |-- safety_and_security: integer (nullable = false)\n",
            " |-- entertainment: integer (nullable = false)\n",
            " |-- free_parking: integer (nullable = false)\n",
            " |-- parking_facilities: integer (nullable = false)\n",
            " |-- pet_friendly: integer (nullable = false)\n",
            " |-- accessibility_features: integer (nullable = false)\n",
            " |-- fitness_and_gym_equipment: integer (nullable = false)\n",
            " |-- child_friendly_amenities: integer (nullable = false)\n",
            " |-- essentials: integer (nullable = false)\n",
            " |-- workspace_features: integer (nullable = false)\n",
            " |-- barbecue_and_grills: integer (nullable = false)\n",
            " |-- luxury_features: integer (nullable = false)\n",
            " |-- recreational_features: integer (nullable = false)\n",
            " |-- transport_features: integer (nullable = false)\n",
            " |-- scenic_views: integer (nullable = false)\n",
            " |-- shared_spaces: integer (nullable = false)\n",
            " |-- technology_and_smart_home: integer (nullable = false)\n",
            " |-- dining_area: integer (nullable = false)\n",
            " |-- event_friendly_spaces: integer (nullable = false)\n",
            " |-- green_spaces: integer (nullable = false)\n",
            " |-- luxury_entertainment: integer (nullable = false)\n",
            " |-- special_accommodations: integer (nullable = false)\n",
            " |-- total_amenities: integer (nullable = false)\n",
            " |-- has_availability: integer (nullable = false)\n",
            " |-- days_since_last_review: integer (nullable = false)\n",
            " |-- review_activity_duration: integer (nullable = true)\n",
            "\n",
            "+----------------+\n",
            "|listings_ZIPCODE|\n",
            "+----------------+\n",
            "|           90230|\n",
            "|           90046|\n",
            "|           90405|\n",
            "|           90706|\n",
            "|           90068|\n",
            "|           90066|\n",
            "|           90066|\n",
            "|           90232|\n",
            "|           90069|\n",
            "|           91367|\n",
            "+----------------+\n",
            "only showing top 10 rows\n",
            "\n"
          ]
        }
      ],
      "source": [
        "from pyspark.sql.functions import col\n",
        "\n",
        "# Cast the column to integer type\n",
        "final_df = final_df.withColumn('listings_ZIPCODE', col('listings_ZIPCODE').cast('int'))\n",
        "\n",
        "# Verify the data type\n",
        "final_df.printSchema()\n",
        "\n",
        "# Show the first few rows to confirm the change\n",
        "final_df.select('listings_ZIPCODE').show(10)\n"
      ]
    },
    {
      "cell_type": "code",
      "execution_count": 86,
      "metadata": {
        "id": "NSvzB6JCA_4c"
      },
      "outputs": [],
      "source": [
        "final_df = final_df.fillna({'review_activity_duration': -1})"
      ]
    },
    {
      "cell_type": "code",
      "source": [
        "# Drop rows with null values in any column\n",
        "final_df_cleaned = final_df.dropna()\n",
        "final_df_cleaned_listings = final_df.dropna()"
      ],
      "metadata": {
        "id": "0sEiCfuwAgQU"
      },
      "execution_count": 87,
      "outputs": []
    },
    {
      "cell_type": "code",
      "source": [
        "# Show the resulting DataFrame\n",
        "final_df_cleaned.show(5)\n",
        "\n",
        "# Count the rows before and after dropping nulls\n",
        "print(f\"Rows before dropping nulls: {final_df.count()}\")\n",
        "print(f\"Rows after dropping nulls: {final_df_cleaned.count()}\")"
      ],
      "metadata": {
        "id": "o9oqLaAwEsEi",
        "colab": {
          "base_uri": "https://localhost:8080/"
        },
        "outputId": "6c412231-b72f-4e58-de13-ae987add4119"
      },
      "execution_count": 88,
      "outputs": [
        {
          "output_type": "stream",
          "name": "stdout",
          "text": [
            "+-----------+----------------+---------------------------+-----------------------------+--------------------------+-------------------------+----------------------------+----------------------------------+-----------------------------+-------------------------------+-------------------------------------+---------------------+-------------+--------------+-----------------------+-----------------------+-------------------------------+-------------------------------+-------------------------------+-------------------------------+-------------------------------+-------------------------------+------------------------+------------------------+------------------------+-------------------------+--------------------------+------------------------------+-------------------------------+----------------------------------+------------------------------+------------------------------------+-------------------------------+----------------------------+-------------------------+---------------------------------------+----------------------------------------------------+-----------------------------------------------------+----------------------------------------------------+--------------------------+--------------------+----------------+-------------------+--------------------------+-------------------------+--------------------------+------------------+----------------------+-------------------------+-----------------------+-----------------------+------------------------------+--------------------------+------------------+---------------------------+------------------------------+-------------------+------------------------+----------------------+---------------+----------------------+------------------+---------------+----------------------+-------------------------+------------------------------------------+-------------------+---------------------------------------+--------------------------+--------------------------------+----------------------------------+--------------------------------+--------------------------+---------------------+--------------------+-------------------------+----------------------+----------------------+--------------+-------------------+------------------+------------------+-------------------+-------------------+-------------+------------+------------------+------------+----------------------+-------------------------+------------------------+----------+------------------+-------------------+---------------+---------------------+------------------+------------+-------------+-------------------------+-----------+---------------------+------------+--------------------+----------------------+---------------+----------------+----------------------+------------------------+\n",
            "|listings_id|listings_host_id|listings_host_response_rate|listings_host_acceptance_rate|listings_host_is_superhost|listings_host_picture_url|listings_host_listings_count|listings_host_total_listings_count|listings_host_has_profile_pic|listings_host_identity_verified|listings_neighbourhood_group_cleansed|listings_accommodates|listings_beds|listings_price|listings_minimum_nights|listings_maximum_nights|listings_minimum_minimum_nights|listings_maximum_minimum_nights|listings_minimum_maximum_nights|listings_maximum_maximum_nights|listings_minimum_nights_avg_ntm|listings_maximum_nights_avg_ntm|listings_availability_30|listings_availability_60|listings_availability_90|listings_availability_365|listings_number_of_reviews|listings_number_of_reviews_ltm|listings_number_of_reviews_l30d|listings_review_scores_cleanliness|listings_review_scores_checkin|listings_review_scores_communication|listings_review_scores_location|listings_review_scores_value|listings_instant_bookable|listings_calculated_host_listings_count|listings_calculated_host_listings_count_entire_homes|listings_calculated_host_listings_count_private_rooms|listings_calculated_host_listings_count_shared_rooms|listings_reviews_per_month|listings_index_right|listings_ZIPCODE|bus_bus_stops_count|metro_train_stations_count|crime_Assault and Battery|crime_Child-Related Crimes|crime_Cyber Crimes|crime_Driving Offenses|crime_Drug-Related Crimes|crime_Fraud and Forgery|crime_Human Trafficking|crime_Kidnapping and Abduction|crime_Miscellaneous Crimes|crime_Other Crimes|crime_Robbery and Extortion|crime_Serious Crime - Homicide|crime_Sexual Crimes|crime_Theft and Burglary|crime_Traffic Offenses|crime_Vandalism|crime_Weapons Offenses| host_active_years|bathrooms_count|response_time_category|property_type_Entire_Unit|property_type_Cultural_&_Local_Experiences|property_type_Other|property_type_Vehicles_as_Accommodation|property_type_Unique_Stays|property_type_Farm_&_Ranch_Stays|property_type_Shared_Accommodation|property_type_Nature-Based_Stays|property_type_Private_Room|room_type_Shared_room|room_type_Hotel_room|room_type_Entire_home/apt|room_type_Private_room|free_wifi_and_internet|outdoor_spaces|swimming_facilities|kitchen_essentials|laundry_facilities|heating_and_cooling|safety_and_security|entertainment|free_parking|parking_facilities|pet_friendly|accessibility_features|fitness_and_gym_equipment|child_friendly_amenities|essentials|workspace_features|barbecue_and_grills|luxury_features|recreational_features|transport_features|scenic_views|shared_spaces|technology_and_smart_home|dining_area|event_friendly_spaces|green_spaces|luxury_entertainment|special_accommodations|total_amenities|has_availability|days_since_last_review|review_activity_duration|\n",
            "+-----------+----------------+---------------------------+-----------------------------+--------------------------+-------------------------+----------------------------+----------------------------------+-----------------------------+-------------------------------+-------------------------------------+---------------------+-------------+--------------+-----------------------+-----------------------+-------------------------------+-------------------------------+-------------------------------+-------------------------------+-------------------------------+-------------------------------+------------------------+------------------------+------------------------+-------------------------+--------------------------+------------------------------+-------------------------------+----------------------------------+------------------------------+------------------------------------+-------------------------------+----------------------------+-------------------------+---------------------------------------+----------------------------------------------------+-----------------------------------------------------+----------------------------------------------------+--------------------------+--------------------+----------------+-------------------+--------------------------+-------------------------+--------------------------+------------------+----------------------+-------------------------+-----------------------+-----------------------+------------------------------+--------------------------+------------------+---------------------------+------------------------------+-------------------+------------------------+----------------------+---------------+----------------------+------------------+---------------+----------------------+-------------------------+------------------------------------------+-------------------+---------------------------------------+--------------------------+--------------------------------+----------------------------------+--------------------------------+--------------------------+---------------------+--------------------+-------------------------+----------------------+----------------------+--------------+-------------------+------------------+------------------+-------------------+-------------------+-------------+------------+------------------+------------+----------------------+-------------------------+------------------------+----------+------------------+-------------------+---------------+---------------------+------------------+------------+-------------+-------------------------+-----------+---------------------+------------+--------------------+----------------------+---------------+----------------+----------------------+------------------------+\n",
            "|    9304169|        48301416|                       97.0|                         99.0|                         1|     https://a0.muscac...|                        10.0|                              12.0|                            1|                              1|                 Unincorporated Areas|                    2|          1.0|          71.0|                      2|                     14|                              2|                              2|                           1125|                           1125|                            2.0|                         1125.0|                       0|                       0|                       0|                        0|                       543|                            50|                              2|                              4.87|                          4.91|                                4.92|                           4.57|                        4.82|                        0|                                      6|                                                   6|                                                    0|                                                   0|                       5.7|                  19|           90022|                  0|                         3|                        0|                         0|                 0|                     0|                        0|                      0|                      0|                             0|                         0|                 0|                          0|                             0|                  0|                       0|                     0|              0|                     0| 9.112328767123287|            1.0|                     1|                        1|                                         0|                  0|                                      0|                         0|                               0|                                 0|                               0|                         0|                    0|                   0|                        1|                     0|                     1|             0|                  0|                 2|                 2|                  3|                  1|            1|           1|                 0|           0|                     0|                        0|                       0|         2|                 0|                  0|              0|                    0|                 0|           0|            0|                        0|          0|                    0|           0|                   0|                     0|             30|               1|                   394|                    2839|\n",
            "|   11346662|        48301416|                       97.0|                         99.0|                         1|     https://a0.muscac...|                        10.0|                              12.0|                            1|                              1|                 Unincorporated Areas|                    4|          2.0|         100.0|                      2|                     21|                              2|                              2|                           1125|                           1125|                            2.0|                         1125.0|                       2|                      20|                      44|                      127|                       359|                            43|                              2|                              4.76|                          4.95|                                4.92|                           4.61|                        4.82|                        0|                                      6|                                                   6|                                                    0|                                                   0|                      3.89|                  19|           90022|                  0|                         3|                        0|                         0|                 0|                     0|                        0|                      0|                      0|                             0|                         0|                 0|                          0|                             0|                  0|                       0|                     0|              0|                     0| 9.112328767123287|            1.0|                     1|                        1|                                         0|                  0|                                      0|                         0|                               0|                                 0|                               0|                         0|                    0|                   0|                        1|                     0|                     1|             0|                  0|                 5|                 2|                  1|                  2|            1|           1|                 0|           0|                     0|                        0|                       0|         1|                 0|                  0|              0|                    0|                 0|           0|            0|                        0|          0|                    0|           0|                   0|                     0|             35|               1|                   391|                    2756|\n",
            "|   15954509|       103590314|                      100.0|                         97.0|                         1|     https://a0.muscac...|                         1.0|                               3.0|                            1|                              1|                 Unincorporated Areas|                    2|          1.0|          90.0|                      6|                   1125|                              6|                              6|                           1125|                           1125|                            6.0|                         1125.0|                       8|                      16|                      30|                      243|                       174|                            21|                              1|                              4.98|                          4.97|                                4.98|                           4.73|                        4.88|                        0|                                      1|                                                   1|                                                    0|                                                   0|                      2.06|                  19|           90022|                  0|                         3|                        0|                         0|                 0|                     0|                        0|                      0|                      0|                             0|                         0|                 0|                          0|                             0|                  0|                       0|                     0|              0|                     0|  8.09041095890411|            1.0|                     2|                        1|                                         0|                  0|                                      0|                         0|                               0|                                 0|                               0|                         0|                    0|                   0|                        1|                     0|                     1|             0|                  0|                 2|                 2|                  2|                  1|            2|           1|                 0|           0|                     0|                        0|                       0|         2|                 0|                  0|              0|                    0|                 0|           0|            0|                        0|          1|                    0|           0|                   0|                     0|             35|               1|                   392|                    2520|\n",
            "|   19384255|        84139578|                      100.0|                         99.0|                         1|     https://a0.muscac...|                         1.0|                               1.0|                            1|                              1|                 Unincorporated Areas|                    7|          5.0|         138.0|                      2|                   1125|                              1|                              2|                           1125|                           1125|                            1.1|                         1125.0|                       9|                      20|                      44|                       44|                       293|                            49|                              2|                              4.58|                          4.83|                                4.77|                           4.74|                        4.62|                        1|                                      1|                                                   1|                                                    0|                                                   0|                      3.78|                  19|           90022|                  0|                         3|                        0|                         0|                 0|                     0|                        0|                      0|                      0|                             0|                         0|                 0|                          0|                             0|                  0|                       0|                     0|              0|                     0| 8.419178082191781|            1.0|                     1|                        1|                                         0|                  0|                                      0|                         0|                               0|                                 0|                               0|                         0|                    0|                   0|                        1|                     0|                     1|             3|                  0|                 5|                 2|                  3|                  2|            2|           1|                 0|           0|                     0|                        0|                       0|         2|                 1|                  1|              0|                    0|                 0|           0|            0|                        0|          1|                    0|           0|                   0|                     0|             52|               1|                   392|                    2311|\n",
            "|   20724293|        22063574|                      100.0|                         94.0|                         0|     https://a0.muscac...|                         1.0|                               1.0|                            1|                              1|                 Unincorporated Areas|                    8|          3.0|         100.0|                      2|                     29|                              2|                              2|                             29|                             29|                            2.0|                           29.0|                       7|                      35|                      65|                      155|                       178|                            18|                              0|                              4.62|                          4.89|                                4.88|                           4.69|                        4.55|                        0|                                      1|                                                   1|                                                    0|                                                   0|                      2.36|                  19|           90022|                  0|                         3|                        0|                         0|                 0|                     0|                        0|                      0|                      0|                             0|                         0|                 0|                          0|                             0|                  0|                       0|                     0|              0|                     0|10.208219178082192|            2.0|                     1|                        1|                                         0|                  0|                                      0|                         0|                               0|                                 0|                               0|                         0|                    0|                   0|                        1|                     0|                     1|             0|                  0|                 5|                 3|                  2|                  0|            1|           0|                 0|           0|                     0|                        0|                       0|         1|                 1|                  0|              0|                    0|                 0|           0|            0|                        1|          0|                    0|           0|                   0|                     0|             35|               1|                   420|                    2218|\n",
            "+-----------+----------------+---------------------------+-----------------------------+--------------------------+-------------------------+----------------------------+----------------------------------+-----------------------------+-------------------------------+-------------------------------------+---------------------+-------------+--------------+-----------------------+-----------------------+-------------------------------+-------------------------------+-------------------------------+-------------------------------+-------------------------------+-------------------------------+------------------------+------------------------+------------------------+-------------------------+--------------------------+------------------------------+-------------------------------+----------------------------------+------------------------------+------------------------------------+-------------------------------+----------------------------+-------------------------+---------------------------------------+----------------------------------------------------+-----------------------------------------------------+----------------------------------------------------+--------------------------+--------------------+----------------+-------------------+--------------------------+-------------------------+--------------------------+------------------+----------------------+-------------------------+-----------------------+-----------------------+------------------------------+--------------------------+------------------+---------------------------+------------------------------+-------------------+------------------------+----------------------+---------------+----------------------+------------------+---------------+----------------------+-------------------------+------------------------------------------+-------------------+---------------------------------------+--------------------------+--------------------------------+----------------------------------+--------------------------------+--------------------------+---------------------+--------------------+-------------------------+----------------------+----------------------+--------------+-------------------+------------------+------------------+-------------------+-------------------+-------------+------------+------------------+------------+----------------------+-------------------------+------------------------+----------+------------------+-------------------+---------------+---------------------+------------------+------------+-------------+-------------------------+-----------+---------------------+------------+--------------------+----------------------+---------------+----------------+----------------------+------------------------+\n",
            "only showing top 5 rows\n",
            "\n",
            "Rows before dropping nulls: 45555\n",
            "Rows after dropping nulls: 45539\n"
          ]
        }
      ]
    },
    {
      "cell_type": "code",
      "source": [
        "from pyspark.ml.feature import VectorAssembler\n",
        "from pyspark.ml.stat import Correlation\n",
        "\n",
        "# Select numerical columns\n",
        "numerical_cols = [col for col in final_df.columns if final_df.schema[col].dataType.typeName() in ['double', 'long', 'float', 'integer']]\n",
        "\n",
        "# Function to calculate correlations\n",
        "def calculate_correlations(df, target_variable, numerical_cols):\n",
        "    # Assemble features excluding the target variable\n",
        "    assembler = VectorAssembler(inputCols=[col for col in numerical_cols if col != target_variable], outputCol=\"features\")\n",
        "    df_features = assembler.transform(df).select(\"features\", target_variable)\n",
        "\n",
        "    # Calculate correlation matrix\n",
        "    correlation_matrix = Correlation.corr(df_features, \"features\", \"pearson\").head()[0].toArray()\n",
        "\n",
        "    # Extract correlations\n",
        "    correlations = {numerical_cols[i]: correlation_matrix[-1, i] for i in range(len(numerical_cols) - 1)}\n",
        "\n",
        "    # Sort correlations by absolute value for feature importance\n",
        "    sorted_correlations = sorted(correlations.items(), key=lambda x: abs(x[1]), reverse=True)\n",
        "    return sorted_correlations\n",
        "\n",
        "# Calculate correlations for `listings_availability_30`\n",
        "target_variable_1 = \"listings_availability_30\"\n",
        "correlations_availability_30 = calculate_correlations(final_df, target_variable_1, numerical_cols)\n",
        "\n",
        "# Calculate correlations for `listings_price`\n",
        "target_variable_2 = \"listings_price\"\n",
        "correlations_price = calculate_correlations(final_df, target_variable_2, numerical_cols)\n",
        "\n",
        "# Print results\n",
        "print(\"Feature Importance for listings_availability_30:\")\n",
        "for feature, importance in correlations_availability_30:\n",
        "    print(f\"{feature}: {importance}\")\n",
        "\n",
        "print(\"\\nFeature Importance for listings_price:\")\n",
        "for feature, importance in correlations_price:\n",
        "    print(f\"{feature}: {importance}\")\n"
      ],
      "metadata": {
        "id": "4At7189-BFBk",
        "colab": {
          "base_uri": "https://localhost:8080/"
        },
        "outputId": "80610432-3dbd-4d01-858d-4869841d892b"
      },
      "execution_count": 89,
      "outputs": [
        {
          "output_type": "stream",
          "name": "stdout",
          "text": [
            "Feature Importance for listings_availability_30:\n",
            "listings_availability_365: 0.6297460960592998\n",
            "listings_id: -0.5235121805230188\n",
            "crime_Weapons Offenses: 0.3753989505074664\n",
            "listings_host_id: -0.34771716015554244\n",
            "listings_host_is_superhost: 0.273828997399565\n",
            "free_wifi_and_internet: 0.27322492795092185\n",
            "listings_number_of_reviews: 0.2678549032143077\n",
            "safety_and_security: 0.2636498154406325\n",
            "swimming_facilities: 0.23373705971221423\n",
            "listings_calculated_host_listings_count_shared_rooms: 0.2320935766132916\n",
            "kitchen_essentials: 0.2150019133015769\n",
            "child_friendly_amenities: 0.15083462725312946\n",
            "bathrooms_count: -0.14403406306830366\n",
            "listings_number_of_reviews_ltm: 0.13855714749706172\n",
            "laundry_facilities: 0.13585630434773613\n",
            "listings_review_scores_value: -0.12442242649560112\n",
            "listings_instant_bookable: -0.11117498560715246\n",
            "listings_review_scores_cleanliness: 0.10526243031139164\n",
            "listings_calculated_host_listings_count: -0.10518481305455928\n",
            "parking_facilities: -0.10381760075237954\n",
            "listings_host_has_profile_pic: 0.09990980857925609\n",
            "listings_host_total_listings_count: -0.09990049919854378\n",
            "listings_host_listings_count: -0.09791372607803268\n",
            "heating_and_cooling: 0.09658567983021865\n",
            "listings_review_scores_communication: 0.0949138172969191\n",
            "listings_maximum_nights: 0.09440442824006019\n",
            "listings_review_scores_location: 0.09410520414475759\n",
            "host_active_years: -0.0940720627560496\n",
            "listings_review_scores_checkin: 0.09357749157808679\n",
            "listings_host_response_rate: 0.08539661768930114\n",
            "listings_number_of_reviews_l30d: 0.08091380455932147\n",
            "listings_accommodates: -0.07816819255075096\n",
            "listings_minimum_nights_avg_ntm: -0.07663045730615321\n",
            "listings_maximum_minimum_nights: -0.0747447304348746\n",
            "listings_calculated_host_listings_count_entire_homes: -0.062241044917191395\n",
            "listings_price: -0.05051468379981737\n",
            "listings_availability_30: -0.04755412955527704\n",
            "listings_beds: -0.0455294866002314\n",
            "crime_Robbery and Extortion: -0.04436378251219314\n",
            "listings_minimum_minimum_nights: -0.04193348846296217\n",
            "listings_host_acceptance_rate: 0.04148484760102648\n",
            "listings_availability_60: -0.036252552599198455\n",
            "crime_Other Crimes: -0.034461840449413986\n",
            "listings_minimum_nights: -0.03434306792047058\n",
            "metro_train_stations_count: -0.031734556591069635\n",
            "listings_calculated_host_listings_count_private_rooms: -0.026769878117449693\n",
            "crime_Child-Related Crimes: -0.026588793003445074\n",
            "crime_Human Trafficking: -0.022319707822787017\n",
            "crime_Fraud and Forgery: -0.019694303608103626\n",
            "crime_Miscellaneous Crimes: -0.017936325425807698\n",
            "listings_host_identity_verified: 0.013592205420169885\n",
            "crime_Assault and Battery: -0.012638212708640054\n",
            "listings_index_right: -0.010700990891839452\n",
            "crime_Drug-Related Crimes: -0.009504753929667455\n",
            "bus_bus_stops_count: -0.008189898804043728\n",
            "listings_ZIPCODE: 0.006490685357367495\n",
            "crime_Kidnapping and Abduction: -0.006302876995329846\n",
            "crime_Cyber Crimes: -0.005302135438421668\n",
            "listings_minimum_maximum_nights: 0.005197334365188277\n",
            "listings_maximum_nights_avg_ntm: 0.005197274294511507\n",
            "listings_maximum_maximum_nights: 0.00519713446031172\n",
            "crime_Driving Offenses: 0.0041679737131526855\n",
            "listings_reviews_per_month: 0.0012327843990248939\n",
            "listings_availability_90: -0.00021969776096494222\n",
            "recreational_features: nan\n",
            "scenic_views: nan\n",
            "dining_area: nan\n",
            "luxury_entertainment: nan\n",
            "days_since_last_review: 1.0\n",
            "special_accommodations: 0.19006683633610047\n",
            "total_amenities: 0.11951759196585288\n",
            "event_friendly_spaces: 0.11716293103561208\n",
            "outdoor_spaces: -0.10241254450621631\n",
            "has_availability: 0.09250201216904703\n",
            "accessibility_features: -0.08779309305320425\n",
            "room_type_Private_room: 0.0731797620473493\n",
            "green_spaces: -0.07027767365724125\n",
            "pet_friendly: -0.05931054873386638\n",
            "transport_features: 0.05925871577686913\n",
            "free_parking: -0.05186030998664193\n",
            "fitness_and_gym_equipment: 0.05145492043010204\n",
            "workspace_features: 0.03987335286438146\n",
            "crime_Vandalism: -0.037931424709778554\n",
            "property_type_Farm_&_Ranch_Stays: -0.036833250185494736\n",
            "property_type_Private_Room: -0.036833250185494736\n",
            "crime_Theft and Burglary: -0.03443873441779177\n",
            "room_type_Shared_room: 0.031902770210156146\n",
            "crime_Serious Crime - Homicide: -0.030437623101948263\n",
            "property_type_Nature-Based_Stays: 0.02749955074399229\n",
            "essentials: -0.02338641950994975\n",
            "room_type_Entire_home/apt: 0.019184014734864932\n",
            "entertainment: 0.01756499592332164\n",
            "property_type_Other: -0.014187646216889909\n",
            "luxury_features: -0.012581243136903543\n",
            "crime_Traffic Offenses: -0.01219489668289289\n",
            "property_type_Shared_Accommodation: -0.011132238694727155\n",
            "response_time_category: -0.01109886865641392\n",
            "room_type_Hotel_room: -0.01069896784379986\n",
            "property_type_Entire_Unit: -0.01067111865137042\n",
            "property_type_Unique_Stays: 0.009116019302316153\n",
            "crime_Sexual Crimes: -0.006894649823342217\n",
            "technology_and_smart_home: 0.006749781895014457\n",
            "shared_spaces: -0.005956027340711528\n",
            "property_type_Cultural_&_Local_Experiences: -0.005120551117858245\n",
            "property_type_Vehicles_as_Accommodation: 0.004827057865176628\n",
            "barbecue_and_grills: 0.0030388841485633213\n",
            "\n",
            "Feature Importance for listings_price:\n",
            "listings_availability_365: 0.6297460960592998\n",
            "listings_id: -0.5235121805230188\n",
            "crime_Weapons Offenses: 0.3753989505074664\n",
            "listings_host_id: -0.34771716015554244\n",
            "listings_host_is_superhost: 0.273828997399565\n",
            "free_wifi_and_internet: 0.27322492795092185\n",
            "listings_number_of_reviews: 0.2678549032143077\n",
            "safety_and_security: 0.2636498154406325\n",
            "swimming_facilities: 0.23373705971221423\n",
            "listings_calculated_host_listings_count_shared_rooms: 0.2320935766132916\n",
            "kitchen_essentials: 0.2150019133015769\n",
            "child_friendly_amenities: 0.15083462725312946\n",
            "bathrooms_count: -0.14403406306830366\n",
            "listings_number_of_reviews_ltm: 0.13855714749706172\n",
            "laundry_facilities: 0.13585630434773613\n",
            "listings_review_scores_value: -0.12442242649560112\n",
            "listings_instant_bookable: -0.11117498560715246\n",
            "listings_review_scores_cleanliness: 0.10526243031139164\n",
            "listings_calculated_host_listings_count: -0.10518481305455928\n",
            "parking_facilities: -0.10381760075237954\n",
            "listings_host_has_profile_pic: 0.09990980857925609\n",
            "listings_host_total_listings_count: -0.09990049919854378\n",
            "listings_host_listings_count: -0.09791372607803268\n",
            "heating_and_cooling: 0.09658567983021865\n",
            "listings_review_scores_communication: 0.0949138172969191\n",
            "listings_minimum_nights: 0.09440442824006019\n",
            "listings_review_scores_location: 0.09410520414475759\n",
            "host_active_years: -0.0940720627560496\n",
            "listings_review_scores_checkin: 0.09357749157808679\n",
            "listings_host_response_rate: 0.08539661768930114\n",
            "listings_number_of_reviews_l30d: 0.08091380455932147\n",
            "listings_accommodates: -0.07816819255075096\n",
            "listings_maximum_maximum_nights: -0.07663045730615321\n",
            "listings_minimum_minimum_nights: -0.0747447304348746\n",
            "listings_maximum_nights_avg_ntm: -0.06456722848530068\n",
            "listings_calculated_host_listings_count_entire_homes: -0.062241044917191395\n",
            "listings_availability_30: -0.04755412955527704\n",
            "listings_beds: -0.0455294866002314\n",
            "crime_Robbery and Extortion: -0.04436378251219314\n",
            "listings_maximum_nights: -0.04193348846296217\n",
            "listings_host_acceptance_rate: 0.04148484760102648\n",
            "listings_availability_60: -0.036252552599198455\n",
            "crime_Other Crimes: -0.034461840449413986\n",
            "listings_price: -0.03434306792047058\n",
            "metro_train_stations_count: -0.031734556591069635\n",
            "listings_calculated_host_listings_count_private_rooms: -0.026769878117449693\n",
            "crime_Child-Related Crimes: -0.026588793003445074\n",
            "crime_Human Trafficking: -0.022319707822787017\n",
            "crime_Fraud and Forgery: -0.019694303608103626\n",
            "crime_Miscellaneous Crimes: -0.017936325425807698\n",
            "listings_host_identity_verified: 0.013592205420169885\n",
            "crime_Assault and Battery: -0.012638212708640054\n",
            "listings_index_right: -0.010700990891839452\n",
            "crime_Drug-Related Crimes: -0.009504753929667455\n",
            "bus_bus_stops_count: -0.008189898804043728\n",
            "listings_ZIPCODE: 0.006490685357367495\n",
            "crime_Kidnapping and Abduction: -0.006302876995329846\n",
            "crime_Cyber Crimes: -0.005302135438421668\n",
            "listings_maximum_minimum_nights: 0.005197334365188276\n",
            "listings_minimum_nights_avg_ntm: 0.005197274294511507\n",
            "listings_minimum_maximum_nights: 0.00519713446031172\n",
            "crime_Driving Offenses: 0.0041679737131526855\n",
            "listings_reviews_per_month: 0.0012327843990248939\n",
            "listings_availability_90: -0.00021969776096494222\n",
            "recreational_features: nan\n",
            "scenic_views: nan\n",
            "dining_area: nan\n",
            "luxury_entertainment: nan\n",
            "days_since_last_review: 1.0\n",
            "special_accommodations: 0.19006683633610047\n",
            "total_amenities: 0.11951759196585288\n",
            "event_friendly_spaces: 0.11716293103561208\n",
            "outdoor_spaces: -0.10241254450621631\n",
            "has_availability: 0.09250201216904703\n",
            "accessibility_features: -0.08779309305320425\n",
            "room_type_Private_room: 0.0731797620473493\n",
            "green_spaces: -0.07027767365724125\n",
            "pet_friendly: -0.05931054873386638\n",
            "transport_features: 0.05925871577686913\n",
            "free_parking: -0.05186030998664193\n",
            "fitness_and_gym_equipment: 0.05145492043010204\n",
            "workspace_features: 0.03987335286438146\n",
            "crime_Vandalism: -0.037931424709778554\n",
            "property_type_Farm_&_Ranch_Stays: -0.036833250185494736\n",
            "property_type_Private_Room: -0.036833250185494736\n",
            "crime_Theft and Burglary: -0.03443873441779177\n",
            "room_type_Shared_room: 0.031902770210156146\n",
            "crime_Serious Crime - Homicide: -0.030437623101948263\n",
            "property_type_Nature-Based_Stays: 0.02749955074399229\n",
            "essentials: -0.02338641950994975\n",
            "room_type_Entire_home/apt: 0.019184014734864932\n",
            "entertainment: 0.01756499592332164\n",
            "property_type_Other: -0.014187646216889909\n",
            "luxury_features: -0.012581243136903543\n",
            "crime_Traffic Offenses: -0.01219489668289289\n",
            "property_type_Shared_Accommodation: -0.011132238694727155\n",
            "response_time_category: -0.01109886865641392\n",
            "room_type_Hotel_room: -0.01069896784379986\n",
            "property_type_Entire_Unit: -0.01067111865137042\n",
            "property_type_Unique_Stays: 0.009116019302316153\n",
            "crime_Sexual Crimes: -0.006894649823342217\n",
            "technology_and_smart_home: 0.006749781895014457\n",
            "shared_spaces: -0.005956027340711528\n",
            "property_type_Cultural_&_Local_Experiences: -0.005120551117858245\n",
            "property_type_Vehicles_as_Accommodation: 0.004827057865176628\n",
            "barbecue_and_grills: 0.0030388841485633213\n"
          ]
        }
      ]
    },
    {
      "cell_type": "code",
      "source": [
        "import matplotlib.pyplot as plt\n",
        "import numpy as np\n",
        "\n",
        "# Function to plot sorted feature importance\n",
        "def plot_sorted_feature_importance_fixed(correlations, title):\n",
        "    # Separate positive and negative correlations\n",
        "    positive_correlations = [item for item in correlations if item[1] > 0.15]\n",
        "    negative_correlations = [item for item in correlations if item[1] <= -0.07]\n",
        "\n",
        "    # Sort each group\n",
        "    positive_correlations = sorted(positive_correlations, key=lambda x: x[1], reverse=True)\n",
        "    negative_correlations = sorted(negative_correlations, key=lambda x: x[1], reverse = True)\n",
        "\n",
        "    # Combine groups in the desired \"S\" shape order\n",
        "    correlations_sorted = positive_correlations + negative_correlations\n",
        "\n",
        "    # Unzip features and their importance values\n",
        "    features, importance = zip(*correlations_sorted)\n",
        "\n",
        "    # Create a vertical bar chart\n",
        "    plt.figure(figsize=(30, len(features) * 0.25))\n",
        "    plt.barh(features, importance, color=np.where(np.array(importance) > 0, 'skyblue', 'salmon'))\n",
        "    plt.axvline(0, color='black', linewidth=0.7, linestyle='--')  # Add a vertical line at 0\n",
        "    plt.xlabel(\"Correlation Coefficients\")\n",
        "    plt.ylabel(\"Features\")\n",
        "    plt.title(title)\n",
        "    plt.gca().invert_yaxis()  # Invert y-axis to place positive at the top\n",
        "    plt.tight_layout()  # Adjust layout to fit all features\n",
        "    plt.show()\n",
        "\n"
      ],
      "metadata": {
        "id": "wdggatACx7f3"
      },
      "execution_count": 90,
      "outputs": []
    },
    {
      "cell_type": "markdown",
      "source": [
        "<h2>A. Random Forest</h2>"
      ],
      "metadata": {
        "id": "TNKUwANKycdb"
      }
    },
    {
      "cell_type": "code",
      "source": [
        "from pyspark.ml.feature import VectorAssembler\n",
        "from pyspark.ml.regression import RandomForestRegressor\n",
        "from pyspark.ml.evaluation import RegressionEvaluator\n",
        "\n",
        "final_df_cleaned_listings = final_df_cleaned_listings.drop('features_price')\n",
        "\n",
        "# Step 1: Log Transformation for listings_price\n",
        "final_df_cleaned_listings = final_df_cleaned_listings.withColumn(\"log_listings_price\", F.log(F.col(\"listings_price\")))\n",
        "\n",
        "feature_cols_price = [\n",
        "    col for col in final_df_cleaned_listings.columns\n",
        "    if col not in [\"listings_price\", \"log_listings_price\", \"listings_id\", \"listings_host_id\", \"listings_neighbourhood_group_cleansed\", \"listings_host_picture_url\"]\n",
        "]\n",
        "\n",
        "# Assemble features for availability prediction\n",
        "assembler_price = VectorAssembler(inputCols=feature_cols_price, outputCol=\"features_price\")\n",
        "final_df_cleaned_listings = assembler_price.transform(final_df_cleaned_listings)\n",
        "\n",
        "# Step 3: Split the data into training and test sets\n",
        "train_df, test_df = final_df_cleaned_listings.randomSplit([0.8, 0.2], seed=42)\n",
        "\n",
        "\n",
        "# Step 5: Model for listings_availability_30 (without transformation)\n",
        "rf_price = RandomForestRegressor(featuresCol=\"features_price\", labelCol=\"log_listings_price\", numTrees=100)\n",
        "rf_price_model = rf_price.fit(train_df)\n",
        "predictions_price = rf_price_model.transform(test_df)\n",
        "\n",
        "# Evaluate listings_availability_90 model\n",
        "evaluator_rmse_price = RegressionEvaluator(labelCol=\"log_listings_price\", predictionCol=\"prediction\", metricName=\"rmse\")\n",
        "evaluator_r2_price = RegressionEvaluator(labelCol=\"log_listings_price\", predictionCol=\"prediction\", metricName=\"r2\")\n",
        "rmse_price = evaluator_rmse_price.evaluate(predictions_price)\n",
        "r2_price = evaluator_r2_price.evaluate(predictions_price)\n",
        "\n",
        "print(f\"Price Model - RMSE: {rmse_price}\")\n",
        "print(f\"Price Model - R^2: {r2_price}\")\n",
        "\n",
        "# Inverse transformation for predictions\n",
        "predictions_price = predictions_price.withColumn(\"price_original\", F.exp(F.col(\"prediction\")))\n",
        "\n",
        "# Show original prices and predicted prices\n",
        "# Show availability predictions\n",
        "print(\"Price Predictions:\")\n",
        "predictions_price.select(\"listings_price\", \"price_original\").show(5)"
      ],
      "metadata": {
        "id": "ttihdPzABdfo",
        "colab": {
          "base_uri": "https://localhost:8080/"
        },
        "outputId": "7e238c9f-2e4a-4ddb-c21d-5131a8a84e80"
      },
      "execution_count": 93,
      "outputs": [
        {
          "output_type": "stream",
          "name": "stdout",
          "text": [
            "Price Model - RMSE: 0.5298819040467957\n",
            "Price Model - R^2: 0.64049887716835\n",
            "Price Predictions:\n",
            "+--------------+------------------+\n",
            "|listings_price|    price_original|\n",
            "+--------------+------------------+\n",
            "|         179.0| 74.02503599701163|\n",
            "|          89.0|125.60389601504718|\n",
            "|         150.0|141.83788453579567|\n",
            "|         185.0|154.98878328120074|\n",
            "|         200.0|124.34554605817996|\n",
            "+--------------+------------------+\n",
            "only showing top 5 rows\n",
            "\n"
          ]
        }
      ]
    },
    {
      "cell_type": "code",
      "source": [
        "final_df_cleaned = final_df_cleaned.drop('features_availability')\n",
        "\n",
        "feature_cols_availability = [\n",
        "    col for col in final_df_cleaned.columns\n",
        "    if col not in [\"listings_price\", \"log_listings_price\", \"listings_id\", \"listings_host_id\", \"listings_availability_30\", \"listings_neighbourhood_group_cleansed\", \"listings_host_picture_url\"]\n",
        "]\n",
        "\n",
        "# Assemble features for availability prediction\n",
        "assembler_availability = VectorAssembler(inputCols=feature_cols_availability, outputCol=\"features_availability\")\n",
        "final_df_cleaned = assembler_availability.transform(final_df_cleaned)\n",
        "\n",
        "# Step 3: Split the data into training and test sets\n",
        "train_df, test_df = final_df_cleaned.randomSplit([0.8, 0.2], seed=42)\n",
        "\n",
        "\n",
        "# Step 5: Model for listings_availability_30 (without transformation)\n",
        "rf_availability = RandomForestRegressor(featuresCol=\"features_availability\", labelCol=\"listings_availability_30\", numTrees=100)\n",
        "rf_availability_model = rf_availability.fit(train_df)\n",
        "predictions_availability = rf_availability_model.transform(test_df)\n",
        "\n",
        "# Evaluate listings_availability_90 model\n",
        "evaluator_rmse_avail = RegressionEvaluator(labelCol=\"listings_availability_30\", predictionCol=\"prediction\", metricName=\"rmse\")\n",
        "evaluator_r2_avail = RegressionEvaluator(labelCol=\"listings_availability_30\", predictionCol=\"prediction\", metricName=\"r2\")\n",
        "rmse_availability = evaluator_rmse_avail.evaluate(predictions_availability)\n",
        "r2_availability = evaluator_r2_avail.evaluate(predictions_availability)\n",
        "\n",
        "print(f\"Availability Model - RMSE: {rmse_availability}\")\n",
        "print(f\"Availability Model - R^2: {r2_availability}\")\n",
        "\n",
        "# Show availability predictions\n",
        "print(\"Availability Predictions:\")\n",
        "predictions_availability.select(\"prediction\", \"listings_availability_30\").show(5)"
      ],
      "metadata": {
        "id": "RvdtUiK0BfxG",
        "colab": {
          "base_uri": "https://localhost:8080/"
        },
        "outputId": "7254d81a-388f-4bea-c909-0d84fb12269b"
      },
      "execution_count": 94,
      "outputs": [
        {
          "output_type": "stream",
          "name": "stdout",
          "text": [
            "Availability Model - RMSE: 3.63568866378304\n",
            "Availability Model - R^2: 0.9168479871225081\n",
            "Availability Predictions:\n",
            "+-------------------+------------------------+\n",
            "|         prediction|listings_availability_30|\n",
            "+-------------------+------------------------+\n",
            "| 27.017422053634927|                      25|\n",
            "|0.00871602752746336|                       0|\n",
            "|  8.001155007676518|                       0|\n",
            "|  9.553702561331487|                      11|\n",
            "| 1.2359379456841453|                       0|\n",
            "+-------------------+------------------------+\n",
            "only showing top 5 rows\n",
            "\n"
          ]
        }
      ]
    },
    {
      "cell_type": "markdown",
      "source": [
        "<h2>B. Linear Regression</h2>"
      ],
      "metadata": {
        "id": "xlugbv1Oyq9m"
      }
    },
    {
      "cell_type": "code",
      "source": [
        "from pyspark.ml.regression import LinearRegression\n",
        "\n",
        "# Drop 'features_price' column if it exists\n",
        "final_df_cleaned_listings = final_df_cleaned_listings.drop('features_price')\n",
        "\n",
        "# Step 1: Log Transformation for listings_price\n",
        "final_df_cleaned_listings = final_df_cleaned_listings.withColumn(\"log_listings_price\", F.log(F.col(\"listings_price\")))\n",
        "\n",
        "# Step 2: Define feature columns, excluding specific ones\n",
        "feature_cols_price = [\n",
        "    col for col in final_df_cleaned_listings.columns\n",
        "    if col not in [\"listings_price\", \"log_listings_price\", \"listings_id\", \"listings_host_id\", \"listings_neighbourhood_group_cleansed\", \"listings_host_picture_url\"]\n",
        "]\n",
        "\n",
        "# Assemble features for prediction\n",
        "assembler_price = VectorAssembler(inputCols=feature_cols_price, outputCol=\"features_price\")\n",
        "final_df_cleaned_listings = assembler_price.transform(final_df_cleaned_listings)\n",
        "\n",
        "# Step 3: Split the data into training and test sets\n",
        "train_df, test_df = final_df_cleaned_listings.randomSplit([0.8, 0.2], seed=42)\n",
        "\n",
        "# Step 4: Train Linear Regression Model\n",
        "lr_price = LinearRegression(featuresCol=\"features_price\", labelCol=\"log_listings_price\", maxIter=100, regParam=0.1, elasticNetParam=0.8)\n",
        "lr_price_model = lr_price.fit(train_df)\n",
        "\n",
        "# Step 5: Make predictions\n",
        "predictions_price = lr_price_model.transform(test_df)\n",
        "\n",
        "# Step 6: Evaluate the model\n",
        "evaluator_rmse_price = RegressionEvaluator(labelCol=\"log_listings_price\", predictionCol=\"prediction\", metricName=\"rmse\")\n",
        "evaluator_r2_price = RegressionEvaluator(labelCol=\"log_listings_price\", predictionCol=\"prediction\", metricName=\"r2\")\n",
        "rmse_price = evaluator_rmse_price.evaluate(predictions_price)\n",
        "r2_price = evaluator_r2_price.evaluate(predictions_price)\n",
        "\n",
        "print(f\"Linear Regression Model - RMSE: {rmse_price}\")\n",
        "print(f\"Linear Regression Model - R^2: {r2_price}\")\n",
        "\n",
        "# Step 7: Inverse transformation for predictions\n",
        "predictions_price = predictions_price.withColumn(\"price_original\", F.exp(F.col(\"prediction\")))\n",
        "\n",
        "# Step 8: Display original prices and predicted prices\n",
        "print(\"Price Predictions:\")\n",
        "predictions_price.select(\"listings_price\", \"price_original\").show(5, truncate=False)"
      ],
      "metadata": {
        "id": "JRCZ8DSbBlNf",
        "colab": {
          "base_uri": "https://localhost:8080/"
        },
        "outputId": "d73f1fe1-03e6-4632-aa2a-d696dcb0acce"
      },
      "execution_count": 95,
      "outputs": [
        {
          "output_type": "stream",
          "name": "stdout",
          "text": [
            "Linear Regression Model - RMSE: 0.6060317011652085\n",
            "Linear Regression Model - R^2: 0.5297457170982219\n",
            "Price Predictions:\n",
            "+--------------+------------------+\n",
            "|listings_price|price_original    |\n",
            "+--------------+------------------+\n",
            "|179.0         |83.65883614971148 |\n",
            "|89.0          |149.94390878524024|\n",
            "|150.0         |144.86141735222324|\n",
            "|185.0         |155.2345597270008 |\n",
            "|200.0         |131.66435259791987|\n",
            "+--------------+------------------+\n",
            "only showing top 5 rows\n",
            "\n"
          ]
        }
      ]
    },
    {
      "cell_type": "code",
      "source": [
        "# Drop 'features_availability' column if it exists\n",
        "final_df_cleaned = final_df_cleaned.drop('features_availability')\n",
        "\n",
        "# Step 1: Define feature columns\n",
        "feature_cols_availability = [\n",
        "    col for col in final_df_cleaned.columns\n",
        "    if col not in [\"listings_price\", \"log_listings_price\", \"listings_id\", \"listings_host_id\", \"listings_availability_30\", \"listings_neighbourhood_group_cleansed\", \"listings_host_picture_url\"]\n",
        "]\n",
        "\n",
        "# Assemble features for availability prediction\n",
        "assembler_availability = VectorAssembler(inputCols=feature_cols_availability, outputCol=\"features_availability\")\n",
        "final_df_cleaned = assembler_availability.transform(final_df_cleaned)\n",
        "\n",
        "# Step 2: Split the data into training and test sets\n",
        "train_df, test_df = final_df_cleaned.randomSplit([0.8, 0.2], seed=42)\n",
        "\n",
        "# Step 3: Train Linear Regression Model\n",
        "lr_availability = LinearRegression(featuresCol=\"features_availability\", labelCol=\"listings_availability_30\", maxIter=100, regParam=0.1, elasticNetParam=0.8)\n",
        "lr_availability_model = lr_availability.fit(train_df)\n",
        "\n",
        "# Step 4: Make predictions\n",
        "predictions_availability = lr_availability_model.transform(test_df)\n",
        "\n",
        "# Step 5: Evaluate the model\n",
        "evaluator_rmse_avail = RegressionEvaluator(labelCol=\"listings_availability_30\", predictionCol=\"prediction\", metricName=\"rmse\")\n",
        "evaluator_r2_avail = RegressionEvaluator(labelCol=\"listings_availability_30\", predictionCol=\"prediction\", metricName=\"r2\")\n",
        "rmse_availability = evaluator_rmse_avail.evaluate(predictions_availability)\n",
        "r2_availability = evaluator_r2_avail.evaluate(predictions_availability)\n",
        "\n",
        "print(f\"Availability Model - RMSE: {rmse_availability}\")\n",
        "print(f\"Availability Model - R^2: {r2_availability}\")\n",
        "\n",
        "# Step 6: Show availability predictions\n",
        "print(\"Availability Predictions:\")\n",
        "predictions_availability.select(\"prediction\", \"listings_availability_30\").show(5, truncate=False)\n"
      ],
      "metadata": {
        "id": "XcxUhrpRBpJZ",
        "colab": {
          "base_uri": "https://localhost:8080/"
        },
        "outputId": "e38711d9-84b8-4f9f-c568-23891a781dfc"
      },
      "execution_count": 96,
      "outputs": [
        {
          "output_type": "stream",
          "name": "stdout",
          "text": [
            "Availability Model - RMSE: 3.9937948964134677\n",
            "Availability Model - R^2: 0.8996607362599944\n",
            "Availability Predictions:\n",
            "+---------------------+------------------------+\n",
            "|prediction           |listings_availability_30|\n",
            "+---------------------+------------------------+\n",
            "|25.16920532761523    |25                      |\n",
            "|-0.022111241855800046|0                       |\n",
            "|4.269909434098521    |0                       |\n",
            "|13.325774350808093   |11                      |\n",
            "|0.34042010683192814  |0                       |\n",
            "+---------------------+------------------------+\n",
            "only showing top 5 rows\n",
            "\n"
          ]
        }
      ]
    },
    {
      "cell_type": "markdown",
      "source": [
        "<h2>C. Gradient Boosted Tree</h2>"
      ],
      "metadata": {
        "id": "JkafLk4zyyWe"
      }
    },
    {
      "cell_type": "code",
      "source": [
        "from pyspark.ml.regression import GBTRegressor\n",
        "\n",
        "# Drop 'features_price' column if it exists\n",
        "final_df_cleaned_listings = final_df_cleaned_listings.drop('features_price')\n",
        "\n",
        "# Step 1: Log Transformation for listings_price\n",
        "final_df_cleaned_listings = final_df_cleaned_listings.withColumn(\"log_listings_price\", F.log(F.col(\"listings_price\")))\n",
        "\n",
        "# Step 2: Define feature columns\n",
        "feature_cols_price = [\n",
        "    col for col in final_df_cleaned_listings.columns\n",
        "    if col not in [\"listings_price\", \"log_listings_price\", \"listings_id\", \"listings_host_id\", \"listings_neighbourhood_group_cleansed\", \"listings_host_picture_url\"]\n",
        "]\n",
        "\n",
        "# Assemble features for prediction\n",
        "assembler_price = VectorAssembler(inputCols=feature_cols_price, outputCol=\"features_price\")\n",
        "final_df_cleaned_listings = assembler_price.transform(final_df_cleaned_listings)\n",
        "\n",
        "# Step 3: Split the data into training and test sets\n",
        "train_df, test_df = final_df_cleaned_listings.randomSplit([0.8, 0.2], seed=42)\n",
        "\n",
        "# Step 4: Train Gradient-Boosted Tree Regressor\n",
        "gbt_price = GBTRegressor(featuresCol=\"features_price\", labelCol=\"log_listings_price\", maxIter=100)\n",
        "gbt_price_model = gbt_price.fit(train_df)\n",
        "\n",
        "# Step 5: Make predictions\n",
        "predictions_price = gbt_price_model.transform(test_df)\n",
        "\n",
        "# Step 6: Evaluate the model\n",
        "evaluator_rmse_price = RegressionEvaluator(labelCol=\"log_listings_price\", predictionCol=\"prediction\", metricName=\"rmse\")\n",
        "evaluator_r2_price = RegressionEvaluator(labelCol=\"log_listings_price\", predictionCol=\"prediction\", metricName=\"r2\")\n",
        "rmse_price = evaluator_rmse_price.evaluate(predictions_price)\n",
        "r2_price = evaluator_r2_price.evaluate(predictions_price)\n",
        "\n",
        "print(f\"GBT Price Model - RMSE: {rmse_price}\")\n",
        "print(f\"GBT Price Model - R^2: {r2_price}\")\n",
        "\n",
        "# Step 7: Inverse transformation for predictions\n",
        "predictions_price = predictions_price.withColumn(\"price_original\", F.exp(F.col(\"prediction\")))\n",
        "\n",
        "# Step 8: Display original prices and predicted prices\n",
        "print(\"Price Predictions:\")\n",
        "predictions_price.select(\"listings_price\", \"price_original\").show(5, truncate=False)\n"
      ],
      "metadata": {
        "id": "-RxKx_pdBrGL",
        "colab": {
          "base_uri": "https://localhost:8080/"
        },
        "outputId": "1dd550a8-b396-4bb2-e23d-dcbec6d8aaf0"
      },
      "execution_count": 97,
      "outputs": [
        {
          "output_type": "stream",
          "name": "stdout",
          "text": [
            "GBT Price Model - RMSE: 0.42565620464715975\n",
            "GBT Price Model - R^2: 0.7680149429461118\n",
            "Price Predictions:\n",
            "+--------------+------------------+\n",
            "|listings_price|price_original    |\n",
            "+--------------+------------------+\n",
            "|179.0         |113.59991487579755|\n",
            "|89.0          |172.99000131304643|\n",
            "|150.0         |170.79006996178288|\n",
            "|185.0         |233.7973702231396 |\n",
            "|200.0         |115.6159710670657 |\n",
            "+--------------+------------------+\n",
            "only showing top 5 rows\n",
            "\n"
          ]
        }
      ]
    },
    {
      "cell_type": "code",
      "source": [
        "# Drop 'features_availability' column if it exists\n",
        "final_df_cleaned = final_df_cleaned.drop('features_availability')\n",
        "\n",
        "# Step 1: Define feature columns\n",
        "feature_cols_availability = [\n",
        "    col for col in final_df_cleaned.columns\n",
        "    if col not in [\"listings_price\", \"log_listings_price\", \"listings_id\", \"listings_host_id\", \"listings_availability_30\", \"listings_neighbourhood_group_cleansed\", \"listings_host_picture_url\"]\n",
        "]\n",
        "\n",
        "# Assemble features for availability prediction\n",
        "assembler_availability = VectorAssembler(inputCols=feature_cols_availability, outputCol=\"features_availability\")\n",
        "final_df_cleaned = assembler_availability.transform(final_df_cleaned)\n",
        "\n",
        "# Step 2: Split the data into training and test sets\n",
        "train_df, test_df = final_df_cleaned.randomSplit([0.8, 0.2], seed=42)\n",
        "\n",
        "# Step 3: Train Gradient-Boosted Tree Regressor\n",
        "gbt_availability = GBTRegressor(featuresCol=\"features_availability\", labelCol=\"listings_availability_30\", maxIter=100)\n",
        "gbt_availability_model = gbt_availability.fit(train_df)\n",
        "\n",
        "# Step 4: Make predictions\n",
        "predictions_availability = gbt_availability_model.transform(test_df)\n",
        "\n",
        "# Step 5: Evaluate the model\n",
        "evaluator_rmse_avail = RegressionEvaluator(labelCol=\"listings_availability_30\", predictionCol=\"prediction\", metricName=\"rmse\")\n",
        "evaluator_r2_avail = RegressionEvaluator(labelCol=\"listings_availability_30\", predictionCol=\"prediction\", metricName=\"r2\")\n",
        "rmse_availability = evaluator_rmse_avail.evaluate(predictions_availability)\n",
        "r2_availability = evaluator_r2_avail.evaluate(predictions_availability)\n",
        "\n",
        "print(f\"GBT Availability Model - RMSE: {rmse_availability}\")\n",
        "print(f\"GBT Availability Model - R^2: {r2_availability}\")\n",
        "\n",
        "# Step 6: Display availability predictions\n",
        "print(\"Availability Predictions:\")\n",
        "predictions_availability.select(\"prediction\", \"listings_availability_30\").show(5, truncate=False)\n"
      ],
      "metadata": {
        "id": "L3eQO31oB41v",
        "colab": {
          "base_uri": "https://localhost:8080/"
        },
        "outputId": "d87379c2-7928-413c-f277-116e14ada77e"
      },
      "execution_count": 98,
      "outputs": [
        {
          "output_type": "stream",
          "name": "stdout",
          "text": [
            "GBT Availability Model - RMSE: 2.906770212461322\n",
            "GBT Availability Model - R^2: 0.9468478548527801\n",
            "Availability Predictions:\n",
            "+------------------+------------------------+\n",
            "|prediction        |listings_availability_30|\n",
            "+------------------+------------------------+\n",
            "|25.99737725080662 |25                      |\n",
            "|-1.181111787299923|0                       |\n",
            "|4.539113366802576 |0                       |\n",
            "|9.431622894654065 |11                      |\n",
            "|0.75974688485124  |0                       |\n",
            "+------------------+------------------------+\n",
            "only showing top 5 rows\n",
            "\n"
          ]
        }
      ]
    },
    {
      "cell_type": "markdown",
      "source": [
        "<b><h2>Revenue Prediction!</h2></b>"
      ],
      "metadata": {
        "id": "WUXVpnkQBRfN"
      }
    },
    {
      "cell_type": "code",
      "source": [
        "!pip install fastapi uvicorn pyngrok pandas openpyxl pyspark\n"
      ],
      "metadata": {
        "id": "xs-5YkDz5pDg",
        "colab": {
          "base_uri": "https://localhost:8080/"
        },
        "outputId": "2fcdfa78-7429-4133-c203-2505b31fe438"
      },
      "execution_count": 102,
      "outputs": [
        {
          "output_type": "stream",
          "name": "stdout",
          "text": [
            "Collecting fastapi\n",
            "  Downloading fastapi-0.115.6-py3-none-any.whl.metadata (27 kB)\n",
            "Collecting uvicorn\n",
            "  Downloading uvicorn-0.32.1-py3-none-any.whl.metadata (6.6 kB)\n",
            "Collecting pyngrok\n",
            "  Downloading pyngrok-7.2.2-py3-none-any.whl.metadata (8.4 kB)\n",
            "Requirement already satisfied: pandas in /usr/local/lib/python3.10/dist-packages (2.2.2)\n",
            "Requirement already satisfied: openpyxl in /usr/local/lib/python3.10/dist-packages (3.1.5)\n",
            "Requirement already satisfied: pyspark in /usr/local/lib/python3.10/dist-packages (3.3.0)\n",
            "Collecting starlette<0.42.0,>=0.40.0 (from fastapi)\n",
            "  Downloading starlette-0.41.3-py3-none-any.whl.metadata (6.0 kB)\n",
            "Requirement already satisfied: pydantic!=1.8,!=1.8.1,!=2.0.0,!=2.0.1,!=2.1.0,<3.0.0,>=1.7.4 in /usr/local/lib/python3.10/dist-packages (from fastapi) (2.10.3)\n",
            "Requirement already satisfied: typing-extensions>=4.8.0 in /usr/local/lib/python3.10/dist-packages (from fastapi) (4.12.2)\n",
            "Requirement already satisfied: click>=7.0 in /usr/local/lib/python3.10/dist-packages (from uvicorn) (8.1.7)\n",
            "Requirement already satisfied: h11>=0.8 in /usr/local/lib/python3.10/dist-packages (from uvicorn) (0.14.0)\n",
            "Requirement already satisfied: PyYAML>=5.1 in /usr/local/lib/python3.10/dist-packages (from pyngrok) (6.0.2)\n",
            "Requirement already satisfied: numpy>=1.22.4 in /usr/local/lib/python3.10/dist-packages (from pandas) (1.26.4)\n",
            "Requirement already satisfied: python-dateutil>=2.8.2 in /usr/local/lib/python3.10/dist-packages (from pandas) (2.8.2)\n",
            "Requirement already satisfied: pytz>=2020.1 in /usr/local/lib/python3.10/dist-packages (from pandas) (2024.2)\n",
            "Requirement already satisfied: tzdata>=2022.7 in /usr/local/lib/python3.10/dist-packages (from pandas) (2024.2)\n",
            "Requirement already satisfied: et-xmlfile in /usr/local/lib/python3.10/dist-packages (from openpyxl) (2.0.0)\n",
            "Requirement already satisfied: py4j==0.10.9.5 in /usr/local/lib/python3.10/dist-packages (from pyspark) (0.10.9.5)\n",
            "Requirement already satisfied: annotated-types>=0.6.0 in /usr/local/lib/python3.10/dist-packages (from pydantic!=1.8,!=1.8.1,!=2.0.0,!=2.0.1,!=2.1.0,<3.0.0,>=1.7.4->fastapi) (0.7.0)\n",
            "Requirement already satisfied: pydantic-core==2.27.1 in /usr/local/lib/python3.10/dist-packages (from pydantic!=1.8,!=1.8.1,!=2.0.0,!=2.0.1,!=2.1.0,<3.0.0,>=1.7.4->fastapi) (2.27.1)\n",
            "Requirement already satisfied: six>=1.5 in /usr/local/lib/python3.10/dist-packages (from python-dateutil>=2.8.2->pandas) (1.17.0)\n",
            "Requirement already satisfied: anyio<5,>=3.4.0 in /usr/local/lib/python3.10/dist-packages (from starlette<0.42.0,>=0.40.0->fastapi) (3.7.1)\n",
            "Requirement already satisfied: idna>=2.8 in /usr/local/lib/python3.10/dist-packages (from anyio<5,>=3.4.0->starlette<0.42.0,>=0.40.0->fastapi) (3.10)\n",
            "Requirement already satisfied: sniffio>=1.1 in /usr/local/lib/python3.10/dist-packages (from anyio<5,>=3.4.0->starlette<0.42.0,>=0.40.0->fastapi) (1.3.1)\n",
            "Requirement already satisfied: exceptiongroup in /usr/local/lib/python3.10/dist-packages (from anyio<5,>=3.4.0->starlette<0.42.0,>=0.40.0->fastapi) (1.2.2)\n",
            "Downloading fastapi-0.115.6-py3-none-any.whl (94 kB)\n",
            "\u001b[2K   \u001b[90m━━━━━━━━━━━━━━━━━━━━━━━━━━━━━━━━━━━━━━━━\u001b[0m \u001b[32m94.8/94.8 kB\u001b[0m \u001b[31m4.4 MB/s\u001b[0m eta \u001b[36m0:00:00\u001b[0m\n",
            "\u001b[?25hDownloading uvicorn-0.32.1-py3-none-any.whl (63 kB)\n",
            "\u001b[2K   \u001b[90m━━━━━━━━━━━━━━━━━━━━━━━━━━━━━━━━━━━━━━━━\u001b[0m \u001b[32m63.8/63.8 kB\u001b[0m \u001b[31m5.3 MB/s\u001b[0m eta \u001b[36m0:00:00\u001b[0m\n",
            "\u001b[?25hDownloading pyngrok-7.2.2-py3-none-any.whl (22 kB)\n",
            "Downloading starlette-0.41.3-py3-none-any.whl (73 kB)\n",
            "\u001b[2K   \u001b[90m━━━━━━━━━━━━━━━━━━━━━━━━━━━━━━━━━━━━━━━━\u001b[0m \u001b[32m73.2/73.2 kB\u001b[0m \u001b[31m5.5 MB/s\u001b[0m eta \u001b[36m0:00:00\u001b[0m\n",
            "\u001b[?25hInstalling collected packages: uvicorn, pyngrok, starlette, fastapi\n",
            "Successfully installed fastapi-0.115.6 pyngrok-7.2.2 starlette-0.41.3 uvicorn-0.32.1\n"
          ]
        }
      ]
    },
    {
      "cell_type": "code",
      "source": [
        "from pyspark.sql import functions as F\n",
        "\n",
        "# Group by 'listings_ZIPCODE' and calculate average of (90 - prediction)\n",
        "avg_predictions_by_zip = predictions_availability.groupBy('listings_ZIPCODE').agg(\n",
        "    F.avg(90 - F.col('prediction')).alias('avg_prediction')\n",
        ")\n",
        "\n",
        "# Sort by avg_prediction in descending order\n",
        "avg_predictions_by_zip = avg_predictions_by_zip.orderBy(F.col('avg_prediction').desc())\n",
        "\n",
        "# Show the results\n",
        "avg_predictions_by_zip.show(10)"
      ],
      "metadata": {
        "id": "z1rigiC4qM-e",
        "colab": {
          "base_uri": "https://localhost:8080/"
        },
        "outputId": "d1a0a520-6430-4e78-cfaf-d5a2afd9c063"
      },
      "execution_count": 104,
      "outputs": [
        {
          "output_type": "stream",
          "name": "stdout",
          "text": [
            "+----------------+-----------------+\n",
            "|listings_ZIPCODE|   avg_prediction|\n",
            "+----------------+-----------------+\n",
            "|           90021|90.13509545737136|\n",
            "|           93563|89.81546194261126|\n",
            "|           93543|89.77978938374181|\n",
            "|           91108|88.05476519613622|\n",
            "|           91020| 86.8170711397629|\n",
            "|           90716|86.57671476538317|\n",
            "|           91201|85.23486816044702|\n",
            "|           90723| 85.1502649862319|\n",
            "|           90002| 84.5713876684605|\n",
            "|           90073|84.08266827868044|\n",
            "+----------------+-----------------+\n",
            "only showing top 10 rows\n",
            "\n"
          ]
        }
      ]
    },
    {
      "cell_type": "code",
      "source": [
        "!pip install dash\n"
      ],
      "metadata": {
        "colab": {
          "base_uri": "https://localhost:8080/"
        },
        "id": "oP5qKHaXVutT",
        "outputId": "8b02f548-fb30-4174-c7fe-3817353f07f8"
      },
      "execution_count": 108,
      "outputs": [
        {
          "output_type": "stream",
          "name": "stdout",
          "text": [
            "Collecting dash\n",
            "  Downloading dash-2.18.2-py3-none-any.whl.metadata (10 kB)\n",
            "Requirement already satisfied: Flask<3.1,>=1.0.4 in /usr/local/lib/python3.10/dist-packages (from dash) (3.0.3)\n",
            "Collecting Werkzeug<3.1 (from dash)\n",
            "  Downloading werkzeug-3.0.6-py3-none-any.whl.metadata (3.7 kB)\n",
            "Requirement already satisfied: plotly>=5.0.0 in /usr/local/lib/python3.10/dist-packages (from dash) (5.24.1)\n",
            "Collecting dash-html-components==2.0.0 (from dash)\n",
            "  Downloading dash_html_components-2.0.0-py3-none-any.whl.metadata (3.8 kB)\n",
            "Collecting dash-core-components==2.0.0 (from dash)\n",
            "  Downloading dash_core_components-2.0.0-py3-none-any.whl.metadata (2.9 kB)\n",
            "Collecting dash-table==5.0.0 (from dash)\n",
            "  Downloading dash_table-5.0.0-py3-none-any.whl.metadata (2.4 kB)\n",
            "Requirement already satisfied: importlib-metadata in /usr/local/lib/python3.10/dist-packages (from dash) (8.5.0)\n",
            "Requirement already satisfied: typing-extensions>=4.1.1 in /usr/local/lib/python3.10/dist-packages (from dash) (4.12.2)\n",
            "Requirement already satisfied: requests in /usr/local/lib/python3.10/dist-packages (from dash) (2.32.3)\n",
            "Collecting retrying (from dash)\n",
            "  Downloading retrying-1.3.4-py3-none-any.whl.metadata (6.9 kB)\n",
            "Requirement already satisfied: nest-asyncio in /usr/local/lib/python3.10/dist-packages (from dash) (1.6.0)\n",
            "Requirement already satisfied: setuptools in /usr/local/lib/python3.10/dist-packages (from dash) (75.1.0)\n",
            "Requirement already satisfied: Jinja2>=3.1.2 in /usr/local/lib/python3.10/dist-packages (from Flask<3.1,>=1.0.4->dash) (3.1.4)\n",
            "Requirement already satisfied: itsdangerous>=2.1.2 in /usr/local/lib/python3.10/dist-packages (from Flask<3.1,>=1.0.4->dash) (2.2.0)\n",
            "Requirement already satisfied: click>=8.1.3 in /usr/local/lib/python3.10/dist-packages (from Flask<3.1,>=1.0.4->dash) (8.1.7)\n",
            "Requirement already satisfied: blinker>=1.6.2 in /usr/local/lib/python3.10/dist-packages (from Flask<3.1,>=1.0.4->dash) (1.9.0)\n",
            "Requirement already satisfied: tenacity>=6.2.0 in /usr/local/lib/python3.10/dist-packages (from plotly>=5.0.0->dash) (9.0.0)\n",
            "Requirement already satisfied: packaging in /usr/local/lib/python3.10/dist-packages (from plotly>=5.0.0->dash) (24.2)\n",
            "Requirement already satisfied: MarkupSafe>=2.1.1 in /usr/local/lib/python3.10/dist-packages (from Werkzeug<3.1->dash) (3.0.2)\n",
            "Requirement already satisfied: zipp>=3.20 in /usr/local/lib/python3.10/dist-packages (from importlib-metadata->dash) (3.21.0)\n",
            "Requirement already satisfied: charset-normalizer<4,>=2 in /usr/local/lib/python3.10/dist-packages (from requests->dash) (3.4.0)\n",
            "Requirement already satisfied: idna<4,>=2.5 in /usr/local/lib/python3.10/dist-packages (from requests->dash) (3.10)\n",
            "Requirement already satisfied: urllib3<3,>=1.21.1 in /usr/local/lib/python3.10/dist-packages (from requests->dash) (2.2.3)\n",
            "Requirement already satisfied: certifi>=2017.4.17 in /usr/local/lib/python3.10/dist-packages (from requests->dash) (2024.8.30)\n",
            "Requirement already satisfied: six>=1.7.0 in /usr/local/lib/python3.10/dist-packages (from retrying->dash) (1.17.0)\n",
            "Downloading dash-2.18.2-py3-none-any.whl (7.8 MB)\n",
            "\u001b[2K   \u001b[90m━━━━━━━━━━━━━━━━━━━━━━━━━━━━━━━━━━━━━━━━\u001b[0m \u001b[32m7.8/7.8 MB\u001b[0m \u001b[31m18.6 MB/s\u001b[0m eta \u001b[36m0:00:00\u001b[0m\n",
            "\u001b[?25hDownloading dash_core_components-2.0.0-py3-none-any.whl (3.8 kB)\n",
            "Downloading dash_html_components-2.0.0-py3-none-any.whl (4.1 kB)\n",
            "Downloading dash_table-5.0.0-py3-none-any.whl (3.9 kB)\n",
            "Downloading werkzeug-3.0.6-py3-none-any.whl (227 kB)\n",
            "\u001b[2K   \u001b[90m━━━━━━━━━━━━━━━━━━━━━━━━━━━━━━━━━━━━━━━━\u001b[0m \u001b[32m228.0/228.0 kB\u001b[0m \u001b[31m10.9 MB/s\u001b[0m eta \u001b[36m0:00:00\u001b[0m\n",
            "\u001b[?25hDownloading retrying-1.3.4-py3-none-any.whl (11 kB)\n",
            "Installing collected packages: dash-table, dash-html-components, dash-core-components, Werkzeug, retrying, dash\n",
            "  Attempting uninstall: Werkzeug\n",
            "    Found existing installation: Werkzeug 3.1.3\n",
            "    Uninstalling Werkzeug-3.1.3:\n",
            "      Successfully uninstalled Werkzeug-3.1.3\n",
            "Successfully installed Werkzeug-3.0.6 dash-2.18.2 dash-core-components-2.0.0 dash-html-components-2.0.0 dash-table-5.0.0 retrying-1.3.4\n"
          ]
        }
      ]
    },
    {
      "cell_type": "code",
      "source": [
        "import dash\n",
        "from dash import dcc, html, Input, Output\n",
        "import pandas as pd\n",
        "\n",
        "# Prepare the data\n",
        "columns_to_select = [\n",
        "    \"listings_ZIPCODE\",\n",
        "    \"property_type_Entire_Unit\",\n",
        "    \"property_type_Cultural_&_Local_Experiences\",\n",
        "    \"property_type_Other\",\n",
        "    \"property_type_Vehicles_as_Accommodation\",\n",
        "    \"property_type_Unique_Stays\",\n",
        "    \"property_type_Farm_&_Ranch_Stays\",\n",
        "    \"property_type_Shared_Accommodation\",\n",
        "    \"property_type_Nature-Based_Stays\",\n",
        "    \"property_type_Private_Room\",\n",
        "    \"room_type_Shared_room\",\n",
        "    \"room_type_Hotel_room\",\n",
        "    \"room_type_Entire_home/apt\",\n",
        "    \"room_type_Private_room\",\n",
        "    \"bathrooms_count\",\n",
        "    \"listings_price\",\n",
        "    \"listings_availability_90\"\n",
        "]\n",
        "\n",
        "df = final_df.select(*columns_to_select).toPandas()\n",
        "\n",
        "# Add a 'Property Type' column\n",
        "df['Property Type'] = df[[\n",
        "    \"property_type_Entire_Unit\",\n",
        "    \"property_type_Cultural_&_Local_Experiences\",\n",
        "    \"property_type_Other\",\n",
        "    \"property_type_Vehicles_as_Accommodation\",\n",
        "    \"property_type_Unique_Stays\",\n",
        "    \"property_type_Farm_&_Ranch_Stays\",\n",
        "    \"property_type_Shared_Accommodation\",\n",
        "    \"property_type_Nature-Based_Stays\",\n",
        "    \"property_type_Private_Room\"\n",
        "]].idxmax(axis=1)\n",
        "\n",
        "# Add a 'Room Type' column\n",
        "df['Room Type'] = df[[\n",
        "    \"room_type_Shared_room\",\n",
        "    \"room_type_Hotel_room\",\n",
        "    \"room_type_Entire_home/apt\",\n",
        "    \"room_type_Private_room\"\n",
        "]].idxmax(axis=1)\n",
        "\n",
        "# Remove prefixes for cleaner names\n",
        "df['Property Type'] = df['Property Type'].str.replace('property_type_', '', regex=False)\n",
        "df['Room Type'] = df['Room Type'].str.replace('room_type_', '', regex=False)\n",
        "\n",
        "# Calculate Revenue\n",
        "df['Revenue'] = (90 - df['listings_availability_90']) * df['listings_price']\n",
        "\n",
        "# Initialize Dash app\n",
        "app = dash.Dash(__name__)\n",
        "\n",
        "# App layout\n",
        "app.layout = html.Div([\n",
        "    html.H1(\"Dynamic Pivot Table by ZIP Code\"),\n",
        "    html.Label(\"Select a ZIP Code:\"),\n",
        "    dcc.Dropdown(\n",
        "        id=\"zip-dropdown\",\n",
        "        options=[{\"label\": str(zip_code), \"value\": zip_code} for zip_code in df[\"listings_ZIPCODE\"].unique()],\n",
        "        value=df[\"listings_ZIPCODE\"].unique()[0]\n",
        "    ),\n",
        "    html.Div(id=\"pivot-table\")\n",
        "])\n",
        "\n",
        "# Callback to update pivot table based on selected ZIP Code\n",
        "@app.callback(\n",
        "    Output(\"pivot-table\", \"children\"),\n",
        "    [Input(\"zip-dropdown\", \"value\")]\n",
        ")\n",
        "def update_pivot_table(selected_zip):\n",
        "    filtered_df = df[df[\"listings_ZIPCODE\"] == selected_zip]\n",
        "    pivot_table = pd.pivot_table(\n",
        "        filtered_df,\n",
        "        values=\"Revenue\",\n",
        "        index=[\"Property Type\", \"Room Type\", \"bathrooms_count\"],\n",
        "        aggfunc=\"mean\"\n",
        "    ).reset_index()\n",
        "\n",
        "    pivot_table.columns = [\"Property Type\", \"Room Type\", \"Bathroom Count\", \"Average Revenue Generated\"]\n",
        "\n",
        "    # Limit table to top rows for compactness\n",
        "    compact_table = pivot_table.head(10)  # Show only the first 10 rows\n",
        "\n",
        "    return html.Div([\n",
        "        html.H3(f\"Pivot Table for ZIP Code: {selected_zip}\"),\n",
        "        dcc.Graph(\n",
        "            figure={\n",
        "                \"data\": [\n",
        "                    {\n",
        "                        \"type\": \"table\",\n",
        "                        \"header\": {\n",
        "                            \"values\": list(compact_table.columns),\n",
        "                            \"fill\": {\"color\": \"lightgrey\"},\n",
        "                            \"align\": \"center\",\n",
        "                            \"font\": {\"size\": 10}  # Adjust font size\n",
        "                        },\n",
        "                        \"cells\": {\n",
        "                            \"values\": [compact_table[col] for col in compact_table.columns],\n",
        "                            \"fill\": {\"color\": \"white\"},\n",
        "                            \"align\": \"center\",\n",
        "                            \"height\": 20  # Adjust cell height\n",
        "                        }\n",
        "                    }\n",
        "                ],\n",
        "                \"layout\": {\n",
        "                    \"autosize\": False,\n",
        "                    \"width\": 700,  # Adjust table width\n",
        "                    \"height\": 400  # Adjust table height\n",
        "                }\n",
        "            }\n",
        "        )\n",
        "    ])\n",
        "\n",
        "# Run the app\n",
        "if __name__ == \"__main__\":\n",
        "    app.run_server(debug=True, port=8051)\n"
      ],
      "metadata": {
        "id": "UhvZRfEvAolH",
        "colab": {
          "base_uri": "https://localhost:8080/",
          "height": 512
        },
        "outputId": "500534ef-5e80-47c1-b0e9-5a9d425b50bc"
      },
      "execution_count": 112,
      "outputs": [
        {
          "output_type": "stream",
          "name": "stderr",
          "text": [
            "ERROR:root:KeyboardInterrupt while sending command.\n",
            "Traceback (most recent call last):\n",
            "  File \"/usr/local/lib/python3.10/dist-packages/py4j/java_gateway.py\", line 1038, in send_command\n",
            "    response = connection.send_command(command)\n",
            "  File \"/usr/local/lib/python3.10/dist-packages/py4j/clientserver.py\", line 511, in send_command\n",
            "    answer = smart_decode(self.stream.readline()[:-1])\n",
            "  File \"/usr/lib/python3.10/socket.py\", line 705, in readinto\n",
            "    return self._sock.recv_into(b)\n",
            "KeyboardInterrupt\n"
          ]
        },
        {
          "output_type": "error",
          "ename": "KeyboardInterrupt",
          "evalue": "",
          "traceback": [
            "\u001b[0;31m---------------------------------------------------------------------------\u001b[0m",
            "\u001b[0;31mKeyboardInterrupt\u001b[0m                         Traceback (most recent call last)",
            "\u001b[0;32m<ipython-input-112-e530e84d44bf>\u001b[0m in \u001b[0;36m<cell line: 26>\u001b[0;34m()\u001b[0m\n\u001b[1;32m     24\u001b[0m ]\n\u001b[1;32m     25\u001b[0m \u001b[0;34m\u001b[0m\u001b[0m\n\u001b[0;32m---> 26\u001b[0;31m \u001b[0mdf\u001b[0m \u001b[0;34m=\u001b[0m \u001b[0mfinal_df\u001b[0m\u001b[0;34m.\u001b[0m\u001b[0mselect\u001b[0m\u001b[0;34m(\u001b[0m\u001b[0;34m*\u001b[0m\u001b[0mcolumns_to_select\u001b[0m\u001b[0;34m)\u001b[0m\u001b[0;34m.\u001b[0m\u001b[0mtoPandas\u001b[0m\u001b[0;34m(\u001b[0m\u001b[0;34m)\u001b[0m\u001b[0;34m\u001b[0m\u001b[0;34m\u001b[0m\u001b[0m\n\u001b[0m\u001b[1;32m     27\u001b[0m \u001b[0;34m\u001b[0m\u001b[0m\n\u001b[1;32m     28\u001b[0m \u001b[0;31m# Add a 'Property Type' column\u001b[0m\u001b[0;34m\u001b[0m\u001b[0;34m\u001b[0m\u001b[0m\n",
            "\u001b[0;32m/usr/local/lib/python3.10/dist-packages/pyspark/sql/dataframe.py\u001b[0m in \u001b[0;36mselect\u001b[0;34m(self, *cols)\u001b[0m\n\u001b[1;32m   2021\u001b[0m         \u001b[0;34m[\u001b[0m\u001b[0mRow\u001b[0m\u001b[0;34m(\u001b[0m\u001b[0mname\u001b[0m\u001b[0;34m=\u001b[0m\u001b[0;34m'Alice'\u001b[0m\u001b[0;34m,\u001b[0m \u001b[0mage\u001b[0m\u001b[0;34m=\u001b[0m\u001b[0;36m12\u001b[0m\u001b[0;34m)\u001b[0m\u001b[0;34m,\u001b[0m \u001b[0mRow\u001b[0m\u001b[0;34m(\u001b[0m\u001b[0mname\u001b[0m\u001b[0;34m=\u001b[0m\u001b[0;34m'Bob'\u001b[0m\u001b[0;34m,\u001b[0m \u001b[0mage\u001b[0m\u001b[0;34m=\u001b[0m\u001b[0;36m15\u001b[0m\u001b[0;34m)\u001b[0m\u001b[0;34m]\u001b[0m\u001b[0;34m\u001b[0m\u001b[0;34m\u001b[0m\u001b[0m\n\u001b[1;32m   2022\u001b[0m         \"\"\"\n\u001b[0;32m-> 2023\u001b[0;31m         \u001b[0mjdf\u001b[0m \u001b[0;34m=\u001b[0m \u001b[0mself\u001b[0m\u001b[0;34m.\u001b[0m\u001b[0m_jdf\u001b[0m\u001b[0;34m.\u001b[0m\u001b[0mselect\u001b[0m\u001b[0;34m(\u001b[0m\u001b[0mself\u001b[0m\u001b[0;34m.\u001b[0m\u001b[0m_jcols\u001b[0m\u001b[0;34m(\u001b[0m\u001b[0;34m*\u001b[0m\u001b[0mcols\u001b[0m\u001b[0;34m)\u001b[0m\u001b[0;34m)\u001b[0m\u001b[0;34m\u001b[0m\u001b[0;34m\u001b[0m\u001b[0m\n\u001b[0m\u001b[1;32m   2024\u001b[0m         \u001b[0;32mreturn\u001b[0m \u001b[0mDataFrame\u001b[0m\u001b[0;34m(\u001b[0m\u001b[0mjdf\u001b[0m\u001b[0;34m,\u001b[0m \u001b[0mself\u001b[0m\u001b[0;34m.\u001b[0m\u001b[0msparkSession\u001b[0m\u001b[0;34m)\u001b[0m\u001b[0;34m\u001b[0m\u001b[0;34m\u001b[0m\u001b[0m\n\u001b[1;32m   2025\u001b[0m \u001b[0;34m\u001b[0m\u001b[0m\n",
            "\u001b[0;32m/usr/local/lib/python3.10/dist-packages/py4j/java_gateway.py\u001b[0m in \u001b[0;36m__call__\u001b[0;34m(self, *args)\u001b[0m\n\u001b[1;32m   1318\u001b[0m             \u001b[0mproto\u001b[0m\u001b[0;34m.\u001b[0m\u001b[0mEND_COMMAND_PART\u001b[0m\u001b[0;34m\u001b[0m\u001b[0;34m\u001b[0m\u001b[0m\n\u001b[1;32m   1319\u001b[0m \u001b[0;34m\u001b[0m\u001b[0m\n\u001b[0;32m-> 1320\u001b[0;31m         \u001b[0manswer\u001b[0m \u001b[0;34m=\u001b[0m \u001b[0mself\u001b[0m\u001b[0;34m.\u001b[0m\u001b[0mgateway_client\u001b[0m\u001b[0;34m.\u001b[0m\u001b[0msend_command\u001b[0m\u001b[0;34m(\u001b[0m\u001b[0mcommand\u001b[0m\u001b[0;34m)\u001b[0m\u001b[0;34m\u001b[0m\u001b[0;34m\u001b[0m\u001b[0m\n\u001b[0m\u001b[1;32m   1321\u001b[0m         return_value = get_return_value(\n\u001b[1;32m   1322\u001b[0m             answer, self.gateway_client, self.target_id, self.name)\n",
            "\u001b[0;32m/usr/local/lib/python3.10/dist-packages/py4j/java_gateway.py\u001b[0m in \u001b[0;36msend_command\u001b[0;34m(self, command, retry, binary)\u001b[0m\n\u001b[1;32m   1036\u001b[0m         \u001b[0mconnection\u001b[0m \u001b[0;34m=\u001b[0m \u001b[0mself\u001b[0m\u001b[0;34m.\u001b[0m\u001b[0m_get_connection\u001b[0m\u001b[0;34m(\u001b[0m\u001b[0;34m)\u001b[0m\u001b[0;34m\u001b[0m\u001b[0;34m\u001b[0m\u001b[0m\n\u001b[1;32m   1037\u001b[0m         \u001b[0;32mtry\u001b[0m\u001b[0;34m:\u001b[0m\u001b[0;34m\u001b[0m\u001b[0;34m\u001b[0m\u001b[0m\n\u001b[0;32m-> 1038\u001b[0;31m             \u001b[0mresponse\u001b[0m \u001b[0;34m=\u001b[0m \u001b[0mconnection\u001b[0m\u001b[0;34m.\u001b[0m\u001b[0msend_command\u001b[0m\u001b[0;34m(\u001b[0m\u001b[0mcommand\u001b[0m\u001b[0;34m)\u001b[0m\u001b[0;34m\u001b[0m\u001b[0;34m\u001b[0m\u001b[0m\n\u001b[0m\u001b[1;32m   1039\u001b[0m             \u001b[0;32mif\u001b[0m \u001b[0mbinary\u001b[0m\u001b[0;34m:\u001b[0m\u001b[0;34m\u001b[0m\u001b[0;34m\u001b[0m\u001b[0m\n\u001b[1;32m   1040\u001b[0m                 \u001b[0;32mreturn\u001b[0m \u001b[0mresponse\u001b[0m\u001b[0;34m,\u001b[0m \u001b[0mself\u001b[0m\u001b[0;34m.\u001b[0m\u001b[0m_create_connection_guard\u001b[0m\u001b[0;34m(\u001b[0m\u001b[0mconnection\u001b[0m\u001b[0;34m)\u001b[0m\u001b[0;34m\u001b[0m\u001b[0;34m\u001b[0m\u001b[0m\n",
            "\u001b[0;32m/usr/local/lib/python3.10/dist-packages/py4j/clientserver.py\u001b[0m in \u001b[0;36msend_command\u001b[0;34m(self, command)\u001b[0m\n\u001b[1;32m    509\u001b[0m         \u001b[0;32mtry\u001b[0m\u001b[0;34m:\u001b[0m\u001b[0;34m\u001b[0m\u001b[0;34m\u001b[0m\u001b[0m\n\u001b[1;32m    510\u001b[0m             \u001b[0;32mwhile\u001b[0m \u001b[0;32mTrue\u001b[0m\u001b[0;34m:\u001b[0m\u001b[0;34m\u001b[0m\u001b[0;34m\u001b[0m\u001b[0m\n\u001b[0;32m--> 511\u001b[0;31m                 \u001b[0manswer\u001b[0m \u001b[0;34m=\u001b[0m \u001b[0msmart_decode\u001b[0m\u001b[0;34m(\u001b[0m\u001b[0mself\u001b[0m\u001b[0;34m.\u001b[0m\u001b[0mstream\u001b[0m\u001b[0;34m.\u001b[0m\u001b[0mreadline\u001b[0m\u001b[0;34m(\u001b[0m\u001b[0;34m)\u001b[0m\u001b[0;34m[\u001b[0m\u001b[0;34m:\u001b[0m\u001b[0;34m-\u001b[0m\u001b[0;36m1\u001b[0m\u001b[0;34m]\u001b[0m\u001b[0;34m)\u001b[0m\u001b[0;34m\u001b[0m\u001b[0;34m\u001b[0m\u001b[0m\n\u001b[0m\u001b[1;32m    512\u001b[0m                 \u001b[0mlogger\u001b[0m\u001b[0;34m.\u001b[0m\u001b[0mdebug\u001b[0m\u001b[0;34m(\u001b[0m\u001b[0;34m\"Answer received: {0}\"\u001b[0m\u001b[0;34m.\u001b[0m\u001b[0mformat\u001b[0m\u001b[0;34m(\u001b[0m\u001b[0manswer\u001b[0m\u001b[0;34m)\u001b[0m\u001b[0;34m)\u001b[0m\u001b[0;34m\u001b[0m\u001b[0;34m\u001b[0m\u001b[0m\n\u001b[1;32m    513\u001b[0m                 \u001b[0;31m# Happens when a the other end is dead. There might be an empty\u001b[0m\u001b[0;34m\u001b[0m\u001b[0;34m\u001b[0m\u001b[0m\n",
            "\u001b[0;32m/usr/lib/python3.10/socket.py\u001b[0m in \u001b[0;36mreadinto\u001b[0;34m(self, b)\u001b[0m\n\u001b[1;32m    703\u001b[0m         \u001b[0;32mwhile\u001b[0m \u001b[0;32mTrue\u001b[0m\u001b[0;34m:\u001b[0m\u001b[0;34m\u001b[0m\u001b[0;34m\u001b[0m\u001b[0m\n\u001b[1;32m    704\u001b[0m             \u001b[0;32mtry\u001b[0m\u001b[0;34m:\u001b[0m\u001b[0;34m\u001b[0m\u001b[0;34m\u001b[0m\u001b[0m\n\u001b[0;32m--> 705\u001b[0;31m                 \u001b[0;32mreturn\u001b[0m \u001b[0mself\u001b[0m\u001b[0;34m.\u001b[0m\u001b[0m_sock\u001b[0m\u001b[0;34m.\u001b[0m\u001b[0mrecv_into\u001b[0m\u001b[0;34m(\u001b[0m\u001b[0mb\u001b[0m\u001b[0;34m)\u001b[0m\u001b[0;34m\u001b[0m\u001b[0;34m\u001b[0m\u001b[0m\n\u001b[0m\u001b[1;32m    706\u001b[0m             \u001b[0;32mexcept\u001b[0m \u001b[0mtimeout\u001b[0m\u001b[0;34m:\u001b[0m\u001b[0;34m\u001b[0m\u001b[0;34m\u001b[0m\u001b[0m\n\u001b[1;32m    707\u001b[0m                 \u001b[0mself\u001b[0m\u001b[0;34m.\u001b[0m\u001b[0m_timeout_occurred\u001b[0m \u001b[0;34m=\u001b[0m \u001b[0;32mTrue\u001b[0m\u001b[0;34m\u001b[0m\u001b[0;34m\u001b[0m\u001b[0m\n",
            "\u001b[0;31mKeyboardInterrupt\u001b[0m: "
          ]
        }
      ]
    }
  ],
  "metadata": {
    "colab": {
      "provenance": []
    },
    "kernelspec": {
      "display_name": "Python 3",
      "name": "python3"
    },
    "language_info": {
      "name": "python"
    }
  },
  "nbformat": 4,
  "nbformat_minor": 0
}